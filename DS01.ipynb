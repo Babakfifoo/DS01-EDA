{
 "cells": [
  {
   "cell_type": "markdown",
   "metadata": {},
   "source": [
    "## Loading the housing transaction data"
   ]
  },
  {
   "cell_type": "code",
   "execution_count": 38,
   "metadata": {},
   "outputs": [],
   "source": [
    "import pandas as pd\n",
    "import plotly.express as px\n",
    "import plotly.graph_objects as go\n",
    "from typing import Any"
   ]
  },
  {
   "cell_type": "code",
   "execution_count": 2,
   "metadata": {},
   "outputs": [
    {
     "name": "stderr",
     "output_type": "stream",
     "text": [
      "/tmp/ipykernel_44658/946150477.py:8: FutureWarning: Downcasting behavior in `replace` is deprecated and will be removed in a future version. To retain the old behavior, explicitly call `result.infer_objects(copy=False)`. To opt-in to the future behavior, set `pd.set_option('future.no_silent_downcasting', True)`\n",
      "  data[\"elevator\"] = data[\"elevator\"].astype(str).replace({\n"
     ]
    }
   ],
   "source": [
    "data = pd.read_parquet(\"data/HMA.parquet\")\n",
    "data[\"type\"] = data[\"type\"].astype(str).replace({\n",
    "    \"kt\": \"Kerrostalo\",\n",
    "    \"rt\": \"Rivitalo\",\n",
    "    \"ok\": \"Omakotitalo\"\n",
    "})\n",
    "\n",
    "data[\"elevator\"] = data[\"elevator\"].astype(str).replace({\n",
    "    \"on\": True,\n",
    "    \"ei\": False,\n",
    "})\n",
    "\n",
    "data[\"plot_ownership\"] = data[\"plot_ownership\"].astype(str).replace({\n",
    "    \"oma\": \"Owned\",\n",
    "    \"vuokra\": \"Leased\",\n",
    "})\n"
   ]
  },
  {
   "cell_type": "code",
   "execution_count": 10,
   "metadata": {},
   "outputs": [
    {
     "data": {
      "application/vnd.plotly.v1+json": {
       "config": {
        "plotlyServerURL": "https://plot.ly"
       },
       "data": [
        {
         "customdata": [
          [
           "Kerrostalo"
          ],
          [
           "Rivitalo"
          ],
          [
           "Omakotitalo"
          ]
         ],
         "domain": {
          "x": [
           0,
           1
          ],
          "y": [
           0,
           1
          ]
         },
         "hole": 0.3,
         "hovertemplate": "type=%{customdata[0]}<br>count=%{value}<extra></extra>",
         "labels": [
          "Kerrostalo",
          "Rivitalo",
          "Omakotitalo"
         ],
         "legendgroup": "",
         "marker": {
          "colors": [
           "#264653",
           "#e9c46a",
           "#e76f51"
          ]
         },
         "name": "",
         "showlegend": true,
         "type": "pie",
         "values": {
          "bdata": "ygyXAm0A",
          "dtype": "i2"
         }
        }
       ],
       "layout": {
        "legend": {
         "tracegroupgap": 0
        },
        "template": {
         "data": {
          "bar": [
           {
            "error_x": {
             "color": "#2a3f5f"
            },
            "error_y": {
             "color": "#2a3f5f"
            },
            "marker": {
             "line": {
              "color": "#E5ECF6",
              "width": 0.5
             },
             "pattern": {
              "fillmode": "overlay",
              "size": 10,
              "solidity": 0.2
             }
            },
            "type": "bar"
           }
          ],
          "barpolar": [
           {
            "marker": {
             "line": {
              "color": "#E5ECF6",
              "width": 0.5
             },
             "pattern": {
              "fillmode": "overlay",
              "size": 10,
              "solidity": 0.2
             }
            },
            "type": "barpolar"
           }
          ],
          "carpet": [
           {
            "aaxis": {
             "endlinecolor": "#2a3f5f",
             "gridcolor": "white",
             "linecolor": "white",
             "minorgridcolor": "white",
             "startlinecolor": "#2a3f5f"
            },
            "baxis": {
             "endlinecolor": "#2a3f5f",
             "gridcolor": "white",
             "linecolor": "white",
             "minorgridcolor": "white",
             "startlinecolor": "#2a3f5f"
            },
            "type": "carpet"
           }
          ],
          "choropleth": [
           {
            "colorbar": {
             "outlinewidth": 0,
             "ticks": ""
            },
            "type": "choropleth"
           }
          ],
          "contour": [
           {
            "colorbar": {
             "outlinewidth": 0,
             "ticks": ""
            },
            "colorscale": [
             [
              0,
              "#0d0887"
             ],
             [
              0.1111111111111111,
              "#46039f"
             ],
             [
              0.2222222222222222,
              "#7201a8"
             ],
             [
              0.3333333333333333,
              "#9c179e"
             ],
             [
              0.4444444444444444,
              "#bd3786"
             ],
             [
              0.5555555555555556,
              "#d8576b"
             ],
             [
              0.6666666666666666,
              "#ed7953"
             ],
             [
              0.7777777777777778,
              "#fb9f3a"
             ],
             [
              0.8888888888888888,
              "#fdca26"
             ],
             [
              1,
              "#f0f921"
             ]
            ],
            "type": "contour"
           }
          ],
          "contourcarpet": [
           {
            "colorbar": {
             "outlinewidth": 0,
             "ticks": ""
            },
            "type": "contourcarpet"
           }
          ],
          "heatmap": [
           {
            "colorbar": {
             "outlinewidth": 0,
             "ticks": ""
            },
            "colorscale": [
             [
              0,
              "#0d0887"
             ],
             [
              0.1111111111111111,
              "#46039f"
             ],
             [
              0.2222222222222222,
              "#7201a8"
             ],
             [
              0.3333333333333333,
              "#9c179e"
             ],
             [
              0.4444444444444444,
              "#bd3786"
             ],
             [
              0.5555555555555556,
              "#d8576b"
             ],
             [
              0.6666666666666666,
              "#ed7953"
             ],
             [
              0.7777777777777778,
              "#fb9f3a"
             ],
             [
              0.8888888888888888,
              "#fdca26"
             ],
             [
              1,
              "#f0f921"
             ]
            ],
            "type": "heatmap"
           }
          ],
          "histogram": [
           {
            "marker": {
             "pattern": {
              "fillmode": "overlay",
              "size": 10,
              "solidity": 0.2
             }
            },
            "type": "histogram"
           }
          ],
          "histogram2d": [
           {
            "colorbar": {
             "outlinewidth": 0,
             "ticks": ""
            },
            "colorscale": [
             [
              0,
              "#0d0887"
             ],
             [
              0.1111111111111111,
              "#46039f"
             ],
             [
              0.2222222222222222,
              "#7201a8"
             ],
             [
              0.3333333333333333,
              "#9c179e"
             ],
             [
              0.4444444444444444,
              "#bd3786"
             ],
             [
              0.5555555555555556,
              "#d8576b"
             ],
             [
              0.6666666666666666,
              "#ed7953"
             ],
             [
              0.7777777777777778,
              "#fb9f3a"
             ],
             [
              0.8888888888888888,
              "#fdca26"
             ],
             [
              1,
              "#f0f921"
             ]
            ],
            "type": "histogram2d"
           }
          ],
          "histogram2dcontour": [
           {
            "colorbar": {
             "outlinewidth": 0,
             "ticks": ""
            },
            "colorscale": [
             [
              0,
              "#0d0887"
             ],
             [
              0.1111111111111111,
              "#46039f"
             ],
             [
              0.2222222222222222,
              "#7201a8"
             ],
             [
              0.3333333333333333,
              "#9c179e"
             ],
             [
              0.4444444444444444,
              "#bd3786"
             ],
             [
              0.5555555555555556,
              "#d8576b"
             ],
             [
              0.6666666666666666,
              "#ed7953"
             ],
             [
              0.7777777777777778,
              "#fb9f3a"
             ],
             [
              0.8888888888888888,
              "#fdca26"
             ],
             [
              1,
              "#f0f921"
             ]
            ],
            "type": "histogram2dcontour"
           }
          ],
          "mesh3d": [
           {
            "colorbar": {
             "outlinewidth": 0,
             "ticks": ""
            },
            "type": "mesh3d"
           }
          ],
          "parcoords": [
           {
            "line": {
             "colorbar": {
              "outlinewidth": 0,
              "ticks": ""
             }
            },
            "type": "parcoords"
           }
          ],
          "pie": [
           {
            "automargin": true,
            "type": "pie"
           }
          ],
          "scatter": [
           {
            "fillpattern": {
             "fillmode": "overlay",
             "size": 10,
             "solidity": 0.2
            },
            "type": "scatter"
           }
          ],
          "scatter3d": [
           {
            "line": {
             "colorbar": {
              "outlinewidth": 0,
              "ticks": ""
             }
            },
            "marker": {
             "colorbar": {
              "outlinewidth": 0,
              "ticks": ""
             }
            },
            "type": "scatter3d"
           }
          ],
          "scattercarpet": [
           {
            "marker": {
             "colorbar": {
              "outlinewidth": 0,
              "ticks": ""
             }
            },
            "type": "scattercarpet"
           }
          ],
          "scattergeo": [
           {
            "marker": {
             "colorbar": {
              "outlinewidth": 0,
              "ticks": ""
             }
            },
            "type": "scattergeo"
           }
          ],
          "scattergl": [
           {
            "marker": {
             "colorbar": {
              "outlinewidth": 0,
              "ticks": ""
             }
            },
            "type": "scattergl"
           }
          ],
          "scattermap": [
           {
            "marker": {
             "colorbar": {
              "outlinewidth": 0,
              "ticks": ""
             }
            },
            "type": "scattermap"
           }
          ],
          "scattermapbox": [
           {
            "marker": {
             "colorbar": {
              "outlinewidth": 0,
              "ticks": ""
             }
            },
            "type": "scattermapbox"
           }
          ],
          "scatterpolar": [
           {
            "marker": {
             "colorbar": {
              "outlinewidth": 0,
              "ticks": ""
             }
            },
            "type": "scatterpolar"
           }
          ],
          "scatterpolargl": [
           {
            "marker": {
             "colorbar": {
              "outlinewidth": 0,
              "ticks": ""
             }
            },
            "type": "scatterpolargl"
           }
          ],
          "scatterternary": [
           {
            "marker": {
             "colorbar": {
              "outlinewidth": 0,
              "ticks": ""
             }
            },
            "type": "scatterternary"
           }
          ],
          "surface": [
           {
            "colorbar": {
             "outlinewidth": 0,
             "ticks": ""
            },
            "colorscale": [
             [
              0,
              "#0d0887"
             ],
             [
              0.1111111111111111,
              "#46039f"
             ],
             [
              0.2222222222222222,
              "#7201a8"
             ],
             [
              0.3333333333333333,
              "#9c179e"
             ],
             [
              0.4444444444444444,
              "#bd3786"
             ],
             [
              0.5555555555555556,
              "#d8576b"
             ],
             [
              0.6666666666666666,
              "#ed7953"
             ],
             [
              0.7777777777777778,
              "#fb9f3a"
             ],
             [
              0.8888888888888888,
              "#fdca26"
             ],
             [
              1,
              "#f0f921"
             ]
            ],
            "type": "surface"
           }
          ],
          "table": [
           {
            "cells": {
             "fill": {
              "color": "#EBF0F8"
             },
             "line": {
              "color": "white"
             }
            },
            "header": {
             "fill": {
              "color": "#C8D4E3"
             },
             "line": {
              "color": "white"
             }
            },
            "type": "table"
           }
          ]
         },
         "layout": {
          "annotationdefaults": {
           "arrowcolor": "#2a3f5f",
           "arrowhead": 0,
           "arrowwidth": 1
          },
          "autotypenumbers": "strict",
          "coloraxis": {
           "colorbar": {
            "outlinewidth": 0,
            "ticks": ""
           }
          },
          "colorscale": {
           "diverging": [
            [
             0,
             "#8e0152"
            ],
            [
             0.1,
             "#c51b7d"
            ],
            [
             0.2,
             "#de77ae"
            ],
            [
             0.3,
             "#f1b6da"
            ],
            [
             0.4,
             "#fde0ef"
            ],
            [
             0.5,
             "#f7f7f7"
            ],
            [
             0.6,
             "#e6f5d0"
            ],
            [
             0.7,
             "#b8e186"
            ],
            [
             0.8,
             "#7fbc41"
            ],
            [
             0.9,
             "#4d9221"
            ],
            [
             1,
             "#276419"
            ]
           ],
           "sequential": [
            [
             0,
             "#0d0887"
            ],
            [
             0.1111111111111111,
             "#46039f"
            ],
            [
             0.2222222222222222,
             "#7201a8"
            ],
            [
             0.3333333333333333,
             "#9c179e"
            ],
            [
             0.4444444444444444,
             "#bd3786"
            ],
            [
             0.5555555555555556,
             "#d8576b"
            ],
            [
             0.6666666666666666,
             "#ed7953"
            ],
            [
             0.7777777777777778,
             "#fb9f3a"
            ],
            [
             0.8888888888888888,
             "#fdca26"
            ],
            [
             1,
             "#f0f921"
            ]
           ],
           "sequentialminus": [
            [
             0,
             "#0d0887"
            ],
            [
             0.1111111111111111,
             "#46039f"
            ],
            [
             0.2222222222222222,
             "#7201a8"
            ],
            [
             0.3333333333333333,
             "#9c179e"
            ],
            [
             0.4444444444444444,
             "#bd3786"
            ],
            [
             0.5555555555555556,
             "#d8576b"
            ],
            [
             0.6666666666666666,
             "#ed7953"
            ],
            [
             0.7777777777777778,
             "#fb9f3a"
            ],
            [
             0.8888888888888888,
             "#fdca26"
            ],
            [
             1,
             "#f0f921"
            ]
           ]
          },
          "colorway": [
           "#636efa",
           "#EF553B",
           "#00cc96",
           "#ab63fa",
           "#FFA15A",
           "#19d3f3",
           "#FF6692",
           "#B6E880",
           "#FF97FF",
           "#FECB52"
          ],
          "font": {
           "color": "#2a3f5f"
          },
          "geo": {
           "bgcolor": "white",
           "lakecolor": "white",
           "landcolor": "#E5ECF6",
           "showlakes": true,
           "showland": true,
           "subunitcolor": "white"
          },
          "hoverlabel": {
           "align": "left"
          },
          "hovermode": "closest",
          "mapbox": {
           "style": "light"
          },
          "paper_bgcolor": "white",
          "plot_bgcolor": "#E5ECF6",
          "polar": {
           "angularaxis": {
            "gridcolor": "white",
            "linecolor": "white",
            "ticks": ""
           },
           "bgcolor": "#E5ECF6",
           "radialaxis": {
            "gridcolor": "white",
            "linecolor": "white",
            "ticks": ""
           }
          },
          "scene": {
           "xaxis": {
            "backgroundcolor": "#E5ECF6",
            "gridcolor": "white",
            "gridwidth": 2,
            "linecolor": "white",
            "showbackground": true,
            "ticks": "",
            "zerolinecolor": "white"
           },
           "yaxis": {
            "backgroundcolor": "#E5ECF6",
            "gridcolor": "white",
            "gridwidth": 2,
            "linecolor": "white",
            "showbackground": true,
            "ticks": "",
            "zerolinecolor": "white"
           },
           "zaxis": {
            "backgroundcolor": "#E5ECF6",
            "gridcolor": "white",
            "gridwidth": 2,
            "linecolor": "white",
            "showbackground": true,
            "ticks": "",
            "zerolinecolor": "white"
           }
          },
          "shapedefaults": {
           "line": {
            "color": "#2a3f5f"
           }
          },
          "ternary": {
           "aaxis": {
            "gridcolor": "white",
            "linecolor": "white",
            "ticks": ""
           },
           "baxis": {
            "gridcolor": "white",
            "linecolor": "white",
            "ticks": ""
           },
           "bgcolor": "#E5ECF6",
           "caxis": {
            "gridcolor": "white",
            "linecolor": "white",
            "ticks": ""
           }
          },
          "title": {
           "x": 0.05
          },
          "xaxis": {
           "automargin": true,
           "gridcolor": "white",
           "linecolor": "white",
           "ticks": "",
           "title": {
            "standoff": 15
           },
           "zerolinecolor": "white",
           "zerolinewidth": 2
          },
          "yaxis": {
           "automargin": true,
           "gridcolor": "white",
           "linecolor": "white",
           "ticks": "",
           "title": {
            "standoff": 15
           },
           "zerolinecolor": "white",
           "zerolinewidth": 2
          }
         }
        },
        "title": {
         "text": "Building type"
        }
       }
      }
     },
     "metadata": {},
     "output_type": "display_data"
    }
   ],
   "source": [
    "df = data[\"type\"].value_counts().reset_index()\n",
    "fig = px.pie(\n",
    "    data_frame=df,\n",
    "    values=\"count\",\n",
    "    names=\"type\",\n",
    "    title=\"Building type\",\n",
    "    hole=0.3,\n",
    "    color=\"type\",\n",
    "    color_discrete_map={\n",
    "        \"Kerrostalo\": \"#264653\",\n",
    "        \"Rivitalo\": \"#e9c46a\",\n",
    "        \"Omakotitalo\": \"#e76f51\",\n",
    "    },\n",
    ")\n",
    "fig.show()"
   ]
  },
  {
   "cell_type": "code",
   "execution_count": 117,
   "metadata": {},
   "outputs": [
    {
     "data": {
      "application/vnd.plotly.v1+json": {
       "config": {
        "plotlyServerURL": "https://plot.ly"
       },
       "data": [
        {
         "customdata": [
          [
           "Kerrostalo"
          ],
          [
           "Kerrostalo"
          ],
          [
           "Kerrostalo"
          ],
          [
           "Kerrostalo"
          ],
          [
           "Kerrostalo"
          ],
          [
           "Kerrostalo"
          ],
          [
           "Kerrostalo"
          ],
          [
           "Kerrostalo"
          ],
          [
           "Kerrostalo"
          ],
          [
           "Kerrostalo"
          ],
          [
           "Kerrostalo"
          ],
          [
           "Kerrostalo"
          ],
          [
           "Kerrostalo"
          ],
          [
           "Kerrostalo"
          ],
          [
           "Kerrostalo"
          ],
          [
           "Kerrostalo"
          ],
          [
           "Kerrostalo"
          ],
          [
           "Kerrostalo"
          ],
          [
           "Kerrostalo"
          ],
          [
           "Kerrostalo"
          ],
          [
           "Kerrostalo"
          ],
          [
           "Kerrostalo"
          ],
          [
           "Kerrostalo"
          ],
          [
           "Kerrostalo"
          ],
          [
           "Kerrostalo"
          ],
          [
           "Kerrostalo"
          ],
          [
           "Kerrostalo"
          ],
          [
           "Kerrostalo"
          ],
          [
           "Kerrostalo"
          ],
          [
           "Kerrostalo"
          ],
          [
           "Kerrostalo"
          ],
          [
           "Kerrostalo"
          ],
          [
           "Kerrostalo"
          ],
          [
           "Kerrostalo"
          ],
          [
           "Kerrostalo"
          ],
          [
           "Kerrostalo"
          ],
          [
           "Kerrostalo"
          ],
          [
           "Kerrostalo"
          ],
          [
           "Kerrostalo"
          ],
          [
           "Kerrostalo"
          ],
          [
           "Kerrostalo"
          ],
          [
           "Kerrostalo"
          ],
          [
           "Kerrostalo"
          ],
          [
           "Kerrostalo"
          ],
          [
           "Kerrostalo"
          ],
          [
           "Kerrostalo"
          ],
          [
           "Kerrostalo"
          ],
          [
           "Kerrostalo"
          ],
          [
           "Kerrostalo"
          ],
          [
           "Kerrostalo"
          ],
          [
           "Kerrostalo"
          ],
          [
           "Kerrostalo"
          ],
          [
           "Kerrostalo"
          ],
          [
           "Kerrostalo"
          ],
          [
           "Kerrostalo"
          ],
          [
           "Kerrostalo"
          ],
          [
           "Kerrostalo"
          ],
          [
           "Kerrostalo"
          ],
          [
           "Kerrostalo"
          ],
          [
           "Kerrostalo"
          ],
          [
           "Kerrostalo"
          ],
          [
           "Kerrostalo"
          ],
          [
           "Kerrostalo"
          ],
          [
           "Kerrostalo"
          ],
          [
           "Kerrostalo"
          ],
          [
           "Kerrostalo"
          ],
          [
           "Kerrostalo"
          ],
          [
           "Kerrostalo"
          ],
          [
           "Kerrostalo"
          ],
          [
           "Kerrostalo"
          ],
          [
           "Kerrostalo"
          ],
          [
           "Kerrostalo"
          ],
          [
           "Kerrostalo"
          ],
          [
           "Kerrostalo"
          ],
          [
           "Kerrostalo"
          ],
          [
           "Kerrostalo"
          ],
          [
           "Kerrostalo"
          ],
          [
           "Kerrostalo"
          ],
          [
           "Kerrostalo"
          ],
          [
           "Kerrostalo"
          ],
          [
           "Kerrostalo"
          ],
          [
           "Kerrostalo"
          ],
          [
           "Kerrostalo"
          ],
          [
           "Kerrostalo"
          ],
          [
           "Kerrostalo"
          ],
          [
           "Kerrostalo"
          ],
          [
           "Kerrostalo"
          ],
          [
           "Kerrostalo"
          ],
          [
           "Kerrostalo"
          ],
          [
           "Kerrostalo"
          ],
          [
           "Kerrostalo"
          ],
          [
           "Kerrostalo"
          ],
          [
           "Kerrostalo"
          ],
          [
           "Kerrostalo"
          ],
          [
           "Kerrostalo"
          ],
          [
           "Kerrostalo"
          ],
          [
           "Kerrostalo"
          ],
          [
           "Kerrostalo"
          ],
          [
           "Kerrostalo"
          ],
          [
           "Kerrostalo"
          ],
          [
           "Kerrostalo"
          ],
          [
           "Kerrostalo"
          ],
          [
           "Kerrostalo"
          ],
          [
           "Kerrostalo"
          ],
          [
           "Kerrostalo"
          ],
          [
           "Kerrostalo"
          ],
          [
           "Kerrostalo"
          ],
          [
           "Kerrostalo"
          ],
          [
           "Kerrostalo"
          ],
          [
           "Kerrostalo"
          ],
          [
           "Kerrostalo"
          ],
          [
           "Kerrostalo"
          ],
          [
           "Kerrostalo"
          ],
          [
           "Kerrostalo"
          ],
          [
           "Kerrostalo"
          ],
          [
           "Kerrostalo"
          ],
          [
           "Kerrostalo"
          ],
          [
           "Kerrostalo"
          ],
          [
           "Kerrostalo"
          ],
          [
           "Kerrostalo"
          ],
          [
           "Kerrostalo"
          ],
          [
           "Kerrostalo"
          ],
          [
           "Kerrostalo"
          ],
          [
           "Kerrostalo"
          ],
          [
           "Kerrostalo"
          ],
          [
           "Kerrostalo"
          ],
          [
           "Kerrostalo"
          ],
          [
           "Kerrostalo"
          ],
          [
           "Kerrostalo"
          ],
          [
           "Kerrostalo"
          ],
          [
           "Kerrostalo"
          ],
          [
           "Kerrostalo"
          ],
          [
           "Kerrostalo"
          ],
          [
           "Kerrostalo"
          ],
          [
           "Kerrostalo"
          ],
          [
           "Kerrostalo"
          ],
          [
           "Kerrostalo"
          ],
          [
           "Kerrostalo"
          ],
          [
           "Kerrostalo"
          ],
          [
           "Kerrostalo"
          ],
          [
           "Kerrostalo"
          ],
          [
           "Kerrostalo"
          ],
          [
           "Kerrostalo"
          ],
          [
           "Kerrostalo"
          ],
          [
           "Kerrostalo"
          ],
          [
           "Kerrostalo"
          ],
          [
           "Kerrostalo"
          ],
          [
           "Kerrostalo"
          ],
          [
           "Kerrostalo"
          ],
          [
           "Kerrostalo"
          ],
          [
           "Kerrostalo"
          ],
          [
           "Kerrostalo"
          ],
          [
           "Kerrostalo"
          ],
          [
           "Kerrostalo"
          ],
          [
           "Kerrostalo"
          ],
          [
           "Kerrostalo"
          ],
          [
           "Kerrostalo"
          ],
          [
           "Kerrostalo"
          ],
          [
           "Kerrostalo"
          ],
          [
           "Kerrostalo"
          ],
          [
           "Kerrostalo"
          ],
          [
           "Kerrostalo"
          ],
          [
           "Kerrostalo"
          ],
          [
           "Kerrostalo"
          ],
          [
           "Kerrostalo"
          ],
          [
           "Kerrostalo"
          ],
          [
           "Kerrostalo"
          ],
          [
           "Kerrostalo"
          ],
          [
           "Kerrostalo"
          ],
          [
           "Kerrostalo"
          ],
          [
           "Kerrostalo"
          ],
          [
           "Kerrostalo"
          ],
          [
           "Kerrostalo"
          ],
          [
           "Kerrostalo"
          ],
          [
           "Kerrostalo"
          ],
          [
           "Kerrostalo"
          ],
          [
           "Kerrostalo"
          ],
          [
           "Kerrostalo"
          ],
          [
           "Kerrostalo"
          ],
          [
           "Kerrostalo"
          ],
          [
           "Kerrostalo"
          ],
          [
           "Kerrostalo"
          ],
          [
           "Kerrostalo"
          ],
          [
           "Kerrostalo"
          ],
          [
           "Kerrostalo"
          ],
          [
           "Kerrostalo"
          ],
          [
           "Kerrostalo"
          ],
          [
           "Kerrostalo"
          ],
          [
           "Kerrostalo"
          ],
          [
           "Kerrostalo"
          ],
          [
           "Kerrostalo"
          ],
          [
           "Kerrostalo"
          ],
          [
           "Kerrostalo"
          ],
          [
           "Kerrostalo"
          ],
          [
           "Kerrostalo"
          ],
          [
           "Kerrostalo"
          ],
          [
           "Kerrostalo"
          ],
          [
           "Kerrostalo"
          ],
          [
           "Kerrostalo"
          ],
          [
           "Kerrostalo"
          ],
          [
           "Kerrostalo"
          ],
          [
           "Kerrostalo"
          ],
          [
           "Kerrostalo"
          ],
          [
           "Kerrostalo"
          ],
          [
           "Kerrostalo"
          ],
          [
           "Kerrostalo"
          ],
          [
           "Kerrostalo"
          ],
          [
           "Kerrostalo"
          ],
          [
           "Kerrostalo"
          ],
          [
           "Kerrostalo"
          ],
          [
           "Kerrostalo"
          ],
          [
           "Kerrostalo"
          ],
          [
           "Kerrostalo"
          ],
          [
           "Kerrostalo"
          ],
          [
           "Kerrostalo"
          ],
          [
           "Kerrostalo"
          ],
          [
           "Kerrostalo"
          ],
          [
           "Kerrostalo"
          ],
          [
           "Kerrostalo"
          ],
          [
           "Kerrostalo"
          ],
          [
           "Kerrostalo"
          ],
          [
           "Kerrostalo"
          ],
          [
           "Kerrostalo"
          ],
          [
           "Kerrostalo"
          ],
          [
           "Kerrostalo"
          ],
          [
           "Kerrostalo"
          ],
          [
           "Kerrostalo"
          ],
          [
           "Kerrostalo"
          ],
          [
           "Kerrostalo"
          ],
          [
           "Kerrostalo"
          ],
          [
           "Kerrostalo"
          ],
          [
           "Kerrostalo"
          ],
          [
           "Kerrostalo"
          ],
          [
           "Kerrostalo"
          ],
          [
           "Kerrostalo"
          ],
          [
           "Kerrostalo"
          ],
          [
           "Kerrostalo"
          ],
          [
           "Kerrostalo"
          ],
          [
           "Kerrostalo"
          ],
          [
           "Kerrostalo"
          ],
          [
           "Kerrostalo"
          ],
          [
           "Kerrostalo"
          ],
          [
           "Kerrostalo"
          ],
          [
           "Kerrostalo"
          ],
          [
           "Kerrostalo"
          ],
          [
           "Kerrostalo"
          ],
          [
           "Kerrostalo"
          ],
          [
           "Kerrostalo"
          ],
          [
           "Kerrostalo"
          ],
          [
           "Kerrostalo"
          ],
          [
           "Kerrostalo"
          ],
          [
           "Kerrostalo"
          ],
          [
           "Kerrostalo"
          ],
          [
           "Kerrostalo"
          ],
          [
           "Kerrostalo"
          ],
          [
           "Kerrostalo"
          ],
          [
           "Kerrostalo"
          ],
          [
           "Kerrostalo"
          ],
          [
           "Kerrostalo"
          ],
          [
           "Kerrostalo"
          ],
          [
           "Kerrostalo"
          ],
          [
           "Kerrostalo"
          ],
          [
           "Kerrostalo"
          ],
          [
           "Kerrostalo"
          ],
          [
           "Kerrostalo"
          ],
          [
           "Kerrostalo"
          ],
          [
           "Kerrostalo"
          ],
          [
           "Kerrostalo"
          ],
          [
           "Kerrostalo"
          ],
          [
           "Kerrostalo"
          ],
          [
           "Kerrostalo"
          ],
          [
           "Kerrostalo"
          ],
          [
           "Kerrostalo"
          ],
          [
           "Kerrostalo"
          ],
          [
           "Kerrostalo"
          ],
          [
           "Kerrostalo"
          ],
          [
           "Kerrostalo"
          ],
          [
           "Kerrostalo"
          ],
          [
           "Kerrostalo"
          ],
          [
           "Kerrostalo"
          ],
          [
           "Kerrostalo"
          ],
          [
           "Kerrostalo"
          ],
          [
           "Kerrostalo"
          ],
          [
           "Kerrostalo"
          ],
          [
           "Kerrostalo"
          ],
          [
           "Kerrostalo"
          ],
          [
           "Kerrostalo"
          ],
          [
           "Kerrostalo"
          ],
          [
           "Kerrostalo"
          ],
          [
           "Kerrostalo"
          ],
          [
           "Kerrostalo"
          ],
          [
           "Kerrostalo"
          ],
          [
           "Kerrostalo"
          ],
          [
           "Kerrostalo"
          ],
          [
           "Kerrostalo"
          ],
          [
           "Kerrostalo"
          ],
          [
           "Kerrostalo"
          ],
          [
           "Kerrostalo"
          ],
          [
           "Kerrostalo"
          ],
          [
           "Kerrostalo"
          ],
          [
           "Kerrostalo"
          ],
          [
           "Kerrostalo"
          ],
          [
           "Kerrostalo"
          ],
          [
           "Kerrostalo"
          ],
          [
           "Kerrostalo"
          ],
          [
           "Kerrostalo"
          ],
          [
           "Kerrostalo"
          ],
          [
           "Kerrostalo"
          ],
          [
           "Kerrostalo"
          ],
          [
           "Kerrostalo"
          ],
          [
           "Kerrostalo"
          ],
          [
           "Kerrostalo"
          ],
          [
           "Kerrostalo"
          ],
          [
           "Kerrostalo"
          ],
          [
           "Kerrostalo"
          ],
          [
           "Kerrostalo"
          ],
          [
           "Kerrostalo"
          ],
          [
           "Kerrostalo"
          ],
          [
           "Kerrostalo"
          ],
          [
           "Kerrostalo"
          ],
          [
           "Kerrostalo"
          ],
          [
           "Kerrostalo"
          ],
          [
           "Kerrostalo"
          ],
          [
           "Kerrostalo"
          ],
          [
           "Kerrostalo"
          ],
          [
           "Kerrostalo"
          ],
          [
           "Kerrostalo"
          ],
          [
           "Kerrostalo"
          ],
          [
           "Kerrostalo"
          ],
          [
           "Kerrostalo"
          ],
          [
           "Kerrostalo"
          ],
          [
           "Kerrostalo"
          ],
          [
           "Kerrostalo"
          ],
          [
           "Kerrostalo"
          ],
          [
           "Kerrostalo"
          ],
          [
           "Kerrostalo"
          ],
          [
           "Kerrostalo"
          ],
          [
           "Kerrostalo"
          ],
          [
           "Kerrostalo"
          ],
          [
           "Kerrostalo"
          ],
          [
           "Kerrostalo"
          ],
          [
           "Kerrostalo"
          ],
          [
           "Kerrostalo"
          ],
          [
           "Kerrostalo"
          ],
          [
           "Kerrostalo"
          ],
          [
           "Kerrostalo"
          ],
          [
           "Kerrostalo"
          ],
          [
           "Kerrostalo"
          ],
          [
           "Kerrostalo"
          ],
          [
           "Kerrostalo"
          ],
          [
           "Kerrostalo"
          ],
          [
           "Kerrostalo"
          ],
          [
           "Kerrostalo"
          ],
          [
           "Kerrostalo"
          ],
          [
           "Kerrostalo"
          ],
          [
           "Kerrostalo"
          ],
          [
           "Kerrostalo"
          ],
          [
           "Kerrostalo"
          ],
          [
           "Kerrostalo"
          ],
          [
           "Kerrostalo"
          ],
          [
           "Kerrostalo"
          ],
          [
           "Kerrostalo"
          ],
          [
           "Kerrostalo"
          ],
          [
           "Kerrostalo"
          ],
          [
           "Kerrostalo"
          ],
          [
           "Kerrostalo"
          ],
          [
           "Kerrostalo"
          ],
          [
           "Kerrostalo"
          ],
          [
           "Kerrostalo"
          ],
          [
           "Kerrostalo"
          ],
          [
           "Kerrostalo"
          ],
          [
           "Kerrostalo"
          ],
          [
           "Kerrostalo"
          ],
          [
           "Kerrostalo"
          ],
          [
           "Kerrostalo"
          ],
          [
           "Kerrostalo"
          ],
          [
           "Kerrostalo"
          ],
          [
           "Kerrostalo"
          ],
          [
           "Kerrostalo"
          ],
          [
           "Kerrostalo"
          ],
          [
           "Kerrostalo"
          ],
          [
           "Kerrostalo"
          ],
          [
           "Kerrostalo"
          ],
          [
           "Kerrostalo"
          ],
          [
           "Kerrostalo"
          ],
          [
           "Kerrostalo"
          ],
          [
           "Kerrostalo"
          ],
          [
           "Kerrostalo"
          ],
          [
           "Kerrostalo"
          ],
          [
           "Kerrostalo"
          ],
          [
           "Kerrostalo"
          ],
          [
           "Kerrostalo"
          ],
          [
           "Kerrostalo"
          ],
          [
           "Kerrostalo"
          ],
          [
           "Kerrostalo"
          ],
          [
           "Kerrostalo"
          ],
          [
           "Kerrostalo"
          ],
          [
           "Kerrostalo"
          ],
          [
           "Kerrostalo"
          ],
          [
           "Kerrostalo"
          ],
          [
           "Kerrostalo"
          ],
          [
           "Kerrostalo"
          ],
          [
           "Kerrostalo"
          ],
          [
           "Kerrostalo"
          ],
          [
           "Kerrostalo"
          ],
          [
           "Kerrostalo"
          ],
          [
           "Kerrostalo"
          ],
          [
           "Kerrostalo"
          ],
          [
           "Kerrostalo"
          ],
          [
           "Kerrostalo"
          ],
          [
           "Kerrostalo"
          ],
          [
           "Kerrostalo"
          ],
          [
           "Kerrostalo"
          ],
          [
           "Kerrostalo"
          ],
          [
           "Kerrostalo"
          ],
          [
           "Kerrostalo"
          ],
          [
           "Kerrostalo"
          ],
          [
           "Kerrostalo"
          ],
          [
           "Kerrostalo"
          ],
          [
           "Kerrostalo"
          ],
          [
           "Kerrostalo"
          ],
          [
           "Kerrostalo"
          ],
          [
           "Kerrostalo"
          ],
          [
           "Kerrostalo"
          ],
          [
           "Kerrostalo"
          ],
          [
           "Kerrostalo"
          ],
          [
           "Kerrostalo"
          ],
          [
           "Kerrostalo"
          ],
          [
           "Kerrostalo"
          ],
          [
           "Kerrostalo"
          ],
          [
           "Kerrostalo"
          ],
          [
           "Kerrostalo"
          ],
          [
           "Kerrostalo"
          ],
          [
           "Kerrostalo"
          ],
          [
           "Kerrostalo"
          ],
          [
           "Kerrostalo"
          ],
          [
           "Kerrostalo"
          ],
          [
           "Kerrostalo"
          ],
          [
           "Kerrostalo"
          ],
          [
           "Kerrostalo"
          ],
          [
           "Kerrostalo"
          ],
          [
           "Kerrostalo"
          ],
          [
           "Kerrostalo"
          ],
          [
           "Kerrostalo"
          ],
          [
           "Kerrostalo"
          ],
          [
           "Kerrostalo"
          ],
          [
           "Kerrostalo"
          ],
          [
           "Kerrostalo"
          ],
          [
           "Kerrostalo"
          ],
          [
           "Kerrostalo"
          ],
          [
           "Kerrostalo"
          ],
          [
           "Kerrostalo"
          ],
          [
           "Kerrostalo"
          ],
          [
           "Kerrostalo"
          ],
          [
           "Kerrostalo"
          ],
          [
           "Kerrostalo"
          ],
          [
           "Kerrostalo"
          ],
          [
           "Kerrostalo"
          ],
          [
           "Kerrostalo"
          ],
          [
           "Kerrostalo"
          ],
          [
           "Kerrostalo"
          ],
          [
           "Kerrostalo"
          ],
          [
           "Kerrostalo"
          ],
          [
           "Kerrostalo"
          ],
          [
           "Kerrostalo"
          ],
          [
           "Kerrostalo"
          ],
          [
           "Kerrostalo"
          ],
          [
           "Kerrostalo"
          ],
          [
           "Kerrostalo"
          ],
          [
           "Kerrostalo"
          ],
          [
           "Kerrostalo"
          ],
          [
           "Kerrostalo"
          ],
          [
           "Kerrostalo"
          ],
          [
           "Kerrostalo"
          ],
          [
           "Kerrostalo"
          ],
          [
           "Kerrostalo"
          ],
          [
           "Kerrostalo"
          ],
          [
           "Kerrostalo"
          ],
          [
           "Kerrostalo"
          ],
          [
           "Kerrostalo"
          ],
          [
           "Kerrostalo"
          ],
          [
           "Kerrostalo"
          ],
          [
           "Kerrostalo"
          ],
          [
           "Kerrostalo"
          ],
          [
           "Kerrostalo"
          ],
          [
           "Kerrostalo"
          ],
          [
           "Kerrostalo"
          ],
          [
           "Kerrostalo"
          ],
          [
           "Kerrostalo"
          ],
          [
           "Kerrostalo"
          ],
          [
           "Kerrostalo"
          ],
          [
           "Kerrostalo"
          ],
          [
           "Kerrostalo"
          ],
          [
           "Kerrostalo"
          ],
          [
           "Kerrostalo"
          ],
          [
           "Kerrostalo"
          ],
          [
           "Kerrostalo"
          ],
          [
           "Kerrostalo"
          ],
          [
           "Kerrostalo"
          ],
          [
           "Kerrostalo"
          ],
          [
           "Kerrostalo"
          ],
          [
           "Kerrostalo"
          ],
          [
           "Kerrostalo"
          ],
          [
           "Kerrostalo"
          ],
          [
           "Kerrostalo"
          ],
          [
           "Kerrostalo"
          ],
          [
           "Kerrostalo"
          ],
          [
           "Kerrostalo"
          ],
          [
           "Kerrostalo"
          ],
          [
           "Kerrostalo"
          ],
          [
           "Kerrostalo"
          ],
          [
           "Kerrostalo"
          ],
          [
           "Kerrostalo"
          ],
          [
           "Kerrostalo"
          ],
          [
           "Kerrostalo"
          ],
          [
           "Kerrostalo"
          ],
          [
           "Kerrostalo"
          ],
          [
           "Kerrostalo"
          ],
          [
           "Kerrostalo"
          ],
          [
           "Kerrostalo"
          ],
          [
           "Kerrostalo"
          ],
          [
           "Kerrostalo"
          ],
          [
           "Kerrostalo"
          ],
          [
           "Kerrostalo"
          ],
          [
           "Kerrostalo"
          ],
          [
           "Kerrostalo"
          ],
          [
           "Kerrostalo"
          ],
          [
           "Kerrostalo"
          ],
          [
           "Kerrostalo"
          ],
          [
           "Kerrostalo"
          ],
          [
           "Kerrostalo"
          ],
          [
           "Kerrostalo"
          ],
          [
           "Kerrostalo"
          ],
          [
           "Kerrostalo"
          ],
          [
           "Kerrostalo"
          ],
          [
           "Kerrostalo"
          ],
          [
           "Kerrostalo"
          ],
          [
           "Kerrostalo"
          ],
          [
           "Kerrostalo"
          ],
          [
           "Kerrostalo"
          ],
          [
           "Kerrostalo"
          ],
          [
           "Kerrostalo"
          ],
          [
           "Kerrostalo"
          ],
          [
           "Kerrostalo"
          ],
          [
           "Kerrostalo"
          ],
          [
           "Kerrostalo"
          ],
          [
           "Kerrostalo"
          ],
          [
           "Kerrostalo"
          ],
          [
           "Kerrostalo"
          ],
          [
           "Kerrostalo"
          ],
          [
           "Kerrostalo"
          ],
          [
           "Kerrostalo"
          ],
          [
           "Kerrostalo"
          ],
          [
           "Kerrostalo"
          ],
          [
           "Kerrostalo"
          ],
          [
           "Kerrostalo"
          ],
          [
           "Kerrostalo"
          ],
          [
           "Kerrostalo"
          ],
          [
           "Kerrostalo"
          ],
          [
           "Kerrostalo"
          ],
          [
           "Kerrostalo"
          ],
          [
           "Kerrostalo"
          ],
          [
           "Kerrostalo"
          ],
          [
           "Kerrostalo"
          ],
          [
           "Kerrostalo"
          ],
          [
           "Kerrostalo"
          ],
          [
           "Kerrostalo"
          ],
          [
           "Kerrostalo"
          ],
          [
           "Kerrostalo"
          ],
          [
           "Kerrostalo"
          ],
          [
           "Kerrostalo"
          ],
          [
           "Kerrostalo"
          ],
          [
           "Kerrostalo"
          ],
          [
           "Kerrostalo"
          ],
          [
           "Kerrostalo"
          ],
          [
           "Kerrostalo"
          ],
          [
           "Kerrostalo"
          ],
          [
           "Kerrostalo"
          ],
          [
           "Kerrostalo"
          ],
          [
           "Kerrostalo"
          ],
          [
           "Kerrostalo"
          ],
          [
           "Kerrostalo"
          ],
          [
           "Kerrostalo"
          ],
          [
           "Kerrostalo"
          ],
          [
           "Kerrostalo"
          ],
          [
           "Kerrostalo"
          ],
          [
           "Kerrostalo"
          ],
          [
           "Kerrostalo"
          ],
          [
           "Kerrostalo"
          ],
          [
           "Kerrostalo"
          ],
          [
           "Kerrostalo"
          ],
          [
           "Kerrostalo"
          ],
          [
           "Kerrostalo"
          ],
          [
           "Kerrostalo"
          ],
          [
           "Kerrostalo"
          ],
          [
           "Kerrostalo"
          ],
          [
           "Kerrostalo"
          ],
          [
           "Kerrostalo"
          ],
          [
           "Kerrostalo"
          ],
          [
           "Kerrostalo"
          ],
          [
           "Kerrostalo"
          ],
          [
           "Kerrostalo"
          ],
          [
           "Kerrostalo"
          ],
          [
           "Kerrostalo"
          ],
          [
           "Kerrostalo"
          ],
          [
           "Kerrostalo"
          ],
          [
           "Kerrostalo"
          ],
          [
           "Kerrostalo"
          ],
          [
           "Kerrostalo"
          ],
          [
           "Kerrostalo"
          ],
          [
           "Kerrostalo"
          ],
          [
           "Kerrostalo"
          ],
          [
           "Kerrostalo"
          ],
          [
           "Kerrostalo"
          ],
          [
           "Kerrostalo"
          ],
          [
           "Kerrostalo"
          ],
          [
           "Kerrostalo"
          ],
          [
           "Kerrostalo"
          ],
          [
           "Kerrostalo"
          ],
          [
           "Kerrostalo"
          ],
          [
           "Kerrostalo"
          ],
          [
           "Kerrostalo"
          ],
          [
           "Kerrostalo"
          ],
          [
           "Kerrostalo"
          ],
          [
           "Kerrostalo"
          ],
          [
           "Kerrostalo"
          ],
          [
           "Kerrostalo"
          ],
          [
           "Kerrostalo"
          ],
          [
           "Kerrostalo"
          ],
          [
           "Kerrostalo"
          ],
          [
           "Kerrostalo"
          ],
          [
           "Kerrostalo"
          ],
          [
           "Kerrostalo"
          ],
          [
           "Kerrostalo"
          ],
          [
           "Kerrostalo"
          ],
          [
           "Kerrostalo"
          ],
          [
           "Kerrostalo"
          ],
          [
           "Kerrostalo"
          ],
          [
           "Kerrostalo"
          ],
          [
           "Kerrostalo"
          ],
          [
           "Kerrostalo"
          ],
          [
           "Kerrostalo"
          ],
          [
           "Kerrostalo"
          ],
          [
           "Kerrostalo"
          ],
          [
           "Kerrostalo"
          ],
          [
           "Kerrostalo"
          ],
          [
           "Kerrostalo"
          ],
          [
           "Kerrostalo"
          ],
          [
           "Kerrostalo"
          ],
          [
           "Kerrostalo"
          ],
          [
           "Kerrostalo"
          ],
          [
           "Kerrostalo"
          ],
          [
           "Kerrostalo"
          ],
          [
           "Kerrostalo"
          ],
          [
           "Kerrostalo"
          ],
          [
           "Kerrostalo"
          ],
          [
           "Kerrostalo"
          ],
          [
           "Kerrostalo"
          ],
          [
           "Kerrostalo"
          ],
          [
           "Kerrostalo"
          ],
          [
           "Kerrostalo"
          ],
          [
           "Kerrostalo"
          ],
          [
           "Kerrostalo"
          ],
          [
           "Kerrostalo"
          ],
          [
           "Kerrostalo"
          ],
          [
           "Kerrostalo"
          ],
          [
           "Kerrostalo"
          ],
          [
           "Kerrostalo"
          ],
          [
           "Kerrostalo"
          ],
          [
           "Kerrostalo"
          ],
          [
           "Kerrostalo"
          ],
          [
           "Kerrostalo"
          ],
          [
           "Kerrostalo"
          ],
          [
           "Kerrostalo"
          ],
          [
           "Kerrostalo"
          ],
          [
           "Kerrostalo"
          ],
          [
           "Kerrostalo"
          ],
          [
           "Kerrostalo"
          ],
          [
           "Kerrostalo"
          ],
          [
           "Kerrostalo"
          ],
          [
           "Kerrostalo"
          ],
          [
           "Kerrostalo"
          ],
          [
           "Kerrostalo"
          ],
          [
           "Kerrostalo"
          ],
          [
           "Kerrostalo"
          ],
          [
           "Kerrostalo"
          ],
          [
           "Kerrostalo"
          ],
          [
           "Kerrostalo"
          ],
          [
           "Kerrostalo"
          ],
          [
           "Kerrostalo"
          ],
          [
           "Kerrostalo"
          ],
          [
           "Kerrostalo"
          ],
          [
           "Kerrostalo"
          ],
          [
           "Kerrostalo"
          ],
          [
           "Kerrostalo"
          ],
          [
           "Kerrostalo"
          ],
          [
           "Kerrostalo"
          ],
          [
           "Kerrostalo"
          ],
          [
           "Kerrostalo"
          ],
          [
           "Kerrostalo"
          ],
          [
           "Kerrostalo"
          ],
          [
           "Kerrostalo"
          ],
          [
           "Kerrostalo"
          ],
          [
           "Kerrostalo"
          ],
          [
           "Kerrostalo"
          ],
          [
           "Kerrostalo"
          ],
          [
           "Kerrostalo"
          ],
          [
           "Kerrostalo"
          ],
          [
           "Kerrostalo"
          ],
          [
           "Kerrostalo"
          ],
          [
           "Kerrostalo"
          ],
          [
           "Kerrostalo"
          ],
          [
           "Kerrostalo"
          ],
          [
           "Kerrostalo"
          ],
          [
           "Kerrostalo"
          ],
          [
           "Kerrostalo"
          ],
          [
           "Kerrostalo"
          ],
          [
           "Kerrostalo"
          ],
          [
           "Kerrostalo"
          ],
          [
           "Kerrostalo"
          ],
          [
           "Kerrostalo"
          ],
          [
           "Kerrostalo"
          ],
          [
           "Kerrostalo"
          ],
          [
           "Kerrostalo"
          ],
          [
           "Kerrostalo"
          ],
          [
           "Kerrostalo"
          ],
          [
           "Kerrostalo"
          ],
          [
           "Kerrostalo"
          ],
          [
           "Kerrostalo"
          ],
          [
           "Kerrostalo"
          ],
          [
           "Kerrostalo"
          ],
          [
           "Kerrostalo"
          ],
          [
           "Kerrostalo"
          ],
          [
           "Kerrostalo"
          ],
          [
           "Kerrostalo"
          ],
          [
           "Kerrostalo"
          ],
          [
           "Kerrostalo"
          ],
          [
           "Kerrostalo"
          ],
          [
           "Kerrostalo"
          ],
          [
           "Kerrostalo"
          ],
          [
           "Kerrostalo"
          ],
          [
           "Kerrostalo"
          ],
          [
           "Kerrostalo"
          ],
          [
           "Kerrostalo"
          ],
          [
           "Kerrostalo"
          ],
          [
           "Kerrostalo"
          ],
          [
           "Kerrostalo"
          ],
          [
           "Kerrostalo"
          ],
          [
           "Kerrostalo"
          ],
          [
           "Kerrostalo"
          ],
          [
           "Kerrostalo"
          ],
          [
           "Kerrostalo"
          ],
          [
           "Kerrostalo"
          ],
          [
           "Kerrostalo"
          ],
          [
           "Kerrostalo"
          ],
          [
           "Kerrostalo"
          ],
          [
           "Kerrostalo"
          ],
          [
           "Kerrostalo"
          ],
          [
           "Kerrostalo"
          ],
          [
           "Kerrostalo"
          ],
          [
           "Kerrostalo"
          ],
          [
           "Kerrostalo"
          ],
          [
           "Kerrostalo"
          ],
          [
           "Kerrostalo"
          ],
          [
           "Kerrostalo"
          ],
          [
           "Kerrostalo"
          ],
          [
           "Kerrostalo"
          ],
          [
           "Kerrostalo"
          ],
          [
           "Kerrostalo"
          ],
          [
           "Kerrostalo"
          ],
          [
           "Kerrostalo"
          ],
          [
           "Kerrostalo"
          ],
          [
           "Kerrostalo"
          ],
          [
           "Kerrostalo"
          ],
          [
           "Kerrostalo"
          ],
          [
           "Kerrostalo"
          ],
          [
           "Kerrostalo"
          ],
          [
           "Kerrostalo"
          ],
          [
           "Kerrostalo"
          ],
          [
           "Kerrostalo"
          ],
          [
           "Kerrostalo"
          ],
          [
           "Kerrostalo"
          ],
          [
           "Kerrostalo"
          ],
          [
           "Kerrostalo"
          ],
          [
           "Kerrostalo"
          ],
          [
           "Kerrostalo"
          ],
          [
           "Kerrostalo"
          ],
          [
           "Kerrostalo"
          ],
          [
           "Kerrostalo"
          ],
          [
           "Kerrostalo"
          ],
          [
           "Kerrostalo"
          ],
          [
           "Kerrostalo"
          ],
          [
           "Kerrostalo"
          ],
          [
           "Kerrostalo"
          ],
          [
           "Kerrostalo"
          ],
          [
           "Kerrostalo"
          ],
          [
           "Kerrostalo"
          ],
          [
           "Kerrostalo"
          ],
          [
           "Kerrostalo"
          ],
          [
           "Kerrostalo"
          ],
          [
           "Kerrostalo"
          ],
          [
           "Kerrostalo"
          ],
          [
           "Kerrostalo"
          ],
          [
           "Kerrostalo"
          ],
          [
           "Kerrostalo"
          ],
          [
           "Kerrostalo"
          ],
          [
           "Kerrostalo"
          ],
          [
           "Kerrostalo"
          ],
          [
           "Kerrostalo"
          ],
          [
           "Kerrostalo"
          ],
          [
           "Kerrostalo"
          ],
          [
           "Kerrostalo"
          ],
          [
           "Kerrostalo"
          ],
          [
           "Kerrostalo"
          ],
          [
           "Kerrostalo"
          ],
          [
           "Kerrostalo"
          ],
          [
           "Kerrostalo"
          ],
          [
           "Kerrostalo"
          ],
          [
           "Kerrostalo"
          ],
          [
           "Kerrostalo"
          ],
          [
           "Kerrostalo"
          ],
          [
           "Kerrostalo"
          ],
          [
           "Kerrostalo"
          ],
          [
           "Kerrostalo"
          ],
          [
           "Kerrostalo"
          ],
          [
           "Kerrostalo"
          ],
          [
           "Kerrostalo"
          ],
          [
           "Kerrostalo"
          ],
          [
           "Kerrostalo"
          ],
          [
           "Kerrostalo"
          ],
          [
           "Kerrostalo"
          ],
          [
           "Kerrostalo"
          ],
          [
           "Kerrostalo"
          ],
          [
           "Kerrostalo"
          ],
          [
           "Kerrostalo"
          ],
          [
           "Kerrostalo"
          ],
          [
           "Kerrostalo"
          ],
          [
           "Kerrostalo"
          ],
          [
           "Kerrostalo"
          ],
          [
           "Kerrostalo"
          ],
          [
           "Kerrostalo"
          ],
          [
           "Kerrostalo"
          ],
          [
           "Kerrostalo"
          ],
          [
           "Kerrostalo"
          ],
          [
           "Kerrostalo"
          ],
          [
           "Kerrostalo"
          ],
          [
           "Kerrostalo"
          ],
          [
           "Kerrostalo"
          ],
          [
           "Kerrostalo"
          ],
          [
           "Kerrostalo"
          ],
          [
           "Kerrostalo"
          ],
          [
           "Kerrostalo"
          ],
          [
           "Kerrostalo"
          ],
          [
           "Kerrostalo"
          ],
          [
           "Kerrostalo"
          ],
          [
           "Kerrostalo"
          ],
          [
           "Kerrostalo"
          ],
          [
           "Kerrostalo"
          ],
          [
           "Kerrostalo"
          ],
          [
           "Kerrostalo"
          ],
          [
           "Kerrostalo"
          ],
          [
           "Kerrostalo"
          ],
          [
           "Kerrostalo"
          ],
          [
           "Kerrostalo"
          ],
          [
           "Kerrostalo"
          ],
          [
           "Kerrostalo"
          ],
          [
           "Kerrostalo"
          ],
          [
           "Kerrostalo"
          ],
          [
           "Kerrostalo"
          ],
          [
           "Kerrostalo"
          ],
          [
           "Kerrostalo"
          ],
          [
           "Kerrostalo"
          ],
          [
           "Kerrostalo"
          ],
          [
           "Kerrostalo"
          ],
          [
           "Kerrostalo"
          ],
          [
           "Kerrostalo"
          ],
          [
           "Kerrostalo"
          ],
          [
           "Kerrostalo"
          ],
          [
           "Kerrostalo"
          ],
          [
           "Kerrostalo"
          ],
          [
           "Kerrostalo"
          ],
          [
           "Kerrostalo"
          ],
          [
           "Kerrostalo"
          ],
          [
           "Kerrostalo"
          ],
          [
           "Kerrostalo"
          ],
          [
           "Kerrostalo"
          ],
          [
           "Kerrostalo"
          ],
          [
           "Kerrostalo"
          ],
          [
           "Kerrostalo"
          ],
          [
           "Kerrostalo"
          ],
          [
           "Kerrostalo"
          ],
          [
           "Kerrostalo"
          ],
          [
           "Kerrostalo"
          ],
          [
           "Kerrostalo"
          ],
          [
           "Kerrostalo"
          ],
          [
           "Kerrostalo"
          ],
          [
           "Kerrostalo"
          ],
          [
           "Kerrostalo"
          ],
          [
           "Kerrostalo"
          ],
          [
           "Kerrostalo"
          ],
          [
           "Kerrostalo"
          ],
          [
           "Kerrostalo"
          ],
          [
           "Kerrostalo"
          ],
          [
           "Kerrostalo"
          ],
          [
           "Kerrostalo"
          ],
          [
           "Kerrostalo"
          ],
          [
           "Kerrostalo"
          ],
          [
           "Kerrostalo"
          ],
          [
           "Kerrostalo"
          ],
          [
           "Kerrostalo"
          ],
          [
           "Kerrostalo"
          ],
          [
           "Kerrostalo"
          ],
          [
           "Kerrostalo"
          ],
          [
           "Kerrostalo"
          ],
          [
           "Kerrostalo"
          ],
          [
           "Kerrostalo"
          ],
          [
           "Kerrostalo"
          ],
          [
           "Kerrostalo"
          ],
          [
           "Kerrostalo"
          ],
          [
           "Kerrostalo"
          ],
          [
           "Kerrostalo"
          ],
          [
           "Kerrostalo"
          ],
          [
           "Kerrostalo"
          ],
          [
           "Kerrostalo"
          ],
          [
           "Kerrostalo"
          ],
          [
           "Kerrostalo"
          ],
          [
           "Kerrostalo"
          ],
          [
           "Kerrostalo"
          ],
          [
           "Kerrostalo"
          ],
          [
           "Kerrostalo"
          ],
          [
           "Kerrostalo"
          ],
          [
           "Kerrostalo"
          ],
          [
           "Kerrostalo"
          ],
          [
           "Kerrostalo"
          ],
          [
           "Kerrostalo"
          ],
          [
           "Kerrostalo"
          ],
          [
           "Kerrostalo"
          ],
          [
           "Kerrostalo"
          ],
          [
           "Kerrostalo"
          ],
          [
           "Kerrostalo"
          ],
          [
           "Kerrostalo"
          ],
          [
           "Kerrostalo"
          ],
          [
           "Kerrostalo"
          ],
          [
           "Kerrostalo"
          ],
          [
           "Kerrostalo"
          ],
          [
           "Kerrostalo"
          ],
          [
           "Kerrostalo"
          ],
          [
           "Kerrostalo"
          ],
          [
           "Kerrostalo"
          ],
          [
           "Kerrostalo"
          ],
          [
           "Kerrostalo"
          ],
          [
           "Kerrostalo"
          ],
          [
           "Kerrostalo"
          ],
          [
           "Kerrostalo"
          ],
          [
           "Kerrostalo"
          ],
          [
           "Kerrostalo"
          ],
          [
           "Kerrostalo"
          ],
          [
           "Kerrostalo"
          ],
          [
           "Kerrostalo"
          ],
          [
           "Kerrostalo"
          ],
          [
           "Kerrostalo"
          ],
          [
           "Kerrostalo"
          ],
          [
           "Kerrostalo"
          ],
          [
           "Kerrostalo"
          ],
          [
           "Kerrostalo"
          ],
          [
           "Kerrostalo"
          ],
          [
           "Kerrostalo"
          ],
          [
           "Kerrostalo"
          ],
          [
           "Kerrostalo"
          ],
          [
           "Kerrostalo"
          ],
          [
           "Kerrostalo"
          ],
          [
           "Kerrostalo"
          ],
          [
           "Kerrostalo"
          ],
          [
           "Kerrostalo"
          ],
          [
           "Kerrostalo"
          ],
          [
           "Kerrostalo"
          ],
          [
           "Kerrostalo"
          ],
          [
           "Kerrostalo"
          ],
          [
           "Kerrostalo"
          ],
          [
           "Kerrostalo"
          ],
          [
           "Kerrostalo"
          ],
          [
           "Kerrostalo"
          ],
          [
           "Kerrostalo"
          ],
          [
           "Kerrostalo"
          ],
          [
           "Kerrostalo"
          ],
          [
           "Kerrostalo"
          ],
          [
           "Kerrostalo"
          ],
          [
           "Kerrostalo"
          ],
          [
           "Kerrostalo"
          ],
          [
           "Kerrostalo"
          ],
          [
           "Kerrostalo"
          ],
          [
           "Kerrostalo"
          ],
          [
           "Kerrostalo"
          ],
          [
           "Kerrostalo"
          ],
          [
           "Kerrostalo"
          ],
          [
           "Kerrostalo"
          ],
          [
           "Kerrostalo"
          ],
          [
           "Kerrostalo"
          ],
          [
           "Kerrostalo"
          ],
          [
           "Kerrostalo"
          ],
          [
           "Kerrostalo"
          ],
          [
           "Kerrostalo"
          ],
          [
           "Kerrostalo"
          ],
          [
           "Kerrostalo"
          ],
          [
           "Kerrostalo"
          ],
          [
           "Kerrostalo"
          ],
          [
           "Kerrostalo"
          ],
          [
           "Kerrostalo"
          ],
          [
           "Kerrostalo"
          ],
          [
           "Kerrostalo"
          ],
          [
           "Kerrostalo"
          ],
          [
           "Kerrostalo"
          ],
          [
           "Kerrostalo"
          ],
          [
           "Kerrostalo"
          ],
          [
           "Kerrostalo"
          ],
          [
           "Kerrostalo"
          ],
          [
           "Kerrostalo"
          ],
          [
           "Kerrostalo"
          ],
          [
           "Kerrostalo"
          ],
          [
           "Kerrostalo"
          ],
          [
           "Kerrostalo"
          ],
          [
           "Kerrostalo"
          ],
          [
           "Kerrostalo"
          ],
          [
           "Kerrostalo"
          ],
          [
           "Kerrostalo"
          ],
          [
           "Kerrostalo"
          ],
          [
           "Kerrostalo"
          ],
          [
           "Kerrostalo"
          ],
          [
           "Kerrostalo"
          ],
          [
           "Kerrostalo"
          ],
          [
           "Kerrostalo"
          ],
          [
           "Kerrostalo"
          ],
          [
           "Kerrostalo"
          ],
          [
           "Kerrostalo"
          ],
          [
           "Kerrostalo"
          ],
          [
           "Kerrostalo"
          ],
          [
           "Kerrostalo"
          ],
          [
           "Kerrostalo"
          ],
          [
           "Kerrostalo"
          ],
          [
           "Kerrostalo"
          ],
          [
           "Kerrostalo"
          ],
          [
           "Kerrostalo"
          ],
          [
           "Kerrostalo"
          ],
          [
           "Kerrostalo"
          ],
          [
           "Kerrostalo"
          ],
          [
           "Kerrostalo"
          ],
          [
           "Kerrostalo"
          ],
          [
           "Kerrostalo"
          ],
          [
           "Kerrostalo"
          ],
          [
           "Kerrostalo"
          ],
          [
           "Kerrostalo"
          ],
          [
           "Kerrostalo"
          ],
          [
           "Kerrostalo"
          ],
          [
           "Kerrostalo"
          ],
          [
           "Kerrostalo"
          ],
          [
           "Kerrostalo"
          ],
          [
           "Kerrostalo"
          ],
          [
           "Kerrostalo"
          ],
          [
           "Kerrostalo"
          ],
          [
           "Kerrostalo"
          ],
          [
           "Kerrostalo"
          ],
          [
           "Kerrostalo"
          ],
          [
           "Kerrostalo"
          ],
          [
           "Kerrostalo"
          ],
          [
           "Kerrostalo"
          ],
          [
           "Kerrostalo"
          ],
          [
           "Kerrostalo"
          ],
          [
           "Kerrostalo"
          ],
          [
           "Kerrostalo"
          ],
          [
           "Kerrostalo"
          ],
          [
           "Kerrostalo"
          ],
          [
           "Kerrostalo"
          ],
          [
           "Kerrostalo"
          ],
          [
           "Kerrostalo"
          ],
          [
           "Kerrostalo"
          ],
          [
           "Kerrostalo"
          ],
          [
           "Kerrostalo"
          ],
          [
           "Kerrostalo"
          ],
          [
           "Kerrostalo"
          ],
          [
           "Kerrostalo"
          ],
          [
           "Kerrostalo"
          ],
          [
           "Kerrostalo"
          ],
          [
           "Kerrostalo"
          ],
          [
           "Kerrostalo"
          ],
          [
           "Kerrostalo"
          ],
          [
           "Kerrostalo"
          ],
          [
           "Kerrostalo"
          ],
          [
           "Kerrostalo"
          ],
          [
           "Kerrostalo"
          ],
          [
           "Kerrostalo"
          ],
          [
           "Kerrostalo"
          ],
          [
           "Kerrostalo"
          ],
          [
           "Kerrostalo"
          ],
          [
           "Kerrostalo"
          ],
          [
           "Kerrostalo"
          ],
          [
           "Kerrostalo"
          ],
          [
           "Kerrostalo"
          ],
          [
           "Kerrostalo"
          ],
          [
           "Kerrostalo"
          ],
          [
           "Kerrostalo"
          ],
          [
           "Kerrostalo"
          ],
          [
           "Kerrostalo"
          ],
          [
           "Kerrostalo"
          ],
          [
           "Kerrostalo"
          ],
          [
           "Kerrostalo"
          ],
          [
           "Kerrostalo"
          ],
          [
           "Kerrostalo"
          ],
          [
           "Kerrostalo"
          ],
          [
           "Kerrostalo"
          ],
          [
           "Kerrostalo"
          ],
          [
           "Kerrostalo"
          ],
          [
           "Kerrostalo"
          ],
          [
           "Kerrostalo"
          ],
          [
           "Kerrostalo"
          ],
          [
           "Kerrostalo"
          ],
          [
           "Kerrostalo"
          ],
          [
           "Kerrostalo"
          ],
          [
           "Kerrostalo"
          ],
          [
           "Kerrostalo"
          ],
          [
           "Kerrostalo"
          ],
          [
           "Kerrostalo"
          ],
          [
           "Kerrostalo"
          ],
          [
           "Kerrostalo"
          ],
          [
           "Kerrostalo"
          ],
          [
           "Kerrostalo"
          ],
          [
           "Kerrostalo"
          ],
          [
           "Kerrostalo"
          ],
          [
           "Kerrostalo"
          ],
          [
           "Kerrostalo"
          ],
          [
           "Kerrostalo"
          ],
          [
           "Kerrostalo"
          ],
          [
           "Kerrostalo"
          ],
          [
           "Kerrostalo"
          ],
          [
           "Kerrostalo"
          ],
          [
           "Kerrostalo"
          ],
          [
           "Kerrostalo"
          ],
          [
           "Kerrostalo"
          ],
          [
           "Kerrostalo"
          ],
          [
           "Kerrostalo"
          ],
          [
           "Kerrostalo"
          ],
          [
           "Kerrostalo"
          ],
          [
           "Kerrostalo"
          ],
          [
           "Kerrostalo"
          ],
          [
           "Kerrostalo"
          ],
          [
           "Kerrostalo"
          ],
          [
           "Kerrostalo"
          ],
          [
           "Kerrostalo"
          ],
          [
           "Kerrostalo"
          ],
          [
           "Kerrostalo"
          ],
          [
           "Kerrostalo"
          ],
          [
           "Kerrostalo"
          ],
          [
           "Kerrostalo"
          ],
          [
           "Kerrostalo"
          ],
          [
           "Kerrostalo"
          ],
          [
           "Kerrostalo"
          ],
          [
           "Kerrostalo"
          ],
          [
           "Kerrostalo"
          ],
          [
           "Kerrostalo"
          ],
          [
           "Kerrostalo"
          ],
          [
           "Kerrostalo"
          ],
          [
           "Kerrostalo"
          ],
          [
           "Kerrostalo"
          ],
          [
           "Kerrostalo"
          ],
          [
           "Kerrostalo"
          ],
          [
           "Kerrostalo"
          ],
          [
           "Kerrostalo"
          ],
          [
           "Kerrostalo"
          ],
          [
           "Kerrostalo"
          ],
          [
           "Kerrostalo"
          ],
          [
           "Kerrostalo"
          ],
          [
           "Kerrostalo"
          ],
          [
           "Kerrostalo"
          ],
          [
           "Kerrostalo"
          ],
          [
           "Kerrostalo"
          ],
          [
           "Kerrostalo"
          ],
          [
           "Kerrostalo"
          ],
          [
           "Kerrostalo"
          ],
          [
           "Kerrostalo"
          ],
          [
           "Kerrostalo"
          ],
          [
           "Kerrostalo"
          ],
          [
           "Kerrostalo"
          ],
          [
           "Kerrostalo"
          ],
          [
           "Kerrostalo"
          ],
          [
           "Kerrostalo"
          ],
          [
           "Kerrostalo"
          ],
          [
           "Kerrostalo"
          ],
          [
           "Kerrostalo"
          ],
          [
           "Kerrostalo"
          ],
          [
           "Kerrostalo"
          ],
          [
           "Kerrostalo"
          ],
          [
           "Kerrostalo"
          ],
          [
           "Kerrostalo"
          ],
          [
           "Kerrostalo"
          ],
          [
           "Kerrostalo"
          ],
          [
           "Kerrostalo"
          ],
          [
           "Kerrostalo"
          ],
          [
           "Kerrostalo"
          ],
          [
           "Kerrostalo"
          ],
          [
           "Kerrostalo"
          ],
          [
           "Kerrostalo"
          ],
          [
           "Kerrostalo"
          ],
          [
           "Kerrostalo"
          ],
          [
           "Kerrostalo"
          ],
          [
           "Kerrostalo"
          ],
          [
           "Kerrostalo"
          ],
          [
           "Kerrostalo"
          ],
          [
           "Kerrostalo"
          ],
          [
           "Kerrostalo"
          ],
          [
           "Kerrostalo"
          ],
          [
           "Kerrostalo"
          ],
          [
           "Kerrostalo"
          ],
          [
           "Kerrostalo"
          ],
          [
           "Kerrostalo"
          ],
          [
           "Kerrostalo"
          ],
          [
           "Kerrostalo"
          ],
          [
           "Kerrostalo"
          ],
          [
           "Kerrostalo"
          ],
          [
           "Kerrostalo"
          ],
          [
           "Kerrostalo"
          ],
          [
           "Kerrostalo"
          ],
          [
           "Kerrostalo"
          ],
          [
           "Kerrostalo"
          ],
          [
           "Kerrostalo"
          ],
          [
           "Kerrostalo"
          ],
          [
           "Kerrostalo"
          ],
          [
           "Kerrostalo"
          ],
          [
           "Kerrostalo"
          ],
          [
           "Kerrostalo"
          ],
          [
           "Kerrostalo"
          ],
          [
           "Kerrostalo"
          ],
          [
           "Kerrostalo"
          ],
          [
           "Kerrostalo"
          ],
          [
           "Kerrostalo"
          ],
          [
           "Kerrostalo"
          ],
          [
           "Kerrostalo"
          ],
          [
           "Kerrostalo"
          ],
          [
           "Kerrostalo"
          ],
          [
           "Kerrostalo"
          ],
          [
           "Kerrostalo"
          ],
          [
           "Kerrostalo"
          ],
          [
           "Kerrostalo"
          ],
          [
           "Kerrostalo"
          ],
          [
           "Kerrostalo"
          ],
          [
           "Kerrostalo"
          ],
          [
           "Kerrostalo"
          ],
          [
           "Kerrostalo"
          ],
          [
           "Kerrostalo"
          ],
          [
           "Kerrostalo"
          ],
          [
           "Kerrostalo"
          ],
          [
           "Kerrostalo"
          ],
          [
           "Kerrostalo"
          ],
          [
           "Kerrostalo"
          ],
          [
           "Kerrostalo"
          ],
          [
           "Kerrostalo"
          ],
          [
           "Kerrostalo"
          ],
          [
           "Kerrostalo"
          ],
          [
           "Kerrostalo"
          ],
          [
           "Kerrostalo"
          ],
          [
           "Kerrostalo"
          ],
          [
           "Kerrostalo"
          ],
          [
           "Kerrostalo"
          ],
          [
           "Kerrostalo"
          ],
          [
           "Kerrostalo"
          ],
          [
           "Kerrostalo"
          ],
          [
           "Kerrostalo"
          ],
          [
           "Kerrostalo"
          ],
          [
           "Kerrostalo"
          ],
          [
           "Kerrostalo"
          ],
          [
           "Kerrostalo"
          ],
          [
           "Kerrostalo"
          ],
          [
           "Kerrostalo"
          ],
          [
           "Kerrostalo"
          ],
          [
           "Kerrostalo"
          ],
          [
           "Kerrostalo"
          ],
          [
           "Kerrostalo"
          ],
          [
           "Kerrostalo"
          ],
          [
           "Kerrostalo"
          ],
          [
           "Kerrostalo"
          ],
          [
           "Kerrostalo"
          ],
          [
           "Kerrostalo"
          ],
          [
           "Kerrostalo"
          ],
          [
           "Kerrostalo"
          ],
          [
           "Kerrostalo"
          ],
          [
           "Kerrostalo"
          ],
          [
           "Kerrostalo"
          ],
          [
           "Kerrostalo"
          ],
          [
           "Kerrostalo"
          ],
          [
           "Kerrostalo"
          ],
          [
           "Kerrostalo"
          ],
          [
           "Kerrostalo"
          ],
          [
           "Kerrostalo"
          ],
          [
           "Kerrostalo"
          ],
          [
           "Kerrostalo"
          ],
          [
           "Kerrostalo"
          ],
          [
           "Kerrostalo"
          ],
          [
           "Kerrostalo"
          ],
          [
           "Kerrostalo"
          ],
          [
           "Kerrostalo"
          ],
          [
           "Kerrostalo"
          ],
          [
           "Kerrostalo"
          ],
          [
           "Kerrostalo"
          ],
          [
           "Kerrostalo"
          ],
          [
           "Kerrostalo"
          ],
          [
           "Kerrostalo"
          ],
          [
           "Kerrostalo"
          ],
          [
           "Kerrostalo"
          ],
          [
           "Kerrostalo"
          ],
          [
           "Kerrostalo"
          ],
          [
           "Kerrostalo"
          ],
          [
           "Kerrostalo"
          ],
          [
           "Kerrostalo"
          ],
          [
           "Kerrostalo"
          ],
          [
           "Kerrostalo"
          ],
          [
           "Kerrostalo"
          ],
          [
           "Kerrostalo"
          ],
          [
           "Kerrostalo"
          ],
          [
           "Kerrostalo"
          ],
          [
           "Kerrostalo"
          ],
          [
           "Kerrostalo"
          ],
          [
           "Kerrostalo"
          ],
          [
           "Kerrostalo"
          ],
          [
           "Kerrostalo"
          ],
          [
           "Kerrostalo"
          ],
          [
           "Kerrostalo"
          ],
          [
           "Kerrostalo"
          ],
          [
           "Kerrostalo"
          ],
          [
           "Kerrostalo"
          ],
          [
           "Kerrostalo"
          ],
          [
           "Kerrostalo"
          ],
          [
           "Kerrostalo"
          ],
          [
           "Kerrostalo"
          ],
          [
           "Kerrostalo"
          ],
          [
           "Kerrostalo"
          ],
          [
           "Kerrostalo"
          ],
          [
           "Kerrostalo"
          ],
          [
           "Kerrostalo"
          ],
          [
           "Kerrostalo"
          ],
          [
           "Kerrostalo"
          ],
          [
           "Kerrostalo"
          ],
          [
           "Kerrostalo"
          ],
          [
           "Kerrostalo"
          ],
          [
           "Kerrostalo"
          ],
          [
           "Kerrostalo"
          ],
          [
           "Kerrostalo"
          ],
          [
           "Kerrostalo"
          ],
          [
           "Kerrostalo"
          ],
          [
           "Kerrostalo"
          ],
          [
           "Kerrostalo"
          ],
          [
           "Kerrostalo"
          ],
          [
           "Kerrostalo"
          ],
          [
           "Kerrostalo"
          ],
          [
           "Kerrostalo"
          ],
          [
           "Kerrostalo"
          ],
          [
           "Kerrostalo"
          ],
          [
           "Kerrostalo"
          ],
          [
           "Kerrostalo"
          ],
          [
           "Kerrostalo"
          ],
          [
           "Kerrostalo"
          ],
          [
           "Kerrostalo"
          ],
          [
           "Kerrostalo"
          ],
          [
           "Kerrostalo"
          ],
          [
           "Kerrostalo"
          ],
          [
           "Kerrostalo"
          ],
          [
           "Kerrostalo"
          ],
          [
           "Kerrostalo"
          ],
          [
           "Kerrostalo"
          ],
          [
           "Kerrostalo"
          ],
          [
           "Kerrostalo"
          ],
          [
           "Kerrostalo"
          ],
          [
           "Kerrostalo"
          ],
          [
           "Kerrostalo"
          ],
          [
           "Kerrostalo"
          ],
          [
           "Kerrostalo"
          ],
          [
           "Kerrostalo"
          ],
          [
           "Kerrostalo"
          ],
          [
           "Kerrostalo"
          ],
          [
           "Kerrostalo"
          ],
          [
           "Kerrostalo"
          ],
          [
           "Kerrostalo"
          ],
          [
           "Kerrostalo"
          ],
          [
           "Kerrostalo"
          ],
          [
           "Kerrostalo"
          ],
          [
           "Kerrostalo"
          ],
          [
           "Kerrostalo"
          ],
          [
           "Kerrostalo"
          ],
          [
           "Kerrostalo"
          ],
          [
           "Kerrostalo"
          ],
          [
           "Kerrostalo"
          ],
          [
           "Kerrostalo"
          ],
          [
           "Kerrostalo"
          ],
          [
           "Kerrostalo"
          ],
          [
           "Kerrostalo"
          ],
          [
           "Kerrostalo"
          ],
          [
           "Kerrostalo"
          ],
          [
           "Kerrostalo"
          ],
          [
           "Kerrostalo"
          ],
          [
           "Kerrostalo"
          ],
          [
           "Kerrostalo"
          ],
          [
           "Kerrostalo"
          ],
          [
           "Kerrostalo"
          ],
          [
           "Kerrostalo"
          ],
          [
           "Kerrostalo"
          ],
          [
           "Kerrostalo"
          ],
          [
           "Kerrostalo"
          ],
          [
           "Kerrostalo"
          ],
          [
           "Kerrostalo"
          ],
          [
           "Kerrostalo"
          ],
          [
           "Kerrostalo"
          ],
          [
           "Kerrostalo"
          ],
          [
           "Kerrostalo"
          ],
          [
           "Kerrostalo"
          ],
          [
           "Kerrostalo"
          ],
          [
           "Kerrostalo"
          ],
          [
           "Kerrostalo"
          ],
          [
           "Kerrostalo"
          ],
          [
           "Kerrostalo"
          ],
          [
           "Kerrostalo"
          ],
          [
           "Kerrostalo"
          ],
          [
           "Kerrostalo"
          ],
          [
           "Kerrostalo"
          ],
          [
           "Kerrostalo"
          ],
          [
           "Kerrostalo"
          ],
          [
           "Kerrostalo"
          ],
          [
           "Kerrostalo"
          ],
          [
           "Kerrostalo"
          ],
          [
           "Kerrostalo"
          ],
          [
           "Kerrostalo"
          ],
          [
           "Kerrostalo"
          ],
          [
           "Kerrostalo"
          ],
          [
           "Kerrostalo"
          ],
          [
           "Kerrostalo"
          ],
          [
           "Kerrostalo"
          ],
          [
           "Kerrostalo"
          ],
          [
           "Kerrostalo"
          ],
          [
           "Kerrostalo"
          ],
          [
           "Kerrostalo"
          ],
          [
           "Kerrostalo"
          ],
          [
           "Kerrostalo"
          ],
          [
           "Kerrostalo"
          ],
          [
           "Kerrostalo"
          ],
          [
           "Kerrostalo"
          ],
          [
           "Kerrostalo"
          ],
          [
           "Kerrostalo"
          ],
          [
           "Kerrostalo"
          ],
          [
           "Kerrostalo"
          ],
          [
           "Kerrostalo"
          ],
          [
           "Kerrostalo"
          ],
          [
           "Kerrostalo"
          ],
          [
           "Kerrostalo"
          ],
          [
           "Kerrostalo"
          ],
          [
           "Kerrostalo"
          ],
          [
           "Kerrostalo"
          ],
          [
           "Kerrostalo"
          ],
          [
           "Kerrostalo"
          ],
          [
           "Kerrostalo"
          ],
          [
           "Kerrostalo"
          ],
          [
           "Kerrostalo"
          ],
          [
           "Kerrostalo"
          ],
          [
           "Kerrostalo"
          ],
          [
           "Kerrostalo"
          ],
          [
           "Kerrostalo"
          ],
          [
           "Kerrostalo"
          ],
          [
           "Kerrostalo"
          ],
          [
           "Kerrostalo"
          ],
          [
           "Kerrostalo"
          ],
          [
           "Kerrostalo"
          ],
          [
           "Kerrostalo"
          ],
          [
           "Kerrostalo"
          ],
          [
           "Kerrostalo"
          ],
          [
           "Kerrostalo"
          ],
          [
           "Kerrostalo"
          ],
          [
           "Kerrostalo"
          ],
          [
           "Kerrostalo"
          ],
          [
           "Kerrostalo"
          ],
          [
           "Kerrostalo"
          ],
          [
           "Kerrostalo"
          ],
          [
           "Kerrostalo"
          ],
          [
           "Kerrostalo"
          ],
          [
           "Kerrostalo"
          ],
          [
           "Kerrostalo"
          ],
          [
           "Kerrostalo"
          ],
          [
           "Kerrostalo"
          ],
          [
           "Kerrostalo"
          ],
          [
           "Kerrostalo"
          ],
          [
           "Kerrostalo"
          ],
          [
           "Kerrostalo"
          ],
          [
           "Kerrostalo"
          ],
          [
           "Kerrostalo"
          ],
          [
           "Kerrostalo"
          ],
          [
           "Kerrostalo"
          ],
          [
           "Kerrostalo"
          ],
          [
           "Kerrostalo"
          ],
          [
           "Kerrostalo"
          ],
          [
           "Kerrostalo"
          ],
          [
           "Kerrostalo"
          ],
          [
           "Kerrostalo"
          ],
          [
           "Kerrostalo"
          ],
          [
           "Kerrostalo"
          ],
          [
           "Kerrostalo"
          ],
          [
           "Kerrostalo"
          ],
          [
           "Kerrostalo"
          ],
          [
           "Kerrostalo"
          ],
          [
           "Kerrostalo"
          ],
          [
           "Kerrostalo"
          ],
          [
           "Kerrostalo"
          ],
          [
           "Kerrostalo"
          ],
          [
           "Kerrostalo"
          ],
          [
           "Kerrostalo"
          ],
          [
           "Kerrostalo"
          ],
          [
           "Kerrostalo"
          ],
          [
           "Kerrostalo"
          ],
          [
           "Kerrostalo"
          ],
          [
           "Kerrostalo"
          ],
          [
           "Kerrostalo"
          ],
          [
           "Kerrostalo"
          ],
          [
           "Kerrostalo"
          ],
          [
           "Kerrostalo"
          ],
          [
           "Kerrostalo"
          ],
          [
           "Kerrostalo"
          ],
          [
           "Kerrostalo"
          ],
          [
           "Kerrostalo"
          ],
          [
           "Kerrostalo"
          ],
          [
           "Kerrostalo"
          ],
          [
           "Kerrostalo"
          ],
          [
           "Kerrostalo"
          ],
          [
           "Kerrostalo"
          ],
          [
           "Kerrostalo"
          ],
          [
           "Kerrostalo"
          ],
          [
           "Kerrostalo"
          ],
          [
           "Kerrostalo"
          ],
          [
           "Kerrostalo"
          ],
          [
           "Kerrostalo"
          ],
          [
           "Kerrostalo"
          ],
          [
           "Kerrostalo"
          ],
          [
           "Kerrostalo"
          ],
          [
           "Kerrostalo"
          ],
          [
           "Kerrostalo"
          ],
          [
           "Kerrostalo"
          ],
          [
           "Kerrostalo"
          ],
          [
           "Kerrostalo"
          ],
          [
           "Kerrostalo"
          ],
          [
           "Kerrostalo"
          ],
          [
           "Kerrostalo"
          ],
          [
           "Kerrostalo"
          ],
          [
           "Kerrostalo"
          ],
          [
           "Kerrostalo"
          ],
          [
           "Kerrostalo"
          ],
          [
           "Kerrostalo"
          ],
          [
           "Kerrostalo"
          ],
          [
           "Kerrostalo"
          ],
          [
           "Kerrostalo"
          ],
          [
           "Kerrostalo"
          ],
          [
           "Kerrostalo"
          ],
          [
           "Kerrostalo"
          ],
          [
           "Kerrostalo"
          ],
          [
           "Kerrostalo"
          ],
          [
           "Kerrostalo"
          ],
          [
           "Kerrostalo"
          ],
          [
           "Kerrostalo"
          ],
          [
           "Kerrostalo"
          ],
          [
           "Kerrostalo"
          ],
          [
           "Kerrostalo"
          ],
          [
           "Kerrostalo"
          ],
          [
           "Kerrostalo"
          ],
          [
           "Kerrostalo"
          ],
          [
           "Kerrostalo"
          ],
          [
           "Kerrostalo"
          ],
          [
           "Kerrostalo"
          ],
          [
           "Kerrostalo"
          ],
          [
           "Kerrostalo"
          ],
          [
           "Kerrostalo"
          ],
          [
           "Kerrostalo"
          ],
          [
           "Kerrostalo"
          ],
          [
           "Kerrostalo"
          ],
          [
           "Kerrostalo"
          ],
          [
           "Kerrostalo"
          ],
          [
           "Kerrostalo"
          ],
          [
           "Kerrostalo"
          ],
          [
           "Kerrostalo"
          ],
          [
           "Kerrostalo"
          ],
          [
           "Kerrostalo"
          ],
          [
           "Kerrostalo"
          ],
          [
           "Kerrostalo"
          ],
          [
           "Kerrostalo"
          ],
          [
           "Kerrostalo"
          ],
          [
           "Kerrostalo"
          ],
          [
           "Kerrostalo"
          ],
          [
           "Kerrostalo"
          ],
          [
           "Kerrostalo"
          ],
          [
           "Kerrostalo"
          ],
          [
           "Kerrostalo"
          ],
          [
           "Kerrostalo"
          ],
          [
           "Kerrostalo"
          ],
          [
           "Kerrostalo"
          ],
          [
           "Kerrostalo"
          ],
          [
           "Kerrostalo"
          ],
          [
           "Kerrostalo"
          ],
          [
           "Kerrostalo"
          ],
          [
           "Kerrostalo"
          ],
          [
           "Kerrostalo"
          ],
          [
           "Kerrostalo"
          ],
          [
           "Kerrostalo"
          ],
          [
           "Kerrostalo"
          ],
          [
           "Kerrostalo"
          ],
          [
           "Kerrostalo"
          ],
          [
           "Kerrostalo"
          ],
          [
           "Kerrostalo"
          ],
          [
           "Kerrostalo"
          ],
          [
           "Kerrostalo"
          ],
          [
           "Kerrostalo"
          ],
          [
           "Kerrostalo"
          ],
          [
           "Kerrostalo"
          ],
          [
           "Kerrostalo"
          ],
          [
           "Kerrostalo"
          ],
          [
           "Kerrostalo"
          ],
          [
           "Kerrostalo"
          ],
          [
           "Kerrostalo"
          ],
          [
           "Kerrostalo"
          ],
          [
           "Kerrostalo"
          ],
          [
           "Kerrostalo"
          ],
          [
           "Kerrostalo"
          ],
          [
           "Kerrostalo"
          ],
          [
           "Kerrostalo"
          ],
          [
           "Kerrostalo"
          ],
          [
           "Kerrostalo"
          ],
          [
           "Kerrostalo"
          ],
          [
           "Kerrostalo"
          ],
          [
           "Kerrostalo"
          ],
          [
           "Kerrostalo"
          ],
          [
           "Kerrostalo"
          ],
          [
           "Kerrostalo"
          ],
          [
           "Kerrostalo"
          ],
          [
           "Kerrostalo"
          ],
          [
           "Kerrostalo"
          ],
          [
           "Kerrostalo"
          ],
          [
           "Kerrostalo"
          ],
          [
           "Kerrostalo"
          ],
          [
           "Kerrostalo"
          ],
          [
           "Kerrostalo"
          ],
          [
           "Kerrostalo"
          ],
          [
           "Kerrostalo"
          ],
          [
           "Kerrostalo"
          ],
          [
           "Kerrostalo"
          ],
          [
           "Kerrostalo"
          ],
          [
           "Kerrostalo"
          ],
          [
           "Kerrostalo"
          ],
          [
           "Kerrostalo"
          ],
          [
           "Kerrostalo"
          ],
          [
           "Kerrostalo"
          ],
          [
           "Kerrostalo"
          ],
          [
           "Kerrostalo"
          ],
          [
           "Kerrostalo"
          ],
          [
           "Kerrostalo"
          ],
          [
           "Kerrostalo"
          ],
          [
           "Kerrostalo"
          ],
          [
           "Kerrostalo"
          ],
          [
           "Kerrostalo"
          ],
          [
           "Kerrostalo"
          ],
          [
           "Kerrostalo"
          ],
          [
           "Kerrostalo"
          ],
          [
           "Kerrostalo"
          ],
          [
           "Kerrostalo"
          ],
          [
           "Kerrostalo"
          ],
          [
           "Kerrostalo"
          ],
          [
           "Kerrostalo"
          ],
          [
           "Kerrostalo"
          ],
          [
           "Kerrostalo"
          ],
          [
           "Kerrostalo"
          ],
          [
           "Kerrostalo"
          ],
          [
           "Kerrostalo"
          ],
          [
           "Kerrostalo"
          ],
          [
           "Kerrostalo"
          ],
          [
           "Kerrostalo"
          ],
          [
           "Kerrostalo"
          ],
          [
           "Kerrostalo"
          ],
          [
           "Kerrostalo"
          ],
          [
           "Kerrostalo"
          ],
          [
           "Kerrostalo"
          ],
          [
           "Kerrostalo"
          ],
          [
           "Kerrostalo"
          ],
          [
           "Kerrostalo"
          ],
          [
           "Kerrostalo"
          ],
          [
           "Kerrostalo"
          ],
          [
           "Kerrostalo"
          ],
          [
           "Kerrostalo"
          ],
          [
           "Kerrostalo"
          ],
          [
           "Kerrostalo"
          ],
          [
           "Kerrostalo"
          ],
          [
           "Kerrostalo"
          ],
          [
           "Kerrostalo"
          ],
          [
           "Kerrostalo"
          ],
          [
           "Kerrostalo"
          ],
          [
           "Kerrostalo"
          ],
          [
           "Kerrostalo"
          ],
          [
           "Kerrostalo"
          ],
          [
           "Kerrostalo"
          ],
          [
           "Kerrostalo"
          ],
          [
           "Kerrostalo"
          ],
          [
           "Kerrostalo"
          ],
          [
           "Kerrostalo"
          ],
          [
           "Kerrostalo"
          ],
          [
           "Kerrostalo"
          ],
          [
           "Kerrostalo"
          ],
          [
           "Kerrostalo"
          ],
          [
           "Kerrostalo"
          ],
          [
           "Kerrostalo"
          ],
          [
           "Kerrostalo"
          ],
          [
           "Kerrostalo"
          ],
          [
           "Kerrostalo"
          ],
          [
           "Kerrostalo"
          ],
          [
           "Kerrostalo"
          ],
          [
           "Kerrostalo"
          ],
          [
           "Kerrostalo"
          ],
          [
           "Kerrostalo"
          ],
          [
           "Kerrostalo"
          ],
          [
           "Kerrostalo"
          ],
          [
           "Kerrostalo"
          ],
          [
           "Kerrostalo"
          ],
          [
           "Kerrostalo"
          ],
          [
           "Kerrostalo"
          ],
          [
           "Kerrostalo"
          ],
          [
           "Kerrostalo"
          ],
          [
           "Kerrostalo"
          ],
          [
           "Kerrostalo"
          ],
          [
           "Kerrostalo"
          ],
          [
           "Kerrostalo"
          ],
          [
           "Kerrostalo"
          ],
          [
           "Kerrostalo"
          ],
          [
           "Kerrostalo"
          ],
          [
           "Kerrostalo"
          ],
          [
           "Kerrostalo"
          ],
          [
           "Kerrostalo"
          ],
          [
           "Kerrostalo"
          ],
          [
           "Kerrostalo"
          ],
          [
           "Kerrostalo"
          ],
          [
           "Kerrostalo"
          ],
          [
           "Kerrostalo"
          ],
          [
           "Kerrostalo"
          ],
          [
           "Kerrostalo"
          ],
          [
           "Kerrostalo"
          ],
          [
           "Kerrostalo"
          ],
          [
           "Kerrostalo"
          ],
          [
           "Kerrostalo"
          ],
          [
           "Kerrostalo"
          ],
          [
           "Kerrostalo"
          ],
          [
           "Kerrostalo"
          ],
          [
           "Kerrostalo"
          ],
          [
           "Kerrostalo"
          ],
          [
           "Kerrostalo"
          ],
          [
           "Kerrostalo"
          ],
          [
           "Kerrostalo"
          ],
          [
           "Kerrostalo"
          ],
          [
           "Kerrostalo"
          ],
          [
           "Kerrostalo"
          ],
          [
           "Kerrostalo"
          ],
          [
           "Kerrostalo"
          ],
          [
           "Kerrostalo"
          ],
          [
           "Kerrostalo"
          ],
          [
           "Kerrostalo"
          ],
          [
           "Kerrostalo"
          ],
          [
           "Kerrostalo"
          ],
          [
           "Kerrostalo"
          ],
          [
           "Kerrostalo"
          ],
          [
           "Kerrostalo"
          ],
          [
           "Kerrostalo"
          ],
          [
           "Kerrostalo"
          ],
          [
           "Kerrostalo"
          ],
          [
           "Kerrostalo"
          ],
          [
           "Kerrostalo"
          ],
          [
           "Kerrostalo"
          ],
          [
           "Kerrostalo"
          ],
          [
           "Kerrostalo"
          ],
          [
           "Kerrostalo"
          ],
          [
           "Kerrostalo"
          ],
          [
           "Kerrostalo"
          ],
          [
           "Kerrostalo"
          ],
          [
           "Kerrostalo"
          ],
          [
           "Kerrostalo"
          ],
          [
           "Kerrostalo"
          ],
          [
           "Kerrostalo"
          ],
          [
           "Kerrostalo"
          ],
          [
           "Kerrostalo"
          ],
          [
           "Kerrostalo"
          ],
          [
           "Kerrostalo"
          ],
          [
           "Kerrostalo"
          ],
          [
           "Kerrostalo"
          ],
          [
           "Kerrostalo"
          ],
          [
           "Kerrostalo"
          ],
          [
           "Kerrostalo"
          ],
          [
           "Kerrostalo"
          ],
          [
           "Kerrostalo"
          ],
          [
           "Kerrostalo"
          ],
          [
           "Kerrostalo"
          ],
          [
           "Kerrostalo"
          ],
          [
           "Kerrostalo"
          ],
          [
           "Kerrostalo"
          ],
          [
           "Kerrostalo"
          ],
          [
           "Kerrostalo"
          ],
          [
           "Kerrostalo"
          ],
          [
           "Kerrostalo"
          ],
          [
           "Kerrostalo"
          ],
          [
           "Kerrostalo"
          ],
          [
           "Kerrostalo"
          ],
          [
           "Kerrostalo"
          ],
          [
           "Kerrostalo"
          ],
          [
           "Kerrostalo"
          ],
          [
           "Kerrostalo"
          ],
          [
           "Kerrostalo"
          ],
          [
           "Kerrostalo"
          ],
          [
           "Kerrostalo"
          ],
          [
           "Kerrostalo"
          ],
          [
           "Kerrostalo"
          ],
          [
           "Kerrostalo"
          ],
          [
           "Kerrostalo"
          ],
          [
           "Kerrostalo"
          ],
          [
           "Kerrostalo"
          ],
          [
           "Kerrostalo"
          ],
          [
           "Kerrostalo"
          ],
          [
           "Kerrostalo"
          ],
          [
           "Kerrostalo"
          ],
          [
           "Kerrostalo"
          ],
          [
           "Kerrostalo"
          ],
          [
           "Kerrostalo"
          ],
          [
           "Kerrostalo"
          ],
          [
           "Kerrostalo"
          ],
          [
           "Kerrostalo"
          ],
          [
           "Kerrostalo"
          ],
          [
           "Kerrostalo"
          ],
          [
           "Kerrostalo"
          ],
          [
           "Kerrostalo"
          ],
          [
           "Kerrostalo"
          ],
          [
           "Kerrostalo"
          ],
          [
           "Kerrostalo"
          ],
          [
           "Kerrostalo"
          ],
          [
           "Kerrostalo"
          ],
          [
           "Kerrostalo"
          ],
          [
           "Kerrostalo"
          ],
          [
           "Kerrostalo"
          ],
          [
           "Kerrostalo"
          ],
          [
           "Kerrostalo"
          ],
          [
           "Kerrostalo"
          ],
          [
           "Kerrostalo"
          ],
          [
           "Kerrostalo"
          ],
          [
           "Kerrostalo"
          ],
          [
           "Kerrostalo"
          ],
          [
           "Kerrostalo"
          ],
          [
           "Kerrostalo"
          ],
          [
           "Kerrostalo"
          ],
          [
           "Kerrostalo"
          ],
          [
           "Kerrostalo"
          ],
          [
           "Kerrostalo"
          ],
          [
           "Kerrostalo"
          ],
          [
           "Kerrostalo"
          ],
          [
           "Kerrostalo"
          ],
          [
           "Kerrostalo"
          ],
          [
           "Kerrostalo"
          ],
          [
           "Kerrostalo"
          ],
          [
           "Kerrostalo"
          ],
          [
           "Kerrostalo"
          ],
          [
           "Kerrostalo"
          ],
          [
           "Kerrostalo"
          ],
          [
           "Kerrostalo"
          ],
          [
           "Kerrostalo"
          ],
          [
           "Kerrostalo"
          ],
          [
           "Kerrostalo"
          ],
          [
           "Kerrostalo"
          ],
          [
           "Kerrostalo"
          ],
          [
           "Kerrostalo"
          ],
          [
           "Kerrostalo"
          ],
          [
           "Kerrostalo"
          ],
          [
           "Kerrostalo"
          ],
          [
           "Kerrostalo"
          ],
          [
           "Kerrostalo"
          ],
          [
           "Kerrostalo"
          ],
          [
           "Kerrostalo"
          ],
          [
           "Kerrostalo"
          ],
          [
           "Kerrostalo"
          ],
          [
           "Kerrostalo"
          ],
          [
           "Kerrostalo"
          ],
          [
           "Kerrostalo"
          ],
          [
           "Kerrostalo"
          ],
          [
           "Kerrostalo"
          ],
          [
           "Kerrostalo"
          ],
          [
           "Kerrostalo"
          ],
          [
           "Kerrostalo"
          ],
          [
           "Kerrostalo"
          ],
          [
           "Kerrostalo"
          ],
          [
           "Kerrostalo"
          ],
          [
           "Kerrostalo"
          ],
          [
           "Kerrostalo"
          ],
          [
           "Kerrostalo"
          ],
          [
           "Kerrostalo"
          ],
          [
           "Kerrostalo"
          ],
          [
           "Kerrostalo"
          ],
          [
           "Kerrostalo"
          ],
          [
           "Kerrostalo"
          ],
          [
           "Kerrostalo"
          ],
          [
           "Kerrostalo"
          ],
          [
           "Kerrostalo"
          ],
          [
           "Kerrostalo"
          ],
          [
           "Kerrostalo"
          ],
          [
           "Kerrostalo"
          ],
          [
           "Kerrostalo"
          ],
          [
           "Kerrostalo"
          ],
          [
           "Kerrostalo"
          ],
          [
           "Kerrostalo"
          ],
          [
           "Kerrostalo"
          ],
          [
           "Kerrostalo"
          ],
          [
           "Kerrostalo"
          ],
          [
           "Kerrostalo"
          ],
          [
           "Kerrostalo"
          ],
          [
           "Kerrostalo"
          ],
          [
           "Kerrostalo"
          ],
          [
           "Kerrostalo"
          ],
          [
           "Kerrostalo"
          ],
          [
           "Kerrostalo"
          ],
          [
           "Kerrostalo"
          ],
          [
           "Kerrostalo"
          ],
          [
           "Kerrostalo"
          ],
          [
           "Kerrostalo"
          ],
          [
           "Kerrostalo"
          ],
          [
           "Kerrostalo"
          ],
          [
           "Kerrostalo"
          ],
          [
           "Kerrostalo"
          ],
          [
           "Kerrostalo"
          ],
          [
           "Kerrostalo"
          ],
          [
           "Kerrostalo"
          ],
          [
           "Kerrostalo"
          ],
          [
           "Kerrostalo"
          ],
          [
           "Kerrostalo"
          ],
          [
           "Kerrostalo"
          ],
          [
           "Kerrostalo"
          ],
          [
           "Kerrostalo"
          ],
          [
           "Kerrostalo"
          ],
          [
           "Kerrostalo"
          ],
          [
           "Kerrostalo"
          ],
          [
           "Kerrostalo"
          ],
          [
           "Kerrostalo"
          ],
          [
           "Kerrostalo"
          ],
          [
           "Kerrostalo"
          ],
          [
           "Kerrostalo"
          ],
          [
           "Kerrostalo"
          ],
          [
           "Kerrostalo"
          ],
          [
           "Kerrostalo"
          ],
          [
           "Kerrostalo"
          ],
          [
           "Kerrostalo"
          ],
          [
           "Kerrostalo"
          ],
          [
           "Kerrostalo"
          ],
          [
           "Kerrostalo"
          ],
          [
           "Kerrostalo"
          ],
          [
           "Kerrostalo"
          ],
          [
           "Kerrostalo"
          ],
          [
           "Kerrostalo"
          ],
          [
           "Kerrostalo"
          ],
          [
           "Kerrostalo"
          ],
          [
           "Kerrostalo"
          ],
          [
           "Kerrostalo"
          ],
          [
           "Kerrostalo"
          ],
          [
           "Kerrostalo"
          ],
          [
           "Kerrostalo"
          ],
          [
           "Kerrostalo"
          ],
          [
           "Kerrostalo"
          ],
          [
           "Kerrostalo"
          ],
          [
           "Kerrostalo"
          ],
          [
           "Kerrostalo"
          ],
          [
           "Kerrostalo"
          ],
          [
           "Kerrostalo"
          ],
          [
           "Kerrostalo"
          ],
          [
           "Kerrostalo"
          ],
          [
           "Kerrostalo"
          ],
          [
           "Kerrostalo"
          ],
          [
           "Kerrostalo"
          ],
          [
           "Kerrostalo"
          ],
          [
           "Kerrostalo"
          ],
          [
           "Kerrostalo"
          ],
          [
           "Kerrostalo"
          ],
          [
           "Kerrostalo"
          ],
          [
           "Kerrostalo"
          ],
          [
           "Kerrostalo"
          ],
          [
           "Kerrostalo"
          ],
          [
           "Kerrostalo"
          ],
          [
           "Kerrostalo"
          ],
          [
           "Kerrostalo"
          ],
          [
           "Kerrostalo"
          ],
          [
           "Kerrostalo"
          ],
          [
           "Kerrostalo"
          ],
          [
           "Kerrostalo"
          ],
          [
           "Kerrostalo"
          ],
          [
           "Kerrostalo"
          ],
          [
           "Kerrostalo"
          ],
          [
           "Kerrostalo"
          ],
          [
           "Kerrostalo"
          ],
          [
           "Kerrostalo"
          ],
          [
           "Kerrostalo"
          ],
          [
           "Kerrostalo"
          ],
          [
           "Kerrostalo"
          ],
          [
           "Kerrostalo"
          ],
          [
           "Kerrostalo"
          ],
          [
           "Kerrostalo"
          ],
          [
           "Kerrostalo"
          ],
          [
           "Kerrostalo"
          ],
          [
           "Kerrostalo"
          ],
          [
           "Kerrostalo"
          ],
          [
           "Kerrostalo"
          ],
          [
           "Kerrostalo"
          ],
          [
           "Kerrostalo"
          ],
          [
           "Kerrostalo"
          ],
          [
           "Kerrostalo"
          ],
          [
           "Kerrostalo"
          ],
          [
           "Kerrostalo"
          ],
          [
           "Kerrostalo"
          ],
          [
           "Kerrostalo"
          ],
          [
           "Kerrostalo"
          ],
          [
           "Kerrostalo"
          ],
          [
           "Kerrostalo"
          ],
          [
           "Kerrostalo"
          ],
          [
           "Kerrostalo"
          ],
          [
           "Kerrostalo"
          ],
          [
           "Kerrostalo"
          ],
          [
           "Kerrostalo"
          ],
          [
           "Kerrostalo"
          ],
          [
           "Kerrostalo"
          ],
          [
           "Kerrostalo"
          ],
          [
           "Kerrostalo"
          ],
          [
           "Kerrostalo"
          ],
          [
           "Kerrostalo"
          ],
          [
           "Kerrostalo"
          ],
          [
           "Kerrostalo"
          ],
          [
           "Kerrostalo"
          ],
          [
           "Kerrostalo"
          ],
          [
           "Kerrostalo"
          ],
          [
           "Kerrostalo"
          ],
          [
           "Kerrostalo"
          ],
          [
           "Kerrostalo"
          ],
          [
           "Kerrostalo"
          ],
          [
           "Kerrostalo"
          ],
          [
           "Kerrostalo"
          ],
          [
           "Kerrostalo"
          ],
          [
           "Kerrostalo"
          ],
          [
           "Kerrostalo"
          ],
          [
           "Kerrostalo"
          ],
          [
           "Kerrostalo"
          ],
          [
           "Kerrostalo"
          ],
          [
           "Kerrostalo"
          ],
          [
           "Kerrostalo"
          ],
          [
           "Kerrostalo"
          ],
          [
           "Kerrostalo"
          ],
          [
           "Kerrostalo"
          ],
          [
           "Kerrostalo"
          ],
          [
           "Kerrostalo"
          ],
          [
           "Kerrostalo"
          ],
          [
           "Kerrostalo"
          ],
          [
           "Kerrostalo"
          ],
          [
           "Kerrostalo"
          ],
          [
           "Kerrostalo"
          ],
          [
           "Kerrostalo"
          ],
          [
           "Kerrostalo"
          ],
          [
           "Kerrostalo"
          ],
          [
           "Kerrostalo"
          ],
          [
           "Kerrostalo"
          ],
          [
           "Kerrostalo"
          ],
          [
           "Kerrostalo"
          ],
          [
           "Kerrostalo"
          ],
          [
           "Kerrostalo"
          ],
          [
           "Kerrostalo"
          ],
          [
           "Kerrostalo"
          ],
          [
           "Kerrostalo"
          ],
          [
           "Kerrostalo"
          ],
          [
           "Kerrostalo"
          ],
          [
           "Kerrostalo"
          ],
          [
           "Kerrostalo"
          ],
          [
           "Kerrostalo"
          ],
          [
           "Kerrostalo"
          ],
          [
           "Kerrostalo"
          ],
          [
           "Kerrostalo"
          ],
          [
           "Kerrostalo"
          ],
          [
           "Kerrostalo"
          ],
          [
           "Kerrostalo"
          ],
          [
           "Kerrostalo"
          ],
          [
           "Kerrostalo"
          ],
          [
           "Kerrostalo"
          ],
          [
           "Kerrostalo"
          ],
          [
           "Kerrostalo"
          ],
          [
           "Kerrostalo"
          ],
          [
           "Kerrostalo"
          ],
          [
           "Kerrostalo"
          ],
          [
           "Kerrostalo"
          ],
          [
           "Kerrostalo"
          ],
          [
           "Kerrostalo"
          ],
          [
           "Kerrostalo"
          ],
          [
           "Kerrostalo"
          ],
          [
           "Kerrostalo"
          ],
          [
           "Kerrostalo"
          ],
          [
           "Kerrostalo"
          ],
          [
           "Kerrostalo"
          ],
          [
           "Kerrostalo"
          ],
          [
           "Kerrostalo"
          ],
          [
           "Kerrostalo"
          ],
          [
           "Kerrostalo"
          ],
          [
           "Kerrostalo"
          ],
          [
           "Kerrostalo"
          ],
          [
           "Kerrostalo"
          ],
          [
           "Kerrostalo"
          ],
          [
           "Kerrostalo"
          ],
          [
           "Kerrostalo"
          ],
          [
           "Kerrostalo"
          ],
          [
           "Kerrostalo"
          ],
          [
           "Kerrostalo"
          ],
          [
           "Kerrostalo"
          ],
          [
           "Kerrostalo"
          ],
          [
           "Kerrostalo"
          ],
          [
           "Kerrostalo"
          ],
          [
           "Kerrostalo"
          ],
          [
           "Kerrostalo"
          ],
          [
           "Kerrostalo"
          ],
          [
           "Kerrostalo"
          ],
          [
           "Kerrostalo"
          ],
          [
           "Kerrostalo"
          ],
          [
           "Kerrostalo"
          ],
          [
           "Kerrostalo"
          ],
          [
           "Kerrostalo"
          ],
          [
           "Kerrostalo"
          ],
          [
           "Kerrostalo"
          ],
          [
           "Kerrostalo"
          ],
          [
           "Kerrostalo"
          ],
          [
           "Kerrostalo"
          ],
          [
           "Kerrostalo"
          ],
          [
           "Kerrostalo"
          ],
          [
           "Kerrostalo"
          ],
          [
           "Kerrostalo"
          ],
          [
           "Kerrostalo"
          ],
          [
           "Kerrostalo"
          ],
          [
           "Kerrostalo"
          ],
          [
           "Kerrostalo"
          ],
          [
           "Kerrostalo"
          ],
          [
           "Kerrostalo"
          ],
          [
           "Kerrostalo"
          ],
          [
           "Kerrostalo"
          ],
          [
           "Kerrostalo"
          ],
          [
           "Kerrostalo"
          ],
          [
           "Kerrostalo"
          ],
          [
           "Kerrostalo"
          ],
          [
           "Kerrostalo"
          ],
          [
           "Kerrostalo"
          ],
          [
           "Kerrostalo"
          ],
          [
           "Kerrostalo"
          ],
          [
           "Kerrostalo"
          ],
          [
           "Kerrostalo"
          ],
          [
           "Kerrostalo"
          ],
          [
           "Kerrostalo"
          ],
          [
           "Kerrostalo"
          ],
          [
           "Kerrostalo"
          ],
          [
           "Kerrostalo"
          ],
          [
           "Kerrostalo"
          ],
          [
           "Kerrostalo"
          ],
          [
           "Kerrostalo"
          ],
          [
           "Kerrostalo"
          ],
          [
           "Kerrostalo"
          ],
          [
           "Kerrostalo"
          ],
          [
           "Kerrostalo"
          ],
          [
           "Kerrostalo"
          ],
          [
           "Kerrostalo"
          ],
          [
           "Kerrostalo"
          ],
          [
           "Kerrostalo"
          ],
          [
           "Kerrostalo"
          ],
          [
           "Kerrostalo"
          ],
          [
           "Kerrostalo"
          ],
          [
           "Kerrostalo"
          ],
          [
           "Kerrostalo"
          ],
          [
           "Kerrostalo"
          ],
          [
           "Kerrostalo"
          ],
          [
           "Kerrostalo"
          ],
          [
           "Kerrostalo"
          ],
          [
           "Kerrostalo"
          ],
          [
           "Kerrostalo"
          ],
          [
           "Kerrostalo"
          ],
          [
           "Kerrostalo"
          ],
          [
           "Kerrostalo"
          ],
          [
           "Kerrostalo"
          ],
          [
           "Kerrostalo"
          ],
          [
           "Kerrostalo"
          ],
          [
           "Kerrostalo"
          ],
          [
           "Kerrostalo"
          ],
          [
           "Kerrostalo"
          ],
          [
           "Kerrostalo"
          ],
          [
           "Kerrostalo"
          ],
          [
           "Kerrostalo"
          ],
          [
           "Kerrostalo"
          ],
          [
           "Kerrostalo"
          ],
          [
           "Kerrostalo"
          ],
          [
           "Kerrostalo"
          ],
          [
           "Kerrostalo"
          ],
          [
           "Kerrostalo"
          ],
          [
           "Kerrostalo"
          ],
          [
           "Kerrostalo"
          ],
          [
           "Kerrostalo"
          ],
          [
           "Kerrostalo"
          ],
          [
           "Kerrostalo"
          ],
          [
           "Kerrostalo"
          ],
          [
           "Kerrostalo"
          ],
          [
           "Kerrostalo"
          ],
          [
           "Kerrostalo"
          ],
          [
           "Kerrostalo"
          ],
          [
           "Kerrostalo"
          ],
          [
           "Kerrostalo"
          ],
          [
           "Kerrostalo"
          ],
          [
           "Kerrostalo"
          ],
          [
           "Kerrostalo"
          ],
          [
           "Kerrostalo"
          ],
          [
           "Kerrostalo"
          ],
          [
           "Kerrostalo"
          ],
          [
           "Kerrostalo"
          ],
          [
           "Kerrostalo"
          ],
          [
           "Kerrostalo"
          ],
          [
           "Kerrostalo"
          ],
          [
           "Kerrostalo"
          ],
          [
           "Kerrostalo"
          ],
          [
           "Kerrostalo"
          ],
          [
           "Kerrostalo"
          ],
          [
           "Kerrostalo"
          ],
          [
           "Kerrostalo"
          ],
          [
           "Kerrostalo"
          ],
          [
           "Kerrostalo"
          ],
          [
           "Kerrostalo"
          ],
          [
           "Kerrostalo"
          ],
          [
           "Kerrostalo"
          ],
          [
           "Kerrostalo"
          ],
          [
           "Kerrostalo"
          ],
          [
           "Kerrostalo"
          ],
          [
           "Kerrostalo"
          ],
          [
           "Kerrostalo"
          ],
          [
           "Kerrostalo"
          ],
          [
           "Kerrostalo"
          ],
          [
           "Kerrostalo"
          ],
          [
           "Kerrostalo"
          ],
          [
           "Kerrostalo"
          ],
          [
           "Kerrostalo"
          ],
          [
           "Kerrostalo"
          ],
          [
           "Kerrostalo"
          ],
          [
           "Kerrostalo"
          ],
          [
           "Kerrostalo"
          ],
          [
           "Kerrostalo"
          ],
          [
           "Kerrostalo"
          ],
          [
           "Kerrostalo"
          ],
          [
           "Kerrostalo"
          ],
          [
           "Kerrostalo"
          ],
          [
           "Kerrostalo"
          ],
          [
           "Kerrostalo"
          ],
          [
           "Kerrostalo"
          ],
          [
           "Kerrostalo"
          ],
          [
           "Kerrostalo"
          ],
          [
           "Kerrostalo"
          ],
          [
           "Kerrostalo"
          ],
          [
           "Kerrostalo"
          ],
          [
           "Kerrostalo"
          ],
          [
           "Kerrostalo"
          ],
          [
           "Kerrostalo"
          ],
          [
           "Kerrostalo"
          ],
          [
           "Kerrostalo"
          ],
          [
           "Kerrostalo"
          ],
          [
           "Kerrostalo"
          ],
          [
           "Kerrostalo"
          ],
          [
           "Kerrostalo"
          ],
          [
           "Kerrostalo"
          ],
          [
           "Kerrostalo"
          ],
          [
           "Kerrostalo"
          ],
          [
           "Kerrostalo"
          ],
          [
           "Kerrostalo"
          ],
          [
           "Kerrostalo"
          ],
          [
           "Kerrostalo"
          ],
          [
           "Kerrostalo"
          ],
          [
           "Kerrostalo"
          ],
          [
           "Kerrostalo"
          ],
          [
           "Kerrostalo"
          ],
          [
           "Kerrostalo"
          ],
          [
           "Kerrostalo"
          ],
          [
           "Kerrostalo"
          ],
          [
           "Kerrostalo"
          ],
          [
           "Kerrostalo"
          ],
          [
           "Kerrostalo"
          ],
          [
           "Kerrostalo"
          ],
          [
           "Kerrostalo"
          ],
          [
           "Kerrostalo"
          ],
          [
           "Kerrostalo"
          ],
          [
           "Kerrostalo"
          ],
          [
           "Kerrostalo"
          ],
          [
           "Kerrostalo"
          ],
          [
           "Kerrostalo"
          ],
          [
           "Kerrostalo"
          ],
          [
           "Kerrostalo"
          ],
          [
           "Kerrostalo"
          ],
          [
           "Kerrostalo"
          ],
          [
           "Kerrostalo"
          ],
          [
           "Kerrostalo"
          ],
          [
           "Kerrostalo"
          ],
          [
           "Kerrostalo"
          ],
          [
           "Kerrostalo"
          ],
          [
           "Kerrostalo"
          ],
          [
           "Kerrostalo"
          ],
          [
           "Kerrostalo"
          ],
          [
           "Kerrostalo"
          ],
          [
           "Kerrostalo"
          ],
          [
           "Kerrostalo"
          ],
          [
           "Kerrostalo"
          ],
          [
           "Kerrostalo"
          ],
          [
           "Kerrostalo"
          ],
          [
           "Kerrostalo"
          ],
          [
           "Kerrostalo"
          ],
          [
           "Kerrostalo"
          ],
          [
           "Kerrostalo"
          ],
          [
           "Kerrostalo"
          ],
          [
           "Kerrostalo"
          ],
          [
           "Kerrostalo"
          ],
          [
           "Kerrostalo"
          ],
          [
           "Kerrostalo"
          ],
          [
           "Kerrostalo"
          ],
          [
           "Kerrostalo"
          ],
          [
           "Kerrostalo"
          ],
          [
           "Kerrostalo"
          ],
          [
           "Kerrostalo"
          ],
          [
           "Kerrostalo"
          ],
          [
           "Kerrostalo"
          ],
          [
           "Kerrostalo"
          ],
          [
           "Kerrostalo"
          ],
          [
           "Kerrostalo"
          ],
          [
           "Kerrostalo"
          ],
          [
           "Kerrostalo"
          ],
          [
           "Kerrostalo"
          ],
          [
           "Kerrostalo"
          ],
          [
           "Kerrostalo"
          ],
          [
           "Kerrostalo"
          ],
          [
           "Kerrostalo"
          ],
          [
           "Kerrostalo"
          ],
          [
           "Kerrostalo"
          ],
          [
           "Kerrostalo"
          ],
          [
           "Kerrostalo"
          ],
          [
           "Kerrostalo"
          ],
          [
           "Kerrostalo"
          ],
          [
           "Kerrostalo"
          ],
          [
           "Kerrostalo"
          ],
          [
           "Kerrostalo"
          ],
          [
           "Kerrostalo"
          ],
          [
           "Kerrostalo"
          ],
          [
           "Kerrostalo"
          ],
          [
           "Kerrostalo"
          ],
          [
           "Kerrostalo"
          ],
          [
           "Kerrostalo"
          ],
          [
           "Kerrostalo"
          ],
          [
           "Kerrostalo"
          ],
          [
           "Kerrostalo"
          ],
          [
           "Kerrostalo"
          ],
          [
           "Kerrostalo"
          ],
          [
           "Kerrostalo"
          ],
          [
           "Kerrostalo"
          ],
          [
           "Kerrostalo"
          ],
          [
           "Kerrostalo"
          ],
          [
           "Kerrostalo"
          ],
          [
           "Kerrostalo"
          ],
          [
           "Kerrostalo"
          ],
          [
           "Kerrostalo"
          ],
          [
           "Kerrostalo"
          ],
          [
           "Kerrostalo"
          ],
          [
           "Kerrostalo"
          ],
          [
           "Kerrostalo"
          ],
          [
           "Kerrostalo"
          ],
          [
           "Kerrostalo"
          ],
          [
           "Kerrostalo"
          ],
          [
           "Kerrostalo"
          ],
          [
           "Kerrostalo"
          ],
          [
           "Kerrostalo"
          ],
          [
           "Kerrostalo"
          ],
          [
           "Kerrostalo"
          ],
          [
           "Kerrostalo"
          ],
          [
           "Kerrostalo"
          ],
          [
           "Kerrostalo"
          ],
          [
           "Kerrostalo"
          ],
          [
           "Kerrostalo"
          ],
          [
           "Kerrostalo"
          ],
          [
           "Kerrostalo"
          ],
          [
           "Kerrostalo"
          ],
          [
           "Kerrostalo"
          ],
          [
           "Kerrostalo"
          ],
          [
           "Kerrostalo"
          ],
          [
           "Kerrostalo"
          ],
          [
           "Kerrostalo"
          ],
          [
           "Kerrostalo"
          ],
          [
           "Kerrostalo"
          ],
          [
           "Kerrostalo"
          ],
          [
           "Kerrostalo"
          ],
          [
           "Kerrostalo"
          ],
          [
           "Kerrostalo"
          ],
          [
           "Kerrostalo"
          ],
          [
           "Kerrostalo"
          ],
          [
           "Kerrostalo"
          ],
          [
           "Kerrostalo"
          ],
          [
           "Kerrostalo"
          ],
          [
           "Kerrostalo"
          ],
          [
           "Kerrostalo"
          ],
          [
           "Kerrostalo"
          ],
          [
           "Kerrostalo"
          ],
          [
           "Kerrostalo"
          ],
          [
           "Kerrostalo"
          ],
          [
           "Kerrostalo"
          ],
          [
           "Kerrostalo"
          ],
          [
           "Kerrostalo"
          ],
          [
           "Kerrostalo"
          ],
          [
           "Kerrostalo"
          ],
          [
           "Kerrostalo"
          ],
          [
           "Kerrostalo"
          ],
          [
           "Kerrostalo"
          ],
          [
           "Kerrostalo"
          ],
          [
           "Kerrostalo"
          ],
          [
           "Kerrostalo"
          ],
          [
           "Kerrostalo"
          ],
          [
           "Kerrostalo"
          ],
          [
           "Kerrostalo"
          ],
          [
           "Kerrostalo"
          ],
          [
           "Kerrostalo"
          ],
          [
           "Kerrostalo"
          ],
          [
           "Kerrostalo"
          ],
          [
           "Kerrostalo"
          ],
          [
           "Kerrostalo"
          ],
          [
           "Kerrostalo"
          ],
          [
           "Kerrostalo"
          ],
          [
           "Kerrostalo"
          ],
          [
           "Kerrostalo"
          ],
          [
           "Kerrostalo"
          ],
          [
           "Kerrostalo"
          ],
          [
           "Kerrostalo"
          ],
          [
           "Kerrostalo"
          ],
          [
           "Kerrostalo"
          ],
          [
           "Kerrostalo"
          ],
          [
           "Kerrostalo"
          ],
          [
           "Kerrostalo"
          ],
          [
           "Kerrostalo"
          ],
          [
           "Kerrostalo"
          ],
          [
           "Kerrostalo"
          ],
          [
           "Kerrostalo"
          ],
          [
           "Kerrostalo"
          ],
          [
           "Kerrostalo"
          ],
          [
           "Kerrostalo"
          ],
          [
           "Kerrostalo"
          ],
          [
           "Kerrostalo"
          ],
          [
           "Kerrostalo"
          ],
          [
           "Kerrostalo"
          ],
          [
           "Kerrostalo"
          ],
          [
           "Kerrostalo"
          ],
          [
           "Kerrostalo"
          ],
          [
           "Kerrostalo"
          ],
          [
           "Kerrostalo"
          ],
          [
           "Kerrostalo"
          ],
          [
           "Kerrostalo"
          ],
          [
           "Kerrostalo"
          ],
          [
           "Kerrostalo"
          ],
          [
           "Kerrostalo"
          ],
          [
           "Kerrostalo"
          ],
          [
           "Kerrostalo"
          ],
          [
           "Kerrostalo"
          ],
          [
           "Kerrostalo"
          ],
          [
           "Kerrostalo"
          ],
          [
           "Kerrostalo"
          ],
          [
           "Kerrostalo"
          ],
          [
           "Kerrostalo"
          ],
          [
           "Kerrostalo"
          ],
          [
           "Kerrostalo"
          ],
          [
           "Kerrostalo"
          ],
          [
           "Kerrostalo"
          ],
          [
           "Kerrostalo"
          ],
          [
           "Kerrostalo"
          ],
          [
           "Kerrostalo"
          ],
          [
           "Kerrostalo"
          ],
          [
           "Kerrostalo"
          ],
          [
           "Kerrostalo"
          ],
          [
           "Kerrostalo"
          ],
          [
           "Kerrostalo"
          ],
          [
           "Kerrostalo"
          ],
          [
           "Kerrostalo"
          ],
          [
           "Kerrostalo"
          ],
          [
           "Kerrostalo"
          ],
          [
           "Kerrostalo"
          ],
          [
           "Kerrostalo"
          ],
          [
           "Kerrostalo"
          ],
          [
           "Kerrostalo"
          ],
          [
           "Kerrostalo"
          ],
          [
           "Kerrostalo"
          ],
          [
           "Kerrostalo"
          ],
          [
           "Kerrostalo"
          ],
          [
           "Kerrostalo"
          ],
          [
           "Kerrostalo"
          ],
          [
           "Kerrostalo"
          ],
          [
           "Kerrostalo"
          ],
          [
           "Kerrostalo"
          ],
          [
           "Kerrostalo"
          ],
          [
           "Kerrostalo"
          ],
          [
           "Kerrostalo"
          ],
          [
           "Kerrostalo"
          ],
          [
           "Kerrostalo"
          ],
          [
           "Kerrostalo"
          ],
          [
           "Kerrostalo"
          ],
          [
           "Kerrostalo"
          ],
          [
           "Kerrostalo"
          ],
          [
           "Kerrostalo"
          ],
          [
           "Kerrostalo"
          ],
          [
           "Kerrostalo"
          ],
          [
           "Kerrostalo"
          ],
          [
           "Kerrostalo"
          ],
          [
           "Kerrostalo"
          ],
          [
           "Kerrostalo"
          ],
          [
           "Kerrostalo"
          ],
          [
           "Kerrostalo"
          ],
          [
           "Kerrostalo"
          ],
          [
           "Kerrostalo"
          ],
          [
           "Kerrostalo"
          ],
          [
           "Kerrostalo"
          ],
          [
           "Kerrostalo"
          ],
          [
           "Kerrostalo"
          ],
          [
           "Kerrostalo"
          ],
          [
           "Kerrostalo"
          ],
          [
           "Kerrostalo"
          ],
          [
           "Kerrostalo"
          ],
          [
           "Kerrostalo"
          ],
          [
           "Kerrostalo"
          ],
          [
           "Kerrostalo"
          ],
          [
           "Kerrostalo"
          ],
          [
           "Kerrostalo"
          ],
          [
           "Kerrostalo"
          ],
          [
           "Kerrostalo"
          ],
          [
           "Kerrostalo"
          ],
          [
           "Kerrostalo"
          ],
          [
           "Kerrostalo"
          ],
          [
           "Kerrostalo"
          ],
          [
           "Kerrostalo"
          ],
          [
           "Kerrostalo"
          ],
          [
           "Kerrostalo"
          ],
          [
           "Kerrostalo"
          ],
          [
           "Kerrostalo"
          ],
          [
           "Kerrostalo"
          ],
          [
           "Kerrostalo"
          ],
          [
           "Kerrostalo"
          ],
          [
           "Kerrostalo"
          ],
          [
           "Kerrostalo"
          ],
          [
           "Kerrostalo"
          ],
          [
           "Kerrostalo"
          ],
          [
           "Kerrostalo"
          ],
          [
           "Kerrostalo"
          ],
          [
           "Kerrostalo"
          ],
          [
           "Kerrostalo"
          ],
          [
           "Kerrostalo"
          ],
          [
           "Kerrostalo"
          ],
          [
           "Kerrostalo"
          ],
          [
           "Kerrostalo"
          ],
          [
           "Kerrostalo"
          ],
          [
           "Kerrostalo"
          ],
          [
           "Kerrostalo"
          ],
          [
           "Kerrostalo"
          ],
          [
           "Kerrostalo"
          ],
          [
           "Kerrostalo"
          ],
          [
           "Kerrostalo"
          ],
          [
           "Kerrostalo"
          ],
          [
           "Kerrostalo"
          ],
          [
           "Kerrostalo"
          ],
          [
           "Kerrostalo"
          ],
          [
           "Kerrostalo"
          ],
          [
           "Kerrostalo"
          ],
          [
           "Kerrostalo"
          ],
          [
           "Kerrostalo"
          ],
          [
           "Kerrostalo"
          ],
          [
           "Kerrostalo"
          ],
          [
           "Kerrostalo"
          ],
          [
           "Kerrostalo"
          ],
          [
           "Kerrostalo"
          ],
          [
           "Kerrostalo"
          ],
          [
           "Kerrostalo"
          ],
          [
           "Kerrostalo"
          ],
          [
           "Kerrostalo"
          ],
          [
           "Kerrostalo"
          ],
          [
           "Kerrostalo"
          ],
          [
           "Kerrostalo"
          ],
          [
           "Kerrostalo"
          ],
          [
           "Kerrostalo"
          ],
          [
           "Kerrostalo"
          ],
          [
           "Kerrostalo"
          ],
          [
           "Kerrostalo"
          ],
          [
           "Kerrostalo"
          ],
          [
           "Kerrostalo"
          ],
          [
           "Kerrostalo"
          ],
          [
           "Kerrostalo"
          ],
          [
           "Kerrostalo"
          ],
          [
           "Kerrostalo"
          ],
          [
           "Kerrostalo"
          ],
          [
           "Kerrostalo"
          ],
          [
           "Kerrostalo"
          ],
          [
           "Kerrostalo"
          ],
          [
           "Kerrostalo"
          ],
          [
           "Kerrostalo"
          ],
          [
           "Kerrostalo"
          ],
          [
           "Kerrostalo"
          ],
          [
           "Kerrostalo"
          ],
          [
           "Kerrostalo"
          ],
          [
           "Kerrostalo"
          ],
          [
           "Kerrostalo"
          ],
          [
           "Kerrostalo"
          ],
          [
           "Kerrostalo"
          ],
          [
           "Kerrostalo"
          ],
          [
           "Kerrostalo"
          ],
          [
           "Kerrostalo"
          ],
          [
           "Kerrostalo"
          ],
          [
           "Kerrostalo"
          ],
          [
           "Kerrostalo"
          ],
          [
           "Kerrostalo"
          ],
          [
           "Kerrostalo"
          ],
          [
           "Kerrostalo"
          ],
          [
           "Kerrostalo"
          ],
          [
           "Kerrostalo"
          ],
          [
           "Kerrostalo"
          ],
          [
           "Kerrostalo"
          ],
          [
           "Kerrostalo"
          ],
          [
           "Kerrostalo"
          ],
          [
           "Kerrostalo"
          ],
          [
           "Kerrostalo"
          ],
          [
           "Kerrostalo"
          ],
          [
           "Kerrostalo"
          ],
          [
           "Kerrostalo"
          ],
          [
           "Kerrostalo"
          ],
          [
           "Kerrostalo"
          ],
          [
           "Kerrostalo"
          ],
          [
           "Kerrostalo"
          ],
          [
           "Kerrostalo"
          ],
          [
           "Kerrostalo"
          ],
          [
           "Kerrostalo"
          ],
          [
           "Kerrostalo"
          ],
          [
           "Kerrostalo"
          ],
          [
           "Kerrostalo"
          ],
          [
           "Kerrostalo"
          ],
          [
           "Kerrostalo"
          ],
          [
           "Kerrostalo"
          ],
          [
           "Kerrostalo"
          ],
          [
           "Kerrostalo"
          ],
          [
           "Kerrostalo"
          ],
          [
           "Kerrostalo"
          ],
          [
           "Kerrostalo"
          ],
          [
           "Kerrostalo"
          ],
          [
           "Kerrostalo"
          ],
          [
           "Kerrostalo"
          ],
          [
           "Kerrostalo"
          ],
          [
           "Kerrostalo"
          ],
          [
           "Kerrostalo"
          ],
          [
           "Kerrostalo"
          ],
          [
           "Kerrostalo"
          ],
          [
           "Kerrostalo"
          ],
          [
           "Kerrostalo"
          ],
          [
           "Kerrostalo"
          ],
          [
           "Kerrostalo"
          ],
          [
           "Kerrostalo"
          ],
          [
           "Kerrostalo"
          ],
          [
           "Kerrostalo"
          ],
          [
           "Kerrostalo"
          ],
          [
           "Kerrostalo"
          ],
          [
           "Kerrostalo"
          ],
          [
           "Kerrostalo"
          ],
          [
           "Kerrostalo"
          ],
          [
           "Kerrostalo"
          ],
          [
           "Kerrostalo"
          ],
          [
           "Kerrostalo"
          ],
          [
           "Kerrostalo"
          ],
          [
           "Kerrostalo"
          ],
          [
           "Kerrostalo"
          ],
          [
           "Kerrostalo"
          ],
          [
           "Kerrostalo"
          ],
          [
           "Kerrostalo"
          ],
          [
           "Kerrostalo"
          ],
          [
           "Kerrostalo"
          ],
          [
           "Kerrostalo"
          ],
          [
           "Kerrostalo"
          ],
          [
           "Kerrostalo"
          ],
          [
           "Kerrostalo"
          ],
          [
           "Kerrostalo"
          ],
          [
           "Kerrostalo"
          ],
          [
           "Kerrostalo"
          ],
          [
           "Kerrostalo"
          ],
          [
           "Kerrostalo"
          ],
          [
           "Kerrostalo"
          ],
          [
           "Kerrostalo"
          ],
          [
           "Kerrostalo"
          ],
          [
           "Kerrostalo"
          ],
          [
           "Kerrostalo"
          ],
          [
           "Kerrostalo"
          ],
          [
           "Kerrostalo"
          ],
          [
           "Kerrostalo"
          ],
          [
           "Kerrostalo"
          ],
          [
           "Kerrostalo"
          ],
          [
           "Kerrostalo"
          ],
          [
           "Kerrostalo"
          ],
          [
           "Kerrostalo"
          ],
          [
           "Kerrostalo"
          ],
          [
           "Kerrostalo"
          ],
          [
           "Kerrostalo"
          ],
          [
           "Kerrostalo"
          ],
          [
           "Kerrostalo"
          ],
          [
           "Kerrostalo"
          ],
          [
           "Kerrostalo"
          ],
          [
           "Kerrostalo"
          ],
          [
           "Kerrostalo"
          ],
          [
           "Kerrostalo"
          ],
          [
           "Kerrostalo"
          ],
          [
           "Kerrostalo"
          ],
          [
           "Kerrostalo"
          ],
          [
           "Kerrostalo"
          ],
          [
           "Kerrostalo"
          ],
          [
           "Kerrostalo"
          ],
          [
           "Kerrostalo"
          ],
          [
           "Kerrostalo"
          ],
          [
           "Kerrostalo"
          ],
          [
           "Kerrostalo"
          ],
          [
           "Kerrostalo"
          ],
          [
           "Kerrostalo"
          ],
          [
           "Kerrostalo"
          ],
          [
           "Kerrostalo"
          ],
          [
           "Kerrostalo"
          ],
          [
           "Kerrostalo"
          ],
          [
           "Kerrostalo"
          ],
          [
           "Kerrostalo"
          ],
          [
           "Kerrostalo"
          ],
          [
           "Kerrostalo"
          ],
          [
           "Kerrostalo"
          ],
          [
           "Kerrostalo"
          ],
          [
           "Kerrostalo"
          ],
          [
           "Kerrostalo"
          ],
          [
           "Kerrostalo"
          ],
          [
           "Kerrostalo"
          ],
          [
           "Kerrostalo"
          ],
          [
           "Kerrostalo"
          ],
          [
           "Kerrostalo"
          ],
          [
           "Kerrostalo"
          ],
          [
           "Kerrostalo"
          ],
          [
           "Kerrostalo"
          ],
          [
           "Kerrostalo"
          ],
          [
           "Kerrostalo"
          ],
          [
           "Kerrostalo"
          ],
          [
           "Kerrostalo"
          ],
          [
           "Kerrostalo"
          ],
          [
           "Kerrostalo"
          ],
          [
           "Kerrostalo"
          ],
          [
           "Kerrostalo"
          ],
          [
           "Kerrostalo"
          ],
          [
           "Kerrostalo"
          ],
          [
           "Kerrostalo"
          ],
          [
           "Kerrostalo"
          ],
          [
           "Kerrostalo"
          ],
          [
           "Kerrostalo"
          ],
          [
           "Kerrostalo"
          ],
          [
           "Kerrostalo"
          ],
          [
           "Kerrostalo"
          ],
          [
           "Kerrostalo"
          ],
          [
           "Kerrostalo"
          ],
          [
           "Kerrostalo"
          ],
          [
           "Kerrostalo"
          ],
          [
           "Kerrostalo"
          ],
          [
           "Kerrostalo"
          ],
          [
           "Kerrostalo"
          ],
          [
           "Kerrostalo"
          ],
          [
           "Kerrostalo"
          ],
          [
           "Kerrostalo"
          ],
          [
           "Kerrostalo"
          ],
          [
           "Kerrostalo"
          ],
          [
           "Kerrostalo"
          ],
          [
           "Kerrostalo"
          ],
          [
           "Kerrostalo"
          ],
          [
           "Kerrostalo"
          ],
          [
           "Kerrostalo"
          ],
          [
           "Kerrostalo"
          ],
          [
           "Kerrostalo"
          ],
          [
           "Kerrostalo"
          ],
          [
           "Kerrostalo"
          ],
          [
           "Kerrostalo"
          ],
          [
           "Kerrostalo"
          ],
          [
           "Kerrostalo"
          ],
          [
           "Kerrostalo"
          ],
          [
           "Kerrostalo"
          ],
          [
           "Kerrostalo"
          ],
          [
           "Kerrostalo"
          ],
          [
           "Kerrostalo"
          ],
          [
           "Kerrostalo"
          ],
          [
           "Kerrostalo"
          ],
          [
           "Kerrostalo"
          ],
          [
           "Kerrostalo"
          ],
          [
           "Kerrostalo"
          ],
          [
           "Kerrostalo"
          ],
          [
           "Kerrostalo"
          ],
          [
           "Kerrostalo"
          ],
          [
           "Kerrostalo"
          ],
          [
           "Kerrostalo"
          ],
          [
           "Kerrostalo"
          ],
          [
           "Kerrostalo"
          ],
          [
           "Kerrostalo"
          ],
          [
           "Kerrostalo"
          ],
          [
           "Kerrostalo"
          ],
          [
           "Kerrostalo"
          ],
          [
           "Kerrostalo"
          ],
          [
           "Kerrostalo"
          ],
          [
           "Kerrostalo"
          ],
          [
           "Kerrostalo"
          ],
          [
           "Kerrostalo"
          ],
          [
           "Kerrostalo"
          ],
          [
           "Kerrostalo"
          ],
          [
           "Kerrostalo"
          ],
          [
           "Kerrostalo"
          ],
          [
           "Kerrostalo"
          ],
          [
           "Kerrostalo"
          ],
          [
           "Kerrostalo"
          ],
          [
           "Kerrostalo"
          ],
          [
           "Kerrostalo"
          ],
          [
           "Kerrostalo"
          ],
          [
           "Kerrostalo"
          ],
          [
           "Kerrostalo"
          ],
          [
           "Kerrostalo"
          ],
          [
           "Kerrostalo"
          ],
          [
           "Kerrostalo"
          ],
          [
           "Kerrostalo"
          ],
          [
           "Kerrostalo"
          ],
          [
           "Kerrostalo"
          ],
          [
           "Kerrostalo"
          ],
          [
           "Kerrostalo"
          ],
          [
           "Kerrostalo"
          ],
          [
           "Kerrostalo"
          ],
          [
           "Kerrostalo"
          ],
          [
           "Kerrostalo"
          ],
          [
           "Kerrostalo"
          ],
          [
           "Kerrostalo"
          ],
          [
           "Kerrostalo"
          ],
          [
           "Kerrostalo"
          ],
          [
           "Kerrostalo"
          ],
          [
           "Kerrostalo"
          ],
          [
           "Kerrostalo"
          ],
          [
           "Kerrostalo"
          ],
          [
           "Kerrostalo"
          ],
          [
           "Kerrostalo"
          ],
          [
           "Kerrostalo"
          ],
          [
           "Kerrostalo"
          ],
          [
           "Kerrostalo"
          ],
          [
           "Kerrostalo"
          ],
          [
           "Kerrostalo"
          ],
          [
           "Kerrostalo"
          ],
          [
           "Kerrostalo"
          ],
          [
           "Kerrostalo"
          ],
          [
           "Kerrostalo"
          ],
          [
           "Kerrostalo"
          ],
          [
           "Kerrostalo"
          ],
          [
           "Kerrostalo"
          ],
          [
           "Kerrostalo"
          ],
          [
           "Kerrostalo"
          ],
          [
           "Kerrostalo"
          ],
          [
           "Kerrostalo"
          ],
          [
           "Kerrostalo"
          ],
          [
           "Kerrostalo"
          ],
          [
           "Kerrostalo"
          ],
          [
           "Kerrostalo"
          ],
          [
           "Kerrostalo"
          ],
          [
           "Kerrostalo"
          ],
          [
           "Kerrostalo"
          ],
          [
           "Kerrostalo"
          ],
          [
           "Kerrostalo"
          ],
          [
           "Kerrostalo"
          ],
          [
           "Kerrostalo"
          ],
          [
           "Kerrostalo"
          ],
          [
           "Kerrostalo"
          ],
          [
           "Kerrostalo"
          ],
          [
           "Kerrostalo"
          ],
          [
           "Kerrostalo"
          ],
          [
           "Kerrostalo"
          ],
          [
           "Kerrostalo"
          ],
          [
           "Kerrostalo"
          ],
          [
           "Kerrostalo"
          ],
          [
           "Kerrostalo"
          ],
          [
           "Kerrostalo"
          ],
          [
           "Kerrostalo"
          ],
          [
           "Kerrostalo"
          ],
          [
           "Kerrostalo"
          ],
          [
           "Kerrostalo"
          ],
          [
           "Kerrostalo"
          ],
          [
           "Kerrostalo"
          ],
          [
           "Kerrostalo"
          ],
          [
           "Kerrostalo"
          ],
          [
           "Kerrostalo"
          ],
          [
           "Kerrostalo"
          ],
          [
           "Kerrostalo"
          ],
          [
           "Kerrostalo"
          ],
          [
           "Kerrostalo"
          ],
          [
           "Kerrostalo"
          ],
          [
           "Kerrostalo"
          ],
          [
           "Kerrostalo"
          ],
          [
           "Kerrostalo"
          ],
          [
           "Kerrostalo"
          ],
          [
           "Kerrostalo"
          ],
          [
           "Kerrostalo"
          ],
          [
           "Kerrostalo"
          ],
          [
           "Kerrostalo"
          ],
          [
           "Kerrostalo"
          ],
          [
           "Kerrostalo"
          ],
          [
           "Kerrostalo"
          ],
          [
           "Kerrostalo"
          ],
          [
           "Kerrostalo"
          ],
          [
           "Kerrostalo"
          ],
          [
           "Kerrostalo"
          ],
          [
           "Kerrostalo"
          ],
          [
           "Kerrostalo"
          ],
          [
           "Kerrostalo"
          ],
          [
           "Kerrostalo"
          ],
          [
           "Kerrostalo"
          ],
          [
           "Kerrostalo"
          ],
          [
           "Kerrostalo"
          ],
          [
           "Kerrostalo"
          ],
          [
           "Kerrostalo"
          ],
          [
           "Kerrostalo"
          ],
          [
           "Kerrostalo"
          ],
          [
           "Kerrostalo"
          ],
          [
           "Kerrostalo"
          ],
          [
           "Kerrostalo"
          ],
          [
           "Kerrostalo"
          ],
          [
           "Kerrostalo"
          ],
          [
           "Kerrostalo"
          ],
          [
           "Kerrostalo"
          ],
          [
           "Kerrostalo"
          ],
          [
           "Kerrostalo"
          ],
          [
           "Kerrostalo"
          ],
          [
           "Kerrostalo"
          ],
          [
           "Kerrostalo"
          ],
          [
           "Kerrostalo"
          ],
          [
           "Kerrostalo"
          ],
          [
           "Kerrostalo"
          ],
          [
           "Kerrostalo"
          ],
          [
           "Kerrostalo"
          ],
          [
           "Kerrostalo"
          ],
          [
           "Kerrostalo"
          ],
          [
           "Kerrostalo"
          ],
          [
           "Kerrostalo"
          ],
          [
           "Kerrostalo"
          ],
          [
           "Kerrostalo"
          ],
          [
           "Kerrostalo"
          ],
          [
           "Kerrostalo"
          ],
          [
           "Kerrostalo"
          ],
          [
           "Kerrostalo"
          ],
          [
           "Kerrostalo"
          ],
          [
           "Kerrostalo"
          ],
          [
           "Kerrostalo"
          ],
          [
           "Kerrostalo"
          ],
          [
           "Kerrostalo"
          ],
          [
           "Kerrostalo"
          ],
          [
           "Kerrostalo"
          ],
          [
           "Kerrostalo"
          ],
          [
           "Kerrostalo"
          ],
          [
           "Kerrostalo"
          ],
          [
           "Kerrostalo"
          ],
          [
           "Kerrostalo"
          ],
          [
           "Kerrostalo"
          ],
          [
           "Kerrostalo"
          ],
          [
           "Kerrostalo"
          ],
          [
           "Kerrostalo"
          ],
          [
           "Kerrostalo"
          ],
          [
           "Kerrostalo"
          ],
          [
           "Kerrostalo"
          ],
          [
           "Kerrostalo"
          ],
          [
           "Kerrostalo"
          ],
          [
           "Kerrostalo"
          ],
          [
           "Kerrostalo"
          ],
          [
           "Kerrostalo"
          ],
          [
           "Kerrostalo"
          ],
          [
           "Kerrostalo"
          ],
          [
           "Kerrostalo"
          ],
          [
           "Kerrostalo"
          ],
          [
           "Kerrostalo"
          ],
          [
           "Kerrostalo"
          ],
          [
           "Kerrostalo"
          ],
          [
           "Kerrostalo"
          ],
          [
           "Kerrostalo"
          ],
          [
           "Kerrostalo"
          ],
          [
           "Kerrostalo"
          ],
          [
           "Kerrostalo"
          ],
          [
           "Kerrostalo"
          ],
          [
           "Kerrostalo"
          ],
          [
           "Kerrostalo"
          ],
          [
           "Kerrostalo"
          ],
          [
           "Kerrostalo"
          ],
          [
           "Kerrostalo"
          ],
          [
           "Kerrostalo"
          ],
          [
           "Kerrostalo"
          ],
          [
           "Kerrostalo"
          ],
          [
           "Kerrostalo"
          ],
          [
           "Kerrostalo"
          ],
          [
           "Kerrostalo"
          ],
          [
           "Kerrostalo"
          ],
          [
           "Kerrostalo"
          ],
          [
           "Kerrostalo"
          ],
          [
           "Kerrostalo"
          ],
          [
           "Kerrostalo"
          ],
          [
           "Kerrostalo"
          ],
          [
           "Kerrostalo"
          ],
          [
           "Kerrostalo"
          ],
          [
           "Kerrostalo"
          ],
          [
           "Kerrostalo"
          ],
          [
           "Kerrostalo"
          ],
          [
           "Kerrostalo"
          ],
          [
           "Kerrostalo"
          ],
          [
           "Kerrostalo"
          ],
          [
           "Kerrostalo"
          ],
          [
           "Kerrostalo"
          ],
          [
           "Kerrostalo"
          ],
          [
           "Kerrostalo"
          ],
          [
           "Kerrostalo"
          ],
          [
           "Kerrostalo"
          ],
          [
           "Kerrostalo"
          ],
          [
           "Kerrostalo"
          ],
          [
           "Kerrostalo"
          ],
          [
           "Kerrostalo"
          ],
          [
           "Kerrostalo"
          ],
          [
           "Kerrostalo"
          ],
          [
           "Kerrostalo"
          ],
          [
           "Kerrostalo"
          ],
          [
           "Kerrostalo"
          ],
          [
           "Kerrostalo"
          ],
          [
           "Kerrostalo"
          ],
          [
           "Kerrostalo"
          ],
          [
           "Kerrostalo"
          ],
          [
           "Kerrostalo"
          ],
          [
           "Kerrostalo"
          ],
          [
           "Kerrostalo"
          ],
          [
           "Kerrostalo"
          ],
          [
           "Kerrostalo"
          ],
          [
           "Kerrostalo"
          ],
          [
           "Kerrostalo"
          ],
          [
           "Kerrostalo"
          ],
          [
           "Kerrostalo"
          ],
          [
           "Kerrostalo"
          ],
          [
           "Kerrostalo"
          ],
          [
           "Kerrostalo"
          ],
          [
           "Kerrostalo"
          ],
          [
           "Kerrostalo"
          ],
          [
           "Kerrostalo"
          ],
          [
           "Kerrostalo"
          ],
          [
           "Kerrostalo"
          ],
          [
           "Kerrostalo"
          ],
          [
           "Kerrostalo"
          ],
          [
           "Kerrostalo"
          ],
          [
           "Kerrostalo"
          ],
          [
           "Kerrostalo"
          ],
          [
           "Kerrostalo"
          ],
          [
           "Kerrostalo"
          ],
          [
           "Kerrostalo"
          ],
          [
           "Kerrostalo"
          ],
          [
           "Kerrostalo"
          ],
          [
           "Kerrostalo"
          ],
          [
           "Kerrostalo"
          ],
          [
           "Kerrostalo"
          ],
          [
           "Kerrostalo"
          ],
          [
           "Kerrostalo"
          ],
          [
           "Kerrostalo"
          ],
          [
           "Kerrostalo"
          ],
          [
           "Kerrostalo"
          ],
          [
           "Kerrostalo"
          ],
          [
           "Kerrostalo"
          ],
          [
           "Kerrostalo"
          ],
          [
           "Kerrostalo"
          ],
          [
           "Kerrostalo"
          ],
          [
           "Kerrostalo"
          ],
          [
           "Kerrostalo"
          ],
          [
           "Kerrostalo"
          ],
          [
           "Kerrostalo"
          ],
          [
           "Kerrostalo"
          ],
          [
           "Kerrostalo"
          ],
          [
           "Kerrostalo"
          ],
          [
           "Kerrostalo"
          ],
          [
           "Kerrostalo"
          ],
          [
           "Kerrostalo"
          ],
          [
           "Kerrostalo"
          ],
          [
           "Kerrostalo"
          ],
          [
           "Kerrostalo"
          ],
          [
           "Kerrostalo"
          ],
          [
           "Kerrostalo"
          ],
          [
           "Kerrostalo"
          ],
          [
           "Kerrostalo"
          ],
          [
           "Kerrostalo"
          ],
          [
           "Kerrostalo"
          ],
          [
           "Kerrostalo"
          ],
          [
           "Kerrostalo"
          ],
          [
           "Kerrostalo"
          ],
          [
           "Kerrostalo"
          ],
          [
           "Kerrostalo"
          ],
          [
           "Kerrostalo"
          ],
          [
           "Kerrostalo"
          ],
          [
           "Kerrostalo"
          ],
          [
           "Kerrostalo"
          ],
          [
           "Kerrostalo"
          ],
          [
           "Kerrostalo"
          ],
          [
           "Kerrostalo"
          ],
          [
           "Kerrostalo"
          ],
          [
           "Kerrostalo"
          ],
          [
           "Kerrostalo"
          ],
          [
           "Kerrostalo"
          ],
          [
           "Kerrostalo"
          ],
          [
           "Kerrostalo"
          ],
          [
           "Kerrostalo"
          ],
          [
           "Kerrostalo"
          ],
          [
           "Kerrostalo"
          ],
          [
           "Kerrostalo"
          ],
          [
           "Kerrostalo"
          ],
          [
           "Kerrostalo"
          ],
          [
           "Kerrostalo"
          ],
          [
           "Kerrostalo"
          ],
          [
           "Kerrostalo"
          ],
          [
           "Kerrostalo"
          ],
          [
           "Kerrostalo"
          ],
          [
           "Kerrostalo"
          ],
          [
           "Kerrostalo"
          ],
          [
           "Kerrostalo"
          ],
          [
           "Kerrostalo"
          ],
          [
           "Kerrostalo"
          ],
          [
           "Kerrostalo"
          ],
          [
           "Kerrostalo"
          ],
          [
           "Kerrostalo"
          ],
          [
           "Kerrostalo"
          ],
          [
           "Kerrostalo"
          ],
          [
           "Kerrostalo"
          ],
          [
           "Kerrostalo"
          ],
          [
           "Kerrostalo"
          ],
          [
           "Kerrostalo"
          ],
          [
           "Kerrostalo"
          ],
          [
           "Kerrostalo"
          ],
          [
           "Kerrostalo"
          ],
          [
           "Kerrostalo"
          ],
          [
           "Kerrostalo"
          ],
          [
           "Kerrostalo"
          ],
          [
           "Kerrostalo"
          ],
          [
           "Kerrostalo"
          ],
          [
           "Kerrostalo"
          ],
          [
           "Kerrostalo"
          ],
          [
           "Kerrostalo"
          ],
          [
           "Kerrostalo"
          ],
          [
           "Kerrostalo"
          ],
          [
           "Kerrostalo"
          ],
          [
           "Kerrostalo"
          ],
          [
           "Kerrostalo"
          ],
          [
           "Kerrostalo"
          ],
          [
           "Kerrostalo"
          ],
          [
           "Kerrostalo"
          ],
          [
           "Kerrostalo"
          ],
          [
           "Kerrostalo"
          ],
          [
           "Kerrostalo"
          ],
          [
           "Kerrostalo"
          ],
          [
           "Kerrostalo"
          ],
          [
           "Kerrostalo"
          ],
          [
           "Kerrostalo"
          ],
          [
           "Kerrostalo"
          ],
          [
           "Kerrostalo"
          ],
          [
           "Kerrostalo"
          ],
          [
           "Kerrostalo"
          ],
          [
           "Kerrostalo"
          ],
          [
           "Kerrostalo"
          ],
          [
           "Kerrostalo"
          ],
          [
           "Kerrostalo"
          ],
          [
           "Kerrostalo"
          ],
          [
           "Kerrostalo"
          ],
          [
           "Kerrostalo"
          ],
          [
           "Kerrostalo"
          ],
          [
           "Kerrostalo"
          ],
          [
           "Kerrostalo"
          ],
          [
           "Kerrostalo"
          ],
          [
           "Kerrostalo"
          ],
          [
           "Kerrostalo"
          ],
          [
           "Kerrostalo"
          ],
          [
           "Kerrostalo"
          ],
          [
           "Kerrostalo"
          ],
          [
           "Kerrostalo"
          ],
          [
           "Kerrostalo"
          ],
          [
           "Kerrostalo"
          ],
          [
           "Kerrostalo"
          ],
          [
           "Kerrostalo"
          ],
          [
           "Kerrostalo"
          ],
          [
           "Kerrostalo"
          ],
          [
           "Kerrostalo"
          ],
          [
           "Kerrostalo"
          ],
          [
           "Kerrostalo"
          ],
          [
           "Kerrostalo"
          ],
          [
           "Kerrostalo"
          ],
          [
           "Kerrostalo"
          ],
          [
           "Kerrostalo"
          ],
          [
           "Kerrostalo"
          ],
          [
           "Kerrostalo"
          ],
          [
           "Kerrostalo"
          ],
          [
           "Kerrostalo"
          ],
          [
           "Kerrostalo"
          ],
          [
           "Kerrostalo"
          ],
          [
           "Kerrostalo"
          ],
          [
           "Kerrostalo"
          ],
          [
           "Kerrostalo"
          ],
          [
           "Kerrostalo"
          ],
          [
           "Kerrostalo"
          ],
          [
           "Kerrostalo"
          ],
          [
           "Kerrostalo"
          ],
          [
           "Kerrostalo"
          ],
          [
           "Kerrostalo"
          ],
          [
           "Kerrostalo"
          ],
          [
           "Kerrostalo"
          ],
          [
           "Kerrostalo"
          ],
          [
           "Kerrostalo"
          ],
          [
           "Kerrostalo"
          ],
          [
           "Kerrostalo"
          ],
          [
           "Kerrostalo"
          ],
          [
           "Kerrostalo"
          ],
          [
           "Kerrostalo"
          ],
          [
           "Kerrostalo"
          ],
          [
           "Kerrostalo"
          ],
          [
           "Kerrostalo"
          ],
          [
           "Kerrostalo"
          ],
          [
           "Kerrostalo"
          ],
          [
           "Kerrostalo"
          ],
          [
           "Kerrostalo"
          ],
          [
           "Kerrostalo"
          ],
          [
           "Kerrostalo"
          ],
          [
           "Kerrostalo"
          ],
          [
           "Kerrostalo"
          ],
          [
           "Kerrostalo"
          ],
          [
           "Kerrostalo"
          ],
          [
           "Kerrostalo"
          ],
          [
           "Kerrostalo"
          ],
          [
           "Kerrostalo"
          ],
          [
           "Kerrostalo"
          ],
          [
           "Kerrostalo"
          ],
          [
           "Kerrostalo"
          ],
          [
           "Kerrostalo"
          ],
          [
           "Kerrostalo"
          ],
          [
           "Kerrostalo"
          ],
          [
           "Kerrostalo"
          ],
          [
           "Kerrostalo"
          ],
          [
           "Kerrostalo"
          ],
          [
           "Kerrostalo"
          ],
          [
           "Kerrostalo"
          ],
          [
           "Kerrostalo"
          ],
          [
           "Kerrostalo"
          ],
          [
           "Kerrostalo"
          ],
          [
           "Kerrostalo"
          ],
          [
           "Kerrostalo"
          ],
          [
           "Kerrostalo"
          ],
          [
           "Kerrostalo"
          ],
          [
           "Kerrostalo"
          ],
          [
           "Kerrostalo"
          ],
          [
           "Kerrostalo"
          ],
          [
           "Kerrostalo"
          ],
          [
           "Kerrostalo"
          ],
          [
           "Kerrostalo"
          ],
          [
           "Kerrostalo"
          ],
          [
           "Kerrostalo"
          ],
          [
           "Kerrostalo"
          ],
          [
           "Kerrostalo"
          ],
          [
           "Kerrostalo"
          ],
          [
           "Kerrostalo"
          ],
          [
           "Kerrostalo"
          ],
          [
           "Kerrostalo"
          ],
          [
           "Kerrostalo"
          ],
          [
           "Kerrostalo"
          ],
          [
           "Kerrostalo"
          ],
          [
           "Kerrostalo"
          ],
          [
           "Kerrostalo"
          ],
          [
           "Kerrostalo"
          ],
          [
           "Kerrostalo"
          ],
          [
           "Kerrostalo"
          ],
          [
           "Kerrostalo"
          ],
          [
           "Kerrostalo"
          ],
          [
           "Kerrostalo"
          ],
          [
           "Kerrostalo"
          ],
          [
           "Kerrostalo"
          ],
          [
           "Kerrostalo"
          ],
          [
           "Kerrostalo"
          ],
          [
           "Kerrostalo"
          ],
          [
           "Kerrostalo"
          ]
         ],
         "hovertemplate": "Area: %{x} m<sup>2</sup><br>Price Per sqm:%{y}€",
         "hovertext": [
          "Kerrostalo",
          "Kerrostalo",
          "Kerrostalo",
          "Kerrostalo",
          "Kerrostalo",
          "Kerrostalo",
          "Kerrostalo",
          "Kerrostalo",
          "Kerrostalo",
          "Kerrostalo",
          "Kerrostalo",
          "Kerrostalo",
          "Kerrostalo",
          "Kerrostalo",
          "Kerrostalo",
          "Kerrostalo",
          "Kerrostalo",
          "Kerrostalo",
          "Kerrostalo",
          "Kerrostalo",
          "Kerrostalo",
          "Kerrostalo",
          "Kerrostalo",
          "Kerrostalo",
          "Kerrostalo",
          "Kerrostalo",
          "Kerrostalo",
          "Kerrostalo",
          "Kerrostalo",
          "Kerrostalo",
          "Kerrostalo",
          "Kerrostalo",
          "Kerrostalo",
          "Kerrostalo",
          "Kerrostalo",
          "Kerrostalo",
          "Kerrostalo",
          "Kerrostalo",
          "Kerrostalo",
          "Kerrostalo",
          "Kerrostalo",
          "Kerrostalo",
          "Kerrostalo",
          "Kerrostalo",
          "Kerrostalo",
          "Kerrostalo",
          "Kerrostalo",
          "Kerrostalo",
          "Kerrostalo",
          "Kerrostalo",
          "Kerrostalo",
          "Kerrostalo",
          "Kerrostalo",
          "Kerrostalo",
          "Kerrostalo",
          "Kerrostalo",
          "Kerrostalo",
          "Kerrostalo",
          "Kerrostalo",
          "Kerrostalo",
          "Kerrostalo",
          "Kerrostalo",
          "Kerrostalo",
          "Kerrostalo",
          "Kerrostalo",
          "Kerrostalo",
          "Kerrostalo",
          "Kerrostalo",
          "Kerrostalo",
          "Kerrostalo",
          "Kerrostalo",
          "Kerrostalo",
          "Kerrostalo",
          "Kerrostalo",
          "Kerrostalo",
          "Kerrostalo",
          "Kerrostalo",
          "Kerrostalo",
          "Kerrostalo",
          "Kerrostalo",
          "Kerrostalo",
          "Kerrostalo",
          "Kerrostalo",
          "Kerrostalo",
          "Kerrostalo",
          "Kerrostalo",
          "Kerrostalo",
          "Kerrostalo",
          "Kerrostalo",
          "Kerrostalo",
          "Kerrostalo",
          "Kerrostalo",
          "Kerrostalo",
          "Kerrostalo",
          "Kerrostalo",
          "Kerrostalo",
          "Kerrostalo",
          "Kerrostalo",
          "Kerrostalo",
          "Kerrostalo",
          "Kerrostalo",
          "Kerrostalo",
          "Kerrostalo",
          "Kerrostalo",
          "Kerrostalo",
          "Kerrostalo",
          "Kerrostalo",
          "Kerrostalo",
          "Kerrostalo",
          "Kerrostalo",
          "Kerrostalo",
          "Kerrostalo",
          "Kerrostalo",
          "Kerrostalo",
          "Kerrostalo",
          "Kerrostalo",
          "Kerrostalo",
          "Kerrostalo",
          "Kerrostalo",
          "Kerrostalo",
          "Kerrostalo",
          "Kerrostalo",
          "Kerrostalo",
          "Kerrostalo",
          "Kerrostalo",
          "Kerrostalo",
          "Kerrostalo",
          "Kerrostalo",
          "Kerrostalo",
          "Kerrostalo",
          "Kerrostalo",
          "Kerrostalo",
          "Kerrostalo",
          "Kerrostalo",
          "Kerrostalo",
          "Kerrostalo",
          "Kerrostalo",
          "Kerrostalo",
          "Kerrostalo",
          "Kerrostalo",
          "Kerrostalo",
          "Kerrostalo",
          "Kerrostalo",
          "Kerrostalo",
          "Kerrostalo",
          "Kerrostalo",
          "Kerrostalo",
          "Kerrostalo",
          "Kerrostalo",
          "Kerrostalo",
          "Kerrostalo",
          "Kerrostalo",
          "Kerrostalo",
          "Kerrostalo",
          "Kerrostalo",
          "Kerrostalo",
          "Kerrostalo",
          "Kerrostalo",
          "Kerrostalo",
          "Kerrostalo",
          "Kerrostalo",
          "Kerrostalo",
          "Kerrostalo",
          "Kerrostalo",
          "Kerrostalo",
          "Kerrostalo",
          "Kerrostalo",
          "Kerrostalo",
          "Kerrostalo",
          "Kerrostalo",
          "Kerrostalo",
          "Kerrostalo",
          "Kerrostalo",
          "Kerrostalo",
          "Kerrostalo",
          "Kerrostalo",
          "Kerrostalo",
          "Kerrostalo",
          "Kerrostalo",
          "Kerrostalo",
          "Kerrostalo",
          "Kerrostalo",
          "Kerrostalo",
          "Kerrostalo",
          "Kerrostalo",
          "Kerrostalo",
          "Kerrostalo",
          "Kerrostalo",
          "Kerrostalo",
          "Kerrostalo",
          "Kerrostalo",
          "Kerrostalo",
          "Kerrostalo",
          "Kerrostalo",
          "Kerrostalo",
          "Kerrostalo",
          "Kerrostalo",
          "Kerrostalo",
          "Kerrostalo",
          "Kerrostalo",
          "Kerrostalo",
          "Kerrostalo",
          "Kerrostalo",
          "Kerrostalo",
          "Kerrostalo",
          "Kerrostalo",
          "Kerrostalo",
          "Kerrostalo",
          "Kerrostalo",
          "Kerrostalo",
          "Kerrostalo",
          "Kerrostalo",
          "Kerrostalo",
          "Kerrostalo",
          "Kerrostalo",
          "Kerrostalo",
          "Kerrostalo",
          "Kerrostalo",
          "Kerrostalo",
          "Kerrostalo",
          "Kerrostalo",
          "Kerrostalo",
          "Kerrostalo",
          "Kerrostalo",
          "Kerrostalo",
          "Kerrostalo",
          "Kerrostalo",
          "Kerrostalo",
          "Kerrostalo",
          "Kerrostalo",
          "Kerrostalo",
          "Kerrostalo",
          "Kerrostalo",
          "Kerrostalo",
          "Kerrostalo",
          "Kerrostalo",
          "Kerrostalo",
          "Kerrostalo",
          "Kerrostalo",
          "Kerrostalo",
          "Kerrostalo",
          "Kerrostalo",
          "Kerrostalo",
          "Kerrostalo",
          "Kerrostalo",
          "Kerrostalo",
          "Kerrostalo",
          "Kerrostalo",
          "Kerrostalo",
          "Kerrostalo",
          "Kerrostalo",
          "Kerrostalo",
          "Kerrostalo",
          "Kerrostalo",
          "Kerrostalo",
          "Kerrostalo",
          "Kerrostalo",
          "Kerrostalo",
          "Kerrostalo",
          "Kerrostalo",
          "Kerrostalo",
          "Kerrostalo",
          "Kerrostalo",
          "Kerrostalo",
          "Kerrostalo",
          "Kerrostalo",
          "Kerrostalo",
          "Kerrostalo",
          "Kerrostalo",
          "Kerrostalo",
          "Kerrostalo",
          "Kerrostalo",
          "Kerrostalo",
          "Kerrostalo",
          "Kerrostalo",
          "Kerrostalo",
          "Kerrostalo",
          "Kerrostalo",
          "Kerrostalo",
          "Kerrostalo",
          "Kerrostalo",
          "Kerrostalo",
          "Kerrostalo",
          "Kerrostalo",
          "Kerrostalo",
          "Kerrostalo",
          "Kerrostalo",
          "Kerrostalo",
          "Kerrostalo",
          "Kerrostalo",
          "Kerrostalo",
          "Kerrostalo",
          "Kerrostalo",
          "Kerrostalo",
          "Kerrostalo",
          "Kerrostalo",
          "Kerrostalo",
          "Kerrostalo",
          "Kerrostalo",
          "Kerrostalo",
          "Kerrostalo",
          "Kerrostalo",
          "Kerrostalo",
          "Kerrostalo",
          "Kerrostalo",
          "Kerrostalo",
          "Kerrostalo",
          "Kerrostalo",
          "Kerrostalo",
          "Kerrostalo",
          "Kerrostalo",
          "Kerrostalo",
          "Kerrostalo",
          "Kerrostalo",
          "Kerrostalo",
          "Kerrostalo",
          "Kerrostalo",
          "Kerrostalo",
          "Kerrostalo",
          "Kerrostalo",
          "Kerrostalo",
          "Kerrostalo",
          "Kerrostalo",
          "Kerrostalo",
          "Kerrostalo",
          "Kerrostalo",
          "Kerrostalo",
          "Kerrostalo",
          "Kerrostalo",
          "Kerrostalo",
          "Kerrostalo",
          "Kerrostalo",
          "Kerrostalo",
          "Kerrostalo",
          "Kerrostalo",
          "Kerrostalo",
          "Kerrostalo",
          "Kerrostalo",
          "Kerrostalo",
          "Kerrostalo",
          "Kerrostalo",
          "Kerrostalo",
          "Kerrostalo",
          "Kerrostalo",
          "Kerrostalo",
          "Kerrostalo",
          "Kerrostalo",
          "Kerrostalo",
          "Kerrostalo",
          "Kerrostalo",
          "Kerrostalo",
          "Kerrostalo",
          "Kerrostalo",
          "Kerrostalo",
          "Kerrostalo",
          "Kerrostalo",
          "Kerrostalo",
          "Kerrostalo",
          "Kerrostalo",
          "Kerrostalo",
          "Kerrostalo",
          "Kerrostalo",
          "Kerrostalo",
          "Kerrostalo",
          "Kerrostalo",
          "Kerrostalo",
          "Kerrostalo",
          "Kerrostalo",
          "Kerrostalo",
          "Kerrostalo",
          "Kerrostalo",
          "Kerrostalo",
          "Kerrostalo",
          "Kerrostalo",
          "Kerrostalo",
          "Kerrostalo",
          "Kerrostalo",
          "Kerrostalo",
          "Kerrostalo",
          "Kerrostalo",
          "Kerrostalo",
          "Kerrostalo",
          "Kerrostalo",
          "Kerrostalo",
          "Kerrostalo",
          "Kerrostalo",
          "Kerrostalo",
          "Kerrostalo",
          "Kerrostalo",
          "Kerrostalo",
          "Kerrostalo",
          "Kerrostalo",
          "Kerrostalo",
          "Kerrostalo",
          "Kerrostalo",
          "Kerrostalo",
          "Kerrostalo",
          "Kerrostalo",
          "Kerrostalo",
          "Kerrostalo",
          "Kerrostalo",
          "Kerrostalo",
          "Kerrostalo",
          "Kerrostalo",
          "Kerrostalo",
          "Kerrostalo",
          "Kerrostalo",
          "Kerrostalo",
          "Kerrostalo",
          "Kerrostalo",
          "Kerrostalo",
          "Kerrostalo",
          "Kerrostalo",
          "Kerrostalo",
          "Kerrostalo",
          "Kerrostalo",
          "Kerrostalo",
          "Kerrostalo",
          "Kerrostalo",
          "Kerrostalo",
          "Kerrostalo",
          "Kerrostalo",
          "Kerrostalo",
          "Kerrostalo",
          "Kerrostalo",
          "Kerrostalo",
          "Kerrostalo",
          "Kerrostalo",
          "Kerrostalo",
          "Kerrostalo",
          "Kerrostalo",
          "Kerrostalo",
          "Kerrostalo",
          "Kerrostalo",
          "Kerrostalo",
          "Kerrostalo",
          "Kerrostalo",
          "Kerrostalo",
          "Kerrostalo",
          "Kerrostalo",
          "Kerrostalo",
          "Kerrostalo",
          "Kerrostalo",
          "Kerrostalo",
          "Kerrostalo",
          "Kerrostalo",
          "Kerrostalo",
          "Kerrostalo",
          "Kerrostalo",
          "Kerrostalo",
          "Kerrostalo",
          "Kerrostalo",
          "Kerrostalo",
          "Kerrostalo",
          "Kerrostalo",
          "Kerrostalo",
          "Kerrostalo",
          "Kerrostalo",
          "Kerrostalo",
          "Kerrostalo",
          "Kerrostalo",
          "Kerrostalo",
          "Kerrostalo",
          "Kerrostalo",
          "Kerrostalo",
          "Kerrostalo",
          "Kerrostalo",
          "Kerrostalo",
          "Kerrostalo",
          "Kerrostalo",
          "Kerrostalo",
          "Kerrostalo",
          "Kerrostalo",
          "Kerrostalo",
          "Kerrostalo",
          "Kerrostalo",
          "Kerrostalo",
          "Kerrostalo",
          "Kerrostalo",
          "Kerrostalo",
          "Kerrostalo",
          "Kerrostalo",
          "Kerrostalo",
          "Kerrostalo",
          "Kerrostalo",
          "Kerrostalo",
          "Kerrostalo",
          "Kerrostalo",
          "Kerrostalo",
          "Kerrostalo",
          "Kerrostalo",
          "Kerrostalo",
          "Kerrostalo",
          "Kerrostalo",
          "Kerrostalo",
          "Kerrostalo",
          "Kerrostalo",
          "Kerrostalo",
          "Kerrostalo",
          "Kerrostalo",
          "Kerrostalo",
          "Kerrostalo",
          "Kerrostalo",
          "Kerrostalo",
          "Kerrostalo",
          "Kerrostalo",
          "Kerrostalo",
          "Kerrostalo",
          "Kerrostalo",
          "Kerrostalo",
          "Kerrostalo",
          "Kerrostalo",
          "Kerrostalo",
          "Kerrostalo",
          "Kerrostalo",
          "Kerrostalo",
          "Kerrostalo",
          "Kerrostalo",
          "Kerrostalo",
          "Kerrostalo",
          "Kerrostalo",
          "Kerrostalo",
          "Kerrostalo",
          "Kerrostalo",
          "Kerrostalo",
          "Kerrostalo",
          "Kerrostalo",
          "Kerrostalo",
          "Kerrostalo",
          "Kerrostalo",
          "Kerrostalo",
          "Kerrostalo",
          "Kerrostalo",
          "Kerrostalo",
          "Kerrostalo",
          "Kerrostalo",
          "Kerrostalo",
          "Kerrostalo",
          "Kerrostalo",
          "Kerrostalo",
          "Kerrostalo",
          "Kerrostalo",
          "Kerrostalo",
          "Kerrostalo",
          "Kerrostalo",
          "Kerrostalo",
          "Kerrostalo",
          "Kerrostalo",
          "Kerrostalo",
          "Kerrostalo",
          "Kerrostalo",
          "Kerrostalo",
          "Kerrostalo",
          "Kerrostalo",
          "Kerrostalo",
          "Kerrostalo",
          "Kerrostalo",
          "Kerrostalo",
          "Kerrostalo",
          "Kerrostalo",
          "Kerrostalo",
          "Kerrostalo",
          "Kerrostalo",
          "Kerrostalo",
          "Kerrostalo",
          "Kerrostalo",
          "Kerrostalo",
          "Kerrostalo",
          "Kerrostalo",
          "Kerrostalo",
          "Kerrostalo",
          "Kerrostalo",
          "Kerrostalo",
          "Kerrostalo",
          "Kerrostalo",
          "Kerrostalo",
          "Kerrostalo",
          "Kerrostalo",
          "Kerrostalo",
          "Kerrostalo",
          "Kerrostalo",
          "Kerrostalo",
          "Kerrostalo",
          "Kerrostalo",
          "Kerrostalo",
          "Kerrostalo",
          "Kerrostalo",
          "Kerrostalo",
          "Kerrostalo",
          "Kerrostalo",
          "Kerrostalo",
          "Kerrostalo",
          "Kerrostalo",
          "Kerrostalo",
          "Kerrostalo",
          "Kerrostalo",
          "Kerrostalo",
          "Kerrostalo",
          "Kerrostalo",
          "Kerrostalo",
          "Kerrostalo",
          "Kerrostalo",
          "Kerrostalo",
          "Kerrostalo",
          "Kerrostalo",
          "Kerrostalo",
          "Kerrostalo",
          "Kerrostalo",
          "Kerrostalo",
          "Kerrostalo",
          "Kerrostalo",
          "Kerrostalo",
          "Kerrostalo",
          "Kerrostalo",
          "Kerrostalo",
          "Kerrostalo",
          "Kerrostalo",
          "Kerrostalo",
          "Kerrostalo",
          "Kerrostalo",
          "Kerrostalo",
          "Kerrostalo",
          "Kerrostalo",
          "Kerrostalo",
          "Kerrostalo",
          "Kerrostalo",
          "Kerrostalo",
          "Kerrostalo",
          "Kerrostalo",
          "Kerrostalo",
          "Kerrostalo",
          "Kerrostalo",
          "Kerrostalo",
          "Kerrostalo",
          "Kerrostalo",
          "Kerrostalo",
          "Kerrostalo",
          "Kerrostalo",
          "Kerrostalo",
          "Kerrostalo",
          "Kerrostalo",
          "Kerrostalo",
          "Kerrostalo",
          "Kerrostalo",
          "Kerrostalo",
          "Kerrostalo",
          "Kerrostalo",
          "Kerrostalo",
          "Kerrostalo",
          "Kerrostalo",
          "Kerrostalo",
          "Kerrostalo",
          "Kerrostalo",
          "Kerrostalo",
          "Kerrostalo",
          "Kerrostalo",
          "Kerrostalo",
          "Kerrostalo",
          "Kerrostalo",
          "Kerrostalo",
          "Kerrostalo",
          "Kerrostalo",
          "Kerrostalo",
          "Kerrostalo",
          "Kerrostalo",
          "Kerrostalo",
          "Kerrostalo",
          "Kerrostalo",
          "Kerrostalo",
          "Kerrostalo",
          "Kerrostalo",
          "Kerrostalo",
          "Kerrostalo",
          "Kerrostalo",
          "Kerrostalo",
          "Kerrostalo",
          "Kerrostalo",
          "Kerrostalo",
          "Kerrostalo",
          "Kerrostalo",
          "Kerrostalo",
          "Kerrostalo",
          "Kerrostalo",
          "Kerrostalo",
          "Kerrostalo",
          "Kerrostalo",
          "Kerrostalo",
          "Kerrostalo",
          "Kerrostalo",
          "Kerrostalo",
          "Kerrostalo",
          "Kerrostalo",
          "Kerrostalo",
          "Kerrostalo",
          "Kerrostalo",
          "Kerrostalo",
          "Kerrostalo",
          "Kerrostalo",
          "Kerrostalo",
          "Kerrostalo",
          "Kerrostalo",
          "Kerrostalo",
          "Kerrostalo",
          "Kerrostalo",
          "Kerrostalo",
          "Kerrostalo",
          "Kerrostalo",
          "Kerrostalo",
          "Kerrostalo",
          "Kerrostalo",
          "Kerrostalo",
          "Kerrostalo",
          "Kerrostalo",
          "Kerrostalo",
          "Kerrostalo",
          "Kerrostalo",
          "Kerrostalo",
          "Kerrostalo",
          "Kerrostalo",
          "Kerrostalo",
          "Kerrostalo",
          "Kerrostalo",
          "Kerrostalo",
          "Kerrostalo",
          "Kerrostalo",
          "Kerrostalo",
          "Kerrostalo",
          "Kerrostalo",
          "Kerrostalo",
          "Kerrostalo",
          "Kerrostalo",
          "Kerrostalo",
          "Kerrostalo",
          "Kerrostalo",
          "Kerrostalo",
          "Kerrostalo",
          "Kerrostalo",
          "Kerrostalo",
          "Kerrostalo",
          "Kerrostalo",
          "Kerrostalo",
          "Kerrostalo",
          "Kerrostalo",
          "Kerrostalo",
          "Kerrostalo",
          "Kerrostalo",
          "Kerrostalo",
          "Kerrostalo",
          "Kerrostalo",
          "Kerrostalo",
          "Kerrostalo",
          "Kerrostalo",
          "Kerrostalo",
          "Kerrostalo",
          "Kerrostalo",
          "Kerrostalo",
          "Kerrostalo",
          "Kerrostalo",
          "Kerrostalo",
          "Kerrostalo",
          "Kerrostalo",
          "Kerrostalo",
          "Kerrostalo",
          "Kerrostalo",
          "Kerrostalo",
          "Kerrostalo",
          "Kerrostalo",
          "Kerrostalo",
          "Kerrostalo",
          "Kerrostalo",
          "Kerrostalo",
          "Kerrostalo",
          "Kerrostalo",
          "Kerrostalo",
          "Kerrostalo",
          "Kerrostalo",
          "Kerrostalo",
          "Kerrostalo",
          "Kerrostalo",
          "Kerrostalo",
          "Kerrostalo",
          "Kerrostalo",
          "Kerrostalo",
          "Kerrostalo",
          "Kerrostalo",
          "Kerrostalo",
          "Kerrostalo",
          "Kerrostalo",
          "Kerrostalo",
          "Kerrostalo",
          "Kerrostalo",
          "Kerrostalo",
          "Kerrostalo",
          "Kerrostalo",
          "Kerrostalo",
          "Kerrostalo",
          "Kerrostalo",
          "Kerrostalo",
          "Kerrostalo",
          "Kerrostalo",
          "Kerrostalo",
          "Kerrostalo",
          "Kerrostalo",
          "Kerrostalo",
          "Kerrostalo",
          "Kerrostalo",
          "Kerrostalo",
          "Kerrostalo",
          "Kerrostalo",
          "Kerrostalo",
          "Kerrostalo",
          "Kerrostalo",
          "Kerrostalo",
          "Kerrostalo",
          "Kerrostalo",
          "Kerrostalo",
          "Kerrostalo",
          "Kerrostalo",
          "Kerrostalo",
          "Kerrostalo",
          "Kerrostalo",
          "Kerrostalo",
          "Kerrostalo",
          "Kerrostalo",
          "Kerrostalo",
          "Kerrostalo",
          "Kerrostalo",
          "Kerrostalo",
          "Kerrostalo",
          "Kerrostalo",
          "Kerrostalo",
          "Kerrostalo",
          "Kerrostalo",
          "Kerrostalo",
          "Kerrostalo",
          "Kerrostalo",
          "Kerrostalo",
          "Kerrostalo",
          "Kerrostalo",
          "Kerrostalo",
          "Kerrostalo",
          "Kerrostalo",
          "Kerrostalo",
          "Kerrostalo",
          "Kerrostalo",
          "Kerrostalo",
          "Kerrostalo",
          "Kerrostalo",
          "Kerrostalo",
          "Kerrostalo",
          "Kerrostalo",
          "Kerrostalo",
          "Kerrostalo",
          "Kerrostalo",
          "Kerrostalo",
          "Kerrostalo",
          "Kerrostalo",
          "Kerrostalo",
          "Kerrostalo",
          "Kerrostalo",
          "Kerrostalo",
          "Kerrostalo",
          "Kerrostalo",
          "Kerrostalo",
          "Kerrostalo",
          "Kerrostalo",
          "Kerrostalo",
          "Kerrostalo",
          "Kerrostalo",
          "Kerrostalo",
          "Kerrostalo",
          "Kerrostalo",
          "Kerrostalo",
          "Kerrostalo",
          "Kerrostalo",
          "Kerrostalo",
          "Kerrostalo",
          "Kerrostalo",
          "Kerrostalo",
          "Kerrostalo",
          "Kerrostalo",
          "Kerrostalo",
          "Kerrostalo",
          "Kerrostalo",
          "Kerrostalo",
          "Kerrostalo",
          "Kerrostalo",
          "Kerrostalo",
          "Kerrostalo",
          "Kerrostalo",
          "Kerrostalo",
          "Kerrostalo",
          "Kerrostalo",
          "Kerrostalo",
          "Kerrostalo",
          "Kerrostalo",
          "Kerrostalo",
          "Kerrostalo",
          "Kerrostalo",
          "Kerrostalo",
          "Kerrostalo",
          "Kerrostalo",
          "Kerrostalo",
          "Kerrostalo",
          "Kerrostalo",
          "Kerrostalo",
          "Kerrostalo",
          "Kerrostalo",
          "Kerrostalo",
          "Kerrostalo",
          "Kerrostalo",
          "Kerrostalo",
          "Kerrostalo",
          "Kerrostalo",
          "Kerrostalo",
          "Kerrostalo",
          "Kerrostalo",
          "Kerrostalo",
          "Kerrostalo",
          "Kerrostalo",
          "Kerrostalo",
          "Kerrostalo",
          "Kerrostalo",
          "Kerrostalo",
          "Kerrostalo",
          "Kerrostalo",
          "Kerrostalo",
          "Kerrostalo",
          "Kerrostalo",
          "Kerrostalo",
          "Kerrostalo",
          "Kerrostalo",
          "Kerrostalo",
          "Kerrostalo",
          "Kerrostalo",
          "Kerrostalo",
          "Kerrostalo",
          "Kerrostalo",
          "Kerrostalo",
          "Kerrostalo",
          "Kerrostalo",
          "Kerrostalo",
          "Kerrostalo",
          "Kerrostalo",
          "Kerrostalo",
          "Kerrostalo",
          "Kerrostalo",
          "Kerrostalo",
          "Kerrostalo",
          "Kerrostalo",
          "Kerrostalo",
          "Kerrostalo",
          "Kerrostalo",
          "Kerrostalo",
          "Kerrostalo",
          "Kerrostalo",
          "Kerrostalo",
          "Kerrostalo",
          "Kerrostalo",
          "Kerrostalo",
          "Kerrostalo",
          "Kerrostalo",
          "Kerrostalo",
          "Kerrostalo",
          "Kerrostalo",
          "Kerrostalo",
          "Kerrostalo",
          "Kerrostalo",
          "Kerrostalo",
          "Kerrostalo",
          "Kerrostalo",
          "Kerrostalo",
          "Kerrostalo",
          "Kerrostalo",
          "Kerrostalo",
          "Kerrostalo",
          "Kerrostalo",
          "Kerrostalo",
          "Kerrostalo",
          "Kerrostalo",
          "Kerrostalo",
          "Kerrostalo",
          "Kerrostalo",
          "Kerrostalo",
          "Kerrostalo",
          "Kerrostalo",
          "Kerrostalo",
          "Kerrostalo",
          "Kerrostalo",
          "Kerrostalo",
          "Kerrostalo",
          "Kerrostalo",
          "Kerrostalo",
          "Kerrostalo",
          "Kerrostalo",
          "Kerrostalo",
          "Kerrostalo",
          "Kerrostalo",
          "Kerrostalo",
          "Kerrostalo",
          "Kerrostalo",
          "Kerrostalo",
          "Kerrostalo",
          "Kerrostalo",
          "Kerrostalo",
          "Kerrostalo",
          "Kerrostalo",
          "Kerrostalo",
          "Kerrostalo",
          "Kerrostalo",
          "Kerrostalo",
          "Kerrostalo",
          "Kerrostalo",
          "Kerrostalo",
          "Kerrostalo",
          "Kerrostalo",
          "Kerrostalo",
          "Kerrostalo",
          "Kerrostalo",
          "Kerrostalo",
          "Kerrostalo",
          "Kerrostalo",
          "Kerrostalo",
          "Kerrostalo",
          "Kerrostalo",
          "Kerrostalo",
          "Kerrostalo",
          "Kerrostalo",
          "Kerrostalo",
          "Kerrostalo",
          "Kerrostalo",
          "Kerrostalo",
          "Kerrostalo",
          "Kerrostalo",
          "Kerrostalo",
          "Kerrostalo",
          "Kerrostalo",
          "Kerrostalo",
          "Kerrostalo",
          "Kerrostalo",
          "Kerrostalo",
          "Kerrostalo",
          "Kerrostalo",
          "Kerrostalo",
          "Kerrostalo",
          "Kerrostalo",
          "Kerrostalo",
          "Kerrostalo",
          "Kerrostalo",
          "Kerrostalo",
          "Kerrostalo",
          "Kerrostalo",
          "Kerrostalo",
          "Kerrostalo",
          "Kerrostalo",
          "Kerrostalo",
          "Kerrostalo",
          "Kerrostalo",
          "Kerrostalo",
          "Kerrostalo",
          "Kerrostalo",
          "Kerrostalo",
          "Kerrostalo",
          "Kerrostalo",
          "Kerrostalo",
          "Kerrostalo",
          "Kerrostalo",
          "Kerrostalo",
          "Kerrostalo",
          "Kerrostalo",
          "Kerrostalo",
          "Kerrostalo",
          "Kerrostalo",
          "Kerrostalo",
          "Kerrostalo",
          "Kerrostalo",
          "Kerrostalo",
          "Kerrostalo",
          "Kerrostalo",
          "Kerrostalo",
          "Kerrostalo",
          "Kerrostalo",
          "Kerrostalo",
          "Kerrostalo",
          "Kerrostalo",
          "Kerrostalo",
          "Kerrostalo",
          "Kerrostalo",
          "Kerrostalo",
          "Kerrostalo",
          "Kerrostalo",
          "Kerrostalo",
          "Kerrostalo",
          "Kerrostalo",
          "Kerrostalo",
          "Kerrostalo",
          "Kerrostalo",
          "Kerrostalo",
          "Kerrostalo",
          "Kerrostalo",
          "Kerrostalo",
          "Kerrostalo",
          "Kerrostalo",
          "Kerrostalo",
          "Kerrostalo",
          "Kerrostalo",
          "Kerrostalo",
          "Kerrostalo",
          "Kerrostalo",
          "Kerrostalo",
          "Kerrostalo",
          "Kerrostalo",
          "Kerrostalo",
          "Kerrostalo",
          "Kerrostalo",
          "Kerrostalo",
          "Kerrostalo",
          "Kerrostalo",
          "Kerrostalo",
          "Kerrostalo",
          "Kerrostalo",
          "Kerrostalo",
          "Kerrostalo",
          "Kerrostalo",
          "Kerrostalo",
          "Kerrostalo",
          "Kerrostalo",
          "Kerrostalo",
          "Kerrostalo",
          "Kerrostalo",
          "Kerrostalo",
          "Kerrostalo",
          "Kerrostalo",
          "Kerrostalo",
          "Kerrostalo",
          "Kerrostalo",
          "Kerrostalo",
          "Kerrostalo",
          "Kerrostalo",
          "Kerrostalo",
          "Kerrostalo",
          "Kerrostalo",
          "Kerrostalo",
          "Kerrostalo",
          "Kerrostalo",
          "Kerrostalo",
          "Kerrostalo",
          "Kerrostalo",
          "Kerrostalo",
          "Kerrostalo",
          "Kerrostalo",
          "Kerrostalo",
          "Kerrostalo",
          "Kerrostalo",
          "Kerrostalo",
          "Kerrostalo",
          "Kerrostalo",
          "Kerrostalo",
          "Kerrostalo",
          "Kerrostalo",
          "Kerrostalo",
          "Kerrostalo",
          "Kerrostalo",
          "Kerrostalo",
          "Kerrostalo",
          "Kerrostalo",
          "Kerrostalo",
          "Kerrostalo",
          "Kerrostalo",
          "Kerrostalo",
          "Kerrostalo",
          "Kerrostalo",
          "Kerrostalo",
          "Kerrostalo",
          "Kerrostalo",
          "Kerrostalo",
          "Kerrostalo",
          "Kerrostalo",
          "Kerrostalo",
          "Kerrostalo",
          "Kerrostalo",
          "Kerrostalo",
          "Kerrostalo",
          "Kerrostalo",
          "Kerrostalo",
          "Kerrostalo",
          "Kerrostalo",
          "Kerrostalo",
          "Kerrostalo",
          "Kerrostalo",
          "Kerrostalo",
          "Kerrostalo",
          "Kerrostalo",
          "Kerrostalo",
          "Kerrostalo",
          "Kerrostalo",
          "Kerrostalo",
          "Kerrostalo",
          "Kerrostalo",
          "Kerrostalo",
          "Kerrostalo",
          "Kerrostalo",
          "Kerrostalo",
          "Kerrostalo",
          "Kerrostalo",
          "Kerrostalo",
          "Kerrostalo",
          "Kerrostalo",
          "Kerrostalo",
          "Kerrostalo",
          "Kerrostalo",
          "Kerrostalo",
          "Kerrostalo",
          "Kerrostalo",
          "Kerrostalo",
          "Kerrostalo",
          "Kerrostalo",
          "Kerrostalo",
          "Kerrostalo",
          "Kerrostalo",
          "Kerrostalo",
          "Kerrostalo",
          "Kerrostalo",
          "Kerrostalo",
          "Kerrostalo",
          "Kerrostalo",
          "Kerrostalo",
          "Kerrostalo",
          "Kerrostalo",
          "Kerrostalo",
          "Kerrostalo",
          "Kerrostalo",
          "Kerrostalo",
          "Kerrostalo",
          "Kerrostalo",
          "Kerrostalo",
          "Kerrostalo",
          "Kerrostalo",
          "Kerrostalo",
          "Kerrostalo",
          "Kerrostalo",
          "Kerrostalo",
          "Kerrostalo",
          "Kerrostalo",
          "Kerrostalo",
          "Kerrostalo",
          "Kerrostalo",
          "Kerrostalo",
          "Kerrostalo",
          "Kerrostalo",
          "Kerrostalo",
          "Kerrostalo",
          "Kerrostalo",
          "Kerrostalo",
          "Kerrostalo",
          "Kerrostalo",
          "Kerrostalo",
          "Kerrostalo",
          "Kerrostalo",
          "Kerrostalo",
          "Kerrostalo",
          "Kerrostalo",
          "Kerrostalo",
          "Kerrostalo",
          "Kerrostalo",
          "Kerrostalo",
          "Kerrostalo",
          "Kerrostalo",
          "Kerrostalo",
          "Kerrostalo",
          "Kerrostalo",
          "Kerrostalo",
          "Kerrostalo",
          "Kerrostalo",
          "Kerrostalo",
          "Kerrostalo",
          "Kerrostalo",
          "Kerrostalo",
          "Kerrostalo",
          "Kerrostalo",
          "Kerrostalo",
          "Kerrostalo",
          "Kerrostalo",
          "Kerrostalo",
          "Kerrostalo",
          "Kerrostalo",
          "Kerrostalo",
          "Kerrostalo",
          "Kerrostalo",
          "Kerrostalo",
          "Kerrostalo",
          "Kerrostalo",
          "Kerrostalo",
          "Kerrostalo",
          "Kerrostalo",
          "Kerrostalo",
          "Kerrostalo",
          "Kerrostalo",
          "Kerrostalo",
          "Kerrostalo",
          "Kerrostalo",
          "Kerrostalo",
          "Kerrostalo",
          "Kerrostalo",
          "Kerrostalo",
          "Kerrostalo",
          "Kerrostalo",
          "Kerrostalo",
          "Kerrostalo",
          "Kerrostalo",
          "Kerrostalo",
          "Kerrostalo",
          "Kerrostalo",
          "Kerrostalo",
          "Kerrostalo",
          "Kerrostalo",
          "Kerrostalo",
          "Kerrostalo",
          "Kerrostalo",
          "Kerrostalo",
          "Kerrostalo",
          "Kerrostalo",
          "Kerrostalo",
          "Kerrostalo",
          "Kerrostalo",
          "Kerrostalo",
          "Kerrostalo",
          "Kerrostalo",
          "Kerrostalo",
          "Kerrostalo",
          "Kerrostalo",
          "Kerrostalo",
          "Kerrostalo",
          "Kerrostalo",
          "Kerrostalo",
          "Kerrostalo",
          "Kerrostalo",
          "Kerrostalo",
          "Kerrostalo",
          "Kerrostalo",
          "Kerrostalo",
          "Kerrostalo",
          "Kerrostalo",
          "Kerrostalo",
          "Kerrostalo",
          "Kerrostalo",
          "Kerrostalo",
          "Kerrostalo",
          "Kerrostalo",
          "Kerrostalo",
          "Kerrostalo",
          "Kerrostalo",
          "Kerrostalo",
          "Kerrostalo",
          "Kerrostalo",
          "Kerrostalo",
          "Kerrostalo",
          "Kerrostalo",
          "Kerrostalo",
          "Kerrostalo",
          "Kerrostalo",
          "Kerrostalo",
          "Kerrostalo",
          "Kerrostalo",
          "Kerrostalo",
          "Kerrostalo",
          "Kerrostalo",
          "Kerrostalo",
          "Kerrostalo",
          "Kerrostalo",
          "Kerrostalo",
          "Kerrostalo",
          "Kerrostalo",
          "Kerrostalo",
          "Kerrostalo",
          "Kerrostalo",
          "Kerrostalo",
          "Kerrostalo",
          "Kerrostalo",
          "Kerrostalo",
          "Kerrostalo",
          "Kerrostalo",
          "Kerrostalo",
          "Kerrostalo",
          "Kerrostalo",
          "Kerrostalo",
          "Kerrostalo",
          "Kerrostalo",
          "Kerrostalo",
          "Kerrostalo",
          "Kerrostalo",
          "Kerrostalo",
          "Kerrostalo",
          "Kerrostalo",
          "Kerrostalo",
          "Kerrostalo",
          "Kerrostalo",
          "Kerrostalo",
          "Kerrostalo",
          "Kerrostalo",
          "Kerrostalo",
          "Kerrostalo",
          "Kerrostalo",
          "Kerrostalo",
          "Kerrostalo",
          "Kerrostalo",
          "Kerrostalo",
          "Kerrostalo",
          "Kerrostalo",
          "Kerrostalo",
          "Kerrostalo",
          "Kerrostalo",
          "Kerrostalo",
          "Kerrostalo",
          "Kerrostalo",
          "Kerrostalo",
          "Kerrostalo",
          "Kerrostalo",
          "Kerrostalo",
          "Kerrostalo",
          "Kerrostalo",
          "Kerrostalo",
          "Kerrostalo",
          "Kerrostalo",
          "Kerrostalo",
          "Kerrostalo",
          "Kerrostalo",
          "Kerrostalo",
          "Kerrostalo",
          "Kerrostalo",
          "Kerrostalo",
          "Kerrostalo",
          "Kerrostalo",
          "Kerrostalo",
          "Kerrostalo",
          "Kerrostalo",
          "Kerrostalo",
          "Kerrostalo",
          "Kerrostalo",
          "Kerrostalo",
          "Kerrostalo",
          "Kerrostalo",
          "Kerrostalo",
          "Kerrostalo",
          "Kerrostalo",
          "Kerrostalo",
          "Kerrostalo",
          "Kerrostalo",
          "Kerrostalo",
          "Kerrostalo",
          "Kerrostalo",
          "Kerrostalo",
          "Kerrostalo",
          "Kerrostalo",
          "Kerrostalo",
          "Kerrostalo",
          "Kerrostalo",
          "Kerrostalo",
          "Kerrostalo",
          "Kerrostalo",
          "Kerrostalo",
          "Kerrostalo",
          "Kerrostalo",
          "Kerrostalo",
          "Kerrostalo",
          "Kerrostalo",
          "Kerrostalo",
          "Kerrostalo",
          "Kerrostalo",
          "Kerrostalo",
          "Kerrostalo",
          "Kerrostalo",
          "Kerrostalo",
          "Kerrostalo",
          "Kerrostalo",
          "Kerrostalo",
          "Kerrostalo",
          "Kerrostalo",
          "Kerrostalo",
          "Kerrostalo",
          "Kerrostalo",
          "Kerrostalo",
          "Kerrostalo",
          "Kerrostalo",
          "Kerrostalo",
          "Kerrostalo",
          "Kerrostalo",
          "Kerrostalo",
          "Kerrostalo",
          "Kerrostalo",
          "Kerrostalo",
          "Kerrostalo",
          "Kerrostalo",
          "Kerrostalo",
          "Kerrostalo",
          "Kerrostalo",
          "Kerrostalo",
          "Kerrostalo",
          "Kerrostalo",
          "Kerrostalo",
          "Kerrostalo",
          "Kerrostalo",
          "Kerrostalo",
          "Kerrostalo",
          "Kerrostalo",
          "Kerrostalo",
          "Kerrostalo",
          "Kerrostalo",
          "Kerrostalo",
          "Kerrostalo",
          "Kerrostalo",
          "Kerrostalo",
          "Kerrostalo",
          "Kerrostalo",
          "Kerrostalo",
          "Kerrostalo",
          "Kerrostalo",
          "Kerrostalo",
          "Kerrostalo",
          "Kerrostalo",
          "Kerrostalo",
          "Kerrostalo",
          "Kerrostalo",
          "Kerrostalo",
          "Kerrostalo",
          "Kerrostalo",
          "Kerrostalo",
          "Kerrostalo",
          "Kerrostalo",
          "Kerrostalo",
          "Kerrostalo",
          "Kerrostalo",
          "Kerrostalo",
          "Kerrostalo",
          "Kerrostalo",
          "Kerrostalo",
          "Kerrostalo",
          "Kerrostalo",
          "Kerrostalo",
          "Kerrostalo",
          "Kerrostalo",
          "Kerrostalo",
          "Kerrostalo",
          "Kerrostalo",
          "Kerrostalo",
          "Kerrostalo",
          "Kerrostalo",
          "Kerrostalo",
          "Kerrostalo",
          "Kerrostalo",
          "Kerrostalo",
          "Kerrostalo",
          "Kerrostalo",
          "Kerrostalo",
          "Kerrostalo",
          "Kerrostalo",
          "Kerrostalo",
          "Kerrostalo",
          "Kerrostalo",
          "Kerrostalo",
          "Kerrostalo",
          "Kerrostalo",
          "Kerrostalo",
          "Kerrostalo",
          "Kerrostalo",
          "Kerrostalo",
          "Kerrostalo",
          "Kerrostalo",
          "Kerrostalo",
          "Kerrostalo",
          "Kerrostalo",
          "Kerrostalo",
          "Kerrostalo",
          "Kerrostalo",
          "Kerrostalo",
          "Kerrostalo",
          "Kerrostalo",
          "Kerrostalo",
          "Kerrostalo",
          "Kerrostalo",
          "Kerrostalo",
          "Kerrostalo",
          "Kerrostalo",
          "Kerrostalo",
          "Kerrostalo",
          "Kerrostalo",
          "Kerrostalo",
          "Kerrostalo",
          "Kerrostalo",
          "Kerrostalo",
          "Kerrostalo",
          "Kerrostalo",
          "Kerrostalo",
          "Kerrostalo",
          "Kerrostalo",
          "Kerrostalo",
          "Kerrostalo",
          "Kerrostalo",
          "Kerrostalo",
          "Kerrostalo",
          "Kerrostalo",
          "Kerrostalo",
          "Kerrostalo",
          "Kerrostalo",
          "Kerrostalo",
          "Kerrostalo",
          "Kerrostalo",
          "Kerrostalo",
          "Kerrostalo",
          "Kerrostalo",
          "Kerrostalo",
          "Kerrostalo",
          "Kerrostalo",
          "Kerrostalo",
          "Kerrostalo",
          "Kerrostalo",
          "Kerrostalo",
          "Kerrostalo",
          "Kerrostalo",
          "Kerrostalo",
          "Kerrostalo",
          "Kerrostalo",
          "Kerrostalo",
          "Kerrostalo",
          "Kerrostalo",
          "Kerrostalo",
          "Kerrostalo",
          "Kerrostalo",
          "Kerrostalo",
          "Kerrostalo",
          "Kerrostalo",
          "Kerrostalo",
          "Kerrostalo",
          "Kerrostalo",
          "Kerrostalo",
          "Kerrostalo",
          "Kerrostalo",
          "Kerrostalo",
          "Kerrostalo",
          "Kerrostalo",
          "Kerrostalo",
          "Kerrostalo",
          "Kerrostalo",
          "Kerrostalo",
          "Kerrostalo",
          "Kerrostalo",
          "Kerrostalo",
          "Kerrostalo",
          "Kerrostalo",
          "Kerrostalo",
          "Kerrostalo",
          "Kerrostalo",
          "Kerrostalo",
          "Kerrostalo",
          "Kerrostalo",
          "Kerrostalo",
          "Kerrostalo",
          "Kerrostalo",
          "Kerrostalo",
          "Kerrostalo",
          "Kerrostalo",
          "Kerrostalo",
          "Kerrostalo",
          "Kerrostalo",
          "Kerrostalo",
          "Kerrostalo",
          "Kerrostalo",
          "Kerrostalo",
          "Kerrostalo",
          "Kerrostalo",
          "Kerrostalo",
          "Kerrostalo",
          "Kerrostalo",
          "Kerrostalo",
          "Kerrostalo",
          "Kerrostalo",
          "Kerrostalo",
          "Kerrostalo",
          "Kerrostalo",
          "Kerrostalo",
          "Kerrostalo",
          "Kerrostalo",
          "Kerrostalo",
          "Kerrostalo",
          "Kerrostalo",
          "Kerrostalo",
          "Kerrostalo",
          "Kerrostalo",
          "Kerrostalo",
          "Kerrostalo",
          "Kerrostalo",
          "Kerrostalo",
          "Kerrostalo",
          "Kerrostalo",
          "Kerrostalo",
          "Kerrostalo",
          "Kerrostalo",
          "Kerrostalo",
          "Kerrostalo",
          "Kerrostalo",
          "Kerrostalo",
          "Kerrostalo",
          "Kerrostalo",
          "Kerrostalo",
          "Kerrostalo",
          "Kerrostalo",
          "Kerrostalo",
          "Kerrostalo",
          "Kerrostalo",
          "Kerrostalo",
          "Kerrostalo",
          "Kerrostalo",
          "Kerrostalo",
          "Kerrostalo",
          "Kerrostalo",
          "Kerrostalo",
          "Kerrostalo",
          "Kerrostalo",
          "Kerrostalo",
          "Kerrostalo",
          "Kerrostalo",
          "Kerrostalo",
          "Kerrostalo",
          "Kerrostalo",
          "Kerrostalo",
          "Kerrostalo",
          "Kerrostalo",
          "Kerrostalo",
          "Kerrostalo",
          "Kerrostalo",
          "Kerrostalo",
          "Kerrostalo",
          "Kerrostalo",
          "Kerrostalo",
          "Kerrostalo",
          "Kerrostalo",
          "Kerrostalo",
          "Kerrostalo",
          "Kerrostalo",
          "Kerrostalo",
          "Kerrostalo",
          "Kerrostalo",
          "Kerrostalo",
          "Kerrostalo",
          "Kerrostalo",
          "Kerrostalo",
          "Kerrostalo",
          "Kerrostalo",
          "Kerrostalo",
          "Kerrostalo",
          "Kerrostalo",
          "Kerrostalo",
          "Kerrostalo",
          "Kerrostalo",
          "Kerrostalo",
          "Kerrostalo",
          "Kerrostalo",
          "Kerrostalo",
          "Kerrostalo",
          "Kerrostalo",
          "Kerrostalo",
          "Kerrostalo",
          "Kerrostalo",
          "Kerrostalo",
          "Kerrostalo",
          "Kerrostalo",
          "Kerrostalo",
          "Kerrostalo",
          "Kerrostalo",
          "Kerrostalo",
          "Kerrostalo",
          "Kerrostalo",
          "Kerrostalo",
          "Kerrostalo",
          "Kerrostalo",
          "Kerrostalo",
          "Kerrostalo",
          "Kerrostalo",
          "Kerrostalo",
          "Kerrostalo",
          "Kerrostalo",
          "Kerrostalo",
          "Kerrostalo",
          "Kerrostalo",
          "Kerrostalo",
          "Kerrostalo",
          "Kerrostalo",
          "Kerrostalo",
          "Kerrostalo",
          "Kerrostalo",
          "Kerrostalo",
          "Kerrostalo",
          "Kerrostalo",
          "Kerrostalo",
          "Kerrostalo",
          "Kerrostalo",
          "Kerrostalo",
          "Kerrostalo",
          "Kerrostalo",
          "Kerrostalo",
          "Kerrostalo",
          "Kerrostalo",
          "Kerrostalo",
          "Kerrostalo",
          "Kerrostalo",
          "Kerrostalo",
          "Kerrostalo",
          "Kerrostalo",
          "Kerrostalo",
          "Kerrostalo",
          "Kerrostalo",
          "Kerrostalo",
          "Kerrostalo",
          "Kerrostalo",
          "Kerrostalo",
          "Kerrostalo",
          "Kerrostalo",
          "Kerrostalo",
          "Kerrostalo",
          "Kerrostalo",
          "Kerrostalo",
          "Kerrostalo",
          "Kerrostalo",
          "Kerrostalo",
          "Kerrostalo",
          "Kerrostalo",
          "Kerrostalo",
          "Kerrostalo",
          "Kerrostalo",
          "Kerrostalo",
          "Kerrostalo",
          "Kerrostalo",
          "Kerrostalo",
          "Kerrostalo",
          "Kerrostalo",
          "Kerrostalo",
          "Kerrostalo",
          "Kerrostalo",
          "Kerrostalo",
          "Kerrostalo",
          "Kerrostalo",
          "Kerrostalo",
          "Kerrostalo",
          "Kerrostalo",
          "Kerrostalo",
          "Kerrostalo",
          "Kerrostalo",
          "Kerrostalo",
          "Kerrostalo",
          "Kerrostalo",
          "Kerrostalo",
          "Kerrostalo",
          "Kerrostalo",
          "Kerrostalo",
          "Kerrostalo",
          "Kerrostalo",
          "Kerrostalo",
          "Kerrostalo",
          "Kerrostalo",
          "Kerrostalo",
          "Kerrostalo",
          "Kerrostalo",
          "Kerrostalo",
          "Kerrostalo",
          "Kerrostalo",
          "Kerrostalo",
          "Kerrostalo",
          "Kerrostalo",
          "Kerrostalo",
          "Kerrostalo",
          "Kerrostalo",
          "Kerrostalo",
          "Kerrostalo",
          "Kerrostalo",
          "Kerrostalo",
          "Kerrostalo",
          "Kerrostalo",
          "Kerrostalo",
          "Kerrostalo",
          "Kerrostalo",
          "Kerrostalo",
          "Kerrostalo",
          "Kerrostalo",
          "Kerrostalo",
          "Kerrostalo",
          "Kerrostalo",
          "Kerrostalo",
          "Kerrostalo",
          "Kerrostalo",
          "Kerrostalo",
          "Kerrostalo",
          "Kerrostalo",
          "Kerrostalo",
          "Kerrostalo",
          "Kerrostalo",
          "Kerrostalo",
          "Kerrostalo",
          "Kerrostalo",
          "Kerrostalo",
          "Kerrostalo",
          "Kerrostalo",
          "Kerrostalo",
          "Kerrostalo",
          "Kerrostalo",
          "Kerrostalo",
          "Kerrostalo",
          "Kerrostalo",
          "Kerrostalo",
          "Kerrostalo",
          "Kerrostalo",
          "Kerrostalo",
          "Kerrostalo",
          "Kerrostalo",
          "Kerrostalo",
          "Kerrostalo",
          "Kerrostalo",
          "Kerrostalo",
          "Kerrostalo",
          "Kerrostalo",
          "Kerrostalo",
          "Kerrostalo",
          "Kerrostalo",
          "Kerrostalo",
          "Kerrostalo",
          "Kerrostalo",
          "Kerrostalo",
          "Kerrostalo",
          "Kerrostalo",
          "Kerrostalo",
          "Kerrostalo",
          "Kerrostalo",
          "Kerrostalo",
          "Kerrostalo",
          "Kerrostalo",
          "Kerrostalo",
          "Kerrostalo",
          "Kerrostalo",
          "Kerrostalo",
          "Kerrostalo",
          "Kerrostalo",
          "Kerrostalo",
          "Kerrostalo",
          "Kerrostalo",
          "Kerrostalo",
          "Kerrostalo",
          "Kerrostalo",
          "Kerrostalo",
          "Kerrostalo",
          "Kerrostalo",
          "Kerrostalo",
          "Kerrostalo",
          "Kerrostalo",
          "Kerrostalo",
          "Kerrostalo",
          "Kerrostalo",
          "Kerrostalo",
          "Kerrostalo",
          "Kerrostalo",
          "Kerrostalo",
          "Kerrostalo",
          "Kerrostalo",
          "Kerrostalo",
          "Kerrostalo",
          "Kerrostalo",
          "Kerrostalo",
          "Kerrostalo",
          "Kerrostalo",
          "Kerrostalo",
          "Kerrostalo",
          "Kerrostalo",
          "Kerrostalo",
          "Kerrostalo",
          "Kerrostalo",
          "Kerrostalo",
          "Kerrostalo",
          "Kerrostalo",
          "Kerrostalo",
          "Kerrostalo",
          "Kerrostalo",
          "Kerrostalo",
          "Kerrostalo",
          "Kerrostalo",
          "Kerrostalo",
          "Kerrostalo",
          "Kerrostalo",
          "Kerrostalo",
          "Kerrostalo",
          "Kerrostalo",
          "Kerrostalo",
          "Kerrostalo",
          "Kerrostalo",
          "Kerrostalo",
          "Kerrostalo",
          "Kerrostalo",
          "Kerrostalo",
          "Kerrostalo",
          "Kerrostalo",
          "Kerrostalo",
          "Kerrostalo",
          "Kerrostalo",
          "Kerrostalo",
          "Kerrostalo",
          "Kerrostalo",
          "Kerrostalo",
          "Kerrostalo",
          "Kerrostalo",
          "Kerrostalo",
          "Kerrostalo",
          "Kerrostalo",
          "Kerrostalo",
          "Kerrostalo",
          "Kerrostalo",
          "Kerrostalo",
          "Kerrostalo",
          "Kerrostalo",
          "Kerrostalo",
          "Kerrostalo",
          "Kerrostalo",
          "Kerrostalo",
          "Kerrostalo",
          "Kerrostalo",
          "Kerrostalo",
          "Kerrostalo",
          "Kerrostalo",
          "Kerrostalo",
          "Kerrostalo",
          "Kerrostalo",
          "Kerrostalo",
          "Kerrostalo",
          "Kerrostalo",
          "Kerrostalo",
          "Kerrostalo",
          "Kerrostalo",
          "Kerrostalo",
          "Kerrostalo",
          "Kerrostalo",
          "Kerrostalo",
          "Kerrostalo",
          "Kerrostalo",
          "Kerrostalo",
          "Kerrostalo",
          "Kerrostalo",
          "Kerrostalo",
          "Kerrostalo",
          "Kerrostalo",
          "Kerrostalo",
          "Kerrostalo",
          "Kerrostalo",
          "Kerrostalo",
          "Kerrostalo",
          "Kerrostalo",
          "Kerrostalo",
          "Kerrostalo",
          "Kerrostalo",
          "Kerrostalo",
          "Kerrostalo",
          "Kerrostalo",
          "Kerrostalo",
          "Kerrostalo",
          "Kerrostalo",
          "Kerrostalo",
          "Kerrostalo",
          "Kerrostalo",
          "Kerrostalo",
          "Kerrostalo",
          "Kerrostalo",
          "Kerrostalo",
          "Kerrostalo",
          "Kerrostalo",
          "Kerrostalo",
          "Kerrostalo",
          "Kerrostalo",
          "Kerrostalo",
          "Kerrostalo",
          "Kerrostalo",
          "Kerrostalo",
          "Kerrostalo",
          "Kerrostalo",
          "Kerrostalo",
          "Kerrostalo",
          "Kerrostalo",
          "Kerrostalo",
          "Kerrostalo",
          "Kerrostalo",
          "Kerrostalo",
          "Kerrostalo",
          "Kerrostalo",
          "Kerrostalo",
          "Kerrostalo",
          "Kerrostalo",
          "Kerrostalo",
          "Kerrostalo",
          "Kerrostalo",
          "Kerrostalo",
          "Kerrostalo",
          "Kerrostalo",
          "Kerrostalo",
          "Kerrostalo",
          "Kerrostalo",
          "Kerrostalo",
          "Kerrostalo",
          "Kerrostalo",
          "Kerrostalo",
          "Kerrostalo",
          "Kerrostalo",
          "Kerrostalo",
          "Kerrostalo",
          "Kerrostalo",
          "Kerrostalo",
          "Kerrostalo",
          "Kerrostalo",
          "Kerrostalo",
          "Kerrostalo",
          "Kerrostalo",
          "Kerrostalo",
          "Kerrostalo",
          "Kerrostalo",
          "Kerrostalo",
          "Kerrostalo",
          "Kerrostalo",
          "Kerrostalo",
          "Kerrostalo",
          "Kerrostalo",
          "Kerrostalo",
          "Kerrostalo",
          "Kerrostalo",
          "Kerrostalo",
          "Kerrostalo",
          "Kerrostalo",
          "Kerrostalo",
          "Kerrostalo",
          "Kerrostalo",
          "Kerrostalo",
          "Kerrostalo",
          "Kerrostalo",
          "Kerrostalo",
          "Kerrostalo",
          "Kerrostalo",
          "Kerrostalo",
          "Kerrostalo",
          "Kerrostalo",
          "Kerrostalo",
          "Kerrostalo",
          "Kerrostalo",
          "Kerrostalo",
          "Kerrostalo",
          "Kerrostalo",
          "Kerrostalo",
          "Kerrostalo",
          "Kerrostalo",
          "Kerrostalo",
          "Kerrostalo",
          "Kerrostalo",
          "Kerrostalo",
          "Kerrostalo",
          "Kerrostalo",
          "Kerrostalo",
          "Kerrostalo",
          "Kerrostalo",
          "Kerrostalo",
          "Kerrostalo",
          "Kerrostalo",
          "Kerrostalo",
          "Kerrostalo",
          "Kerrostalo",
          "Kerrostalo",
          "Kerrostalo",
          "Kerrostalo",
          "Kerrostalo",
          "Kerrostalo",
          "Kerrostalo",
          "Kerrostalo",
          "Kerrostalo",
          "Kerrostalo",
          "Kerrostalo",
          "Kerrostalo",
          "Kerrostalo",
          "Kerrostalo",
          "Kerrostalo",
          "Kerrostalo",
          "Kerrostalo",
          "Kerrostalo",
          "Kerrostalo",
          "Kerrostalo",
          "Kerrostalo",
          "Kerrostalo",
          "Kerrostalo",
          "Kerrostalo",
          "Kerrostalo",
          "Kerrostalo",
          "Kerrostalo",
          "Kerrostalo",
          "Kerrostalo",
          "Kerrostalo",
          "Kerrostalo",
          "Kerrostalo",
          "Kerrostalo",
          "Kerrostalo",
          "Kerrostalo",
          "Kerrostalo",
          "Kerrostalo",
          "Kerrostalo",
          "Kerrostalo",
          "Kerrostalo",
          "Kerrostalo",
          "Kerrostalo",
          "Kerrostalo",
          "Kerrostalo",
          "Kerrostalo",
          "Kerrostalo",
          "Kerrostalo",
          "Kerrostalo",
          "Kerrostalo",
          "Kerrostalo",
          "Kerrostalo",
          "Kerrostalo",
          "Kerrostalo",
          "Kerrostalo",
          "Kerrostalo",
          "Kerrostalo",
          "Kerrostalo",
          "Kerrostalo",
          "Kerrostalo",
          "Kerrostalo",
          "Kerrostalo",
          "Kerrostalo",
          "Kerrostalo",
          "Kerrostalo",
          "Kerrostalo",
          "Kerrostalo",
          "Kerrostalo",
          "Kerrostalo",
          "Kerrostalo",
          "Kerrostalo",
          "Kerrostalo",
          "Kerrostalo",
          "Kerrostalo",
          "Kerrostalo",
          "Kerrostalo",
          "Kerrostalo",
          "Kerrostalo",
          "Kerrostalo",
          "Kerrostalo",
          "Kerrostalo",
          "Kerrostalo",
          "Kerrostalo",
          "Kerrostalo",
          "Kerrostalo",
          "Kerrostalo",
          "Kerrostalo",
          "Kerrostalo",
          "Kerrostalo",
          "Kerrostalo",
          "Kerrostalo",
          "Kerrostalo",
          "Kerrostalo",
          "Kerrostalo",
          "Kerrostalo",
          "Kerrostalo",
          "Kerrostalo",
          "Kerrostalo",
          "Kerrostalo",
          "Kerrostalo",
          "Kerrostalo",
          "Kerrostalo",
          "Kerrostalo",
          "Kerrostalo",
          "Kerrostalo",
          "Kerrostalo",
          "Kerrostalo",
          "Kerrostalo",
          "Kerrostalo",
          "Kerrostalo",
          "Kerrostalo",
          "Kerrostalo",
          "Kerrostalo",
          "Kerrostalo",
          "Kerrostalo",
          "Kerrostalo",
          "Kerrostalo",
          "Kerrostalo",
          "Kerrostalo",
          "Kerrostalo",
          "Kerrostalo",
          "Kerrostalo",
          "Kerrostalo",
          "Kerrostalo",
          "Kerrostalo",
          "Kerrostalo",
          "Kerrostalo",
          "Kerrostalo",
          "Kerrostalo",
          "Kerrostalo",
          "Kerrostalo",
          "Kerrostalo",
          "Kerrostalo",
          "Kerrostalo",
          "Kerrostalo",
          "Kerrostalo",
          "Kerrostalo",
          "Kerrostalo",
          "Kerrostalo",
          "Kerrostalo",
          "Kerrostalo",
          "Kerrostalo",
          "Kerrostalo",
          "Kerrostalo",
          "Kerrostalo",
          "Kerrostalo",
          "Kerrostalo",
          "Kerrostalo",
          "Kerrostalo",
          "Kerrostalo",
          "Kerrostalo",
          "Kerrostalo",
          "Kerrostalo",
          "Kerrostalo",
          "Kerrostalo",
          "Kerrostalo",
          "Kerrostalo",
          "Kerrostalo",
          "Kerrostalo",
          "Kerrostalo",
          "Kerrostalo",
          "Kerrostalo",
          "Kerrostalo",
          "Kerrostalo",
          "Kerrostalo",
          "Kerrostalo",
          "Kerrostalo",
          "Kerrostalo",
          "Kerrostalo",
          "Kerrostalo",
          "Kerrostalo",
          "Kerrostalo",
          "Kerrostalo",
          "Kerrostalo",
          "Kerrostalo",
          "Kerrostalo",
          "Kerrostalo",
          "Kerrostalo",
          "Kerrostalo",
          "Kerrostalo",
          "Kerrostalo",
          "Kerrostalo",
          "Kerrostalo",
          "Kerrostalo",
          "Kerrostalo",
          "Kerrostalo",
          "Kerrostalo",
          "Kerrostalo",
          "Kerrostalo",
          "Kerrostalo",
          "Kerrostalo",
          "Kerrostalo",
          "Kerrostalo",
          "Kerrostalo",
          "Kerrostalo",
          "Kerrostalo",
          "Kerrostalo",
          "Kerrostalo",
          "Kerrostalo",
          "Kerrostalo",
          "Kerrostalo",
          "Kerrostalo",
          "Kerrostalo",
          "Kerrostalo",
          "Kerrostalo",
          "Kerrostalo",
          "Kerrostalo",
          "Kerrostalo",
          "Kerrostalo",
          "Kerrostalo",
          "Kerrostalo",
          "Kerrostalo",
          "Kerrostalo",
          "Kerrostalo",
          "Kerrostalo",
          "Kerrostalo",
          "Kerrostalo",
          "Kerrostalo",
          "Kerrostalo",
          "Kerrostalo",
          "Kerrostalo",
          "Kerrostalo",
          "Kerrostalo",
          "Kerrostalo",
          "Kerrostalo",
          "Kerrostalo",
          "Kerrostalo",
          "Kerrostalo",
          "Kerrostalo",
          "Kerrostalo",
          "Kerrostalo",
          "Kerrostalo",
          "Kerrostalo",
          "Kerrostalo",
          "Kerrostalo",
          "Kerrostalo",
          "Kerrostalo",
          "Kerrostalo",
          "Kerrostalo",
          "Kerrostalo",
          "Kerrostalo",
          "Kerrostalo",
          "Kerrostalo",
          "Kerrostalo",
          "Kerrostalo",
          "Kerrostalo",
          "Kerrostalo",
          "Kerrostalo",
          "Kerrostalo",
          "Kerrostalo",
          "Kerrostalo",
          "Kerrostalo",
          "Kerrostalo",
          "Kerrostalo",
          "Kerrostalo",
          "Kerrostalo",
          "Kerrostalo",
          "Kerrostalo",
          "Kerrostalo",
          "Kerrostalo",
          "Kerrostalo",
          "Kerrostalo",
          "Kerrostalo",
          "Kerrostalo",
          "Kerrostalo",
          "Kerrostalo",
          "Kerrostalo",
          "Kerrostalo",
          "Kerrostalo",
          "Kerrostalo",
          "Kerrostalo",
          "Kerrostalo",
          "Kerrostalo",
          "Kerrostalo",
          "Kerrostalo",
          "Kerrostalo",
          "Kerrostalo",
          "Kerrostalo",
          "Kerrostalo",
          "Kerrostalo",
          "Kerrostalo",
          "Kerrostalo",
          "Kerrostalo",
          "Kerrostalo",
          "Kerrostalo",
          "Kerrostalo",
          "Kerrostalo",
          "Kerrostalo",
          "Kerrostalo",
          "Kerrostalo",
          "Kerrostalo",
          "Kerrostalo",
          "Kerrostalo",
          "Kerrostalo",
          "Kerrostalo",
          "Kerrostalo",
          "Kerrostalo",
          "Kerrostalo",
          "Kerrostalo",
          "Kerrostalo",
          "Kerrostalo",
          "Kerrostalo",
          "Kerrostalo",
          "Kerrostalo",
          "Kerrostalo",
          "Kerrostalo",
          "Kerrostalo",
          "Kerrostalo",
          "Kerrostalo",
          "Kerrostalo",
          "Kerrostalo",
          "Kerrostalo",
          "Kerrostalo",
          "Kerrostalo",
          "Kerrostalo",
          "Kerrostalo",
          "Kerrostalo",
          "Kerrostalo",
          "Kerrostalo",
          "Kerrostalo",
          "Kerrostalo",
          "Kerrostalo",
          "Kerrostalo",
          "Kerrostalo",
          "Kerrostalo",
          "Kerrostalo",
          "Kerrostalo",
          "Kerrostalo",
          "Kerrostalo",
          "Kerrostalo",
          "Kerrostalo",
          "Kerrostalo",
          "Kerrostalo",
          "Kerrostalo",
          "Kerrostalo",
          "Kerrostalo",
          "Kerrostalo",
          "Kerrostalo",
          "Kerrostalo",
          "Kerrostalo",
          "Kerrostalo",
          "Kerrostalo",
          "Kerrostalo",
          "Kerrostalo",
          "Kerrostalo",
          "Kerrostalo",
          "Kerrostalo",
          "Kerrostalo",
          "Kerrostalo",
          "Kerrostalo",
          "Kerrostalo",
          "Kerrostalo",
          "Kerrostalo",
          "Kerrostalo",
          "Kerrostalo",
          "Kerrostalo",
          "Kerrostalo",
          "Kerrostalo",
          "Kerrostalo",
          "Kerrostalo",
          "Kerrostalo",
          "Kerrostalo",
          "Kerrostalo",
          "Kerrostalo",
          "Kerrostalo",
          "Kerrostalo",
          "Kerrostalo",
          "Kerrostalo",
          "Kerrostalo",
          "Kerrostalo",
          "Kerrostalo",
          "Kerrostalo",
          "Kerrostalo",
          "Kerrostalo",
          "Kerrostalo",
          "Kerrostalo",
          "Kerrostalo",
          "Kerrostalo",
          "Kerrostalo",
          "Kerrostalo",
          "Kerrostalo",
          "Kerrostalo",
          "Kerrostalo",
          "Kerrostalo",
          "Kerrostalo",
          "Kerrostalo",
          "Kerrostalo",
          "Kerrostalo",
          "Kerrostalo",
          "Kerrostalo",
          "Kerrostalo",
          "Kerrostalo",
          "Kerrostalo",
          "Kerrostalo",
          "Kerrostalo",
          "Kerrostalo",
          "Kerrostalo",
          "Kerrostalo",
          "Kerrostalo",
          "Kerrostalo",
          "Kerrostalo",
          "Kerrostalo",
          "Kerrostalo",
          "Kerrostalo",
          "Kerrostalo",
          "Kerrostalo",
          "Kerrostalo",
          "Kerrostalo",
          "Kerrostalo",
          "Kerrostalo",
          "Kerrostalo",
          "Kerrostalo",
          "Kerrostalo",
          "Kerrostalo",
          "Kerrostalo",
          "Kerrostalo",
          "Kerrostalo",
          "Kerrostalo",
          "Kerrostalo",
          "Kerrostalo",
          "Kerrostalo",
          "Kerrostalo",
          "Kerrostalo",
          "Kerrostalo",
          "Kerrostalo",
          "Kerrostalo",
          "Kerrostalo",
          "Kerrostalo",
          "Kerrostalo",
          "Kerrostalo",
          "Kerrostalo",
          "Kerrostalo",
          "Kerrostalo",
          "Kerrostalo",
          "Kerrostalo",
          "Kerrostalo",
          "Kerrostalo",
          "Kerrostalo",
          "Kerrostalo",
          "Kerrostalo",
          "Kerrostalo",
          "Kerrostalo",
          "Kerrostalo",
          "Kerrostalo",
          "Kerrostalo",
          "Kerrostalo",
          "Kerrostalo",
          "Kerrostalo",
          "Kerrostalo",
          "Kerrostalo",
          "Kerrostalo",
          "Kerrostalo",
          "Kerrostalo",
          "Kerrostalo",
          "Kerrostalo",
          "Kerrostalo",
          "Kerrostalo",
          "Kerrostalo",
          "Kerrostalo",
          "Kerrostalo",
          "Kerrostalo",
          "Kerrostalo",
          "Kerrostalo",
          "Kerrostalo",
          "Kerrostalo",
          "Kerrostalo",
          "Kerrostalo",
          "Kerrostalo",
          "Kerrostalo",
          "Kerrostalo",
          "Kerrostalo",
          "Kerrostalo",
          "Kerrostalo",
          "Kerrostalo",
          "Kerrostalo",
          "Kerrostalo",
          "Kerrostalo",
          "Kerrostalo",
          "Kerrostalo",
          "Kerrostalo",
          "Kerrostalo",
          "Kerrostalo",
          "Kerrostalo",
          "Kerrostalo",
          "Kerrostalo",
          "Kerrostalo",
          "Kerrostalo",
          "Kerrostalo",
          "Kerrostalo",
          "Kerrostalo",
          "Kerrostalo",
          "Kerrostalo",
          "Kerrostalo",
          "Kerrostalo",
          "Kerrostalo",
          "Kerrostalo",
          "Kerrostalo",
          "Kerrostalo",
          "Kerrostalo",
          "Kerrostalo",
          "Kerrostalo",
          "Kerrostalo",
          "Kerrostalo",
          "Kerrostalo",
          "Kerrostalo",
          "Kerrostalo",
          "Kerrostalo",
          "Kerrostalo",
          "Kerrostalo",
          "Kerrostalo",
          "Kerrostalo",
          "Kerrostalo",
          "Kerrostalo",
          "Kerrostalo",
          "Kerrostalo",
          "Kerrostalo",
          "Kerrostalo",
          "Kerrostalo",
          "Kerrostalo",
          "Kerrostalo",
          "Kerrostalo",
          "Kerrostalo",
          "Kerrostalo",
          "Kerrostalo",
          "Kerrostalo",
          "Kerrostalo",
          "Kerrostalo",
          "Kerrostalo",
          "Kerrostalo",
          "Kerrostalo",
          "Kerrostalo",
          "Kerrostalo",
          "Kerrostalo",
          "Kerrostalo",
          "Kerrostalo",
          "Kerrostalo",
          "Kerrostalo",
          "Kerrostalo",
          "Kerrostalo",
          "Kerrostalo",
          "Kerrostalo",
          "Kerrostalo",
          "Kerrostalo",
          "Kerrostalo",
          "Kerrostalo",
          "Kerrostalo",
          "Kerrostalo",
          "Kerrostalo",
          "Kerrostalo",
          "Kerrostalo",
          "Kerrostalo",
          "Kerrostalo",
          "Kerrostalo",
          "Kerrostalo",
          "Kerrostalo",
          "Kerrostalo",
          "Kerrostalo",
          "Kerrostalo",
          "Kerrostalo",
          "Kerrostalo",
          "Kerrostalo",
          "Kerrostalo",
          "Kerrostalo",
          "Kerrostalo",
          "Kerrostalo",
          "Kerrostalo",
          "Kerrostalo",
          "Kerrostalo",
          "Kerrostalo",
          "Kerrostalo",
          "Kerrostalo",
          "Kerrostalo",
          "Kerrostalo",
          "Kerrostalo",
          "Kerrostalo",
          "Kerrostalo",
          "Kerrostalo",
          "Kerrostalo",
          "Kerrostalo",
          "Kerrostalo",
          "Kerrostalo",
          "Kerrostalo",
          "Kerrostalo",
          "Kerrostalo",
          "Kerrostalo",
          "Kerrostalo",
          "Kerrostalo",
          "Kerrostalo",
          "Kerrostalo",
          "Kerrostalo",
          "Kerrostalo",
          "Kerrostalo",
          "Kerrostalo",
          "Kerrostalo",
          "Kerrostalo",
          "Kerrostalo",
          "Kerrostalo",
          "Kerrostalo",
          "Kerrostalo",
          "Kerrostalo",
          "Kerrostalo",
          "Kerrostalo",
          "Kerrostalo",
          "Kerrostalo",
          "Kerrostalo",
          "Kerrostalo",
          "Kerrostalo",
          "Kerrostalo",
          "Kerrostalo",
          "Kerrostalo",
          "Kerrostalo",
          "Kerrostalo",
          "Kerrostalo",
          "Kerrostalo",
          "Kerrostalo",
          "Kerrostalo",
          "Kerrostalo",
          "Kerrostalo",
          "Kerrostalo",
          "Kerrostalo",
          "Kerrostalo",
          "Kerrostalo",
          "Kerrostalo",
          "Kerrostalo",
          "Kerrostalo",
          "Kerrostalo",
          "Kerrostalo",
          "Kerrostalo",
          "Kerrostalo",
          "Kerrostalo",
          "Kerrostalo",
          "Kerrostalo",
          "Kerrostalo",
          "Kerrostalo",
          "Kerrostalo",
          "Kerrostalo",
          "Kerrostalo",
          "Kerrostalo",
          "Kerrostalo",
          "Kerrostalo",
          "Kerrostalo",
          "Kerrostalo",
          "Kerrostalo",
          "Kerrostalo",
          "Kerrostalo",
          "Kerrostalo",
          "Kerrostalo",
          "Kerrostalo",
          "Kerrostalo",
          "Kerrostalo",
          "Kerrostalo",
          "Kerrostalo",
          "Kerrostalo",
          "Kerrostalo",
          "Kerrostalo",
          "Kerrostalo",
          "Kerrostalo",
          "Kerrostalo",
          "Kerrostalo",
          "Kerrostalo",
          "Kerrostalo",
          "Kerrostalo",
          "Kerrostalo",
          "Kerrostalo",
          "Kerrostalo",
          "Kerrostalo",
          "Kerrostalo",
          "Kerrostalo",
          "Kerrostalo",
          "Kerrostalo",
          "Kerrostalo",
          "Kerrostalo",
          "Kerrostalo",
          "Kerrostalo",
          "Kerrostalo",
          "Kerrostalo",
          "Kerrostalo",
          "Kerrostalo",
          "Kerrostalo",
          "Kerrostalo",
          "Kerrostalo",
          "Kerrostalo",
          "Kerrostalo",
          "Kerrostalo",
          "Kerrostalo",
          "Kerrostalo",
          "Kerrostalo",
          "Kerrostalo",
          "Kerrostalo",
          "Kerrostalo",
          "Kerrostalo",
          "Kerrostalo",
          "Kerrostalo",
          "Kerrostalo",
          "Kerrostalo",
          "Kerrostalo",
          "Kerrostalo",
          "Kerrostalo",
          "Kerrostalo",
          "Kerrostalo",
          "Kerrostalo",
          "Kerrostalo",
          "Kerrostalo",
          "Kerrostalo",
          "Kerrostalo",
          "Kerrostalo",
          "Kerrostalo",
          "Kerrostalo",
          "Kerrostalo",
          "Kerrostalo",
          "Kerrostalo",
          "Kerrostalo",
          "Kerrostalo",
          "Kerrostalo",
          "Kerrostalo",
          "Kerrostalo",
          "Kerrostalo",
          "Kerrostalo",
          "Kerrostalo",
          "Kerrostalo",
          "Kerrostalo",
          "Kerrostalo",
          "Kerrostalo",
          "Kerrostalo",
          "Kerrostalo",
          "Kerrostalo",
          "Kerrostalo",
          "Kerrostalo",
          "Kerrostalo",
          "Kerrostalo",
          "Kerrostalo",
          "Kerrostalo",
          "Kerrostalo",
          "Kerrostalo",
          "Kerrostalo",
          "Kerrostalo",
          "Kerrostalo",
          "Kerrostalo",
          "Kerrostalo",
          "Kerrostalo",
          "Kerrostalo",
          "Kerrostalo",
          "Kerrostalo",
          "Kerrostalo",
          "Kerrostalo",
          "Kerrostalo",
          "Kerrostalo",
          "Kerrostalo",
          "Kerrostalo",
          "Kerrostalo",
          "Kerrostalo",
          "Kerrostalo",
          "Kerrostalo",
          "Kerrostalo",
          "Kerrostalo",
          "Kerrostalo",
          "Kerrostalo",
          "Kerrostalo",
          "Kerrostalo",
          "Kerrostalo",
          "Kerrostalo",
          "Kerrostalo",
          "Kerrostalo",
          "Kerrostalo",
          "Kerrostalo",
          "Kerrostalo",
          "Kerrostalo",
          "Kerrostalo",
          "Kerrostalo",
          "Kerrostalo",
          "Kerrostalo",
          "Kerrostalo",
          "Kerrostalo",
          "Kerrostalo",
          "Kerrostalo",
          "Kerrostalo",
          "Kerrostalo",
          "Kerrostalo",
          "Kerrostalo",
          "Kerrostalo",
          "Kerrostalo",
          "Kerrostalo",
          "Kerrostalo",
          "Kerrostalo",
          "Kerrostalo",
          "Kerrostalo",
          "Kerrostalo",
          "Kerrostalo",
          "Kerrostalo",
          "Kerrostalo",
          "Kerrostalo",
          "Kerrostalo",
          "Kerrostalo",
          "Kerrostalo",
          "Kerrostalo",
          "Kerrostalo",
          "Kerrostalo",
          "Kerrostalo",
          "Kerrostalo",
          "Kerrostalo",
          "Kerrostalo",
          "Kerrostalo",
          "Kerrostalo",
          "Kerrostalo",
          "Kerrostalo",
          "Kerrostalo",
          "Kerrostalo",
          "Kerrostalo",
          "Kerrostalo",
          "Kerrostalo",
          "Kerrostalo",
          "Kerrostalo",
          "Kerrostalo",
          "Kerrostalo",
          "Kerrostalo",
          "Kerrostalo",
          "Kerrostalo",
          "Kerrostalo",
          "Kerrostalo",
          "Kerrostalo",
          "Kerrostalo",
          "Kerrostalo",
          "Kerrostalo",
          "Kerrostalo",
          "Kerrostalo",
          "Kerrostalo",
          "Kerrostalo",
          "Kerrostalo",
          "Kerrostalo",
          "Kerrostalo",
          "Kerrostalo",
          "Kerrostalo",
          "Kerrostalo",
          "Kerrostalo",
          "Kerrostalo",
          "Kerrostalo",
          "Kerrostalo",
          "Kerrostalo",
          "Kerrostalo",
          "Kerrostalo",
          "Kerrostalo",
          "Kerrostalo",
          "Kerrostalo",
          "Kerrostalo",
          "Kerrostalo",
          "Kerrostalo",
          "Kerrostalo",
          "Kerrostalo",
          "Kerrostalo",
          "Kerrostalo",
          "Kerrostalo",
          "Kerrostalo",
          "Kerrostalo",
          "Kerrostalo",
          "Kerrostalo",
          "Kerrostalo",
          "Kerrostalo",
          "Kerrostalo",
          "Kerrostalo",
          "Kerrostalo",
          "Kerrostalo",
          "Kerrostalo",
          "Kerrostalo",
          "Kerrostalo",
          "Kerrostalo",
          "Kerrostalo",
          "Kerrostalo",
          "Kerrostalo",
          "Kerrostalo",
          "Kerrostalo",
          "Kerrostalo",
          "Kerrostalo",
          "Kerrostalo",
          "Kerrostalo",
          "Kerrostalo",
          "Kerrostalo",
          "Kerrostalo",
          "Kerrostalo",
          "Kerrostalo",
          "Kerrostalo",
          "Kerrostalo",
          "Kerrostalo",
          "Kerrostalo",
          "Kerrostalo",
          "Kerrostalo",
          "Kerrostalo",
          "Kerrostalo",
          "Kerrostalo",
          "Kerrostalo",
          "Kerrostalo",
          "Kerrostalo",
          "Kerrostalo",
          "Kerrostalo",
          "Kerrostalo",
          "Kerrostalo",
          "Kerrostalo",
          "Kerrostalo",
          "Kerrostalo",
          "Kerrostalo",
          "Kerrostalo",
          "Kerrostalo",
          "Kerrostalo",
          "Kerrostalo",
          "Kerrostalo",
          "Kerrostalo",
          "Kerrostalo",
          "Kerrostalo",
          "Kerrostalo",
          "Kerrostalo",
          "Kerrostalo",
          "Kerrostalo",
          "Kerrostalo",
          "Kerrostalo",
          "Kerrostalo",
          "Kerrostalo",
          "Kerrostalo",
          "Kerrostalo",
          "Kerrostalo",
          "Kerrostalo",
          "Kerrostalo",
          "Kerrostalo",
          "Kerrostalo",
          "Kerrostalo",
          "Kerrostalo",
          "Kerrostalo",
          "Kerrostalo",
          "Kerrostalo",
          "Kerrostalo",
          "Kerrostalo",
          "Kerrostalo",
          "Kerrostalo",
          "Kerrostalo",
          "Kerrostalo",
          "Kerrostalo",
          "Kerrostalo",
          "Kerrostalo",
          "Kerrostalo",
          "Kerrostalo",
          "Kerrostalo",
          "Kerrostalo",
          "Kerrostalo",
          "Kerrostalo",
          "Kerrostalo",
          "Kerrostalo",
          "Kerrostalo",
          "Kerrostalo",
          "Kerrostalo",
          "Kerrostalo",
          "Kerrostalo",
          "Kerrostalo",
          "Kerrostalo",
          "Kerrostalo",
          "Kerrostalo",
          "Kerrostalo",
          "Kerrostalo",
          "Kerrostalo",
          "Kerrostalo",
          "Kerrostalo",
          "Kerrostalo",
          "Kerrostalo",
          "Kerrostalo",
          "Kerrostalo",
          "Kerrostalo",
          "Kerrostalo",
          "Kerrostalo",
          "Kerrostalo",
          "Kerrostalo",
          "Kerrostalo",
          "Kerrostalo",
          "Kerrostalo",
          "Kerrostalo",
          "Kerrostalo",
          "Kerrostalo",
          "Kerrostalo",
          "Kerrostalo",
          "Kerrostalo",
          "Kerrostalo",
          "Kerrostalo",
          "Kerrostalo",
          "Kerrostalo",
          "Kerrostalo",
          "Kerrostalo",
          "Kerrostalo",
          "Kerrostalo",
          "Kerrostalo",
          "Kerrostalo",
          "Kerrostalo",
          "Kerrostalo",
          "Kerrostalo",
          "Kerrostalo",
          "Kerrostalo",
          "Kerrostalo",
          "Kerrostalo",
          "Kerrostalo",
          "Kerrostalo",
          "Kerrostalo",
          "Kerrostalo",
          "Kerrostalo",
          "Kerrostalo",
          "Kerrostalo",
          "Kerrostalo",
          "Kerrostalo",
          "Kerrostalo",
          "Kerrostalo",
          "Kerrostalo",
          "Kerrostalo",
          "Kerrostalo",
          "Kerrostalo",
          "Kerrostalo",
          "Kerrostalo",
          "Kerrostalo",
          "Kerrostalo",
          "Kerrostalo",
          "Kerrostalo",
          "Kerrostalo",
          "Kerrostalo",
          "Kerrostalo",
          "Kerrostalo",
          "Kerrostalo",
          "Kerrostalo",
          "Kerrostalo",
          "Kerrostalo",
          "Kerrostalo",
          "Kerrostalo",
          "Kerrostalo",
          "Kerrostalo",
          "Kerrostalo",
          "Kerrostalo",
          "Kerrostalo",
          "Kerrostalo",
          "Kerrostalo",
          "Kerrostalo",
          "Kerrostalo",
          "Kerrostalo",
          "Kerrostalo",
          "Kerrostalo",
          "Kerrostalo",
          "Kerrostalo",
          "Kerrostalo",
          "Kerrostalo",
          "Kerrostalo",
          "Kerrostalo",
          "Kerrostalo",
          "Kerrostalo",
          "Kerrostalo",
          "Kerrostalo",
          "Kerrostalo",
          "Kerrostalo",
          "Kerrostalo",
          "Kerrostalo",
          "Kerrostalo",
          "Kerrostalo",
          "Kerrostalo",
          "Kerrostalo",
          "Kerrostalo",
          "Kerrostalo",
          "Kerrostalo",
          "Kerrostalo",
          "Kerrostalo",
          "Kerrostalo",
          "Kerrostalo",
          "Kerrostalo",
          "Kerrostalo",
          "Kerrostalo",
          "Kerrostalo",
          "Kerrostalo",
          "Kerrostalo",
          "Kerrostalo",
          "Kerrostalo",
          "Kerrostalo",
          "Kerrostalo",
          "Kerrostalo",
          "Kerrostalo",
          "Kerrostalo",
          "Kerrostalo",
          "Kerrostalo",
          "Kerrostalo",
          "Kerrostalo",
          "Kerrostalo",
          "Kerrostalo",
          "Kerrostalo",
          "Kerrostalo",
          "Kerrostalo",
          "Kerrostalo",
          "Kerrostalo",
          "Kerrostalo",
          "Kerrostalo",
          "Kerrostalo",
          "Kerrostalo",
          "Kerrostalo",
          "Kerrostalo",
          "Kerrostalo",
          "Kerrostalo",
          "Kerrostalo",
          "Kerrostalo",
          "Kerrostalo",
          "Kerrostalo",
          "Kerrostalo",
          "Kerrostalo",
          "Kerrostalo",
          "Kerrostalo",
          "Kerrostalo",
          "Kerrostalo",
          "Kerrostalo",
          "Kerrostalo",
          "Kerrostalo",
          "Kerrostalo",
          "Kerrostalo",
          "Kerrostalo",
          "Kerrostalo",
          "Kerrostalo"
         ],
         "legendgroup": "Kerrostalo",
         "marker": {
          "color": "#e9c46a",
          "symbol": "circle"
         },
         "mode": "markers",
         "name": "Kerrostalo",
         "showlegend": true,
         "type": "scattergl",
         "x": {
          "bdata": "AAAAAAD4oUAAAAAAAMCiQAAAAAAAGKVAAAAAAADgpUAAAAAAAAynQAAAAAAAZKlAAAAAAAB4rkAAAAAAAPihQAAAAAAADKdAAAAAAABwp0AAAAAAAHCnQAAAAAAAcKdAAAAAAAAwoUAAAAAAAAynQAAAAAAAyKlAAAAAAACAq0AAAAAAAHiuQAAAAAAAlKFAAAAAAACUoUAAAAAAAPihQAAAAAAAJKNAAAAAAAAYpUAAAAAAAIijQAAAAAAAsK1AAAAAAAAEsEAAAAAAABilQAAAAAAADKdAAAAAAABwp0AAAAAAAOClQAAAAAAALKpAAAAAAAA4qEAAAAAAAGCdQAAAAAAAfKVAAAAAAAAYpUAAAAAAAOClQAAAAAAA7KNAAAAAAABQpEAAAAAAAJCqQAAAAAAA+LFAAAAAAADgpUAAAAAAANSnQAAAAAAAIJxAAAAAAAC0pEAAAAAAAHCnQAAAAAAAAKlAAAAAAABesEAAAAAAAACpQAAAAAAAsK1AAAAAAADAokAAAAAAACSjQAAAAAAAvKtAAAAAAAAwsUAAAAAAACCcQAAAAAAA4KVAAAAAAAA4qEAAAAAAAGigQAAAAAAA1KdAAAAAAAAwsUAAAAAAABilQAAAAAAADKdAAAAAAAAMp0AAAAAAAKimQAAAAAAAiKNAAAAAAACopkAAAAAAAAynQAAAAAAAcKdAAAAAAADIqUAAAAAAACSjQAAAAAAAMKFAAAAAAADQpkAAAAAAAACpQAAAAAAA6KxAAAAAAAAwoUAAAAAAACSjQAAAAAAAqKZAAAAAAAA4qEAAAAAAAMyqQAAAAAAARKZAAAAAAAA4qEAAAAAAAHiuQAAAAAAAyJlAAAAAAAAYpUAAAAAAAOClQAAAAAAAqKZAAAAAAADso0AAAAAAAFCkQAAAAAAARKZAAAAAAABEpkAAAAAAAFirQAAAAAAAyJlAAAAAAAA4qEAAAAAAACyqQAAAAAAAeK5AAAAAAADAokAAAAAAABSuQAAAAAAAcKdAAAAAAADsrUAAAAAAADCxQAAAAAAAqKZAAAAAAAAgnEAAAAAAAIijQAAAAAAAOKhAAAAAAADAokAAAAAAAFirQAAAAAAAIKJAAAAAAADorEAAAAAAAKimQAAAAAAAZKlAAAAAAAAYpUAAAAAAAKimQAAAAAAALKpAAAAAAACQqkAAAAAAAMygQAAAAAAA4KVAAAAAAAAEsEAAAAAAABilQAAAAAAAQJ9AAAAAAAAYpUAAAAAAAAynQAAAAAAA4KVAAAAAAABIp0AAAAAAAJqwQAAAAAAAIJxAAAAAAABAn0AAAAAAADCmQAAAAAAAQJ9AAAAAAADAokAAAAAAAMCiQAAAAAAAOKhAAAAAAAAAqUAAAAAAAACpQAAAAAAAWKtAAAAAAAD4oUAAAAAAACyqQAAAAAAAcKdAAAAAAABYq0AAAAAAABilQAAAAAAAWKtAAAAAAACwrUAAAAAAADioQAAAAAAAAKlAAAAAAAAYpUAAAAAAABymQAAAAAAATK1AAAAAAADAokAAAAAAAMCiQAAAAAAAyKlAAAAAAACIo0AAAAAAAESmQAAAAAAAUKRAAAAAAACcqEAAAAAAAPihQAAAAAAAOKhAAAAAAACcqEAAAAAAAFyiQAAAAAAAGKVAAAAAAADso0AAAAAAAOClQAAAAAAAOKhAAAAAAADIqUAAAAAAANyuQAAAAAAAJKNAAAAAAACopkAAAAAAALyrQAAAAAAADKdAAAAAAAAEqkAAAAAAAMCiQAAAAAAAwKJAAAAAAABQpEAAAAAAAKimQAAAAAAALKpAAAAAAADorEAAAAAAAOC1QAAAAAAAIJxAAAAAAABcokAAAAAAAKimQAAAAAAAyKlAAAAAAAAwsUAAAAAAALSkQAAAAAAAfKVAAAAAAACopkAAAAAAALCdQAAAAAAA+KFAAAAAAAAko0AAAAAAAACpQAAAAAAA+KFAAAAAAABQpEAAAAAAADioQAAAAAAAcKdAAAAAAACgnkAAAAAAABSkQAAAAAAAZKlAAAAAAABQpEAAAAAAANSnQAAAAAAAQJ9AAAAAAABcokAAAAAAACyqQAAAAAAADKdAAAAAAABwp0AAAAAAAGSpQAAAAAAAIJxAAAAAAABQpEAAAAAAAFirQAAAAAAA+KFAAAAAAACIo0AAAAAAADioQAAAAAAAUKRAAAAAAAAYpUAAAAAAABilQAAAAAAAAKlAAAAAAADInkAAAAAAADioQAAAAAAAMKFAAAAAAACQqkAAAAAAAJCqQAAAAAAA+KFAAAAAAADgpUAAAAAAADioQAAAAAAA3KlAAAAAAADAokAAAAAAABilQAAAAAAAMLFAAAAAAAD4oUAAAAAAAMCiQAAAAAAAAKlAAAAAAAAgnEAAAAAAAIijQAAAAAAAyKlAAAAAAADkpkAAAAAAAOClQAAAAAAAAK5AAAAAAAA4qEAAAAAAAOClQAAAAAAAcKdAAAAAAAAAqUAAAAAAAJCqQAAAAAAAiKNAAAAAAADUp0AAAAAAAASwQAAAAAAAiKNAAAAAAAD0qkAAAAAAAGigQAAAAAAAUKRAAAAAAABopUAAAAAAAHCnQAAAAAAAIKxAAAAAAADMoEAAAAAAAMCiQAAAAAAAAKlAAAAAAABQpEAAAAAAABilQAAAAAAAkKpAAAAAAAAgrEAAAAAAABilQAAAAAAAcKdAAAAAAAA4qEAAAAAAAIijQAAAAAAAUJ5AAAAAAAAwpkAAAAAAAASgQAAAAAAAkKVAAAAAAACUpkAAAAAAAJyoQAAAAAAAOKhAAAAAAACIqEAAAAAAAGSpQAAAAAAA+KFAAAAAAAC0tEAAAAAAAHCnQAAAAAAAZKlAAAAAAACcqEAAAAAAAMaxQAAAAAAAQJ9AAAAAAACYokAAAAAAAOClQAAAAAAAZKlAAAAAAACwrUAAAAAAAMCiQAAAAAAALKpAAAAAAABYq0AAAAAAAECfQAAAAAAAUKRAAAAAAAD0qkAAAAAAACqyQAAAAAAABLBAAAAAAACQqkAAAAAAAEytQAAAAAAAwKJAAAAAAADgpUAAAAAAAASgQAAAAAAA7KNAAAAAAADIpEAAAAAAAKimQAAAAAAADKdAAAAAAAAwoUAAAAAAAFCkQAAAAAAAEKhAAAAAAAAAqUAAAAAAAACpQAAAAAAAiKNAAAAAAADMsEAAAAAAAJSxQAAAAAAAxrFAAAAAAADgpUAAAAAAAAynQAAAAAAADKdAAAAAAACQqkAAAAAAACCsQAAAAAAAwLJAAAAAAACQqkAAAAAAAHylQAAAAAAAwKJAAAAAAADgpUAAAAAAAOisQAAAAAAA1KJAAAAAAABkpEAAAAAAAHCnQAAAAAAALKpAAAAAAABosEAAAAAAAHylQAAAAAAA4KVAAAAAAAD0qkAAAAAAAKimQAAAAAAAkKpAAAAAAABsoUAAAAAAAMipQAAAAAAAwKxAAAAAAACIo0AAAAAAAFCkQAAAAAAATK1AAAAAAABosEAAAAAAAMywQAAAAAAAwKJAAAAAAAAMp0AAAAAAABiqQAAAAAAA6KxAAAAAAABQpEAAAAAAABilQAAAAAAAkKpAAAAAAABYq0AAAAAAACCsQAAAAAAAdKNAAAAAAADUp0AAAAAAADCxQAAAAAAAUKRAAAAAAACcqEAAAAAAAMipQAAAAAAAeK5AAAAAAADso0AAAAAAAESmQAAAAAAAQJ9AAAAAAABMo0AAAAAAABilQAAAAAAAcKdAAAAAAAAwq0AAAAAAAJCqQAAAAAAAnKhAAAAAAACcqEAAAAAAAFCkQAAAAAAAWKtAAAAAAADAokAAAAAAAOClQAAAAAAAUKRAAAAAAADIqUAAAAAAANSnQAAAAAAAyKlAAAAAAADAokAAAAAAAFCkQAAAAAAAtKRAAAAAAADorEAAAAAAAMikQAAAAAAAGKVAAAAAAADgpUAAAAAAAHCnQAAAAAAAsJ1AAAAAAAD0qkAAAAAAAGigQAAAAAAA+KFAAAAAAABYq0AAAAAAALCdQAAAAAAAsJ1AAAAAAABAn0AAAAAAAMCiQAAAAAAA/KJAAAAAAADso0AAAAAAAKimQAAAAAAAAKlAAAAAAAD0qkAAAAAAAMCsQAAAAAAAwKJAAAAAAACUpkAAAAAAAHiuQAAAAAAAAKlAAAAAAADMqkAAAAAAAPihQAAAAAAAOKhAAAAAAAC4r0AAAAAAADioQAAAAAAADKdAAAAAAABcokAAAAAAAESmQAAAAAAADKdAAAAAAACkr0AAAAAAAACpQAAAAAAARKtAAAAAAAAAqUAAAAAAAJCqQAAAAAAAaKBAAAAAAACwnUAAAAAAAASgQAAAAAAAOKNAAAAAAACIo0AAAAAAADSyQAAAAAAAgrRAAAAAAABAn0AAAAAAALigQAAAAAAAwKJAAAAAAAAko0AAAAAAABilQAAAAAAAfLVAAAAAAACIo0AAAAAAAKimQAAAAAAAaKBAAAAAAABooEAAAAAAACSjQAAAAAAA7KNAAAAAAADUp0AAAAAAABSuQAAAAAAABKVAAAAAAAAYpUAAAAAAAMieQAAAAAAA4KVAAAAAAADgpUAAAAAAAMipQAAAAAAAOKhAAAAAAAAAqUAAAAAAAHiuQAAAAAAAGKVAAAAAAADIqUAAAAAAAGiwQAAAAAAAhKxAAAAAAAAApEAAAAAAAJyoQAAAAAAAcJxAAAAAAABkqUAAAAAAAHiuQAAAAAAAcKdAAAAAAABQpEAAAAAAAOClQAAAAAAAqKZAAAAAAAAUrkAAAAAAABilQAAAAAAAqKZAAAAAAAAEsEAAAAAAAFirQAAAAAAAcKJAAAAAAACIo0AAAAAAAJyoQAAAAAAAsK1AAAAAAAD0qkAAAAAAAASwQAAAAAAADKdAAAAAAACwrUAAAAAAAMywQAAAAAAAdrFAAAAAAADss0AAAAAAAB60QAAAAAAARLZAAAAAAAD+wEAAAAAAAHiuQAAAAAAAKrJAAAAAAADyskAAAAAAAIizQAAAAAAAHrRAAAAAAABosEAAAAAAAIizQAAAAAAAiLNAAAAAAAAotEAAAAAAAHC3QAAAAAAAwLJAAAAAAAC6s0AAAAAAAOyzQAAAAAAAULRAAAAAAAC0tEAAAAAAABK2QAAAAAAAiLNAAAAAAADss0AAAAAAABi1QAAAAAAAhKxAAAAAAABAr0AAAAAAAGS5QAAAAAAARLZAAAAAAABwt0AAAAAAAFyyQAAAAAAAJLNAAAAAAABQtEAAAAAAABSuQAAAAAAAwLJAAAAAAACCtEAAAAAAAHy1QAAAAAAADLdAAAAAAAAAqUAAAAAAAIizQAAAAAAAgrRAAAAAAADyskAAAAAAABi1QAAAAAAASrVAAAAAAAB8tUAAAAAAAJCqQAAAAAAAWKtAAAAAAADatkAAAAAAAFazQAAAAAAAQK9AAAAAAACOskAAAAAAACSzQAAAAAAAJLNAAAAAAABQtEAAAAAAAOyzQAAAAAAAfLVAAAAAAABKtUAAAAAAAISsQAAAAAAA/rBAAAAAAAA+t0AAAAAAAAy3QAAAAAAAPrdAAAAAAABAr0AAAAAAAPKyQAAAAAAAgrRAAAAAAAAStkAAAAAAAMCyQAAAAAAA7LNAAAAAAABAtUAAAAAAAKi2QAAAAAAADLdAAAAAAAC0tEAAAAAAAECvQAAAAAAAXLJAAAAAAABEtkAAAAAAADi4QAAAAAAAlLFAAAAAAADAskAAAAAAAPKyQAAAAAAAurNAAAAAAAAYtUAAAAAAAK61QAAAAAAAqLZAAAAAAAA4uEAAAAAAAPS6QAAAAAAAfr1AAAAAAAAAqUAAAAAAAB60QAAAAAAAtLRAAAAAAADorEAAAAAAADCxQAAAAAAAiLNAAAAAAADss0AAAAAAAOi8QAAAAAAAMLFAAAAAAABQtEAAAAAAAHy1QAAAAAAADLdAAAAAAAAgvEAAAAAAAASwQAAAAAAA+LFAAAAAAADyskAAAAAAAIizQAAAAAAAHrRAAAAAAABYq0AAAAAAAGiwQAAAAAAA/LJAAAAAAAAks0AAAAAAAFazQAAAAAAA4LVAAAAAAAA0t0AAAAAAANS3QAAAAAAAIKxAAAAAAAB6skAAAAAAALS0QAAAAAAARLFAAAAAAABosEAAAAAAAHiuQAAAAAAApK9AAAAAAACUsUAAAAAAAPKyQAAAAAAArrVAAAAAAABAr0AAAAAAAPixQAAAAAAAXLJAAAAAAADAskAAAAAAAFC0QAAAAAAA2rZAAAAAAABMrUAAAAAAAKSvQAAAAAAArrVAAAAAAABAr0AAAAAAAGiwQAAAAAAAOLhAAAAAAACcuEAAAAAAAMzAQAAAAAAAYrFAAAAAAABcskAAAAAAAHy1QAAAAAAA+LFAAAAAAAC0tEAAAAAAABi1QAAAAAAAJrZAAAAAAAAMt0AAAAAAAEytQAAAAAAA+LFAAAAAAABkuUAAAAAAAHiuQAAAAAAAlLFAAAAAAABcskAAAAAAAMywQAAAAAAAorJAAAAAAADss0AAAAAAAOyzQAAAAAAAgrRAAAAAAACCtEAAAAAAALS0QAAAAAAA5rRAAAAAAAD+tUAAAAAAAAy3QAAAAAAAkKpAAAAAAAAgrEAAAAAAAMaxQAAAAAAAiLNAAAAAAABwt0AAAAAAANS3QAAAAAAAMLFAAAAAAACUsUAAAAAAAMCyQAAAAAAAVrNAAAAAAAD2s0AAAAAAAOC1QAAAAAAADLdAAAAAAAD0ukAAAAAAACqyQAAAAAAAKrJAAAAAAABcskAAAAAAACSzQAAAAAAAtLRAAAAAAAB8tUAAAAAAAHy1QAAAAAAAerdAAAAAAAC8u0AAAAAAAIizQAAAAAAAurNAAAAAAABQtEAAAAAAANS3QAAAAAAA9KpAAAAAAACOskAAAAAAAOa0QAAAAAAAXLJAAAAAAAAgrEAAAAAAAIizQAAAAAAA7LNAAAAAAABQtEAAAAAAAOa0QAAAAAAARLZAAAAAAACasEAAAAAAADCxQAAAAAAAULRAAAAAAACCtEAAAAAAAHiuQAAAAAAAlLFAAAAAAADgtUAAAAAAAMipQAAAAAAArrVAAAAAAACotkAAAAAAAKK3QAAAAAAAiLNAAAAAAAC0tEAAAAAAAOa0QAAAAAAA5rRAAAAAAAB8tUAAAAAAAK61QAAAAAAADLdAAAAAAAAGuEAAAAAAADi4QAAAAAAAyLlAAAAAAABssUAAAAAAALqzQAAAAAAA2rZAAAAAAAAUrkAAAAAAABK2QAAAAAAAlLFAAAAAAADyskAAAAAAAKi2QAAAAAAAarhAAAAAAADOuEAAAAAAALqzQAAAAAAAyLRAAAAAAAB8tUAAAAAAAECvQAAAAAAApK9AAAAAAAC6s0AAAAAAAK61QAAAAAAAOLhAAAAAAACOskAAAAAAAIizQAAAAAAAErZAAAAAAABEtkAAAAAAACSzQAAAAAAAiLNAAAAAAACIs0AAAAAAABi1QAAAAAAASrVAAAAAAABAr0AAAAAAAP6wQAAAAAAAwLJAAAAAAAAks0AAAAAAACCsQAAAAAAA6KxAAAAAAADcrkAAAAAAALivQAAAAAAAzLBAAAAAAAAWskAAAAAAACSzQAAAAAAA2LNAAAAAAABQtEAAAAAAAJy4QAAAAAAABLBAAAAAAABWs0AAAAAAAIK0QAAAAAAAAKlAAAAAAABAr0AAAAAAAGiwQAAAAAAA/rBAAAAAAAAwsUAAAAAAAJSxQAAAAAAAtLRAAAAAAAAYtUAAAAAAANq2QAAAAAAAwrpAAAAAAAD4sUAAAAAAACqyQAAAAAAAXLJAAAAAAADYs0AAAAAAABi1QAAAAAAAVrNAAAAAAAAetEAAAAAAANq2QAAAAAAA8rJAAAAAAADyskAAAAAAAGiwQAAAAAAAmrBAAAAAAAAwsUAAAAAAAFyyQAAAAAAA8rJAAAAAAAAks0AAAAAAAOa0QAAAAAAAjrJAAAAAAADyskAAAAAAACSzQAAAAAAAHrRAAAAAAAAYtUAAAAAAAOC1QAAAAAAA2rZAAAAAAACUsUAAAAAAALCtQAAAAAAABLBAAAAAAADUt0AAAAAAALCtQAAAAAAA3K5AAAAAAAAwsUAAAAAAAPq0QAAAAAAA2rFAAAAAAAAetEAAAAAAAEC/QAAAAAAAQK9AAAAAAADAskAAAAAAAOyzQAAAAAAAULRAAAAAAAAks0AAAAAAABi1QAAAAAAADLdAAAAAAAAkuEAAAAAAAGS5QAAAAAAAXLJAAAAAAABQtEAAAAAAAHa2QAAAAAAAgrRAAAAAAAAEsEAAAAAAAFyyQAAAAAAAOLhAAAAAAACQqkAAAAAAAKSvQAAAAAAAMrlAAAAAAABKtUAAAAAAAES2QAAAAAAA+LFAAAAAAADss0AAAAAAALS0QAAAAAAASrVAAAAAAACwrUAAAAAAAHa2QAAAAAAAXLJAAAAAAAD+sEAAAAAAAGKxQAAAAAAA8rJAAAAAAADss0AAAAAAACSzQAAAAAAAGLVAAAAAAAB4rkAAAAAAAIizQAAAAAAAgrRAAAAAAAAMt0AAAAAAAHC3QAAAAAAAcLdAAAAAAACWuUAAAAAAAIS8QAAAAAAA3K5AAAAAAABwt0AAAAAAAJy4QAAAAAAA7LNAAAAAAAAStkAAAAAAALCtQAAAAAAAaLBAAAAAAADWsEAAAAAAAJSxQAAAAAAA8rJAAAAAAACIs0AAAAAAAIK0QAAAAAAAGLVAAAAAAACutUAAAAAAANS3QAAAAAAAzrhAAAAAAAC8u0AAAAAAACCsQAAAAAAAiLNAAAAAAADmtEAAAAAAABi1QAAAAAAArrVAAAAAAAAetEAAAAAAABi1QAAAAAAArrVAAAAAAACutUAAAAAAACCsQAAAAAAAMLFAAAAAAACOskAAAAAAAB60QAAAAAAA/rBAAAAAAAAks0AAAAAAAIizQAAAAAAA7LNAAAAAAAB8tUAAAAAAAKi2QAAAAAAAcLdAAAAAAADss0AAAAAAAES2QAAAAAAAqLZAAAAAAABkuUAAAAAAAF66QAAAAAAAzLBAAAAAAACIs0AAAAAAAIizQAAAAAAAULRAAAAAAACit0AAAAAAAGKxQAAAAAAArrVAAAAAAADgtUAAAAAAAMCyQAAAAAAAwLJAAAAAAAA4s0AAAAAAAIizQAAAAAAAqLZAAAAAAABwt0AAAAAAAKSvQAAAAAAANrBAAAAAAAAks0AAAAAAACSzQAAAAAAAiLNAAAAAAADgtUAAAAAAAD63QAAAAAAAordAAAAAAADIqUAAAAAAAJqwQAAAAAAAYrFAAAAAAABWs0AAAAAAAIizQAAAAAAACrRAAAAAAAAYtUAAAAAAACCsQAAAAAAAsK1AAAAAAAAwsUAAAAAAAFyyQAAAAAAAHrRAAAAAAABKtUAAAAAAAGKxQAAAAAAAlLFAAAAAAADAskAAAAAAAIizQAAAAAAAULRAAAAAAACOskAAAAAAAMyvQAAAAAAAaLBAAAAAAAAgrEAAAAAAADCxQAAAAAAAiLNAAAAAAAC0tEAAAAAAAHy1QAAAAAAA4LVAAAAAAABkqUAAAAAAAKi2QAAAAAAAOLhAAAAAAAAetEAAAAAAALCtQAAAAAAATK1AAAAAAADGsUAAAAAAAOyzQAAAAAAAtLRAAAAAAABMrUAAAAAAAMCyQAAAAAAAfLVAAAAAAAAMt0AAAAAAAM64QAAAAAAAMrlAAAAAAABisUAAAAAAAPixQAAAAAAALLVAAAAAAACutUAAAAAAAOC1QAAAAAAA4LVAAAAAAADMsEAAAAAAAMCyQAAAAAAAordAAAAAAAA+t0AAAAAAAFyyQAAAAAAAmrBAAAAAAADGsUAAAAAAACqyQAAAAAAAwLJAAAAAAAAYtUAAAAAAAASwQAAAAAAAaLBAAAAAAABEtkAAAAAAAD63QAAAAAAAWLtAAAAAAADorEAAAAAAAKSvQAAAAAAABLBAAAAAAABosEAAAAAAADCxQAAAAAAAJLNAAAAAAABKtUAAAAAAAHy1QAAAAAAAaLBAAAAAAACOskAAAAAAABi1QAAAAAAAVLBAAAAAAAD+sEAAAAAAAHqyQAAAAAAAtLRAAAAAAAAYtUAAAAAAAAy3QAAAAAAAkKpAAAAAAADMsEAAAAAAACSzQAAAAAAAHrRAAAAAAABAr0AAAAAAALqzQAAAAAAAwLJAAAAAAACwrUAAAAAAADyuQAAAAAAAQK9AAAAAAABisUAAAAAAAP6wQAAAAAAA8rJAAAAAAAAks0AAAAAAAB60QAAAAAAAdrZAAAAAAABwt0AAAAAAAKq0QAAAAAAA/rBAAAAAAADAskAAAAAAACy6QAAAAAAAkKpAAAAAAAB4rkAAAAAAAMaxQAAAAAAA8rJAAAAAAADUt0AAAAAAABi1QAAAAAAAtLRAAAAAAADmtEAAAAAAAAa4QAAAAAAAzrhAAAAAAACIs0AAAAAAAOyzQAAAAAAAfLVAAAAAAAB2tkAAAAAAAHa2QAAAAAAA/rBAAAAAAAD8skAAAAAAALqzQAAAAAAA4LVAAAAAAABcskAAAAAAAIizQAAAAAAARLZAAAAAAAAMt0AAAAAAAD63QAAAAAAAVrNAAAAAAABosEAAAAAAAP6wQAAAAAAAcLdAAAAAAADGsUAAAAAAAOyzQAAAAAAAgrRAAAAAAAB8tUAAAAAAABilQAAAAAAAAKlAAAAAAABAr0AAAAAAAASwQAAAAAAACLFAAAAAAAAwsUAAAAAAAGq4QAAAAAAAkKpAAAAAAAAwsUAAAAAAAFC0QAAAAAAAwLJAAAAAAADgtUAAAAAAAKi2QAAAAAAA0rRAAAAAAABYsUAAAAAAAHC3QAAAAAAAkLpAAAAAAACasEAAAAAAAIizQAAAAAAAdrZAAAAAAAA2sEAAAAAAAP6wQAAAAAAAMLFAAAAAAAAks0AAAAAAAIizQAAAAAAA2LNAAAAAAACit0AAAAAAAGiwQAAAAAAAurNAAAAAAACutUAAAAAAAOC1QAAAAAAAcLdAAAAAAADIuUAAAAAAAIizQAAAAAAAmrBAAAAAAACOskAAAAAAAKK3QAAAAAAAfLVAAAAAAACutUAAAAAAAB60QAAAAAAAKL5AAAAAAAAgrEAAAAAAAMywQAAAAAAArrVAAAAAAAAMt0AAAAAAAGKxQAAAAAAAULRAAAAAAACQqkAAAAAAAMaxQAAAAAAA8rJAAAAAAABKtUAAAAAAAOC1QAAAAAAA1LdAAAAAAAD+sEAAAAAAALqzQAAAAAAAfLVAAAAAAAAMt0AAAAAAALCtQAAAAAAAgrRAAAAAAABosEAAAAAAAGiwQAAAAAAAmrBAAAAAAADOuEAAAAAAAGiwQAAAAAAAlLFAAAAAAACOskAAAAAAAH6zQAAAAAAAfr1AAAAAAABYq0AAAAAAAASwQAAAAAAAOLhAAAAAAABquEAAAAAAADCxQAAAAAAAULRAAAAAAACutUAAAAAAAIizQAAAAAAAarhAAAAAAAAwsUAAAAAAAH69QAAAAAAABLBAAAAAAACutUAAAAAAABK2QAAAAAAAFK5AAAAAAACOskAAAAAAACSzQAAAAAAAGLVAAAAAAAAYtUAAAAAAAOy9QAAAAAAAaLBAAAAAAAAetEAAAAAAAF61QAAAAAAAqLZAAAAAAADOuEAAAAAAACSzQAAAAAAAzLBAAAAAAADyskAAAAAAACSzQAAAAAAAcLdAAAAAAADcrkAAAAAAAPKyQAAAAAAA4LVAAAAAAAA+t0AAAAAAAFC0QAAAAAAADLdAAAAAAAB4rkAAAAAAACSzQAAAAAAAiLNAAAAAAAAYtUAAAAAAAEC1QAAAAAAAaLBAAAAAAADasUAAAAAAAFyyQAAAAAAAiLNAAAAAAABwt0AAAAAAAASwQAAAAAAAErZAAAAAAADyskAAAAAAAGiwQAAAAAAAMLFAAAAAAABKtUAAAAAAAEC/QAAAAAAAaLBAAAAAAACUsUAAAAAAALKxQAAAAAAAiLNAAAAAAAAYtUAAAAAAAHy1QAAAAAAAUrdAAAAAAABosEAAAAAAAP6wQAAAAAAAMLFAAAAAAACUsUAAAAAAALS0QAAAAAAAtLRAAAAAAABSvEAAAAAAADCxQAAAAAAA8rJAAAAAAAAMt0AAAAAAAHC3QAAAAAAA6KxAAAAAAACwrUAAAAAAAHy1QAAAAAAAaLBAAAAAAADWsEAAAAAAAMCyQAAAAAAAdrZAAAAAAACwrUAAAAAAAMywQAAAAAAAXLJAAAAAAABKtUAAAAAAAHy1QAAAAAAAQK9AAAAAAABisUAAAAAAAKi2QAAAAAAAmrBAAAAAAACOskAAAAAAAB60QAAAAAAA/rBAAAAAAAAsukAAAAAAAOyzQAAAAAAAULRAAAAAAACutUAAAAAAAAy3QAAAAAAAnLhAAAAAAADss0AAAAAAAFC0QAAAAAAAGLVAAAAAAADatkAAAAAAACCsQAAAAAAANrBAAAAAAABosEAAAAAAAFyyQAAAAAAAiLNAAAAAAACIs0AAAAAAAHy1QAAAAAAAPrdAAAAAAADgtUAAAAAAACCsQAAAAAAAwLJAAAAAAABcskAAAAAAAFC0QAAAAAAAlLFAAAAAAAAqskAAAAAAAEytQAAAAAAAeK5AAAAAAAD+sEAAAAAAAIizQAAAAAAAzLBAAAAAAAAwsUAAAAAAAJSxQAAAAAAAULRAAAAAAACCtEAAAAAAABi1QAAAAAAA4LVAAAAAAACotkAAAAAAALS0QAAAAAAAfLVAAAAAAAA+t0AAAAAAAAC5QAAAAAAADLdAAAAAAACkr0AAAAAAAECvQAAAAAAAwLJAAAAAAABQtEAAAAAAALS0QAAAAAAAErZAAAAAAACit0AAAAAAAKK3QAAAAAAA9LpAAAAAAADcrkAAAAAAAJCwQAAAAAAAzLBAAAAAAAD+sEAAAAAAAP6wQAAAAAAAtLRAAAAAAADgtUAAAAAAAES2QAAAAAAADLdAAAAAAAAwsUAAAAAAAIizQAAAAAAAfLVAAAAAAADUt0AAAAAAAIizQAAAAAAArrVAAAAAAACQqkAAAAAAAEytQAAAAAAAQK9AAAAAAADAskAAAAAAALqzQAAAAAAAiLNAAAAAAAC0tEAAAAAAAMaxQAAAAAAA7LNAAAAAAABQtEAAAAAAAHa2QAAAAAAA9LpAAAAAAADMsEAAAAAAAOiyQAAAAAAAULRAAAAAAAA+t0AAAAAAACC8QAAAAAAAtLRAAAAAAADwtEAAAAAAAHC3QAAAAAAAaLBAAAAAAADMsEAAAAAAAPixQAAAAAAAwLJAAAAAAACwrUAAAAAAACSzQAAAAAAAULRAAAAAAADmtEAAAAAAAPKyQAAAAAAAZLlAAAAAAADAskAAAAAAAES2QAAAAAAA2rZAAAAAAAA+t0AAAAAAAECvQAAAAAAARLZAAAAAAAAAqUAAAAAAAHiuQAAAAAAAJLNAAAAAAADgtUAAAAAAAFirQAAAAAAApK9AAAAAAAC6s0AAAAAAAAy3QAAAAAAAcLdAAAAAAAAwsUAAAAAAABi1QAAAAAAATrZAAAAAAADOuEAAAAAAAP6wQAAAAAAAJLNAAAAAAADss0AAAAAAAFC0QAAAAAAAordAAAAAAAD0qkAAAAAAAMywQAAAAAAA5rRAAAAAAAB2tkAAAAAAADCxQAAAAAAAJLNAAAAAAAC6s0AAAAAAAOyzQAAAAAAAeK5AAAAAAAA2sEAAAAAAAJSxQAAAAAAAdrZAAAAAAACotkAAAAAAANS3QAAAAAAAOLhAAAAAAACCtEAAAAAAABK2QAAAAAAAcLdAAAAAAAA4uEAAAAAAABSuQAAAAAAAprNAAAAAAADss0AAAAAAABK2QAAAAAAAOLhAAAAAAACwrUAAAAAAAMaxQAAAAAAARLZAAAAAAACit0AAAAAAAHiuQAAAAAAAXLJAAAAAAAAMt0AAAAAAAAa4QAAAAAAAWKtAAAAAAACIs0AAAAAAAB60QAAAAAAAFK5AAAAAAADcrkAAAAAAAKi2QAAAAAAAordAAAAAAADUt0AAAAAAAMaxQAAAAAAAXLJAAAAAAADAskAAAAAAAIizQAAAAAAAzLBAAAAAAABWs0AAAAAAAPKyQAAAAAAAULRAAAAAAACit0AAAAAAANS3QAAAAAAAJLNAAAAAAABQtEAAAAAAAFC0QAAAAAAAfLVAAAAAAAA+t0AAAAAAADawQAAAAAAAJLNAAAAAAAAYtUAAAAAAAGiwQAAAAAAAzLBAAAAAAADyskAAAAAAAFirQAAAAAAAwLJAAAAAAAA4uEAAAAAAAISsQAAAAAAA3K5AAAAAAAD+sEAAAAAAADCxQAAAAAAAXLJAAAAAAAB8tUAAAAAAAEy9QAAAAAAAiLNAAAAAAADgtUAAAAAAAECvQAAAAAAAYrFAAAAAAACUsUAAAAAAAFazQAAAAAAAtLRAAAAAAACutUAAAAAAAHC3QAAAAAAApK9AAAAAAADGsUAAAAAAACSzQAAAAAAAULRAAAAAAAB2tkAAAAAAAKi2QAAAAAAAzLBAAAAAAADMsEAAAAAAAOCwQAAAAAAA8rJAAAAAAACIs0AAAAAAABi1QAAAAAAAqLZAAAAAAADUt0AAAAAAAJa5QAAAAAAAJLNAAAAAAAB8tUAAAAAAANq2QAAAAAAAcLdAAAAAAAAKuUAAAAAAAGKxQAAAAAAAiLNAAAAAAADmtEAAAAAAAKK3QAAAAAAAGLVAAAAAAAAYtUAAAAAAAHC3QAAAAAAAzLBAAAAAAABytUAAAAAAAHy1QAAAAAAASrVAAAAAAAD4sUAAAAAAAHa2QAAAAAAAErZAAAAAAAA4uEAAAAAAAF66QAAAAAAAwLJAAAAAAABwp0AAAAAAAJSxQAAAAAAAGLVAAAAAAAA+t0AAAAAAAHa2QAAAAAAAALlAAAAAAACWuUAAAAAAAMi5QAAAAAAAvLtAAAAAAACBwEAAAAAAAOzDQAAAAAAAyLlAAAAAAADCukAAAAAAACC8QAAAAAAAGr1AAAAAAABMvUAAAAAAALC9QAAAAAAA4LVAAAAAAACcuEAAAAAAAFi7QAAAAAAAfr1AAAAAAACWuUAAAAAAAPS6QAAAAAAAULRAAAAAAAAyuUAAAAAAACy6QAAAAAAA7rtAAAAAAAAAuUAAAAAAAGrIQAAAAAAAZLlAAAAAAADovEAAAAAAALC9QAAAAAAAjsJAAAAAAABquEAAAAAAAPS6QAAAAAAA6LxAAAAAAACcuEAAAAAAAD63QAAAAAAAJrtAAAAAAADIuUAAAAAAACC8QAAAAAAAHr5AAAAAAACcuEAAAAAAABS+QAAAAAAALcRAAAAAAADOuEAAAAAAAHi+QAAAAAAAcMdAAAAAAAAgvEAAAAAAAHK/QAAAAAAAwrpAAAAAAAAgvEAAAAAAALa8QAAAAAAAYsFAAAAAAACcuEAAAAAAAMi5QAAAAAAAnLhAAAAAAAD0ukAAAAAAAFK8QAAAAAAAQL9AAAAAAAAStkAAAAAAAJS2QAAAAAAA7rtAAAAAAAAgvEAAAAAAACC8QAAAAAAATL1AAAAAAAB4vkAAAAAAADa/QAAAAAAAULRAAAAAAAD0ukAAAAAAAFi7QAAAAAAABcRAAAAAAADUt0AAAAAAALa8QAAAAAAAsL1AAAAAAADovEAAAAAAAHi+QAAAAAAAqr5AAAAAAAC2vEAAAAAAAMbBQAAAAAAAtLRAAAAAAABkuUAAAAAAAPS6QAAAAAAAALlAAAAAAAAAuUAAAAAAAGS5QAAAAAAAwrpAAAAAAABEtkAAAAAAAKi2QAAAAAAAILxAAAAAAAAavUAAAAAAAEy9QAAAAAAAqr5AAAAAAACkv0AAAAAAAMzAQAAAAAAALLpAAAAAAAC8u0AAAAAAABq9QAAAAAAABMBAAAAAAAA4uEAAAAAAACa7QAAAAAAAFL5AAAAAAAAAuUAAAAAAAJa5QAAAAAAAF8FAAAAAAAB8xUAAAAAAACC8QAAAAAAAALlAAAAAAAA2wEAAAAAAAIS8QAAAAAAAerxAAAAAAADovEAAAAAAAHi+QAAAAAAARLZAAAAAAAAsukAAAAAAAJC6QAAAAAAAWLtAAAAAAADuu0AAAAAAABq9QAAAAAAA/sBAAAAAAABiwUAAAAAAAAC5QAAAAAAAILxAAAAAAAAUvkAAAAAAANS3QAAAAAAAyLlAAAAAAADCukAAAAAAALy7QAAAAAAAGr1AAAAAAABMvUAAAAAAANy+QAAAAAAAQL9AAAAAAAAEwEAAAAAAAMDCQAAAAAAARLZAAAAAAAAAuUAAAAAAAAC5QAAAAAAAkLpAAAAAAAB+vUAAAAAAAEa+QAAAAAAA4MVAAAAAAADatkAAAAAAAMi5QAAAAAAAcLdAAAAAAABkuUAAAAAAABi1QAAAAAAA1rpAAAAAAACcuEAAAAAAALa8QAAAAAAAlrlAAAAAAAAsukAAAAAAAF66QAAAAAAAhLxAAAAAAAAUvkAAAAAAANa/QAAAAAAAaMBAAAAAAAAsukAAAAAAAJC6QAAAAAAA9LpAAAAAAAAgvEAAAAAAAJi3QAAAAAAA1LdAAAAAAAD0ukAAAAAAAHi+QAAAAAAA8sJAAAAAAADIuUAAAAAAAPS6QAAAAAAA1LdAAAAAAADCukAAAAAAAPS6QAAAAAAATL1AAAAAAACqvkAAAAAAAFi7QAAAAAAAaMBAAAAAAAAGuEAAAAAAAAy3QAAAAAAAcLdAAAAAAACcuEAAAAAAAFi7QAAAAAAAWLtAAAAAAACuxUAAAAAAAEq1QAAAAAAA1LdAAAAAAADAwkAAAAAAAJy4QAAAAAAAZLlAAAAAAAAMt0AAAAAAAJC6QAAAAAAAJrtAAAAAAABMvUAAAAAAAI7CQAAAAAAAyLlAAAAAAAAUvkAAAAAAAJa5QAAAAAAAhLxAAAAAAACEvEAAAAAAAF/EQAAAAAAAlrlAAAAAAAAsukAAAAAAACa7QAAAAAAAQL9AAAAAAADfwUAAAAAAAOC1QAAAAAAA2rZAAAAAAAD0ukAAAAAAAAK8QAAAAAAAeL5AAAAAAAAYtUAAAAAAAHC3QAAAAAAA/sBAAAAAAABquEAAAAAAAIS8QAAAAAAA1LdAAAAAAAD0ukAAAAAAAFi7QAAAAAAAPrdAAAAAAADcvkAAAAAAAE/AQAAAAAAAXrpAAAAAAADgtUAAAAAAAPS6QAAAAAAAcr9AAAAAAAAsukAAAAAAAIS8QAAAAAAAkLpAAAAAAACwvUAAAAAAALa8QAAAAAAAsL1AAAAAAACutUAAAAAAAFi7QAAAAAAA3L5AAAAAAAC0tEAAAAAAAKK3QAAAAAAAhLxAAAAAAAAUvkAAAAAAABS+QAAAAAAAnLhAAAAAAADsw0AAAAAAAO67QAAAAAAArrVAAAAAAADIuUAAAAAAACa7QAAAAAAAUrxAAAAAAAC2vEAAAAAAABS+QAAAAAAABMBAAAAAAAA4uEAAAAAAAMi5QAAAAAAA7rtAAAAAAACOwkAAAAAAAMDCQAAAAAAAtLRAAAAAAADIuUAAAAAAAEy9QAAAAAAA2sZAAAAAAACQukAAAAAAALvHQAAAAAAA1r9AAAAAAAAmu0AAAAAAAAy3QAAAAAAATL1AAAAAAAB4vkAAAAAAAHa2QAAAAAAAFL5AAAAAAAAAuUAAAAAAAJa5QAAAAAAAfLpAAAAAAABSvEAAAAAAAHC3QAAAAAAAcr9AAAAAAAByv0AAAAAAACC8QAAAAAAAILxAAAAAAAAEwEAAAAAAAIS8QAAAAAAA6LxAAAAAAABGvkAAAAAAABq9QAAAAAAAyLlAAAAAAABeukAAAAAAAMbBQAAAAAAAKsJAAAAAAADgtUAAAAAAAHa2QAAAAAAAcr9AAAAAAACit0AAAAAAADi4QAAAAAAAFL5AAAAAAAAUvkAAAAAAAPS6QAAAAAAATL1AAAAAAACwvUAAAAAAAM69QAAAAAAAcLdAAAAAAAA2wEAAAAAAAMi5QAAAAAAAhLxAAAAAAAD+wEAAAAAAAAC5QAAAAAAAPrdAAAAAAACEvEAAAAAAANy+QAAAAAAAkrNAAAAAAACcuEAAAAAAACC8QAAAAAAAFL5AAAAAAAByv0AAAAAAAHK/QAAAAAAAQLVAAAAAAABeukAAAAAAACC8QAAAAAAA1LdAAAAAAADuu0AAAAAAAOi8QAAAAAAAnLhAAAAAAACcuEAAAAAAAEy9QAAAAAAAfLVAAAAAAABkuUAAAAAAAFK8QAAAAAAAZLlAAAAAAADOuEAAAAAAAO67QAAAAAAAhLxAAAAAAABGvkAAAAAAAHa2QAAAAAAAcr9AAAAAAAAAyUAAAAAAAGS5QAAAAAAAQL9AAAAAAADYuEAAAAAAAOi8QAAAAAAABrhAAAAAAACWuUAAAAAAAFi7QAAAAAAAALlAAAAAAAAmu0AAAAAAALC9QAAAAAAAVsNAAAAAAABPwEAAAAAAAEy9QAAAAAAAlMFAAAAAAADUt0AAAAAAAHS4QAAAAAAAyLlAAAAAAACKu0AAAAAAAB7EQAAAAAAAordAAAAAAABeukAAAAAAALy7QAAAAAAAlrlAAAAAAAAsukAAAAAAAIizQAAAAAAAhLxAAAAAAACEvEAAAAAAALC9QAAAAAAAnLhAAAAAAACEvEAAAAAAANy+QAAAAAAAcr9AAAAAAACBwEAAAAAAACa7QAAAAAAAWLtAAAAAAADgtUAAAAAAAAC5QAAAAAAAordAAAAAAAAsukAAAAAAAE/AQAAAAAAAhLxAAAAAAACqvkAAAAAAAIS8QAAAAAAAarhAAAAAAADsw0AAAAAAAIS8QAAAAAAAGr1AAAAAAABwt0AAAAAAANS3QAAAAAAAlrlAAAAAAAC2vEAAAAAAAEC/QAAAAAAAnLhAAAAAAABkuUAAAAAAAF66QAAAAAAA9LpAAAAAAABAv0AAAAAAAGq4QAAAAAAAALlAAAAAAACgvkAAAAAAAHzFQAAAAAAAlslAAAAAAACcuEAAAAAAAAC5QAAAAAAADr9AAAAAAABAv0AAAAAAAHK/QAAAAAAAtMRAAAAAAABwt0AAAAAAACC8QAAAAAAAlrlAAAAAAAAAuUAAAAAAAGS5QAAAAAAAZLlAAAAAAADovEAAAAAAAFDEQAAAAAAAULRAAAAAAADCukAAAAAAABq9QAAAAAAAILxAAAAAAAD+wEAAAAAAAGq4QAAAAAAAILxAAAAAAABSvEAAAAAAAATAQAAAAAAAtLRAAAAAAACQukAAAAAAAP7AQAAAAAAA7rtAAAAAAAA2wEAAAAAAABfBQAAAAAAAcLdAAAAAAAC0uUAAAAAAAOC1QAAAAAAAALlAAAAAAAA+t0AAAAAAAEC/QAAAAAAAhLxAAAAAAAAUvkAAAAAAAJy4QAAAAAAAyLlAAAAAAAC8u0AAAAAAAGq4QAAAAAAAyLlAAAAAAACKu0AAAAAAAO67QAAAAAAAaMBAAAAAAADmtEAAAAAAAKi2QAAAAAAABrhAAAAAAACQukAAAAAAAJC6QAAAAAAAzMBAAAAAAAAqwkAAAAAAAGq4QAAAAAAAtrxAAAAAAADovEAAAAAAAB3AQAAAAAAAJrtAAAAAAAByv0AAAAAAAES2QAAAAAAAkLpAAAAAAAByv0AAAAAAANa/QAAAAAAAwrpAAAAAAAB4vkAAAAAAAAC5QAAAAAAATL1AAAAAAAAUvkAAAAAAACa7QAAAAAAAQL9AAAAAAAAkw0AAAAAAAMi5QAAAAAAAvLtAAAAAAACEvEAAAAAAAA7AQAAAAAAAlrlAAAAAAAA2wEAAAAAAABq9QAAAAAAARLZAAAAAAADatkAAAAAAAAi7QAAAAAAAFL5AAAAAAAAgvEAAAAAAALa8QAAAAAAAGr1AAAAAAACwvUAAAAAAAJy4QAAAAAAAarhAAAAAAAAGuEAAAAAAAJa5QAAAAAAAhLxAAAAAAAC4xUAAAAAAACa7QAAAAAAAJrtAAAAAAACEvEAAAAAAAJrAQAAAAAAAxsFAAAAAAACotkAAAAAAALy7QAAAAAAA+MFAAAAAAAAsukAAAAAAAF66QAAAAAAAvLtAAAAAAABwt0AAAAAAACrCQAAAAAAAeL5AAAAAAAAXwUAAAAAAAMK6QAAAAAAAvLtAAAAAAAB8tUAAAAAAAJC6QAAAAAAAnLhAAAAAAAC8u0AAAAAAAGq4QAAAAAAAMrlAAAAAAABSvEAAAAAAAHi+QAAAAAAAfr1AAAAAAACotkAAAAAAAGS5QAAAAAAAwrpAAAAAAABMvUAAAAAAAPS6QAAAAAAAUrxAAAAAAAAwwUAAAAAAAO67QAAAAAAA1r9AAAAAAAB4vkAAAAAAANnCQAAAAAAAyLlAAAAAAAAmu0AAAAAAAD63QAAAAAAAqLZAAAAAAADUt0AAAAAAAFi7QAAAAAAA1r9AAAAAAAB4vkAAAAAAAOi8QAAAAAAAzrhAAAAAAACKu0AAAAAAAIS8QAAAAAAAFL5AAAAAAACUwUAAAAAAAGrDQAAAAAAArrVAAAAAAACit0AAAAAAAJy4QAAAAAAA9LpAAAAAAAD0ukAAAAAAAFi7QAAAAAAA7rtAAAAAAADOuEAAAAAAADK5QAAAAAAAMrlAAAAAAAAsukAAAAAAAMK6QAAAAAAA1rpAAAAAAAD0ukAAAAAAAOa+QAAAAAAA5r5AAAAAAADcvkAAAAAAADbAQAAAAAAAFL5AAAAAAABquEAAAAAAAAC5QAAAAAAAQL9AAAAAAAAmu0AAAAAAAFi7QAAAAAAAqLZAAAAAAAB+vUAAAAAAAEC/QAAAAAAAkLpAAAAAAACEvEAAAAAAAEC/QAAAAAAAs8BAAAAAAAD+wEAAAAAAAPS6QAAAAAAAhLxAAAAAAACEvEAAAAAAAKi2QAAAAAAA9LpAAAAAAABEu0AAAAAAAOi8QAAAAAAAxMNAAAAAAABKxUAAAAAAAGS5QAAAAAAA9LpAAAAAAABkuUAAAAAAAMi5QAAAAAAAhLxAAAAAAAD0ukAAAAAAAE/AQAAAAAAAkLpAAAAAAAD0ukAAAAAAABS+QAAAAAAA+rlAAAAAAAB4vkAAAAAAAIizQAAAAAAAOLhAAAAAAAD6uUAAAAAAAFi7QAAAAAAAvLtAAAAAAAAgvEAAAAAAABS+QAAAAAAAOLhAAAAAAACQukAAAAAAAFi7QAAAAAAAILxAAAAAAAAavUAAAAAAANnCQAAAAAAAnLhAAAAAAACawEAAAAAAADi4QAAAAAAAtrxAAAAAAACqvkAAAAAAAIq7QAAAAAAA38FAAAAAAAAsukAAAAAAAH69QAAAAAAAFL5AAAAAAABowEAAAAAAAMbBQAAAAAAAPcNAAAAAAADTw0AAAAAAAJrAQAAAAAAAScFAAAAAAAB1wkAAAAAAALzLQAAAAAAAzM9AAAAAAADpwUAAAAAAABLGQAAAAAAAz8xAAAAAAABpxEAAAAAAAKS/QAAAAAAAzMBAAAAAAABdxkAAAAAAAN/BQAAAAAAAxsFAAAAAAADlwEAAAAAAAK3BQAAAAAAAJMNAAAAAAADywkAAAAAAAIrLQAAAAAAA38FAAAAAAAAkw0AAAAAAAKfCQAAAAAAA7MNAAAAAAABJwUAAAAAAAMDCQAAAAAAAQL9AAAAAAAA2wEAAAAAAAJrAQAAAAAAAQL9AAAAAAADfwUAAAAAAAG/NQAAAAAAAaMBAAAAAAABowEAAAAAAAMzAQAAAAAAADMdAAAAAAAAUvkAAAAAAAI/GQAAAAAAA/sBAAAAAAAAFxEAAAAAAADfEQAAAAAAAgsRAAAAAAABWw0AAAAAAAFbDQAAAAAAAMMFAAAAAAAB2xkAAAAAAAJDKQAAAAAAAmsBAAAAAAABSvEAAAAAAACrCQAAAAAAAHsRAAAAAAABKxUAAAAAAAODFQAAAAAAAGclAAAAAAAB9yUAAAAAAAOK9QAAAAAAAHcBAAAAAAACOwkAAAAAAANy+QAAAAAAAmsBAAAAAAAByxUAAAAAAAEC/QAAAAAAAiMNAAAAAAACwvUAAAAAAAAvDQAAAAAAAUMRAAAAAAACvyUAAAAAAAIHAQAAAAAAA3L5AAAAAAAAdwEAAAAAAAPjBQAAAAAAAXMJAAAAAAABowEAAAAAAAP7AQAAAAAAARMZAAAAAAABowEAAAAAAAD3DQAAAAAAARMZAAAAAAABdxkAAAAAAAPnFQAAAAAAAcMdAAAAAAADywkAAAAAAALrDQAAAAAAAScFAAAAAAADfwUAAAAAAAAvDQAAAAAAAqr5AAAAAAABAv0AAAAAAADbFQAAAAAAAXMJAAAAAAADGu0AAAAAAACrSQAAAAAAAPsdAAAAAAABowEAAAAAAAOzDQAAAAAAAqMZAAAAAAAAqwkAAAAAAAN/BQAAAAAAAXrpAAAAAAAB81UAAAAAAAJrAQAAAAAAAwMJAAAAAAABKxUAAAAAAAODFQAAAAAAADs9AAAAAAAD4wUAAAAAAAOzDQAAAAAAAqMZAAAAAAABwx0AAAAAAACDMQAAAAAAAm8RAAAAAAACOwkAAAAAAABfBQAAAAAAAg8hAAAAAAACEwkAAAAAAAOi8QAAAAAAA+MFAAAAAAABWw0AAAAAAAHzFQAAAAAAA88ZAAAAAAAD+wEAAAAAAAIjDQAAAAAAAkMpAAAAAAAAzzUAAAAAAgHTQQAAAAAAAKsJAAAAAAADgxUAAAAAAAG/DQAAAAAAAgsRAAAAAAAC8u0AAAAAAANa/QAAAAAAA/sBAAAAAAABiwUAAAAAAAD3DQAAAAAAApL9AAAAAAACIw0AAAAAAAGjAQAAAAAAAJcdAAAAAAAByv0AAAAAAAIHAQAAAAAAAxsFAAAAAAADaxkAAAAAAAHi+QAAAAAAAHcBAAAAAAACUwUAAAAAAAEPCQAAAAAAA+MFAAAAAAACit0AAAAAAANbAQAAAAAAAx8VAAAAAAABdxkAAAAAAAHbGQAAAAAAAOLhAAAAAAABGvkAAAAAAAEC/QAAAAAAAwMJAAAAAAADozEAAAAAAANnCQAAAAAAAdsZAAAAAAAAdwEAAAAAAAGLBQAAAAAAA+MFAAAAAAAAXwUAAAAAAAP7AQAAAAAAABshAAAAAAACjy0AAAAAAAJrAQAAAAAAA08NAAAAAAAAexEAAAAAAANrWQAAAAAAAQL9AAAAAAADsw0AAAAAAAAzHQAAAAAAAAMlAAAAAAADWv0AAAAAAAOi8QAAAAAAA38FAAAAAAADgxUAAAAAAAKjGQAAAAAAA/8RAAAAAAABeukAAAAAAAIHAQAAAAAAAmtBAAAAAAACzwEAAAAAAAFzCQAAAAAAAj8ZAAAAAAICH4UAAAAAAAILEQAAAAAAAj8ZAAAAAAAAOv0AAAAAAABq9QAAAAAAASsVAAAAAAABMzUAAAAAAABS+QAAAAAAAiMNAAAAAAADovEAAAAAAAILEQAAAAAAA3L5AAAAAAAA9w0AAAAAAAI7CQAAAAAAAJcdAAAAAAABQyUAAAAAAAN/BQAAAAAAAjsJAAAAAAABMvUAAAAAAAHK/QAAAAAAAgcBAAAAAAAAwwUAAAAAAAPLCQAAAAAAAHsRAAAAAAABAv0AAAAAAAKS/QAAAAAAAacRAAAAAAACEvEAAAAAAAMbBQAAAAAAA38FAAAAAAADAwkAAAAAAAALHQAAAAAAAScFAAAAAAABcwkAAAAAAABS+QAAAAAAAAMRAAAAAAAD+wEAAAAAAANfJQAAAAAAAJLNAAAAAAADuy0AAAAAAAAvDQAAAAAAAqMZAAAAAAADGwUAAAAAAAEPCQAAAAAAAdcJAAAAAAADtx0AAAAAAAD3DQAAAAAAADMdAAAAAAABowEAAAAAAADfEQAAAAAAABcRAAAAAAABJwUAAAAAAAKfCQAAAAAAAMslAAAAAAABAv0AAAAAAAP7AQAAAAAAAM81AAAAAAADMwEAAAAAAAIjDQAAAAAAA6LxAAAAAAABQxEAAAAAAACTDQAAAAAAABMBAAAAAAADIyUAAAAAAgL/QQAAAAAAAdcJAAAAAAAB2xkAAAAAAABTOQAAAAAAA39FAAAAAAABcwkAAAAAAAJbJQAAAAAAAKsJAAAAAAADBxkAAAAAAAAvDQAAAAAAAV8dAAAAAAACQukAAAAAAAOzDQAAAAAAARMZAAAAAAACawEAAAAAAAK3BQAAAAAAA4MVAAAAAAAC8y0AAAAAAABq9QAAAAAAA5sRAAAAAAAA3xEAAAAAAAEPCQAAAAAAA3M5AAAAAAACQukAAAAAAAB3AQAAAAAAA+MFAAAAAAAAAyUAAAAAAABbMQAAAAAAAsL1AAAAAAACtwUAAAAAAACTDQAAAAAAAeL5AAAAAAABQxEAAAAAAALTEQAAAAAAAfMVAAAAAAADlwEAAAAAAAMzAQAAAAAAAC8NAAAAAAAAdwEAAAAAAACCsQAAAAAAAsK1AAAAAAABAr0AAAAAAAMipQAAAAAAAhKxAAAAAAADgpUAAAAAAAKimQAAAAAAALKpAAAAAAAAYpUAAAAAAAIijQAAAAAAAyKlAAAAAAAAUrkAAAAAAAHCnQAAAAAAAvKtAAAAAAABQpEAAAAAAAASwQAAAAAAAUKRAAAAAAACQqkAAAAAAANyuQAAAAAAAcKdAAAAAAAAko0AAAAAAAIijQAAAAAAA4KVAAAAAAAAUqUAAAAAAAASwQAAAAAAAwKJAAAAAAABEpkAAAAAAACCsQAAAAAAAkKpAAAAAAADgpUAAAAAAAES2QAAAAAAAAKlAAAAAAAC8q0AAAAAAAHCnQAAAAAAAsK1AAAAAAAA4qEAAAAAAADioQAAAAAAAZKlAAAAAAAAUqUAAAAAAADioQAAAAAAA9KpAAAAAAABYq0AAAAAAAMipQAAAAAAAnKhAAAAAAADorEAAAAAAAHCnQAAAAAAAOKhAAAAAAAB0o0AAAAAAAMipQAAAAAAA6KxAAAAAAADIqUAAAAAAABilQAAAAAAAsK1AAAAAAABwp0AAAAAAAHiuQAAAAAAAIKxAAAAAAABwp0AAAAAAAMipQAAAAAAA3K5AAAAAAACErEAAAAAAANSnQAAAAAAAkKpAAAAAAACwrUAAAAAAALCtQAAAAAAArrVAAAAAAAC8q0AAAAAAALCtQAAAAAAAtLRAAAAAAACwrUAAAAAAAMipQAAAAAAA+LFAAAAAAABWs0AAAAAAANawQAAAAAAAlLFAAAAAAADGsUAAAAAAAFyyQAAAAAAADLdAAAAAAADMsEAAAAAAAMCyQAAAAAAAeK5AAAAAAACUsUAAAAAAAOyzQAAAAAAAlLFAAAAAAACUsUAAAAAAAOC1QAAAAAAANrBAAAAAAAB4rkAAAAAAABi1QAAAAAAAOLhAAAAAAADgtUAAAAAAAPKyQAAAAAAAVrNAAAAAAACIs0AAAAAAANq2QAAAAAAAordAAAAAAADss0AAAAAAAAa4QAAAAAAAxrFAAAAAAACIs0AAAAAAAOisQAAAAAAA/rBAAAAAAADmtEAAAAAAAHy1QAAAAAAAiLNAAAAAAABQtEAAAAAAAOC1QAAAAAAAqLZAAAAAAACIs0AAAAAAAOyzQAAAAAAADLdAAAAAAADmtEAAAAAAAJSxQAAAAAAAKrJAAAAAAADAskAAAAAAAJSxQAAAAAAAtLRAAAAAAAAEsEAAAAAAAPKyQAAAAAAAVrNAAAAAAAA2sEAAAAAAALS0QAAAAAAAeK5AAAAAAADGsUAAAAAAAHa2QAAAAAAASrVAAAAAAABcskAAAAAAABK2QAAAAAAADLdAAAAAAABKtUAAAAAAABK2QAAAAAAAKrJAAAAAAAAetEAAAAAAAOC1QAAAAAAA5rRAAAAAAAAGuEAAAAAAALqzQAAAAAAAFK5AAAAAAABosEAAAAAAAAa4QAAAAAAAXLJAAAAAAABAr0AAAAAAAJSxQAAAAAAAKrJAAAAAAADmtEAAAAAAAOC1QAAAAAAA5rRAAAAAAABwt0AAAAAAAMCyQAAAAAAAPrdAAAAAAAC0rkAAAAAAAJqwQAAAAAAATK1AAAAAAADss0AAAAAAAISsQAAAAAAAfLVAAAAAAAB8tUAAAAAAAKi2QAAAAAAAlLFAAAAAAADGsUAAAAAAAAy3QAAAAAAAGLVAAAAAAADAskAAAAAAAAy3QAAAAAAALLpAAAAAAADorEAAAAAAAJqwQAAAAAAAordAAAAAAACUsUAAAAAAACSzQAAAAAAAurNAAAAAAADatkAAAAAAAGKxQAAAAAAA+LFAAAAAAAAMt0AAAAAAAAy3QAAAAAAAaLBAAAAAAAAwsUAAAAAAAOC1QAAAAAAAQK9AAAAAAABcskAAAAAAAOyzQAAAAAAAGLVAAAAAAAAetEAAAAAAAJSxQAAAAAAAJLNAAAAAAAAGuEAAAAAAAGKxQAAAAAAAlLFAAAAAAAAEsEAAAAAAAJy4QAAAAAAAsK1AAAAAAAAYtUAAAAAAAHCnQAAAAAAAErZAAAAAAADGsUAAAAAAAMCyQAAAAAAAdrZAAAAAAAC8q0AAAAAAAOa0QAAAAAAA5rRAAAAAAAD4sUAAAAAAAOC1QAAAAAAAULRAAAAAAABKtUAAAAAAADCxQAAAAAAAlLFAAAAAAAAks0AAAAAAALS0QAAAAAAAfLVAAAAAAACUsUAAAAAAAD63QAAAAAAA2rZAAAAAAAB8tUAAAAAAALS0QAAAAAAAALlAAAAAAADIrkAAAAAAALS0QAAAAAAAaLBAAAAAAADAskAAAAAAAMipQAAAAAAA7LNAAAAAAAAwsUAAAAAAAKi2QAAAAAAAxrFAAAAAAAD+sEAAAAAAAJSxQAAAAAAA7LNAAAAAAABcskAAAAAAABi1QAAAAAAAErZAAAAAAAD4sUAAAAAAAMCyQAAAAAAAaLBAAAAAAABAtUAAAAAAAJC6QAAAAAAA5rRAAAAAAAB8tUAAAAAAADCxQAAAAAAAzLBAAAAAAADgtUAAAAAAANq2QAAAAAAAzrhAAAAAAADmtEAAAAAAAI6yQAAAAAAAPrdAAAAAAAAqskAAAAAAAB60QAAAAAAAordAAAAAAABisUAAAAAAAEC1QAAAAAAASrVAAAAAAABcskAAAAAAAMaxQAAAAAAAcLdAAAAAAADcrkAAAAAAAMaxQAAAAAAAwLJAAAAAAABMrUAAAAAAAASwQAAAAAAA5rRAAAAAAACIs0AAAAAAANq2QAAAAAAADLdAAAAAAAAGuEAAAAAAAKimQAAAAAAAErZAAAAAAAB8tUAAAAAAACqyQAAAAAAArrVAAAAAAADGsUAAAAAAAOC1QAAAAAAAfLVAAAAAAABwt0AAAAAAAMK6QAAAAAAAMLFAAAAAAADMsEAAAAAAACqyQAAAAAAARLZAAAAAAACasEAAAAAAALqzQAAAAAAAtLRAAAAAAAD0ukAAAAAAAF66QAAAAAAADr9AAAAAAABAv0AAAAAAACC8QAAAAAAAZLlAAAAAAADovEAAAAAAAKS/QAAAAAAAeL5AAAAAAACEvEAAAAAAAMi5QAAAAAAATL1AAAAAAAAAuUAAAAAAACa7QAAAAAAAScFAAAAAAAAMt0AAAAAAACC8QAAAAAAAFL5AAAAAAAC8u0AAAAAAAF66QAAAAAAAeL5AAAAAAACUwUAAAAAAAMCSQAAAAAAAyLlAAAAAAADOuEAAAAAAABS+QAAAAAAAqr5AAAAAAAB8tUAAAAAAAJa5QAAAAAAAfr1AAAAAAACEvEAAAAAAAO67QAAAAAAAILxAAAAAAADuu0AAAAAAAOK4QAAAAAAAMrlAAAAAAABeukAAAAAAACC8QAAAAAAAyLlAAAAAAAAks0AAAAAAAD63QAAAAAAAhLxAAAAAAAAGuEAAAAAAAPS6QAAAAAAAirtAAAAAAAD+wEAAAAAAAMi5QAAAAAAAUrxAAAAAAABAv0AAAAAAAPq5QAAAAAAAJrtAAAAAAADovEAAAAAAAK61QAAAAAAA4r1AAAAAAAA4uEAAAAAAAFK8QAAAAAAA4r1AAAAAAACBwEAAAAAAAJC6QAAAAAAAeL5AAAAAAAAAuUAAAAAAAIS8QAAAAAAA5cBAAAAAAACWuUAAAAAAAFK8QAAAAAAATL1AAAAAAAB+vUAAAAAAANa/QAAAAAAAZLlAAAAAAAByv0AAAAAAAM7IQAAAAAAAvLtAAAAAAAB+vUAAAAAAAOK9QAAAAAAAQL9AAAAAAACEvEAAAAAAAOC1QAAAAAAA6LxAAAAAAADivUAAAAAAAJC6QAAAAAAAfr1AAAAAAACwvUAAAAAAAK61QAAAAAAA6LxAAAAAAADovEAAAAAAAFK8QAAAAAAA4r1AAAAAAABMvUAAAAAAAPS6QAAAAAAAYsFAAAAAAAAmu0AAAAAAAIiTQAAAAAAAALlAAAAAAAByv0AAAAAAALy7QAAAAAAAF8FAAAAAAAAAuUAAAAAAAHC3QAAAAAAAWLtAAAAAAAAwwUAAAAAAAH69QAAAAAAAMrlAAAAAAACEvEAAAAAAABq9QAAAAAAALLpAAAAAAABeukAAAAAAAGS5QAAAAAAABMBAAAAAAADUt0AAAAAAAOi8QAAAAAAA+rlAAAAAAACKu0AAAAAAAFK8QAAAAAAALLpAAAAAAACotkAAAAAAAIS8QAAAAAAAqr5AAAAAAAAyuUAAAAAAAFi7QAAAAAAA4r1AAAAAAAC8u0AAAAAAALC9QAAAAAAABrhAAAAAAADWv0AAAAAAAATAQAAAAAAAZLlAAAAAAABAv0AAAAAAAB3AQAAAAAAA6LxAAAAAAAAYtUAAAAAAAHi+QAAAAAAAHcBAAAAAAAAyuUAAAAAAAF66QAAAAAAApL9AAAAAAADCukAAAAAAAPS6QAAAAAAA/sBAAAAAAAA+t0AAAAAAAGS5QAAAAAAA+rlAAAAAAACEvEAAAAAAALC9QAAAAAAAnLhAAAAAAAD6uUAAAAAAABS+QAAAAAAAJrtAAAAAAACqvkAAAAAAAJC6QAAAAAAAkLpAAAAAAACwvUAAAAAAAAa4QAAAAAAATL1AAAAAAABAv0AAAAAAADbAQAAAAAAA7rtAAAAAAAAStkAAAAAAAJy4QAAAAAAAHcBAAAAAAAB2tkAAAAAAAEy9QAAAAAAAqr5AAAAAAACcuEAAAAAAAHK/QAAAAAAAZLlAAAAAAAAMt0AAAAAAAGjAQAAAAAAAnLhAAAAAAABkuUAAAAAAANy+QAAAAAAAcr9AAAAAAADIuUAAAAAAAD63QAAAAAAAwrpAAAAAAABMvUAAAAAAACC8QAAAAAAAZLlAAAAAAAAsukAAAAAAACC8QAAAAAAAqr5AAAAAAAAAuUAAAAAAAMi5QAAAAAAA1r9AAAAAAADgtUAAAAAAABS+QAAAAAAALLpAAAAAAAAgvEAAAAAAAF66QAAAAAAAMMFAAAAAAABGvkAAAAAAAATAQAAAAAAAlMFAAAAAAABwt0AAAAAAAB3AQAAAAAAALLpAAAAAAABGvkAAAAAAAEy9QAAAAAAAT8BAAAAAAAA+t0AAAAAAAJy4QAAAAAAA9LpAAAAAAAAOv0AAAAAAAO67QAAAAAAA6LxAAAAAAACwvUAAAAAAAETGQAAAAAAAScFAAAAAAAC6w0AAAAAAALrDQAAAAAAAJMNAAAAAAACEvEAAAAAAAK7FQAAAAAAAScFAAAAAAABcwkAAAAAAAJrAQAAAAAAAwMJAAAAAAABJwUAAAAAAANnCQAAAAAAAxsFAAAAAAABcwkAAAAAAAObEQAAAAAAAXMJAAAAAAAAEwEAAAAAAAILEQAAAAAAAeL5AAAAAAACoxkAAAAAAAIS8QAAAAAAAcMdAAAAAAAAEwEAAAAAAADDBQAAAAAAAzMBAAAAAAABcwkAAAAAAAJrAQAAAAAAAashAAAAAAABcwkAAAAAAAGjAQAAAAAAAxsFAAAAAAACuxUAAAAAAACrCQAAAAAAAVsNAAAAAAADGwUAAAAAAAKjGQAAAAAAAEcJAAAAAAADsw0AAAAAAAEy9QAAAAAAAC8NAAAAAAAASxkAAAAAAAD3DQAAAAAAAxsFAAAAAAAD+wEAAAAAAAFbDQAAAAAAA/8RAAAAAAAA9w0AAAAAAAEC/QAAAAAAAScFAAAAAAAA2wEAAAAAAADfEQAAAAAAA+MFAAAAAAAA4yEAAAAAAAIHAQAAAAAAA2cJAAAAAAACoxkAAAAAAAD7HQAAAAAAAF8FAAAAAAABPwEAAAAAAAK3BQAAAAAAAKsJAAAAAAADcvkAAAAAAAFzCQAAAAAAAosdAAAAAAAC7x0AAAAAAAK3BQAAAAAAAT8BAAAAAAABwx0AAAAAAAN/BQAAAAAAA+MFAAAAAAABEpkAAAAAAALyrQAAAAAAAiKNAAAAAAAB0rUAAAAAAADioQAAAAAAA1KdAAAAAAADIqUAAAAAAANSnQAAAAAAA9KpAAAAAAADgpUAAAAAAAHCnQAAAAAAAAKlAAAAAAABosEAAAAAAAMipQAAAAAAAGKVAAAAAAAC8q0AAAAAAADioQAAAAAAAnKhAAAAAAACIo0AAAAAAAFCkQAAAAAAA6KxAAAAAAACQqkAAAAAAAOisQAAAAAAA1KdAAAAAAAA4qEAAAAAAAACpQAAAAAAAOKhAAAAAAABcokAAAAAAAJCqQAAAAAAAJKNAAAAAAADgpUAAAAAAAAynQAAAAAAA1KdAAAAAAACcqEAAAAAAAGigQAAAAAAA7KNAAAAAAAA4qEAAAAAAABilQAAAAAAAnKhAAAAAAACasEAAAAAAALyrQAAAAAAAUKRAAAAAAAAgrEAAAAAAAHiuQAAAAAAAGKVAAAAAAABEpkAAAAAAAJyoQAAAAAAAlKFAAAAAAABEpkAAAAAAAFirQAAAAAAABKBAAAAAAAAUrkAAAAAAAISsQAAAAAAAIKxAAAAAAADIqUAAAAAAAEytQAAAAAAAxrFAAAAAAACcuEAAAAAAANS3QAAAAAAADLdAAAAAAAA+t0AAAAAAAJqwQAAAAAAA/rBAAAAAAADAskAAAAAAALCtQAAAAAAA3K5AAAAAAACutUAAAAAAAIK0QAAAAAAAmrBAAAAAAAD+sEAAAAAAAJSxQAAAAAAARLZAAAAAAACUsUAAAAAAAPS6QAAAAAAAjrJAAAAAAACCtEAAAAAAABi1QAAAAAAAtLRAAAAAAAB8tUAAAAAAANyuQAAAAAAAxrFAAAAAAABisUAAAAAAAK61QAAAAAAAfLVAAAAAAADUt0AAAAAAAEytQAAAAAAAordAAAAAAADUt0AAAAAAALqzQAAAAAAAPrdAAAAAAAD+sEAAAAAAAOyzQAAAAAAAtLRAAAAAAABwt0AAAAAAAMywQAAAAAAAdrZAAAAAAAAMt0AAAAAAAMaxQAAAAAAA2rZAAAAAAAAStkAAAAAAAOC1QAAAAAAAPrdAAAAAAAC6s0AAAAAAANyuQAAAAAAAKrJAAAAAAABisUAAAAAAAK61QAAAAAAARLZAAAAAAAAMt0AAAAAAAMCyQAAAAAAA5rRAAAAAAABEtkAAAAAAALS0QAAAAAAAMLFAAAAAAAC0tEAAAAAAABi1QAAAAAAAzLBAAAAAAAAetEAAAAAAAK61QAAAAAAAULRAAAAAAAAMt0AAAAAAANq2QAAAAAAAVrNAAAAAAABWs0AAAAAAAEq1QAAAAAAABLBAAAAAAABcskAAAAAAAMCyQAAAAAAAiLNAAAAAAAB8tUAAAAAAALqzQAAAAAAAxrFAAAAAAAA4uEAAAAAAALS0QAAAAAAA2rZAAAAAAAA+t0AAAAAAANS3QAAAAAAAXLJAAAAAAADAskAAAAAAABi1QAAAAAAAtLRAAAAAAACIs0AAAAAAABi1QAAAAAAAJLNAAAAAAABEtkAAAAAAAAy3QAAAAAAAULRAAAAAAACOskAAAAAAAAy3QAAAAAAAfLVAAAAAAAAqskAAAAAAAFirQAAAAAAAVrNAAAAAAAAAuUAAAAAAAHa2QAAAAAAA3K5AAAAAAADyskAAAAAAANS3QAAAAAAAWKtAAAAAAABEtkAAAAAAAAy3QAAAAAAAPrdAAAAAAADGsUAAAAAAAPKyQAAAAAAAdrZAAAAAAAB8tUAAAAAAABK2QAAAAAAAZLlAAAAAAABKtUAAAAAAAFyyQAAAAAAARLZAAAAAAADatkAAAAAAALS0QAAAAAAAzLBAAAAAAADGsUAAAAAAAP6wQAAAAAAAGLVAAAAAAACotkAAAAAAAIizQAAAAAAA1LdAAAAAAABWs0AAAAAAAOC1QAAAAAAAtLRAAAAAAACutUAAAAAAANS3QAAAAAAADLdAAAAAAABisUAAAAAAAAy3QAAAAAAA1LdAAAAAAACasEAAAAAAAFyyQAAAAAAArrVAAAAAAABosEAAAAAAABi1QAAAAAAARLZAAAAAAAA+t0AAAAAAAAy3QAAAAAAAjrJAAAAAAAAAuUAAAAAAABK2QAAAAAAAJLNAAAAAAABKtUAAAAAAAKimQAAAAAAAaLBAAAAAAACIs0AAAAAAAKi2QAAAAAAADLdAAAAAAAA+t0AAAAAAAGS5QAAAAAAAfLVAAAAAAACIs0AAAAAAAIizQAAAAAAASrVAAAAAAACutUAAAAAAAJSxQAAAAAAAxrFAAAAAAABQtEAAAAAAAKi2QAAAAAAAwLJAAAAAAADgtUAAAAAAAAa4QAAAAAAAxrFAAAAAAADss0AAAAAAANq2QAAAAAAAJLNAAAAAAACCtEAAAAAAAGq4QAAAAAAAHrRAAAAAAAAStkAAAAAAAPixQAAAAAAA1LdAAAAAAADmtEAAAAAAAES2QAAAAAAA+LFAAAAAAABosEAAAAAAABK2QAAAAAAA2rZAAAAAAAC0tEAAAAAAAJyoQAAAAAAANrBAAAAAAADgtUAAAAAAAHa2QAAAAAAAirZAAAAAAAAMt0AAAAAAAD63QAAAAAAA7LNAAAAAAACutUAAAAAAAJy4QAAAAAAAmrBAAAAAAAA2sEAAAAAAAHy1QAAAAAAAMLFAAAAAAABQtEAAAAAAAH69QAAAAAAAtrxAAAAAAAAyuUAAAAAAAPS6QAAAAAAAsL1AAAAAAAB4vkAAAAAAAATAQAAAAAAAILxAAAAAAAAavUAAAAAAALC9QAAAAAAAarhAAAAAAAD0ukAAAAAAABS+QAAAAAAAHcBAAAAAAADUt0AAAAAAAFK8QAAAAAAAwrpAAAAAAAC2vEAAAAAAAATAQAAAAAAA5rRAAAAAAACwvUAAAAAAAHK/QAAAAAAAfr1AAAAAAACKu0AAAAAAAH69QAAAAAAATL1AAAAAAAA2wEAAAAAAAJy4QAAAAAAAXrpAAAAAAAAsukAAAAAAAIq7QAAAAAAA3L5AAAAAAAC8u0AAAAAAAB3AQAAAAAAAWLtAAAAAAACEvEAAAAAAALC9QAAAAAAA4r1AAAAAAADuu0AAAAAAAKq+QAAAAAAAyLlAAAAAAAD0ukAAAAAAAOi8QAAAAAAA3L5AAAAAAACqvkAAAAAAAF66QAAAAAAAALlAAAAAAADlwEAAAAAAALC9QAAAAAAA7rtAAAAAAACwvUAAAAAAAHi+QAAAAAAA6LxAAAAAAAAgvEAAAAAAANS3QAAAAAAAWLtAAAAAAABMvUAAAAAAAHi+QAAAAAAAsL1AAAAAAADCukAAAAAAACy6QAAAAAAAsL1AAAAAAABEtkAAAAAAAJC6QAAAAAAAWLtAAAAAAABMvUAAAAAAABS+QAAAAAAA6LxAAAAAAACQukAAAAAAAPS6QAAAAAAAzrhAAAAAAABYu0AAAAAAADK5QAAAAAAAeL5AAAAAAABAv0AAAAAAAFi7QAAAAAAAALlAAAAAAACQukAAAAAAAHC3QAAAAAAA6LxAAAAAAAAsukAAAAAAAEy9QAAAAAAA4r1AAAAAAABkuUAAAAAAAKK3QAAAAAAAqr5AAAAAAABSvEAAAAAAAFK8QAAAAAAA1r9AAAAAAACQukAAAAAAABq9QAAAAAAABMBAAAAAAACcuEAAAAAAAEy9QAAAAAAAZLlAAAAAAAD0ukAAAAAAAHi+QAAAAAAAZLlAAAAAAACWuUAAAAAAAMK6QAAAAAAA6LxAAAAAAAByv0AAAAAAAKq+QAAAAAAAkLpAAAAAAAB4vkAAAAAAANy+QAAAAAAAPrdAAAAAAAB+vUAAAAAAAIS8QAAAAAAAMrlAAAAAAAAsukAAAAAAAOC1QAAAAAAA3L5AAAAAAAAGuEAAAAAAANq2QAAAAAAAOLhAAAAAAACEvEAAAAAAADK5QAAAAAAAdrZAAAAAAAALw0AAAAAAAMzAQAAAAAAAVsNAAAAAAABAv0AAAAAAAGLBQAAAAAAAs8BAAAAAAADywkAAAAAAAHK/QAAAAAAAJMNAAAAAAABAv0AAAAAAAEy9QAAAAAAARMZAAAAAAAD+wEAAAAAAANPDQAAAAAAAYsFAAAAAAAAqwkAAAAAAALPAQAAAAAAA3L5AAAAAAAB4vkAAAAAAAETGQAAAAAAA3L5AAAAAAACwvUAAAAAAAPLCQAAAAAAAFL5AAAAAAADMwEAAAAAAADbAQAAAAAAAjsJAAAAAAACUwUAAAAAAAI7CQAAAAAAAs8BAAAAAAAAavUAAAAAAALXIQAAAAAAAUrxAAAAAAACOwkAAAAAAAK7FQAAAAAAANsBAAAAAAABMvUAAAAAAALPAQAAAAAAA/sBAAAAAAADivUA=",
          "dtype": "f8"
         },
         "xaxis": "x",
         "y": {
          "bdata": "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",
          "dtype": "f8"
         },
         "yaxis": "y"
        },
        {
         "customdata": [
          [
           "Rivitalo"
          ],
          [
           "Rivitalo"
          ],
          [
           "Rivitalo"
          ],
          [
           "Rivitalo"
          ],
          [
           "Rivitalo"
          ],
          [
           "Rivitalo"
          ],
          [
           "Rivitalo"
          ],
          [
           "Rivitalo"
          ],
          [
           "Rivitalo"
          ],
          [
           "Rivitalo"
          ],
          [
           "Rivitalo"
          ],
          [
           "Rivitalo"
          ],
          [
           "Rivitalo"
          ],
          [
           "Rivitalo"
          ],
          [
           "Rivitalo"
          ],
          [
           "Rivitalo"
          ],
          [
           "Rivitalo"
          ],
          [
           "Rivitalo"
          ],
          [
           "Rivitalo"
          ],
          [
           "Rivitalo"
          ],
          [
           "Rivitalo"
          ],
          [
           "Rivitalo"
          ],
          [
           "Rivitalo"
          ],
          [
           "Rivitalo"
          ],
          [
           "Rivitalo"
          ],
          [
           "Rivitalo"
          ],
          [
           "Rivitalo"
          ],
          [
           "Rivitalo"
          ],
          [
           "Rivitalo"
          ],
          [
           "Rivitalo"
          ],
          [
           "Rivitalo"
          ],
          [
           "Rivitalo"
          ],
          [
           "Rivitalo"
          ],
          [
           "Rivitalo"
          ],
          [
           "Rivitalo"
          ],
          [
           "Rivitalo"
          ],
          [
           "Rivitalo"
          ],
          [
           "Rivitalo"
          ],
          [
           "Rivitalo"
          ],
          [
           "Rivitalo"
          ],
          [
           "Rivitalo"
          ],
          [
           "Rivitalo"
          ],
          [
           "Rivitalo"
          ],
          [
           "Rivitalo"
          ],
          [
           "Rivitalo"
          ],
          [
           "Rivitalo"
          ],
          [
           "Rivitalo"
          ],
          [
           "Rivitalo"
          ],
          [
           "Rivitalo"
          ],
          [
           "Rivitalo"
          ],
          [
           "Rivitalo"
          ],
          [
           "Rivitalo"
          ],
          [
           "Rivitalo"
          ],
          [
           "Rivitalo"
          ],
          [
           "Rivitalo"
          ],
          [
           "Rivitalo"
          ],
          [
           "Rivitalo"
          ],
          [
           "Rivitalo"
          ],
          [
           "Rivitalo"
          ],
          [
           "Rivitalo"
          ],
          [
           "Rivitalo"
          ],
          [
           "Rivitalo"
          ],
          [
           "Rivitalo"
          ],
          [
           "Rivitalo"
          ],
          [
           "Rivitalo"
          ],
          [
           "Rivitalo"
          ],
          [
           "Rivitalo"
          ],
          [
           "Rivitalo"
          ],
          [
           "Rivitalo"
          ],
          [
           "Rivitalo"
          ],
          [
           "Rivitalo"
          ],
          [
           "Rivitalo"
          ],
          [
           "Rivitalo"
          ],
          [
           "Rivitalo"
          ],
          [
           "Rivitalo"
          ],
          [
           "Rivitalo"
          ],
          [
           "Rivitalo"
          ],
          [
           "Rivitalo"
          ],
          [
           "Rivitalo"
          ],
          [
           "Rivitalo"
          ],
          [
           "Rivitalo"
          ],
          [
           "Rivitalo"
          ],
          [
           "Rivitalo"
          ],
          [
           "Rivitalo"
          ],
          [
           "Rivitalo"
          ],
          [
           "Rivitalo"
          ],
          [
           "Rivitalo"
          ],
          [
           "Rivitalo"
          ],
          [
           "Rivitalo"
          ],
          [
           "Rivitalo"
          ],
          [
           "Rivitalo"
          ],
          [
           "Rivitalo"
          ],
          [
           "Rivitalo"
          ],
          [
           "Rivitalo"
          ],
          [
           "Rivitalo"
          ],
          [
           "Rivitalo"
          ],
          [
           "Rivitalo"
          ],
          [
           "Rivitalo"
          ],
          [
           "Rivitalo"
          ],
          [
           "Rivitalo"
          ],
          [
           "Rivitalo"
          ],
          [
           "Rivitalo"
          ],
          [
           "Rivitalo"
          ],
          [
           "Rivitalo"
          ],
          [
           "Rivitalo"
          ],
          [
           "Rivitalo"
          ],
          [
           "Rivitalo"
          ],
          [
           "Rivitalo"
          ],
          [
           "Rivitalo"
          ],
          [
           "Rivitalo"
          ],
          [
           "Rivitalo"
          ],
          [
           "Rivitalo"
          ],
          [
           "Rivitalo"
          ],
          [
           "Rivitalo"
          ],
          [
           "Rivitalo"
          ],
          [
           "Rivitalo"
          ],
          [
           "Rivitalo"
          ],
          [
           "Rivitalo"
          ],
          [
           "Rivitalo"
          ],
          [
           "Rivitalo"
          ],
          [
           "Rivitalo"
          ],
          [
           "Rivitalo"
          ],
          [
           "Rivitalo"
          ],
          [
           "Rivitalo"
          ],
          [
           "Rivitalo"
          ],
          [
           "Rivitalo"
          ],
          [
           "Rivitalo"
          ],
          [
           "Rivitalo"
          ],
          [
           "Rivitalo"
          ],
          [
           "Rivitalo"
          ],
          [
           "Rivitalo"
          ],
          [
           "Rivitalo"
          ],
          [
           "Rivitalo"
          ],
          [
           "Rivitalo"
          ],
          [
           "Rivitalo"
          ],
          [
           "Rivitalo"
          ],
          [
           "Rivitalo"
          ],
          [
           "Rivitalo"
          ],
          [
           "Rivitalo"
          ],
          [
           "Rivitalo"
          ],
          [
           "Rivitalo"
          ],
          [
           "Rivitalo"
          ],
          [
           "Rivitalo"
          ],
          [
           "Rivitalo"
          ],
          [
           "Rivitalo"
          ],
          [
           "Rivitalo"
          ],
          [
           "Rivitalo"
          ],
          [
           "Rivitalo"
          ],
          [
           "Rivitalo"
          ],
          [
           "Rivitalo"
          ],
          [
           "Rivitalo"
          ],
          [
           "Rivitalo"
          ],
          [
           "Rivitalo"
          ],
          [
           "Rivitalo"
          ],
          [
           "Rivitalo"
          ],
          [
           "Rivitalo"
          ],
          [
           "Rivitalo"
          ],
          [
           "Rivitalo"
          ],
          [
           "Rivitalo"
          ],
          [
           "Rivitalo"
          ],
          [
           "Rivitalo"
          ],
          [
           "Rivitalo"
          ],
          [
           "Rivitalo"
          ],
          [
           "Rivitalo"
          ],
          [
           "Rivitalo"
          ],
          [
           "Rivitalo"
          ],
          [
           "Rivitalo"
          ],
          [
           "Rivitalo"
          ],
          [
           "Rivitalo"
          ],
          [
           "Rivitalo"
          ],
          [
           "Rivitalo"
          ],
          [
           "Rivitalo"
          ],
          [
           "Rivitalo"
          ],
          [
           "Rivitalo"
          ],
          [
           "Rivitalo"
          ],
          [
           "Rivitalo"
          ],
          [
           "Rivitalo"
          ],
          [
           "Rivitalo"
          ],
          [
           "Rivitalo"
          ],
          [
           "Rivitalo"
          ],
          [
           "Rivitalo"
          ],
          [
           "Rivitalo"
          ],
          [
           "Rivitalo"
          ],
          [
           "Rivitalo"
          ],
          [
           "Rivitalo"
          ],
          [
           "Rivitalo"
          ],
          [
           "Rivitalo"
          ],
          [
           "Rivitalo"
          ],
          [
           "Rivitalo"
          ],
          [
           "Rivitalo"
          ],
          [
           "Rivitalo"
          ],
          [
           "Rivitalo"
          ],
          [
           "Rivitalo"
          ],
          [
           "Rivitalo"
          ],
          [
           "Rivitalo"
          ],
          [
           "Rivitalo"
          ],
          [
           "Rivitalo"
          ],
          [
           "Rivitalo"
          ],
          [
           "Rivitalo"
          ],
          [
           "Rivitalo"
          ],
          [
           "Rivitalo"
          ],
          [
           "Rivitalo"
          ],
          [
           "Rivitalo"
          ],
          [
           "Rivitalo"
          ],
          [
           "Rivitalo"
          ],
          [
           "Rivitalo"
          ],
          [
           "Rivitalo"
          ],
          [
           "Rivitalo"
          ],
          [
           "Rivitalo"
          ],
          [
           "Rivitalo"
          ],
          [
           "Rivitalo"
          ],
          [
           "Rivitalo"
          ],
          [
           "Rivitalo"
          ],
          [
           "Rivitalo"
          ],
          [
           "Rivitalo"
          ],
          [
           "Rivitalo"
          ],
          [
           "Rivitalo"
          ],
          [
           "Rivitalo"
          ],
          [
           "Rivitalo"
          ],
          [
           "Rivitalo"
          ],
          [
           "Rivitalo"
          ],
          [
           "Rivitalo"
          ],
          [
           "Rivitalo"
          ],
          [
           "Rivitalo"
          ],
          [
           "Rivitalo"
          ],
          [
           "Rivitalo"
          ],
          [
           "Rivitalo"
          ],
          [
           "Rivitalo"
          ],
          [
           "Rivitalo"
          ],
          [
           "Rivitalo"
          ],
          [
           "Rivitalo"
          ],
          [
           "Rivitalo"
          ],
          [
           "Rivitalo"
          ],
          [
           "Rivitalo"
          ],
          [
           "Rivitalo"
          ],
          [
           "Rivitalo"
          ],
          [
           "Rivitalo"
          ],
          [
           "Rivitalo"
          ],
          [
           "Rivitalo"
          ],
          [
           "Rivitalo"
          ],
          [
           "Rivitalo"
          ],
          [
           "Rivitalo"
          ],
          [
           "Rivitalo"
          ],
          [
           "Rivitalo"
          ],
          [
           "Rivitalo"
          ],
          [
           "Rivitalo"
          ],
          [
           "Rivitalo"
          ],
          [
           "Rivitalo"
          ],
          [
           "Rivitalo"
          ],
          [
           "Rivitalo"
          ],
          [
           "Rivitalo"
          ],
          [
           "Rivitalo"
          ],
          [
           "Rivitalo"
          ],
          [
           "Rivitalo"
          ],
          [
           "Rivitalo"
          ],
          [
           "Rivitalo"
          ],
          [
           "Rivitalo"
          ],
          [
           "Rivitalo"
          ],
          [
           "Rivitalo"
          ],
          [
           "Rivitalo"
          ],
          [
           "Rivitalo"
          ],
          [
           "Rivitalo"
          ],
          [
           "Rivitalo"
          ],
          [
           "Rivitalo"
          ],
          [
           "Rivitalo"
          ],
          [
           "Rivitalo"
          ],
          [
           "Rivitalo"
          ],
          [
           "Rivitalo"
          ],
          [
           "Rivitalo"
          ],
          [
           "Rivitalo"
          ],
          [
           "Rivitalo"
          ],
          [
           "Rivitalo"
          ],
          [
           "Rivitalo"
          ],
          [
           "Rivitalo"
          ],
          [
           "Rivitalo"
          ],
          [
           "Rivitalo"
          ],
          [
           "Rivitalo"
          ],
          [
           "Rivitalo"
          ],
          [
           "Rivitalo"
          ],
          [
           "Rivitalo"
          ],
          [
           "Rivitalo"
          ],
          [
           "Rivitalo"
          ],
          [
           "Rivitalo"
          ],
          [
           "Rivitalo"
          ],
          [
           "Rivitalo"
          ],
          [
           "Rivitalo"
          ],
          [
           "Rivitalo"
          ],
          [
           "Rivitalo"
          ],
          [
           "Rivitalo"
          ],
          [
           "Rivitalo"
          ],
          [
           "Rivitalo"
          ],
          [
           "Rivitalo"
          ],
          [
           "Rivitalo"
          ],
          [
           "Rivitalo"
          ],
          [
           "Rivitalo"
          ],
          [
           "Rivitalo"
          ],
          [
           "Rivitalo"
          ],
          [
           "Rivitalo"
          ],
          [
           "Rivitalo"
          ],
          [
           "Rivitalo"
          ],
          [
           "Rivitalo"
          ],
          [
           "Rivitalo"
          ],
          [
           "Rivitalo"
          ],
          [
           "Rivitalo"
          ],
          [
           "Rivitalo"
          ],
          [
           "Rivitalo"
          ],
          [
           "Rivitalo"
          ],
          [
           "Rivitalo"
          ],
          [
           "Rivitalo"
          ],
          [
           "Rivitalo"
          ],
          [
           "Rivitalo"
          ],
          [
           "Rivitalo"
          ],
          [
           "Rivitalo"
          ],
          [
           "Rivitalo"
          ],
          [
           "Rivitalo"
          ],
          [
           "Rivitalo"
          ],
          [
           "Rivitalo"
          ],
          [
           "Rivitalo"
          ],
          [
           "Rivitalo"
          ],
          [
           "Rivitalo"
          ],
          [
           "Rivitalo"
          ],
          [
           "Rivitalo"
          ],
          [
           "Rivitalo"
          ],
          [
           "Rivitalo"
          ],
          [
           "Rivitalo"
          ],
          [
           "Rivitalo"
          ],
          [
           "Rivitalo"
          ],
          [
           "Rivitalo"
          ],
          [
           "Rivitalo"
          ],
          [
           "Rivitalo"
          ],
          [
           "Rivitalo"
          ],
          [
           "Rivitalo"
          ],
          [
           "Rivitalo"
          ],
          [
           "Rivitalo"
          ],
          [
           "Rivitalo"
          ],
          [
           "Rivitalo"
          ],
          [
           "Rivitalo"
          ],
          [
           "Rivitalo"
          ],
          [
           "Rivitalo"
          ],
          [
           "Rivitalo"
          ],
          [
           "Rivitalo"
          ],
          [
           "Rivitalo"
          ],
          [
           "Rivitalo"
          ],
          [
           "Rivitalo"
          ],
          [
           "Rivitalo"
          ],
          [
           "Rivitalo"
          ],
          [
           "Rivitalo"
          ],
          [
           "Rivitalo"
          ],
          [
           "Rivitalo"
          ],
          [
           "Rivitalo"
          ],
          [
           "Rivitalo"
          ],
          [
           "Rivitalo"
          ],
          [
           "Rivitalo"
          ],
          [
           "Rivitalo"
          ],
          [
           "Rivitalo"
          ],
          [
           "Rivitalo"
          ],
          [
           "Rivitalo"
          ],
          [
           "Rivitalo"
          ],
          [
           "Rivitalo"
          ],
          [
           "Rivitalo"
          ],
          [
           "Rivitalo"
          ],
          [
           "Rivitalo"
          ],
          [
           "Rivitalo"
          ],
          [
           "Rivitalo"
          ],
          [
           "Rivitalo"
          ],
          [
           "Rivitalo"
          ],
          [
           "Rivitalo"
          ],
          [
           "Rivitalo"
          ],
          [
           "Rivitalo"
          ],
          [
           "Rivitalo"
          ],
          [
           "Rivitalo"
          ],
          [
           "Rivitalo"
          ],
          [
           "Rivitalo"
          ],
          [
           "Rivitalo"
          ],
          [
           "Rivitalo"
          ],
          [
           "Rivitalo"
          ],
          [
           "Rivitalo"
          ],
          [
           "Rivitalo"
          ],
          [
           "Rivitalo"
          ],
          [
           "Rivitalo"
          ],
          [
           "Rivitalo"
          ],
          [
           "Rivitalo"
          ],
          [
           "Rivitalo"
          ],
          [
           "Rivitalo"
          ],
          [
           "Rivitalo"
          ],
          [
           "Rivitalo"
          ],
          [
           "Rivitalo"
          ],
          [
           "Rivitalo"
          ],
          [
           "Rivitalo"
          ],
          [
           "Rivitalo"
          ],
          [
           "Rivitalo"
          ],
          [
           "Rivitalo"
          ],
          [
           "Rivitalo"
          ],
          [
           "Rivitalo"
          ],
          [
           "Rivitalo"
          ],
          [
           "Rivitalo"
          ],
          [
           "Rivitalo"
          ],
          [
           "Rivitalo"
          ],
          [
           "Rivitalo"
          ],
          [
           "Rivitalo"
          ],
          [
           "Rivitalo"
          ],
          [
           "Rivitalo"
          ],
          [
           "Rivitalo"
          ],
          [
           "Rivitalo"
          ],
          [
           "Rivitalo"
          ],
          [
           "Rivitalo"
          ],
          [
           "Rivitalo"
          ],
          [
           "Rivitalo"
          ],
          [
           "Rivitalo"
          ],
          [
           "Rivitalo"
          ],
          [
           "Rivitalo"
          ],
          [
           "Rivitalo"
          ],
          [
           "Rivitalo"
          ],
          [
           "Rivitalo"
          ],
          [
           "Rivitalo"
          ],
          [
           "Rivitalo"
          ],
          [
           "Rivitalo"
          ],
          [
           "Rivitalo"
          ],
          [
           "Rivitalo"
          ],
          [
           "Rivitalo"
          ],
          [
           "Rivitalo"
          ],
          [
           "Rivitalo"
          ],
          [
           "Rivitalo"
          ],
          [
           "Rivitalo"
          ],
          [
           "Rivitalo"
          ],
          [
           "Rivitalo"
          ],
          [
           "Rivitalo"
          ],
          [
           "Rivitalo"
          ],
          [
           "Rivitalo"
          ],
          [
           "Rivitalo"
          ],
          [
           "Rivitalo"
          ],
          [
           "Rivitalo"
          ],
          [
           "Rivitalo"
          ],
          [
           "Rivitalo"
          ],
          [
           "Rivitalo"
          ],
          [
           "Rivitalo"
          ],
          [
           "Rivitalo"
          ],
          [
           "Rivitalo"
          ],
          [
           "Rivitalo"
          ],
          [
           "Rivitalo"
          ],
          [
           "Rivitalo"
          ],
          [
           "Rivitalo"
          ],
          [
           "Rivitalo"
          ],
          [
           "Rivitalo"
          ],
          [
           "Rivitalo"
          ],
          [
           "Rivitalo"
          ],
          [
           "Rivitalo"
          ],
          [
           "Rivitalo"
          ],
          [
           "Rivitalo"
          ],
          [
           "Rivitalo"
          ],
          [
           "Rivitalo"
          ],
          [
           "Rivitalo"
          ],
          [
           "Rivitalo"
          ],
          [
           "Rivitalo"
          ],
          [
           "Rivitalo"
          ],
          [
           "Rivitalo"
          ],
          [
           "Rivitalo"
          ],
          [
           "Rivitalo"
          ],
          [
           "Rivitalo"
          ],
          [
           "Rivitalo"
          ],
          [
           "Rivitalo"
          ],
          [
           "Rivitalo"
          ],
          [
           "Rivitalo"
          ],
          [
           "Rivitalo"
          ],
          [
           "Rivitalo"
          ],
          [
           "Rivitalo"
          ],
          [
           "Rivitalo"
          ],
          [
           "Rivitalo"
          ],
          [
           "Rivitalo"
          ],
          [
           "Rivitalo"
          ],
          [
           "Rivitalo"
          ],
          [
           "Rivitalo"
          ],
          [
           "Rivitalo"
          ],
          [
           "Rivitalo"
          ],
          [
           "Rivitalo"
          ],
          [
           "Rivitalo"
          ],
          [
           "Rivitalo"
          ],
          [
           "Rivitalo"
          ],
          [
           "Rivitalo"
          ],
          [
           "Rivitalo"
          ],
          [
           "Rivitalo"
          ],
          [
           "Rivitalo"
          ],
          [
           "Rivitalo"
          ],
          [
           "Rivitalo"
          ],
          [
           "Rivitalo"
          ],
          [
           "Rivitalo"
          ],
          [
           "Rivitalo"
          ],
          [
           "Rivitalo"
          ],
          [
           "Rivitalo"
          ],
          [
           "Rivitalo"
          ],
          [
           "Rivitalo"
          ],
          [
           "Rivitalo"
          ],
          [
           "Rivitalo"
          ],
          [
           "Rivitalo"
          ],
          [
           "Rivitalo"
          ],
          [
           "Rivitalo"
          ],
          [
           "Rivitalo"
          ],
          [
           "Rivitalo"
          ],
          [
           "Rivitalo"
          ],
          [
           "Rivitalo"
          ],
          [
           "Rivitalo"
          ],
          [
           "Rivitalo"
          ],
          [
           "Rivitalo"
          ],
          [
           "Rivitalo"
          ],
          [
           "Rivitalo"
          ],
          [
           "Rivitalo"
          ],
          [
           "Rivitalo"
          ],
          [
           "Rivitalo"
          ],
          [
           "Rivitalo"
          ],
          [
           "Rivitalo"
          ],
          [
           "Rivitalo"
          ],
          [
           "Rivitalo"
          ],
          [
           "Rivitalo"
          ],
          [
           "Rivitalo"
          ],
          [
           "Rivitalo"
          ],
          [
           "Rivitalo"
          ],
          [
           "Rivitalo"
          ],
          [
           "Rivitalo"
          ],
          [
           "Rivitalo"
          ],
          [
           "Rivitalo"
          ],
          [
           "Rivitalo"
          ],
          [
           "Rivitalo"
          ],
          [
           "Rivitalo"
          ],
          [
           "Rivitalo"
          ],
          [
           "Rivitalo"
          ],
          [
           "Rivitalo"
          ],
          [
           "Rivitalo"
          ],
          [
           "Rivitalo"
          ],
          [
           "Rivitalo"
          ],
          [
           "Rivitalo"
          ],
          [
           "Rivitalo"
          ],
          [
           "Rivitalo"
          ],
          [
           "Rivitalo"
          ],
          [
           "Rivitalo"
          ],
          [
           "Rivitalo"
          ],
          [
           "Rivitalo"
          ],
          [
           "Rivitalo"
          ],
          [
           "Rivitalo"
          ],
          [
           "Rivitalo"
          ],
          [
           "Rivitalo"
          ],
          [
           "Rivitalo"
          ],
          [
           "Rivitalo"
          ],
          [
           "Rivitalo"
          ],
          [
           "Rivitalo"
          ],
          [
           "Rivitalo"
          ],
          [
           "Rivitalo"
          ],
          [
           "Rivitalo"
          ],
          [
           "Rivitalo"
          ],
          [
           "Rivitalo"
          ],
          [
           "Rivitalo"
          ],
          [
           "Rivitalo"
          ],
          [
           "Rivitalo"
          ],
          [
           "Rivitalo"
          ],
          [
           "Rivitalo"
          ],
          [
           "Rivitalo"
          ],
          [
           "Rivitalo"
          ],
          [
           "Rivitalo"
          ],
          [
           "Rivitalo"
          ],
          [
           "Rivitalo"
          ],
          [
           "Rivitalo"
          ],
          [
           "Rivitalo"
          ],
          [
           "Rivitalo"
          ],
          [
           "Rivitalo"
          ],
          [
           "Rivitalo"
          ],
          [
           "Rivitalo"
          ],
          [
           "Rivitalo"
          ],
          [
           "Rivitalo"
          ],
          [
           "Rivitalo"
          ],
          [
           "Rivitalo"
          ],
          [
           "Rivitalo"
          ],
          [
           "Rivitalo"
          ],
          [
           "Rivitalo"
          ],
          [
           "Rivitalo"
          ],
          [
           "Rivitalo"
          ],
          [
           "Rivitalo"
          ],
          [
           "Rivitalo"
          ],
          [
           "Rivitalo"
          ],
          [
           "Rivitalo"
          ],
          [
           "Rivitalo"
          ],
          [
           "Rivitalo"
          ],
          [
           "Rivitalo"
          ],
          [
           "Rivitalo"
          ],
          [
           "Rivitalo"
          ],
          [
           "Rivitalo"
          ],
          [
           "Rivitalo"
          ],
          [
           "Rivitalo"
          ],
          [
           "Rivitalo"
          ],
          [
           "Rivitalo"
          ],
          [
           "Rivitalo"
          ],
          [
           "Rivitalo"
          ],
          [
           "Rivitalo"
          ],
          [
           "Rivitalo"
          ],
          [
           "Rivitalo"
          ],
          [
           "Rivitalo"
          ],
          [
           "Rivitalo"
          ],
          [
           "Rivitalo"
          ],
          [
           "Rivitalo"
          ],
          [
           "Rivitalo"
          ],
          [
           "Rivitalo"
          ],
          [
           "Rivitalo"
          ],
          [
           "Rivitalo"
          ],
          [
           "Rivitalo"
          ],
          [
           "Rivitalo"
          ],
          [
           "Rivitalo"
          ],
          [
           "Rivitalo"
          ],
          [
           "Rivitalo"
          ],
          [
           "Rivitalo"
          ],
          [
           "Rivitalo"
          ],
          [
           "Rivitalo"
          ],
          [
           "Rivitalo"
          ],
          [
           "Rivitalo"
          ],
          [
           "Rivitalo"
          ],
          [
           "Rivitalo"
          ],
          [
           "Rivitalo"
          ],
          [
           "Rivitalo"
          ],
          [
           "Rivitalo"
          ],
          [
           "Rivitalo"
          ],
          [
           "Rivitalo"
          ],
          [
           "Rivitalo"
          ],
          [
           "Rivitalo"
          ],
          [
           "Rivitalo"
          ],
          [
           "Rivitalo"
          ],
          [
           "Rivitalo"
          ],
          [
           "Rivitalo"
          ],
          [
           "Rivitalo"
          ],
          [
           "Rivitalo"
          ],
          [
           "Rivitalo"
          ],
          [
           "Rivitalo"
          ],
          [
           "Rivitalo"
          ],
          [
           "Rivitalo"
          ],
          [
           "Rivitalo"
          ],
          [
           "Rivitalo"
          ],
          [
           "Rivitalo"
          ],
          [
           "Rivitalo"
          ],
          [
           "Rivitalo"
          ],
          [
           "Rivitalo"
          ],
          [
           "Rivitalo"
          ],
          [
           "Rivitalo"
          ],
          [
           "Rivitalo"
          ],
          [
           "Rivitalo"
          ],
          [
           "Rivitalo"
          ],
          [
           "Rivitalo"
          ],
          [
           "Rivitalo"
          ],
          [
           "Rivitalo"
          ],
          [
           "Rivitalo"
          ],
          [
           "Rivitalo"
          ],
          [
           "Rivitalo"
          ],
          [
           "Rivitalo"
          ],
          [
           "Rivitalo"
          ],
          [
           "Rivitalo"
          ],
          [
           "Rivitalo"
          ],
          [
           "Rivitalo"
          ],
          [
           "Rivitalo"
          ],
          [
           "Rivitalo"
          ],
          [
           "Rivitalo"
          ],
          [
           "Rivitalo"
          ],
          [
           "Rivitalo"
          ],
          [
           "Rivitalo"
          ],
          [
           "Rivitalo"
          ],
          [
           "Rivitalo"
          ],
          [
           "Rivitalo"
          ],
          [
           "Rivitalo"
          ],
          [
           "Rivitalo"
          ]
         ],
         "hovertemplate": "Area: %{x} m<sup>2</sup><br>Price Per sqm:%{y}€",
         "hovertext": [
          "Rivitalo",
          "Rivitalo",
          "Rivitalo",
          "Rivitalo",
          "Rivitalo",
          "Rivitalo",
          "Rivitalo",
          "Rivitalo",
          "Rivitalo",
          "Rivitalo",
          "Rivitalo",
          "Rivitalo",
          "Rivitalo",
          "Rivitalo",
          "Rivitalo",
          "Rivitalo",
          "Rivitalo",
          "Rivitalo",
          "Rivitalo",
          "Rivitalo",
          "Rivitalo",
          "Rivitalo",
          "Rivitalo",
          "Rivitalo",
          "Rivitalo",
          "Rivitalo",
          "Rivitalo",
          "Rivitalo",
          "Rivitalo",
          "Rivitalo",
          "Rivitalo",
          "Rivitalo",
          "Rivitalo",
          "Rivitalo",
          "Rivitalo",
          "Rivitalo",
          "Rivitalo",
          "Rivitalo",
          "Rivitalo",
          "Rivitalo",
          "Rivitalo",
          "Rivitalo",
          "Rivitalo",
          "Rivitalo",
          "Rivitalo",
          "Rivitalo",
          "Rivitalo",
          "Rivitalo",
          "Rivitalo",
          "Rivitalo",
          "Rivitalo",
          "Rivitalo",
          "Rivitalo",
          "Rivitalo",
          "Rivitalo",
          "Rivitalo",
          "Rivitalo",
          "Rivitalo",
          "Rivitalo",
          "Rivitalo",
          "Rivitalo",
          "Rivitalo",
          "Rivitalo",
          "Rivitalo",
          "Rivitalo",
          "Rivitalo",
          "Rivitalo",
          "Rivitalo",
          "Rivitalo",
          "Rivitalo",
          "Rivitalo",
          "Rivitalo",
          "Rivitalo",
          "Rivitalo",
          "Rivitalo",
          "Rivitalo",
          "Rivitalo",
          "Rivitalo",
          "Rivitalo",
          "Rivitalo",
          "Rivitalo",
          "Rivitalo",
          "Rivitalo",
          "Rivitalo",
          "Rivitalo",
          "Rivitalo",
          "Rivitalo",
          "Rivitalo",
          "Rivitalo",
          "Rivitalo",
          "Rivitalo",
          "Rivitalo",
          "Rivitalo",
          "Rivitalo",
          "Rivitalo",
          "Rivitalo",
          "Rivitalo",
          "Rivitalo",
          "Rivitalo",
          "Rivitalo",
          "Rivitalo",
          "Rivitalo",
          "Rivitalo",
          "Rivitalo",
          "Rivitalo",
          "Rivitalo",
          "Rivitalo",
          "Rivitalo",
          "Rivitalo",
          "Rivitalo",
          "Rivitalo",
          "Rivitalo",
          "Rivitalo",
          "Rivitalo",
          "Rivitalo",
          "Rivitalo",
          "Rivitalo",
          "Rivitalo",
          "Rivitalo",
          "Rivitalo",
          "Rivitalo",
          "Rivitalo",
          "Rivitalo",
          "Rivitalo",
          "Rivitalo",
          "Rivitalo",
          "Rivitalo",
          "Rivitalo",
          "Rivitalo",
          "Rivitalo",
          "Rivitalo",
          "Rivitalo",
          "Rivitalo",
          "Rivitalo",
          "Rivitalo",
          "Rivitalo",
          "Rivitalo",
          "Rivitalo",
          "Rivitalo",
          "Rivitalo",
          "Rivitalo",
          "Rivitalo",
          "Rivitalo",
          "Rivitalo",
          "Rivitalo",
          "Rivitalo",
          "Rivitalo",
          "Rivitalo",
          "Rivitalo",
          "Rivitalo",
          "Rivitalo",
          "Rivitalo",
          "Rivitalo",
          "Rivitalo",
          "Rivitalo",
          "Rivitalo",
          "Rivitalo",
          "Rivitalo",
          "Rivitalo",
          "Rivitalo",
          "Rivitalo",
          "Rivitalo",
          "Rivitalo",
          "Rivitalo",
          "Rivitalo",
          "Rivitalo",
          "Rivitalo",
          "Rivitalo",
          "Rivitalo",
          "Rivitalo",
          "Rivitalo",
          "Rivitalo",
          "Rivitalo",
          "Rivitalo",
          "Rivitalo",
          "Rivitalo",
          "Rivitalo",
          "Rivitalo",
          "Rivitalo",
          "Rivitalo",
          "Rivitalo",
          "Rivitalo",
          "Rivitalo",
          "Rivitalo",
          "Rivitalo",
          "Rivitalo",
          "Rivitalo",
          "Rivitalo",
          "Rivitalo",
          "Rivitalo",
          "Rivitalo",
          "Rivitalo",
          "Rivitalo",
          "Rivitalo",
          "Rivitalo",
          "Rivitalo",
          "Rivitalo",
          "Rivitalo",
          "Rivitalo",
          "Rivitalo",
          "Rivitalo",
          "Rivitalo",
          "Rivitalo",
          "Rivitalo",
          "Rivitalo",
          "Rivitalo",
          "Rivitalo",
          "Rivitalo",
          "Rivitalo",
          "Rivitalo",
          "Rivitalo",
          "Rivitalo",
          "Rivitalo",
          "Rivitalo",
          "Rivitalo",
          "Rivitalo",
          "Rivitalo",
          "Rivitalo",
          "Rivitalo",
          "Rivitalo",
          "Rivitalo",
          "Rivitalo",
          "Rivitalo",
          "Rivitalo",
          "Rivitalo",
          "Rivitalo",
          "Rivitalo",
          "Rivitalo",
          "Rivitalo",
          "Rivitalo",
          "Rivitalo",
          "Rivitalo",
          "Rivitalo",
          "Rivitalo",
          "Rivitalo",
          "Rivitalo",
          "Rivitalo",
          "Rivitalo",
          "Rivitalo",
          "Rivitalo",
          "Rivitalo",
          "Rivitalo",
          "Rivitalo",
          "Rivitalo",
          "Rivitalo",
          "Rivitalo",
          "Rivitalo",
          "Rivitalo",
          "Rivitalo",
          "Rivitalo",
          "Rivitalo",
          "Rivitalo",
          "Rivitalo",
          "Rivitalo",
          "Rivitalo",
          "Rivitalo",
          "Rivitalo",
          "Rivitalo",
          "Rivitalo",
          "Rivitalo",
          "Rivitalo",
          "Rivitalo",
          "Rivitalo",
          "Rivitalo",
          "Rivitalo",
          "Rivitalo",
          "Rivitalo",
          "Rivitalo",
          "Rivitalo",
          "Rivitalo",
          "Rivitalo",
          "Rivitalo",
          "Rivitalo",
          "Rivitalo",
          "Rivitalo",
          "Rivitalo",
          "Rivitalo",
          "Rivitalo",
          "Rivitalo",
          "Rivitalo",
          "Rivitalo",
          "Rivitalo",
          "Rivitalo",
          "Rivitalo",
          "Rivitalo",
          "Rivitalo",
          "Rivitalo",
          "Rivitalo",
          "Rivitalo",
          "Rivitalo",
          "Rivitalo",
          "Rivitalo",
          "Rivitalo",
          "Rivitalo",
          "Rivitalo",
          "Rivitalo",
          "Rivitalo",
          "Rivitalo",
          "Rivitalo",
          "Rivitalo",
          "Rivitalo",
          "Rivitalo",
          "Rivitalo",
          "Rivitalo",
          "Rivitalo",
          "Rivitalo",
          "Rivitalo",
          "Rivitalo",
          "Rivitalo",
          "Rivitalo",
          "Rivitalo",
          "Rivitalo",
          "Rivitalo",
          "Rivitalo",
          "Rivitalo",
          "Rivitalo",
          "Rivitalo",
          "Rivitalo",
          "Rivitalo",
          "Rivitalo",
          "Rivitalo",
          "Rivitalo",
          "Rivitalo",
          "Rivitalo",
          "Rivitalo",
          "Rivitalo",
          "Rivitalo",
          "Rivitalo",
          "Rivitalo",
          "Rivitalo",
          "Rivitalo",
          "Rivitalo",
          "Rivitalo",
          "Rivitalo",
          "Rivitalo",
          "Rivitalo",
          "Rivitalo",
          "Rivitalo",
          "Rivitalo",
          "Rivitalo",
          "Rivitalo",
          "Rivitalo",
          "Rivitalo",
          "Rivitalo",
          "Rivitalo",
          "Rivitalo",
          "Rivitalo",
          "Rivitalo",
          "Rivitalo",
          "Rivitalo",
          "Rivitalo",
          "Rivitalo",
          "Rivitalo",
          "Rivitalo",
          "Rivitalo",
          "Rivitalo",
          "Rivitalo",
          "Rivitalo",
          "Rivitalo",
          "Rivitalo",
          "Rivitalo",
          "Rivitalo",
          "Rivitalo",
          "Rivitalo",
          "Rivitalo",
          "Rivitalo",
          "Rivitalo",
          "Rivitalo",
          "Rivitalo",
          "Rivitalo",
          "Rivitalo",
          "Rivitalo",
          "Rivitalo",
          "Rivitalo",
          "Rivitalo",
          "Rivitalo",
          "Rivitalo",
          "Rivitalo",
          "Rivitalo",
          "Rivitalo",
          "Rivitalo",
          "Rivitalo",
          "Rivitalo",
          "Rivitalo",
          "Rivitalo",
          "Rivitalo",
          "Rivitalo",
          "Rivitalo",
          "Rivitalo",
          "Rivitalo",
          "Rivitalo",
          "Rivitalo",
          "Rivitalo",
          "Rivitalo",
          "Rivitalo",
          "Rivitalo",
          "Rivitalo",
          "Rivitalo",
          "Rivitalo",
          "Rivitalo",
          "Rivitalo",
          "Rivitalo",
          "Rivitalo",
          "Rivitalo",
          "Rivitalo",
          "Rivitalo",
          "Rivitalo",
          "Rivitalo",
          "Rivitalo",
          "Rivitalo",
          "Rivitalo",
          "Rivitalo",
          "Rivitalo",
          "Rivitalo",
          "Rivitalo",
          "Rivitalo",
          "Rivitalo",
          "Rivitalo",
          "Rivitalo",
          "Rivitalo",
          "Rivitalo",
          "Rivitalo",
          "Rivitalo",
          "Rivitalo",
          "Rivitalo",
          "Rivitalo",
          "Rivitalo",
          "Rivitalo",
          "Rivitalo",
          "Rivitalo",
          "Rivitalo",
          "Rivitalo",
          "Rivitalo",
          "Rivitalo",
          "Rivitalo",
          "Rivitalo",
          "Rivitalo",
          "Rivitalo",
          "Rivitalo",
          "Rivitalo",
          "Rivitalo",
          "Rivitalo",
          "Rivitalo",
          "Rivitalo",
          "Rivitalo",
          "Rivitalo",
          "Rivitalo",
          "Rivitalo",
          "Rivitalo",
          "Rivitalo",
          "Rivitalo",
          "Rivitalo",
          "Rivitalo",
          "Rivitalo",
          "Rivitalo",
          "Rivitalo",
          "Rivitalo",
          "Rivitalo",
          "Rivitalo",
          "Rivitalo",
          "Rivitalo",
          "Rivitalo",
          "Rivitalo",
          "Rivitalo",
          "Rivitalo",
          "Rivitalo",
          "Rivitalo",
          "Rivitalo",
          "Rivitalo",
          "Rivitalo",
          "Rivitalo",
          "Rivitalo",
          "Rivitalo",
          "Rivitalo",
          "Rivitalo",
          "Rivitalo",
          "Rivitalo",
          "Rivitalo",
          "Rivitalo",
          "Rivitalo",
          "Rivitalo",
          "Rivitalo",
          "Rivitalo",
          "Rivitalo",
          "Rivitalo",
          "Rivitalo",
          "Rivitalo",
          "Rivitalo",
          "Rivitalo",
          "Rivitalo",
          "Rivitalo",
          "Rivitalo",
          "Rivitalo",
          "Rivitalo",
          "Rivitalo",
          "Rivitalo",
          "Rivitalo",
          "Rivitalo",
          "Rivitalo",
          "Rivitalo",
          "Rivitalo",
          "Rivitalo",
          "Rivitalo",
          "Rivitalo",
          "Rivitalo",
          "Rivitalo",
          "Rivitalo",
          "Rivitalo",
          "Rivitalo",
          "Rivitalo",
          "Rivitalo",
          "Rivitalo",
          "Rivitalo",
          "Rivitalo",
          "Rivitalo",
          "Rivitalo",
          "Rivitalo",
          "Rivitalo",
          "Rivitalo",
          "Rivitalo",
          "Rivitalo",
          "Rivitalo",
          "Rivitalo",
          "Rivitalo",
          "Rivitalo",
          "Rivitalo",
          "Rivitalo",
          "Rivitalo",
          "Rivitalo",
          "Rivitalo",
          "Rivitalo",
          "Rivitalo",
          "Rivitalo",
          "Rivitalo",
          "Rivitalo",
          "Rivitalo",
          "Rivitalo",
          "Rivitalo",
          "Rivitalo",
          "Rivitalo",
          "Rivitalo",
          "Rivitalo",
          "Rivitalo",
          "Rivitalo",
          "Rivitalo",
          "Rivitalo",
          "Rivitalo",
          "Rivitalo",
          "Rivitalo",
          "Rivitalo",
          "Rivitalo",
          "Rivitalo",
          "Rivitalo",
          "Rivitalo",
          "Rivitalo",
          "Rivitalo",
          "Rivitalo",
          "Rivitalo",
          "Rivitalo",
          "Rivitalo",
          "Rivitalo",
          "Rivitalo",
          "Rivitalo",
          "Rivitalo",
          "Rivitalo",
          "Rivitalo",
          "Rivitalo",
          "Rivitalo",
          "Rivitalo",
          "Rivitalo",
          "Rivitalo",
          "Rivitalo",
          "Rivitalo",
          "Rivitalo",
          "Rivitalo",
          "Rivitalo",
          "Rivitalo",
          "Rivitalo",
          "Rivitalo",
          "Rivitalo",
          "Rivitalo",
          "Rivitalo",
          "Rivitalo",
          "Rivitalo",
          "Rivitalo",
          "Rivitalo",
          "Rivitalo",
          "Rivitalo",
          "Rivitalo",
          "Rivitalo",
          "Rivitalo",
          "Rivitalo",
          "Rivitalo",
          "Rivitalo",
          "Rivitalo",
          "Rivitalo",
          "Rivitalo",
          "Rivitalo",
          "Rivitalo",
          "Rivitalo",
          "Rivitalo",
          "Rivitalo",
          "Rivitalo",
          "Rivitalo",
          "Rivitalo",
          "Rivitalo",
          "Rivitalo",
          "Rivitalo",
          "Rivitalo",
          "Rivitalo",
          "Rivitalo",
          "Rivitalo",
          "Rivitalo",
          "Rivitalo",
          "Rivitalo",
          "Rivitalo",
          "Rivitalo",
          "Rivitalo",
          "Rivitalo",
          "Rivitalo",
          "Rivitalo",
          "Rivitalo",
          "Rivitalo",
          "Rivitalo",
          "Rivitalo",
          "Rivitalo",
          "Rivitalo",
          "Rivitalo",
          "Rivitalo",
          "Rivitalo",
          "Rivitalo",
          "Rivitalo",
          "Rivitalo",
          "Rivitalo",
          "Rivitalo",
          "Rivitalo",
          "Rivitalo",
          "Rivitalo",
          "Rivitalo",
          "Rivitalo",
          "Rivitalo",
          "Rivitalo",
          "Rivitalo",
          "Rivitalo",
          "Rivitalo",
          "Rivitalo",
          "Rivitalo",
          "Rivitalo",
          "Rivitalo",
          "Rivitalo",
          "Rivitalo",
          "Rivitalo",
          "Rivitalo",
          "Rivitalo",
          "Rivitalo",
          "Rivitalo",
          "Rivitalo",
          "Rivitalo",
          "Rivitalo",
          "Rivitalo",
          "Rivitalo",
          "Rivitalo",
          "Rivitalo"
         ],
         "legendgroup": "Rivitalo",
         "marker": {
          "color": "#e76f51",
          "symbol": "circle"
         },
         "mode": "markers",
         "name": "Rivitalo",
         "showlegend": true,
         "type": "scattergl",
         "x": {
          "bdata": "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",
          "dtype": "f8"
         },
         "xaxis": "x",
         "y": {
          "bdata": "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",
          "dtype": "f8"
         },
         "yaxis": "y"
        },
        {
         "customdata": [
          [
           "Omakotitalo"
          ],
          [
           "Omakotitalo"
          ],
          [
           "Omakotitalo"
          ],
          [
           "Omakotitalo"
          ],
          [
           "Omakotitalo"
          ],
          [
           "Omakotitalo"
          ],
          [
           "Omakotitalo"
          ],
          [
           "Omakotitalo"
          ],
          [
           "Omakotitalo"
          ],
          [
           "Omakotitalo"
          ],
          [
           "Omakotitalo"
          ],
          [
           "Omakotitalo"
          ],
          [
           "Omakotitalo"
          ],
          [
           "Omakotitalo"
          ],
          [
           "Omakotitalo"
          ],
          [
           "Omakotitalo"
          ],
          [
           "Omakotitalo"
          ],
          [
           "Omakotitalo"
          ],
          [
           "Omakotitalo"
          ],
          [
           "Omakotitalo"
          ],
          [
           "Omakotitalo"
          ],
          [
           "Omakotitalo"
          ],
          [
           "Omakotitalo"
          ],
          [
           "Omakotitalo"
          ],
          [
           "Omakotitalo"
          ],
          [
           "Omakotitalo"
          ],
          [
           "Omakotitalo"
          ],
          [
           "Omakotitalo"
          ],
          [
           "Omakotitalo"
          ],
          [
           "Omakotitalo"
          ],
          [
           "Omakotitalo"
          ],
          [
           "Omakotitalo"
          ],
          [
           "Omakotitalo"
          ],
          [
           "Omakotitalo"
          ],
          [
           "Omakotitalo"
          ],
          [
           "Omakotitalo"
          ],
          [
           "Omakotitalo"
          ],
          [
           "Omakotitalo"
          ],
          [
           "Omakotitalo"
          ],
          [
           "Omakotitalo"
          ],
          [
           "Omakotitalo"
          ],
          [
           "Omakotitalo"
          ],
          [
           "Omakotitalo"
          ],
          [
           "Omakotitalo"
          ],
          [
           "Omakotitalo"
          ],
          [
           "Omakotitalo"
          ],
          [
           "Omakotitalo"
          ],
          [
           "Omakotitalo"
          ],
          [
           "Omakotitalo"
          ],
          [
           "Omakotitalo"
          ],
          [
           "Omakotitalo"
          ],
          [
           "Omakotitalo"
          ],
          [
           "Omakotitalo"
          ],
          [
           "Omakotitalo"
          ],
          [
           "Omakotitalo"
          ],
          [
           "Omakotitalo"
          ],
          [
           "Omakotitalo"
          ],
          [
           "Omakotitalo"
          ],
          [
           "Omakotitalo"
          ],
          [
           "Omakotitalo"
          ],
          [
           "Omakotitalo"
          ],
          [
           "Omakotitalo"
          ],
          [
           "Omakotitalo"
          ],
          [
           "Omakotitalo"
          ],
          [
           "Omakotitalo"
          ],
          [
           "Omakotitalo"
          ],
          [
           "Omakotitalo"
          ],
          [
           "Omakotitalo"
          ],
          [
           "Omakotitalo"
          ],
          [
           "Omakotitalo"
          ],
          [
           "Omakotitalo"
          ],
          [
           "Omakotitalo"
          ],
          [
           "Omakotitalo"
          ],
          [
           "Omakotitalo"
          ],
          [
           "Omakotitalo"
          ],
          [
           "Omakotitalo"
          ],
          [
           "Omakotitalo"
          ],
          [
           "Omakotitalo"
          ],
          [
           "Omakotitalo"
          ],
          [
           "Omakotitalo"
          ],
          [
           "Omakotitalo"
          ],
          [
           "Omakotitalo"
          ],
          [
           "Omakotitalo"
          ],
          [
           "Omakotitalo"
          ],
          [
           "Omakotitalo"
          ],
          [
           "Omakotitalo"
          ],
          [
           "Omakotitalo"
          ],
          [
           "Omakotitalo"
          ],
          [
           "Omakotitalo"
          ],
          [
           "Omakotitalo"
          ],
          [
           "Omakotitalo"
          ],
          [
           "Omakotitalo"
          ],
          [
           "Omakotitalo"
          ],
          [
           "Omakotitalo"
          ],
          [
           "Omakotitalo"
          ],
          [
           "Omakotitalo"
          ],
          [
           "Omakotitalo"
          ],
          [
           "Omakotitalo"
          ],
          [
           "Omakotitalo"
          ],
          [
           "Omakotitalo"
          ],
          [
           "Omakotitalo"
          ],
          [
           "Omakotitalo"
          ],
          [
           "Omakotitalo"
          ],
          [
           "Omakotitalo"
          ],
          [
           "Omakotitalo"
          ],
          [
           "Omakotitalo"
          ],
          [
           "Omakotitalo"
          ],
          [
           "Omakotitalo"
          ],
          [
           "Omakotitalo"
          ]
         ],
         "hovertemplate": "Area: %{x} m<sup>2</sup><br>Price Per sqm:%{y}€",
         "hovertext": [
          "Omakotitalo",
          "Omakotitalo",
          "Omakotitalo",
          "Omakotitalo",
          "Omakotitalo",
          "Omakotitalo",
          "Omakotitalo",
          "Omakotitalo",
          "Omakotitalo",
          "Omakotitalo",
          "Omakotitalo",
          "Omakotitalo",
          "Omakotitalo",
          "Omakotitalo",
          "Omakotitalo",
          "Omakotitalo",
          "Omakotitalo",
          "Omakotitalo",
          "Omakotitalo",
          "Omakotitalo",
          "Omakotitalo",
          "Omakotitalo",
          "Omakotitalo",
          "Omakotitalo",
          "Omakotitalo",
          "Omakotitalo",
          "Omakotitalo",
          "Omakotitalo",
          "Omakotitalo",
          "Omakotitalo",
          "Omakotitalo",
          "Omakotitalo",
          "Omakotitalo",
          "Omakotitalo",
          "Omakotitalo",
          "Omakotitalo",
          "Omakotitalo",
          "Omakotitalo",
          "Omakotitalo",
          "Omakotitalo",
          "Omakotitalo",
          "Omakotitalo",
          "Omakotitalo",
          "Omakotitalo",
          "Omakotitalo",
          "Omakotitalo",
          "Omakotitalo",
          "Omakotitalo",
          "Omakotitalo",
          "Omakotitalo",
          "Omakotitalo",
          "Omakotitalo",
          "Omakotitalo",
          "Omakotitalo",
          "Omakotitalo",
          "Omakotitalo",
          "Omakotitalo",
          "Omakotitalo",
          "Omakotitalo",
          "Omakotitalo",
          "Omakotitalo",
          "Omakotitalo",
          "Omakotitalo",
          "Omakotitalo",
          "Omakotitalo",
          "Omakotitalo",
          "Omakotitalo",
          "Omakotitalo",
          "Omakotitalo",
          "Omakotitalo",
          "Omakotitalo",
          "Omakotitalo",
          "Omakotitalo",
          "Omakotitalo",
          "Omakotitalo",
          "Omakotitalo",
          "Omakotitalo",
          "Omakotitalo",
          "Omakotitalo",
          "Omakotitalo",
          "Omakotitalo",
          "Omakotitalo",
          "Omakotitalo",
          "Omakotitalo",
          "Omakotitalo",
          "Omakotitalo",
          "Omakotitalo",
          "Omakotitalo",
          "Omakotitalo",
          "Omakotitalo",
          "Omakotitalo",
          "Omakotitalo",
          "Omakotitalo",
          "Omakotitalo",
          "Omakotitalo",
          "Omakotitalo",
          "Omakotitalo",
          "Omakotitalo",
          "Omakotitalo",
          "Omakotitalo",
          "Omakotitalo",
          "Omakotitalo",
          "Omakotitalo",
          "Omakotitalo",
          "Omakotitalo",
          "Omakotitalo",
          "Omakotitalo",
          "Omakotitalo",
          "Omakotitalo"
         ],
         "legendgroup": "Omakotitalo",
         "marker": {
          "color": "#264653",
          "symbol": "circle"
         },
         "mode": "markers",
         "name": "Omakotitalo",
         "showlegend": true,
         "type": "scattergl",
         "x": {
          "bdata": "AAAAAABwx0AAAAAAABjFQAAAAAAAjsJAAAAAAACpykAAAAAAALbMQAAAAAAAP9tAAAAAAACa0EAAAAAAAAXEQAAAAAAAeM5AAAAAAABo0EAAAAAAAGTJQAAAAAAA2sZAAAAAAAC12EAAAAAAAJTRQAAAAAAAnMhAAAAAAAAY1UAAAAAAAObEQAAAAAAAXNJAAAAAAAD0ykAAAAAAAFDEQAAAAAAAJstAAAAAAABJ0UAAAAAAANbPQAAAAAAAGMVAAAAAAABK1UAAAAAAADLJQAAAAAAAzshAAAAAAACawEAAAAAAAIjDQAAAAAAAWMtAAAAAAAA4yEAAAAAAAFjLQAAAAAAAUMRAAAAAAAA+x0AAAAAAAAbIQAAAAAAAashAAAAAAADn2EAAAAAAAEzNQAAAAAAAGMVAAAAAAAA+x0AAAAAAADLJQAAAAAAAqMZAAAAAAADUx0AAAAAAAOLNQAAAAAAAGMVAAAAAAACoxkAAAAAAAPrJQAAAAAAARs5AAAAAAABwx0AAAAAAALbMQAAAAAAAiNNAAAAAAADUx0AAAAAAAMDSQAAAAAAAS8lAAAAAAADsw0AAAAAAALPKQAAAAAAAPsdAAAAAAABGzkAAAAAAAFLMQAAAAAAAQM9AAAAAAAD/1EAAAAAAALzLQAAAAAAAashAAAAAAADf0UAAAAAAAOjMQAAAAAAA3M5AAAAAAAAYxUAAAAAAAITMQAAAAAAAv81AAAAAAAD0ykAAAAAAACTTQAAAAAAAJstAAAAAAABJwUAAAAAAAObEQAAAAAAATM1AAAAAAAA4yEAAAAAAABfRQAAAAAAAhMxAAAAAAAAq0kAAAAAAABLGQAAAAAAA4s1AAAAAAACWyUAAAAAAANrGQAAAAAAAeM5AAAAAAACj20AAAAAAAGjAQAAAAAAA5sRAAAAAAABeykAAAAAAAHbGQAAAAAAAPsdAAAAAAADywkAAAAAAAEzNQAAAAAAAadRAAAAAAABExkAAAAAAAP7AQAAAAAAAnMhAAAAAAACix0AAAAAAAMLKQAAAAAAAJstAAAAAAAAsykAAAAAAAP/UQAAAAAAAWMtAAAAAAABwx0AAAAAAABLGQAAAAAAAF8FAAAAAAABkyUAAAAAAAOjMQAAAAAAAF8FAAAAAAAAM10A=",
          "dtype": "f8"
         },
         "xaxis": "x",
         "y": {
          "bdata": "AAAAAACIo0AAAAAAABiwQAAAAAAAQrVAAAAAAABQokAAAAAAAIKpQAAAAAAADqVAAAAAAAAkpUAAAAAAAOqpQAAAAAAAyKNAAAAAAADupEAAAAAAACqrQAAAAAAAB7JAAAAAAACUnkAAAAAAAIStQAAAAAAAbKlAAAAAAACioUAAAAAAAPqwQAAAAAAA9q5AAAAAAACPsEAAAAAAAEOwQAAAAAAAiqtAAAAAAACopEAAAAAAAJCkQAAAAAAAKq5AAAAAAAB2o0AAAAAAAH6vQAAAAAAATbRAAAAAAACSq0AAAAAAABiqQAAAAAAA8qhAAAAAAACOrkAAAAAAAEKkQAAAAAAAJ7BAAAAAAAA0nkAAAAAAAHC1QAAAAAAAgKFAAAAAAAAQpkAAAAAAALO3QAAAAAAAbbZAAAAAAAA4pEAAAAAAAJSmQAAAAAAA8KpAAAAAAAAhsUAAAAAAAHKlQAAAAAAAELZAAAAAAAC4tUAAAAAAAPW0QAAAAAAA47BAAAAAAACasEAAAAAAAP6kQAAAAAAAyqxAAAAAAADvtUAAAAAAADaoQAAAAAAATrNAAAAAAAA0uEAAAAAAAJO2QAAAAAAAxq9AAAAAAADmrkAAAAAAAI6sQAAAAAAAtKBAAAAAAACIpkAAAAAAAEKuQAAAAAAAUKRAAAAAAABqtkAAAAAAAOyqQAAAAAAAl7lAAAAAAADMnUAAAAAAABSoQAAAAAAAeKJAAAAAAAAUsEAAAAAAALyiQAAAAAAALJhAAAAAAADepkAAAAAAABSkQAAAAAAA9JdAAAAAAACOrkAAAAAAAMSmQAAAAAAAqbFAAAAAAACEq0AAAAAAAG6lQAAAAAAANqZAAAAAAAD6o0AAAAAAADGwQAAAAAAAyqhAAAAAAACkkkAAAAAAABypQAAAAAAAlqdAAAAAAAB4rkAAAAAAAL6lQAAAAAAAMK9AAAAAAAA0rkAAAAAAAHCiQAAAAAAAkKRAAAAAAAC2rEAAAAAAABCxQAAAAAAAEq5AAAAAAABorEAAAAAAAM6pQAAAAAAAWq5AAAAAAABeokAAAAAAAAqpQAAAAAAAMJJAAAAAAAA6okAAAAAAAJSpQAAAAAAA0LFAAAAAAACiokAAAAAAAKaoQAAAAAAA/rFAAAAAAACGpEA=",
          "dtype": "f8"
         },
         "yaxis": "y"
        }
       ],
       "layout": {
        "legend": {
         "title": {
          "text": "Building type"
         },
         "tracegroupgap": 0
        },
        "margin": {
         "t": 60
        },
        "template": {
         "data": {
          "bar": [
           {
            "error_x": {
             "color": "rgb(36,36,36)"
            },
            "error_y": {
             "color": "rgb(36,36,36)"
            },
            "marker": {
             "line": {
              "color": "white",
              "width": 0.5
             },
             "pattern": {
              "fillmode": "overlay",
              "size": 10,
              "solidity": 0.2
             }
            },
            "type": "bar"
           }
          ],
          "barpolar": [
           {
            "marker": {
             "line": {
              "color": "white",
              "width": 0.5
             },
             "pattern": {
              "fillmode": "overlay",
              "size": 10,
              "solidity": 0.2
             }
            },
            "type": "barpolar"
           }
          ],
          "carpet": [
           {
            "aaxis": {
             "endlinecolor": "rgb(36,36,36)",
             "gridcolor": "white",
             "linecolor": "white",
             "minorgridcolor": "white",
             "startlinecolor": "rgb(36,36,36)"
            },
            "baxis": {
             "endlinecolor": "rgb(36,36,36)",
             "gridcolor": "white",
             "linecolor": "white",
             "minorgridcolor": "white",
             "startlinecolor": "rgb(36,36,36)"
            },
            "type": "carpet"
           }
          ],
          "choropleth": [
           {
            "colorbar": {
             "outlinewidth": 1,
             "tickcolor": "rgb(36,36,36)",
             "ticks": "outside"
            },
            "type": "choropleth"
           }
          ],
          "contour": [
           {
            "colorbar": {
             "outlinewidth": 1,
             "tickcolor": "rgb(36,36,36)",
             "ticks": "outside"
            },
            "colorscale": [
             [
              0,
              "#440154"
             ],
             [
              0.1111111111111111,
              "#482878"
             ],
             [
              0.2222222222222222,
              "#3e4989"
             ],
             [
              0.3333333333333333,
              "#31688e"
             ],
             [
              0.4444444444444444,
              "#26828e"
             ],
             [
              0.5555555555555556,
              "#1f9e89"
             ],
             [
              0.6666666666666666,
              "#35b779"
             ],
             [
              0.7777777777777778,
              "#6ece58"
             ],
             [
              0.8888888888888888,
              "#b5de2b"
             ],
             [
              1,
              "#fde725"
             ]
            ],
            "type": "contour"
           }
          ],
          "contourcarpet": [
           {
            "colorbar": {
             "outlinewidth": 1,
             "tickcolor": "rgb(36,36,36)",
             "ticks": "outside"
            },
            "type": "contourcarpet"
           }
          ],
          "heatmap": [
           {
            "colorbar": {
             "outlinewidth": 1,
             "tickcolor": "rgb(36,36,36)",
             "ticks": "outside"
            },
            "colorscale": [
             [
              0,
              "#440154"
             ],
             [
              0.1111111111111111,
              "#482878"
             ],
             [
              0.2222222222222222,
              "#3e4989"
             ],
             [
              0.3333333333333333,
              "#31688e"
             ],
             [
              0.4444444444444444,
              "#26828e"
             ],
             [
              0.5555555555555556,
              "#1f9e89"
             ],
             [
              0.6666666666666666,
              "#35b779"
             ],
             [
              0.7777777777777778,
              "#6ece58"
             ],
             [
              0.8888888888888888,
              "#b5de2b"
             ],
             [
              1,
              "#fde725"
             ]
            ],
            "type": "heatmap"
           }
          ],
          "histogram": [
           {
            "marker": {
             "line": {
              "color": "white",
              "width": 0.6
             }
            },
            "type": "histogram"
           }
          ],
          "histogram2d": [
           {
            "colorbar": {
             "outlinewidth": 1,
             "tickcolor": "rgb(36,36,36)",
             "ticks": "outside"
            },
            "colorscale": [
             [
              0,
              "#440154"
             ],
             [
              0.1111111111111111,
              "#482878"
             ],
             [
              0.2222222222222222,
              "#3e4989"
             ],
             [
              0.3333333333333333,
              "#31688e"
             ],
             [
              0.4444444444444444,
              "#26828e"
             ],
             [
              0.5555555555555556,
              "#1f9e89"
             ],
             [
              0.6666666666666666,
              "#35b779"
             ],
             [
              0.7777777777777778,
              "#6ece58"
             ],
             [
              0.8888888888888888,
              "#b5de2b"
             ],
             [
              1,
              "#fde725"
             ]
            ],
            "type": "histogram2d"
           }
          ],
          "histogram2dcontour": [
           {
            "colorbar": {
             "outlinewidth": 1,
             "tickcolor": "rgb(36,36,36)",
             "ticks": "outside"
            },
            "colorscale": [
             [
              0,
              "#440154"
             ],
             [
              0.1111111111111111,
              "#482878"
             ],
             [
              0.2222222222222222,
              "#3e4989"
             ],
             [
              0.3333333333333333,
              "#31688e"
             ],
             [
              0.4444444444444444,
              "#26828e"
             ],
             [
              0.5555555555555556,
              "#1f9e89"
             ],
             [
              0.6666666666666666,
              "#35b779"
             ],
             [
              0.7777777777777778,
              "#6ece58"
             ],
             [
              0.8888888888888888,
              "#b5de2b"
             ],
             [
              1,
              "#fde725"
             ]
            ],
            "type": "histogram2dcontour"
           }
          ],
          "mesh3d": [
           {
            "colorbar": {
             "outlinewidth": 1,
             "tickcolor": "rgb(36,36,36)",
             "ticks": "outside"
            },
            "type": "mesh3d"
           }
          ],
          "parcoords": [
           {
            "line": {
             "colorbar": {
              "outlinewidth": 1,
              "tickcolor": "rgb(36,36,36)",
              "ticks": "outside"
             }
            },
            "type": "parcoords"
           }
          ],
          "pie": [
           {
            "automargin": true,
            "type": "pie"
           }
          ],
          "scatter": [
           {
            "fillpattern": {
             "fillmode": "overlay",
             "size": 10,
             "solidity": 0.2
            },
            "type": "scatter"
           }
          ],
          "scatter3d": [
           {
            "line": {
             "colorbar": {
              "outlinewidth": 1,
              "tickcolor": "rgb(36,36,36)",
              "ticks": "outside"
             }
            },
            "marker": {
             "colorbar": {
              "outlinewidth": 1,
              "tickcolor": "rgb(36,36,36)",
              "ticks": "outside"
             }
            },
            "type": "scatter3d"
           }
          ],
          "scattercarpet": [
           {
            "marker": {
             "colorbar": {
              "outlinewidth": 1,
              "tickcolor": "rgb(36,36,36)",
              "ticks": "outside"
             }
            },
            "type": "scattercarpet"
           }
          ],
          "scattergeo": [
           {
            "marker": {
             "colorbar": {
              "outlinewidth": 1,
              "tickcolor": "rgb(36,36,36)",
              "ticks": "outside"
             }
            },
            "type": "scattergeo"
           }
          ],
          "scattergl": [
           {
            "marker": {
             "colorbar": {
              "outlinewidth": 1,
              "tickcolor": "rgb(36,36,36)",
              "ticks": "outside"
             }
            },
            "type": "scattergl"
           }
          ],
          "scattermap": [
           {
            "marker": {
             "colorbar": {
              "outlinewidth": 1,
              "tickcolor": "rgb(36,36,36)",
              "ticks": "outside"
             }
            },
            "type": "scattermap"
           }
          ],
          "scattermapbox": [
           {
            "marker": {
             "colorbar": {
              "outlinewidth": 1,
              "tickcolor": "rgb(36,36,36)",
              "ticks": "outside"
             }
            },
            "type": "scattermapbox"
           }
          ],
          "scatterpolar": [
           {
            "marker": {
             "colorbar": {
              "outlinewidth": 1,
              "tickcolor": "rgb(36,36,36)",
              "ticks": "outside"
             }
            },
            "type": "scatterpolar"
           }
          ],
          "scatterpolargl": [
           {
            "marker": {
             "colorbar": {
              "outlinewidth": 1,
              "tickcolor": "rgb(36,36,36)",
              "ticks": "outside"
             }
            },
            "type": "scatterpolargl"
           }
          ],
          "scatterternary": [
           {
            "marker": {
             "colorbar": {
              "outlinewidth": 1,
              "tickcolor": "rgb(36,36,36)",
              "ticks": "outside"
             }
            },
            "type": "scatterternary"
           }
          ],
          "surface": [
           {
            "colorbar": {
             "outlinewidth": 1,
             "tickcolor": "rgb(36,36,36)",
             "ticks": "outside"
            },
            "colorscale": [
             [
              0,
              "#440154"
             ],
             [
              0.1111111111111111,
              "#482878"
             ],
             [
              0.2222222222222222,
              "#3e4989"
             ],
             [
              0.3333333333333333,
              "#31688e"
             ],
             [
              0.4444444444444444,
              "#26828e"
             ],
             [
              0.5555555555555556,
              "#1f9e89"
             ],
             [
              0.6666666666666666,
              "#35b779"
             ],
             [
              0.7777777777777778,
              "#6ece58"
             ],
             [
              0.8888888888888888,
              "#b5de2b"
             ],
             [
              1,
              "#fde725"
             ]
            ],
            "type": "surface"
           }
          ],
          "table": [
           {
            "cells": {
             "fill": {
              "color": "rgb(237,237,237)"
             },
             "line": {
              "color": "white"
             }
            },
            "header": {
             "fill": {
              "color": "rgb(217,217,217)"
             },
             "line": {
              "color": "white"
             }
            },
            "type": "table"
           }
          ]
         },
         "layout": {
          "annotationdefaults": {
           "arrowhead": 0,
           "arrowwidth": 1
          },
          "autotypenumbers": "strict",
          "coloraxis": {
           "colorbar": {
            "outlinewidth": 1,
            "tickcolor": "rgb(36,36,36)",
            "ticks": "outside"
           }
          },
          "colorscale": {
           "diverging": [
            [
             0,
             "rgb(103,0,31)"
            ],
            [
             0.1,
             "rgb(178,24,43)"
            ],
            [
             0.2,
             "rgb(214,96,77)"
            ],
            [
             0.3,
             "rgb(244,165,130)"
            ],
            [
             0.4,
             "rgb(253,219,199)"
            ],
            [
             0.5,
             "rgb(247,247,247)"
            ],
            [
             0.6,
             "rgb(209,229,240)"
            ],
            [
             0.7,
             "rgb(146,197,222)"
            ],
            [
             0.8,
             "rgb(67,147,195)"
            ],
            [
             0.9,
             "rgb(33,102,172)"
            ],
            [
             1,
             "rgb(5,48,97)"
            ]
           ],
           "sequential": [
            [
             0,
             "#440154"
            ],
            [
             0.1111111111111111,
             "#482878"
            ],
            [
             0.2222222222222222,
             "#3e4989"
            ],
            [
             0.3333333333333333,
             "#31688e"
            ],
            [
             0.4444444444444444,
             "#26828e"
            ],
            [
             0.5555555555555556,
             "#1f9e89"
            ],
            [
             0.6666666666666666,
             "#35b779"
            ],
            [
             0.7777777777777778,
             "#6ece58"
            ],
            [
             0.8888888888888888,
             "#b5de2b"
            ],
            [
             1,
             "#fde725"
            ]
           ],
           "sequentialminus": [
            [
             0,
             "#440154"
            ],
            [
             0.1111111111111111,
             "#482878"
            ],
            [
             0.2222222222222222,
             "#3e4989"
            ],
            [
             0.3333333333333333,
             "#31688e"
            ],
            [
             0.4444444444444444,
             "#26828e"
            ],
            [
             0.5555555555555556,
             "#1f9e89"
            ],
            [
             0.6666666666666666,
             "#35b779"
            ],
            [
             0.7777777777777778,
             "#6ece58"
            ],
            [
             0.8888888888888888,
             "#b5de2b"
            ],
            [
             1,
             "#fde725"
            ]
           ]
          },
          "colorway": [
           "#1F77B4",
           "#FF7F0E",
           "#2CA02C",
           "#D62728",
           "#9467BD",
           "#8C564B",
           "#E377C2",
           "#7F7F7F",
           "#BCBD22",
           "#17BECF"
          ],
          "font": {
           "color": "rgb(36,36,36)"
          },
          "geo": {
           "bgcolor": "white",
           "lakecolor": "white",
           "landcolor": "white",
           "showlakes": true,
           "showland": true,
           "subunitcolor": "white"
          },
          "hoverlabel": {
           "align": "left"
          },
          "hovermode": "closest",
          "mapbox": {
           "style": "light"
          },
          "paper_bgcolor": "white",
          "plot_bgcolor": "white",
          "polar": {
           "angularaxis": {
            "gridcolor": "rgb(232,232,232)",
            "linecolor": "rgb(36,36,36)",
            "showgrid": false,
            "showline": true,
            "ticks": "outside"
           },
           "bgcolor": "white",
           "radialaxis": {
            "gridcolor": "rgb(232,232,232)",
            "linecolor": "rgb(36,36,36)",
            "showgrid": false,
            "showline": true,
            "ticks": "outside"
           }
          },
          "scene": {
           "xaxis": {
            "backgroundcolor": "white",
            "gridcolor": "rgb(232,232,232)",
            "gridwidth": 2,
            "linecolor": "rgb(36,36,36)",
            "showbackground": true,
            "showgrid": false,
            "showline": true,
            "ticks": "outside",
            "zeroline": false,
            "zerolinecolor": "rgb(36,36,36)"
           },
           "yaxis": {
            "backgroundcolor": "white",
            "gridcolor": "rgb(232,232,232)",
            "gridwidth": 2,
            "linecolor": "rgb(36,36,36)",
            "showbackground": true,
            "showgrid": false,
            "showline": true,
            "ticks": "outside",
            "zeroline": false,
            "zerolinecolor": "rgb(36,36,36)"
           },
           "zaxis": {
            "backgroundcolor": "white",
            "gridcolor": "rgb(232,232,232)",
            "gridwidth": 2,
            "linecolor": "rgb(36,36,36)",
            "showbackground": true,
            "showgrid": false,
            "showline": true,
            "ticks": "outside",
            "zeroline": false,
            "zerolinecolor": "rgb(36,36,36)"
           }
          },
          "shapedefaults": {
           "fillcolor": "black",
           "line": {
            "width": 0
           },
           "opacity": 0.3
          },
          "ternary": {
           "aaxis": {
            "gridcolor": "rgb(232,232,232)",
            "linecolor": "rgb(36,36,36)",
            "showgrid": false,
            "showline": true,
            "ticks": "outside"
           },
           "baxis": {
            "gridcolor": "rgb(232,232,232)",
            "linecolor": "rgb(36,36,36)",
            "showgrid": false,
            "showline": true,
            "ticks": "outside"
           },
           "bgcolor": "white",
           "caxis": {
            "gridcolor": "rgb(232,232,232)",
            "linecolor": "rgb(36,36,36)",
            "showgrid": false,
            "showline": true,
            "ticks": "outside"
           }
          },
          "title": {
           "x": 0.05
          },
          "xaxis": {
           "automargin": true,
           "gridcolor": "rgb(232,232,232)",
           "linecolor": "rgb(36,36,36)",
           "showgrid": false,
           "showline": true,
           "ticks": "outside",
           "title": {
            "standoff": 15
           },
           "zeroline": false,
           "zerolinecolor": "rgb(36,36,36)"
          },
          "yaxis": {
           "automargin": true,
           "gridcolor": "rgb(232,232,232)",
           "linecolor": "rgb(36,36,36)",
           "showgrid": false,
           "showline": true,
           "ticks": "outside",
           "title": {
            "standoff": 15
           },
           "zeroline": false,
           "zerolinecolor": "rgb(36,36,36)"
          }
         }
        },
        "xaxis": {
         "anchor": "y",
         "domain": [
          0,
          1
         ],
         "showgrid": true,
         "title": {
          "text": "Area (m<sup>2</sup>)"
         },
         "type": "log"
        },
        "yaxis": {
         "anchor": "x",
         "domain": [
          0,
          1
         ],
         "showgrid": true,
         "title": {
          "text": "Price per sqm (€)"
         }
        }
       }
      }
     },
     "metadata": {},
     "output_type": "display_data"
    }
   ],
   "source": [
    "fig = px.scatter(\n",
    "    data_frame=data,\n",
    "    x=\"area_m2\",\n",
    "    y=\"price_per_m2_e\",\n",
    "    template=\"simple_white\",\n",
    "    log_x=True,\n",
    "    color=\"type\",\n",
    "    color_discrete_map={\n",
    "        \"Kerrostalo\": \"#e9c46a\",\n",
    "        \"Rivitalo\": \"#e76f51\",\n",
    "        \"Omakotitalo\": \"#264653\",\n",
    "    },\n",
    "    hover_data={\n",
    "        \"price_per_m2_e\":\":.0f\",\n",
    "        \"area_m2\": \":.0f\",\n",
    "        \"type\": False\n",
    "        },\n",
    "    hover_name=\"type\",\n",
    "    labels=dict(price_per_m2_e=\"Price per sqm (€)\", area_m2=\"Area (m<sup>2</sup>)\", type=\"Building type\")\n",
    ")\n",
    "fig.update_traces(hovertemplate='Area: %{x} m<sup>2</sup><br>Price Per sqm:%{y}€') #\n",
    "fig.update_traces(hovertemplate=None, selector={'name':'Europe'}) \n",
    "fig.update_xaxes(showgrid=True)\n",
    "fig.update_yaxes(showgrid=True)\n",
    "fig.show()"
   ]
  },
  {
   "cell_type": "code",
   "execution_count": 96,
   "metadata": {},
   "outputs": [
    {
     "data": {
      "application/vnd.plotly.v1+json": {
       "config": {
        "plotlyServerURL": "https://plot.ly"
       },
       "data": [
        {
         "hovertemplate": "%{label}: <br>Count: %{count}",
         "labels": [
          "Owned",
          "Leased"
         ],
         "marker": {
          "colors": [
           "#264653",
           "#e76f51"
          ]
         },
         "name": "",
         "text": [
          "Owned",
          "Leased"
         ],
         "title": {
          "text": "Plot Ownership"
         },
         "type": "pie",
         "values": {
          "bdata": "tgwYAw==",
          "dtype": "i2"
         }
        }
       ],
       "layout": {
        "showlegend": false,
        "template": {
         "data": {
          "bar": [
           {
            "error_x": {
             "color": "#2a3f5f"
            },
            "error_y": {
             "color": "#2a3f5f"
            },
            "marker": {
             "line": {
              "color": "#E5ECF6",
              "width": 0.5
             },
             "pattern": {
              "fillmode": "overlay",
              "size": 10,
              "solidity": 0.2
             }
            },
            "type": "bar"
           }
          ],
          "barpolar": [
           {
            "marker": {
             "line": {
              "color": "#E5ECF6",
              "width": 0.5
             },
             "pattern": {
              "fillmode": "overlay",
              "size": 10,
              "solidity": 0.2
             }
            },
            "type": "barpolar"
           }
          ],
          "carpet": [
           {
            "aaxis": {
             "endlinecolor": "#2a3f5f",
             "gridcolor": "white",
             "linecolor": "white",
             "minorgridcolor": "white",
             "startlinecolor": "#2a3f5f"
            },
            "baxis": {
             "endlinecolor": "#2a3f5f",
             "gridcolor": "white",
             "linecolor": "white",
             "minorgridcolor": "white",
             "startlinecolor": "#2a3f5f"
            },
            "type": "carpet"
           }
          ],
          "choropleth": [
           {
            "colorbar": {
             "outlinewidth": 0,
             "ticks": ""
            },
            "type": "choropleth"
           }
          ],
          "contour": [
           {
            "colorbar": {
             "outlinewidth": 0,
             "ticks": ""
            },
            "colorscale": [
             [
              0,
              "#0d0887"
             ],
             [
              0.1111111111111111,
              "#46039f"
             ],
             [
              0.2222222222222222,
              "#7201a8"
             ],
             [
              0.3333333333333333,
              "#9c179e"
             ],
             [
              0.4444444444444444,
              "#bd3786"
             ],
             [
              0.5555555555555556,
              "#d8576b"
             ],
             [
              0.6666666666666666,
              "#ed7953"
             ],
             [
              0.7777777777777778,
              "#fb9f3a"
             ],
             [
              0.8888888888888888,
              "#fdca26"
             ],
             [
              1,
              "#f0f921"
             ]
            ],
            "type": "contour"
           }
          ],
          "contourcarpet": [
           {
            "colorbar": {
             "outlinewidth": 0,
             "ticks": ""
            },
            "type": "contourcarpet"
           }
          ],
          "heatmap": [
           {
            "colorbar": {
             "outlinewidth": 0,
             "ticks": ""
            },
            "colorscale": [
             [
              0,
              "#0d0887"
             ],
             [
              0.1111111111111111,
              "#46039f"
             ],
             [
              0.2222222222222222,
              "#7201a8"
             ],
             [
              0.3333333333333333,
              "#9c179e"
             ],
             [
              0.4444444444444444,
              "#bd3786"
             ],
             [
              0.5555555555555556,
              "#d8576b"
             ],
             [
              0.6666666666666666,
              "#ed7953"
             ],
             [
              0.7777777777777778,
              "#fb9f3a"
             ],
             [
              0.8888888888888888,
              "#fdca26"
             ],
             [
              1,
              "#f0f921"
             ]
            ],
            "type": "heatmap"
           }
          ],
          "histogram": [
           {
            "marker": {
             "pattern": {
              "fillmode": "overlay",
              "size": 10,
              "solidity": 0.2
             }
            },
            "type": "histogram"
           }
          ],
          "histogram2d": [
           {
            "colorbar": {
             "outlinewidth": 0,
             "ticks": ""
            },
            "colorscale": [
             [
              0,
              "#0d0887"
             ],
             [
              0.1111111111111111,
              "#46039f"
             ],
             [
              0.2222222222222222,
              "#7201a8"
             ],
             [
              0.3333333333333333,
              "#9c179e"
             ],
             [
              0.4444444444444444,
              "#bd3786"
             ],
             [
              0.5555555555555556,
              "#d8576b"
             ],
             [
              0.6666666666666666,
              "#ed7953"
             ],
             [
              0.7777777777777778,
              "#fb9f3a"
             ],
             [
              0.8888888888888888,
              "#fdca26"
             ],
             [
              1,
              "#f0f921"
             ]
            ],
            "type": "histogram2d"
           }
          ],
          "histogram2dcontour": [
           {
            "colorbar": {
             "outlinewidth": 0,
             "ticks": ""
            },
            "colorscale": [
             [
              0,
              "#0d0887"
             ],
             [
              0.1111111111111111,
              "#46039f"
             ],
             [
              0.2222222222222222,
              "#7201a8"
             ],
             [
              0.3333333333333333,
              "#9c179e"
             ],
             [
              0.4444444444444444,
              "#bd3786"
             ],
             [
              0.5555555555555556,
              "#d8576b"
             ],
             [
              0.6666666666666666,
              "#ed7953"
             ],
             [
              0.7777777777777778,
              "#fb9f3a"
             ],
             [
              0.8888888888888888,
              "#fdca26"
             ],
             [
              1,
              "#f0f921"
             ]
            ],
            "type": "histogram2dcontour"
           }
          ],
          "mesh3d": [
           {
            "colorbar": {
             "outlinewidth": 0,
             "ticks": ""
            },
            "type": "mesh3d"
           }
          ],
          "parcoords": [
           {
            "line": {
             "colorbar": {
              "outlinewidth": 0,
              "ticks": ""
             }
            },
            "type": "parcoords"
           }
          ],
          "pie": [
           {
            "automargin": true,
            "type": "pie"
           }
          ],
          "scatter": [
           {
            "fillpattern": {
             "fillmode": "overlay",
             "size": 10,
             "solidity": 0.2
            },
            "type": "scatter"
           }
          ],
          "scatter3d": [
           {
            "line": {
             "colorbar": {
              "outlinewidth": 0,
              "ticks": ""
             }
            },
            "marker": {
             "colorbar": {
              "outlinewidth": 0,
              "ticks": ""
             }
            },
            "type": "scatter3d"
           }
          ],
          "scattercarpet": [
           {
            "marker": {
             "colorbar": {
              "outlinewidth": 0,
              "ticks": ""
             }
            },
            "type": "scattercarpet"
           }
          ],
          "scattergeo": [
           {
            "marker": {
             "colorbar": {
              "outlinewidth": 0,
              "ticks": ""
             }
            },
            "type": "scattergeo"
           }
          ],
          "scattergl": [
           {
            "marker": {
             "colorbar": {
              "outlinewidth": 0,
              "ticks": ""
             }
            },
            "type": "scattergl"
           }
          ],
          "scattermap": [
           {
            "marker": {
             "colorbar": {
              "outlinewidth": 0,
              "ticks": ""
             }
            },
            "type": "scattermap"
           }
          ],
          "scattermapbox": [
           {
            "marker": {
             "colorbar": {
              "outlinewidth": 0,
              "ticks": ""
             }
            },
            "type": "scattermapbox"
           }
          ],
          "scatterpolar": [
           {
            "marker": {
             "colorbar": {
              "outlinewidth": 0,
              "ticks": ""
             }
            },
            "type": "scatterpolar"
           }
          ],
          "scatterpolargl": [
           {
            "marker": {
             "colorbar": {
              "outlinewidth": 0,
              "ticks": ""
             }
            },
            "type": "scatterpolargl"
           }
          ],
          "scatterternary": [
           {
            "marker": {
             "colorbar": {
              "outlinewidth": 0,
              "ticks": ""
             }
            },
            "type": "scatterternary"
           }
          ],
          "surface": [
           {
            "colorbar": {
             "outlinewidth": 0,
             "ticks": ""
            },
            "colorscale": [
             [
              0,
              "#0d0887"
             ],
             [
              0.1111111111111111,
              "#46039f"
             ],
             [
              0.2222222222222222,
              "#7201a8"
             ],
             [
              0.3333333333333333,
              "#9c179e"
             ],
             [
              0.4444444444444444,
              "#bd3786"
             ],
             [
              0.5555555555555556,
              "#d8576b"
             ],
             [
              0.6666666666666666,
              "#ed7953"
             ],
             [
              0.7777777777777778,
              "#fb9f3a"
             ],
             [
              0.8888888888888888,
              "#fdca26"
             ],
             [
              1,
              "#f0f921"
             ]
            ],
            "type": "surface"
           }
          ],
          "table": [
           {
            "cells": {
             "fill": {
              "color": "#EBF0F8"
             },
             "line": {
              "color": "white"
             }
            },
            "header": {
             "fill": {
              "color": "#C8D4E3"
             },
             "line": {
              "color": "white"
             }
            },
            "type": "table"
           }
          ]
         },
         "layout": {
          "annotationdefaults": {
           "arrowcolor": "#2a3f5f",
           "arrowhead": 0,
           "arrowwidth": 1
          },
          "autotypenumbers": "strict",
          "coloraxis": {
           "colorbar": {
            "outlinewidth": 0,
            "ticks": ""
           }
          },
          "colorscale": {
           "diverging": [
            [
             0,
             "#8e0152"
            ],
            [
             0.1,
             "#c51b7d"
            ],
            [
             0.2,
             "#de77ae"
            ],
            [
             0.3,
             "#f1b6da"
            ],
            [
             0.4,
             "#fde0ef"
            ],
            [
             0.5,
             "#f7f7f7"
            ],
            [
             0.6,
             "#e6f5d0"
            ],
            [
             0.7,
             "#b8e186"
            ],
            [
             0.8,
             "#7fbc41"
            ],
            [
             0.9,
             "#4d9221"
            ],
            [
             1,
             "#276419"
            ]
           ],
           "sequential": [
            [
             0,
             "#0d0887"
            ],
            [
             0.1111111111111111,
             "#46039f"
            ],
            [
             0.2222222222222222,
             "#7201a8"
            ],
            [
             0.3333333333333333,
             "#9c179e"
            ],
            [
             0.4444444444444444,
             "#bd3786"
            ],
            [
             0.5555555555555556,
             "#d8576b"
            ],
            [
             0.6666666666666666,
             "#ed7953"
            ],
            [
             0.7777777777777778,
             "#fb9f3a"
            ],
            [
             0.8888888888888888,
             "#fdca26"
            ],
            [
             1,
             "#f0f921"
            ]
           ],
           "sequentialminus": [
            [
             0,
             "#0d0887"
            ],
            [
             0.1111111111111111,
             "#46039f"
            ],
            [
             0.2222222222222222,
             "#7201a8"
            ],
            [
             0.3333333333333333,
             "#9c179e"
            ],
            [
             0.4444444444444444,
             "#bd3786"
            ],
            [
             0.5555555555555556,
             "#d8576b"
            ],
            [
             0.6666666666666666,
             "#ed7953"
            ],
            [
             0.7777777777777778,
             "#fb9f3a"
            ],
            [
             0.8888888888888888,
             "#fdca26"
            ],
            [
             1,
             "#f0f921"
            ]
           ]
          },
          "colorway": [
           "#636efa",
           "#EF553B",
           "#00cc96",
           "#ab63fa",
           "#FFA15A",
           "#19d3f3",
           "#FF6692",
           "#B6E880",
           "#FF97FF",
           "#FECB52"
          ],
          "font": {
           "color": "#2a3f5f"
          },
          "geo": {
           "bgcolor": "white",
           "lakecolor": "white",
           "landcolor": "#E5ECF6",
           "showlakes": true,
           "showland": true,
           "subunitcolor": "white"
          },
          "hoverlabel": {
           "align": "left"
          },
          "hovermode": "closest",
          "mapbox": {
           "style": "light"
          },
          "paper_bgcolor": "white",
          "plot_bgcolor": "#E5ECF6",
          "polar": {
           "angularaxis": {
            "gridcolor": "white",
            "linecolor": "white",
            "ticks": ""
           },
           "bgcolor": "#E5ECF6",
           "radialaxis": {
            "gridcolor": "white",
            "linecolor": "white",
            "ticks": ""
           }
          },
          "scene": {
           "xaxis": {
            "backgroundcolor": "#E5ECF6",
            "gridcolor": "white",
            "gridwidth": 2,
            "linecolor": "white",
            "showbackground": true,
            "ticks": "",
            "zerolinecolor": "white"
           },
           "yaxis": {
            "backgroundcolor": "#E5ECF6",
            "gridcolor": "white",
            "gridwidth": 2,
            "linecolor": "white",
            "showbackground": true,
            "ticks": "",
            "zerolinecolor": "white"
           },
           "zaxis": {
            "backgroundcolor": "#E5ECF6",
            "gridcolor": "white",
            "gridwidth": 2,
            "linecolor": "white",
            "showbackground": true,
            "ticks": "",
            "zerolinecolor": "white"
           }
          },
          "shapedefaults": {
           "line": {
            "color": "#2a3f5f"
           }
          },
          "ternary": {
           "aaxis": {
            "gridcolor": "white",
            "linecolor": "white",
            "ticks": ""
           },
           "baxis": {
            "gridcolor": "white",
            "linecolor": "white",
            "ticks": ""
           },
           "bgcolor": "#E5ECF6",
           "caxis": {
            "gridcolor": "white",
            "linecolor": "white",
            "ticks": ""
           }
          },
          "title": {
           "x": 0.05
          },
          "xaxis": {
           "automargin": true,
           "gridcolor": "white",
           "linecolor": "white",
           "ticks": "",
           "title": {
            "standoff": 15
           },
           "zerolinecolor": "white",
           "zerolinewidth": 2
          },
          "yaxis": {
           "automargin": true,
           "gridcolor": "white",
           "linecolor": "white",
           "ticks": "",
           "title": {
            "standoff": 15
           },
           "zerolinecolor": "white",
           "zerolinewidth": 2
          }
         }
        }
       }
      }
     },
     "metadata": {},
     "output_type": "display_data"
    }
   ],
   "source": [
    "df = data[\"plot_ownership\"].value_counts().reset_index()\n",
    "fig = go.Figure(go.Pie(\n",
    "    name = \"\",\n",
    "    values = df[\"count\"],\n",
    "    labels = df[\"plot_ownership\"],\n",
    "    text = df[\"plot_ownership\"],\n",
    "    hovertemplate = \"%{label}: <br>Count: %{count}\",\n",
    "    marker={\n",
    "        \"colors\":[\"#264653\",\"#e76f51\"]\n",
    "    },\n",
    "    title=\"Plot Ownership\"\n",
    "))\n",
    "fig.update_layout(showlegend=False)\n",
    "fig.show()"
   ]
  },
  {
   "cell_type": "code",
   "execution_count": 97,
   "metadata": {},
   "outputs": [
    {
     "data": {
      "application/vnd.plotly.v1+json": {
       "config": {
        "plotlyServerURL": "https://plot.ly"
       },
       "data": [
        {
         "hovertemplate": "%{label}: <br>Count: %{count}",
         "labels": [
          "Has Elevator",
          "No Elevator"
         ],
         "marker": {
          "colors": [
           "#264653",
           "#e76f51"
          ]
         },
         "name": "",
         "text": [
          "Has Elevator",
          "No Elevator"
         ],
         "title": {
          "text": "Elevator"
         },
         "type": "pie",
         "values": {
          "bdata": "xwgHBw==",
          "dtype": "i2"
         }
        }
       ],
       "layout": {
        "showlegend": false,
        "template": {
         "data": {
          "bar": [
           {
            "error_x": {
             "color": "#2a3f5f"
            },
            "error_y": {
             "color": "#2a3f5f"
            },
            "marker": {
             "line": {
              "color": "#E5ECF6",
              "width": 0.5
             },
             "pattern": {
              "fillmode": "overlay",
              "size": 10,
              "solidity": 0.2
             }
            },
            "type": "bar"
           }
          ],
          "barpolar": [
           {
            "marker": {
             "line": {
              "color": "#E5ECF6",
              "width": 0.5
             },
             "pattern": {
              "fillmode": "overlay",
              "size": 10,
              "solidity": 0.2
             }
            },
            "type": "barpolar"
           }
          ],
          "carpet": [
           {
            "aaxis": {
             "endlinecolor": "#2a3f5f",
             "gridcolor": "white",
             "linecolor": "white",
             "minorgridcolor": "white",
             "startlinecolor": "#2a3f5f"
            },
            "baxis": {
             "endlinecolor": "#2a3f5f",
             "gridcolor": "white",
             "linecolor": "white",
             "minorgridcolor": "white",
             "startlinecolor": "#2a3f5f"
            },
            "type": "carpet"
           }
          ],
          "choropleth": [
           {
            "colorbar": {
             "outlinewidth": 0,
             "ticks": ""
            },
            "type": "choropleth"
           }
          ],
          "contour": [
           {
            "colorbar": {
             "outlinewidth": 0,
             "ticks": ""
            },
            "colorscale": [
             [
              0,
              "#0d0887"
             ],
             [
              0.1111111111111111,
              "#46039f"
             ],
             [
              0.2222222222222222,
              "#7201a8"
             ],
             [
              0.3333333333333333,
              "#9c179e"
             ],
             [
              0.4444444444444444,
              "#bd3786"
             ],
             [
              0.5555555555555556,
              "#d8576b"
             ],
             [
              0.6666666666666666,
              "#ed7953"
             ],
             [
              0.7777777777777778,
              "#fb9f3a"
             ],
             [
              0.8888888888888888,
              "#fdca26"
             ],
             [
              1,
              "#f0f921"
             ]
            ],
            "type": "contour"
           }
          ],
          "contourcarpet": [
           {
            "colorbar": {
             "outlinewidth": 0,
             "ticks": ""
            },
            "type": "contourcarpet"
           }
          ],
          "heatmap": [
           {
            "colorbar": {
             "outlinewidth": 0,
             "ticks": ""
            },
            "colorscale": [
             [
              0,
              "#0d0887"
             ],
             [
              0.1111111111111111,
              "#46039f"
             ],
             [
              0.2222222222222222,
              "#7201a8"
             ],
             [
              0.3333333333333333,
              "#9c179e"
             ],
             [
              0.4444444444444444,
              "#bd3786"
             ],
             [
              0.5555555555555556,
              "#d8576b"
             ],
             [
              0.6666666666666666,
              "#ed7953"
             ],
             [
              0.7777777777777778,
              "#fb9f3a"
             ],
             [
              0.8888888888888888,
              "#fdca26"
             ],
             [
              1,
              "#f0f921"
             ]
            ],
            "type": "heatmap"
           }
          ],
          "histogram": [
           {
            "marker": {
             "pattern": {
              "fillmode": "overlay",
              "size": 10,
              "solidity": 0.2
             }
            },
            "type": "histogram"
           }
          ],
          "histogram2d": [
           {
            "colorbar": {
             "outlinewidth": 0,
             "ticks": ""
            },
            "colorscale": [
             [
              0,
              "#0d0887"
             ],
             [
              0.1111111111111111,
              "#46039f"
             ],
             [
              0.2222222222222222,
              "#7201a8"
             ],
             [
              0.3333333333333333,
              "#9c179e"
             ],
             [
              0.4444444444444444,
              "#bd3786"
             ],
             [
              0.5555555555555556,
              "#d8576b"
             ],
             [
              0.6666666666666666,
              "#ed7953"
             ],
             [
              0.7777777777777778,
              "#fb9f3a"
             ],
             [
              0.8888888888888888,
              "#fdca26"
             ],
             [
              1,
              "#f0f921"
             ]
            ],
            "type": "histogram2d"
           }
          ],
          "histogram2dcontour": [
           {
            "colorbar": {
             "outlinewidth": 0,
             "ticks": ""
            },
            "colorscale": [
             [
              0,
              "#0d0887"
             ],
             [
              0.1111111111111111,
              "#46039f"
             ],
             [
              0.2222222222222222,
              "#7201a8"
             ],
             [
              0.3333333333333333,
              "#9c179e"
             ],
             [
              0.4444444444444444,
              "#bd3786"
             ],
             [
              0.5555555555555556,
              "#d8576b"
             ],
             [
              0.6666666666666666,
              "#ed7953"
             ],
             [
              0.7777777777777778,
              "#fb9f3a"
             ],
             [
              0.8888888888888888,
              "#fdca26"
             ],
             [
              1,
              "#f0f921"
             ]
            ],
            "type": "histogram2dcontour"
           }
          ],
          "mesh3d": [
           {
            "colorbar": {
             "outlinewidth": 0,
             "ticks": ""
            },
            "type": "mesh3d"
           }
          ],
          "parcoords": [
           {
            "line": {
             "colorbar": {
              "outlinewidth": 0,
              "ticks": ""
             }
            },
            "type": "parcoords"
           }
          ],
          "pie": [
           {
            "automargin": true,
            "type": "pie"
           }
          ],
          "scatter": [
           {
            "fillpattern": {
             "fillmode": "overlay",
             "size": 10,
             "solidity": 0.2
            },
            "type": "scatter"
           }
          ],
          "scatter3d": [
           {
            "line": {
             "colorbar": {
              "outlinewidth": 0,
              "ticks": ""
             }
            },
            "marker": {
             "colorbar": {
              "outlinewidth": 0,
              "ticks": ""
             }
            },
            "type": "scatter3d"
           }
          ],
          "scattercarpet": [
           {
            "marker": {
             "colorbar": {
              "outlinewidth": 0,
              "ticks": ""
             }
            },
            "type": "scattercarpet"
           }
          ],
          "scattergeo": [
           {
            "marker": {
             "colorbar": {
              "outlinewidth": 0,
              "ticks": ""
             }
            },
            "type": "scattergeo"
           }
          ],
          "scattergl": [
           {
            "marker": {
             "colorbar": {
              "outlinewidth": 0,
              "ticks": ""
             }
            },
            "type": "scattergl"
           }
          ],
          "scattermap": [
           {
            "marker": {
             "colorbar": {
              "outlinewidth": 0,
              "ticks": ""
             }
            },
            "type": "scattermap"
           }
          ],
          "scattermapbox": [
           {
            "marker": {
             "colorbar": {
              "outlinewidth": 0,
              "ticks": ""
             }
            },
            "type": "scattermapbox"
           }
          ],
          "scatterpolar": [
           {
            "marker": {
             "colorbar": {
              "outlinewidth": 0,
              "ticks": ""
             }
            },
            "type": "scatterpolar"
           }
          ],
          "scatterpolargl": [
           {
            "marker": {
             "colorbar": {
              "outlinewidth": 0,
              "ticks": ""
             }
            },
            "type": "scatterpolargl"
           }
          ],
          "scatterternary": [
           {
            "marker": {
             "colorbar": {
              "outlinewidth": 0,
              "ticks": ""
             }
            },
            "type": "scatterternary"
           }
          ],
          "surface": [
           {
            "colorbar": {
             "outlinewidth": 0,
             "ticks": ""
            },
            "colorscale": [
             [
              0,
              "#0d0887"
             ],
             [
              0.1111111111111111,
              "#46039f"
             ],
             [
              0.2222222222222222,
              "#7201a8"
             ],
             [
              0.3333333333333333,
              "#9c179e"
             ],
             [
              0.4444444444444444,
              "#bd3786"
             ],
             [
              0.5555555555555556,
              "#d8576b"
             ],
             [
              0.6666666666666666,
              "#ed7953"
             ],
             [
              0.7777777777777778,
              "#fb9f3a"
             ],
             [
              0.8888888888888888,
              "#fdca26"
             ],
             [
              1,
              "#f0f921"
             ]
            ],
            "type": "surface"
           }
          ],
          "table": [
           {
            "cells": {
             "fill": {
              "color": "#EBF0F8"
             },
             "line": {
              "color": "white"
             }
            },
            "header": {
             "fill": {
              "color": "#C8D4E3"
             },
             "line": {
              "color": "white"
             }
            },
            "type": "table"
           }
          ]
         },
         "layout": {
          "annotationdefaults": {
           "arrowcolor": "#2a3f5f",
           "arrowhead": 0,
           "arrowwidth": 1
          },
          "autotypenumbers": "strict",
          "coloraxis": {
           "colorbar": {
            "outlinewidth": 0,
            "ticks": ""
           }
          },
          "colorscale": {
           "diverging": [
            [
             0,
             "#8e0152"
            ],
            [
             0.1,
             "#c51b7d"
            ],
            [
             0.2,
             "#de77ae"
            ],
            [
             0.3,
             "#f1b6da"
            ],
            [
             0.4,
             "#fde0ef"
            ],
            [
             0.5,
             "#f7f7f7"
            ],
            [
             0.6,
             "#e6f5d0"
            ],
            [
             0.7,
             "#b8e186"
            ],
            [
             0.8,
             "#7fbc41"
            ],
            [
             0.9,
             "#4d9221"
            ],
            [
             1,
             "#276419"
            ]
           ],
           "sequential": [
            [
             0,
             "#0d0887"
            ],
            [
             0.1111111111111111,
             "#46039f"
            ],
            [
             0.2222222222222222,
             "#7201a8"
            ],
            [
             0.3333333333333333,
             "#9c179e"
            ],
            [
             0.4444444444444444,
             "#bd3786"
            ],
            [
             0.5555555555555556,
             "#d8576b"
            ],
            [
             0.6666666666666666,
             "#ed7953"
            ],
            [
             0.7777777777777778,
             "#fb9f3a"
            ],
            [
             0.8888888888888888,
             "#fdca26"
            ],
            [
             1,
             "#f0f921"
            ]
           ],
           "sequentialminus": [
            [
             0,
             "#0d0887"
            ],
            [
             0.1111111111111111,
             "#46039f"
            ],
            [
             0.2222222222222222,
             "#7201a8"
            ],
            [
             0.3333333333333333,
             "#9c179e"
            ],
            [
             0.4444444444444444,
             "#bd3786"
            ],
            [
             0.5555555555555556,
             "#d8576b"
            ],
            [
             0.6666666666666666,
             "#ed7953"
            ],
            [
             0.7777777777777778,
             "#fb9f3a"
            ],
            [
             0.8888888888888888,
             "#fdca26"
            ],
            [
             1,
             "#f0f921"
            ]
           ]
          },
          "colorway": [
           "#636efa",
           "#EF553B",
           "#00cc96",
           "#ab63fa",
           "#FFA15A",
           "#19d3f3",
           "#FF6692",
           "#B6E880",
           "#FF97FF",
           "#FECB52"
          ],
          "font": {
           "color": "#2a3f5f"
          },
          "geo": {
           "bgcolor": "white",
           "lakecolor": "white",
           "landcolor": "#E5ECF6",
           "showlakes": true,
           "showland": true,
           "subunitcolor": "white"
          },
          "hoverlabel": {
           "align": "left"
          },
          "hovermode": "closest",
          "mapbox": {
           "style": "light"
          },
          "paper_bgcolor": "white",
          "plot_bgcolor": "#E5ECF6",
          "polar": {
           "angularaxis": {
            "gridcolor": "white",
            "linecolor": "white",
            "ticks": ""
           },
           "bgcolor": "#E5ECF6",
           "radialaxis": {
            "gridcolor": "white",
            "linecolor": "white",
            "ticks": ""
           }
          },
          "scene": {
           "xaxis": {
            "backgroundcolor": "#E5ECF6",
            "gridcolor": "white",
            "gridwidth": 2,
            "linecolor": "white",
            "showbackground": true,
            "ticks": "",
            "zerolinecolor": "white"
           },
           "yaxis": {
            "backgroundcolor": "#E5ECF6",
            "gridcolor": "white",
            "gridwidth": 2,
            "linecolor": "white",
            "showbackground": true,
            "ticks": "",
            "zerolinecolor": "white"
           },
           "zaxis": {
            "backgroundcolor": "#E5ECF6",
            "gridcolor": "white",
            "gridwidth": 2,
            "linecolor": "white",
            "showbackground": true,
            "ticks": "",
            "zerolinecolor": "white"
           }
          },
          "shapedefaults": {
           "line": {
            "color": "#2a3f5f"
           }
          },
          "ternary": {
           "aaxis": {
            "gridcolor": "white",
            "linecolor": "white",
            "ticks": ""
           },
           "baxis": {
            "gridcolor": "white",
            "linecolor": "white",
            "ticks": ""
           },
           "bgcolor": "#E5ECF6",
           "caxis": {
            "gridcolor": "white",
            "linecolor": "white",
            "ticks": ""
           }
          },
          "title": {
           "x": 0.05
          },
          "xaxis": {
           "automargin": true,
           "gridcolor": "white",
           "linecolor": "white",
           "ticks": "",
           "title": {
            "standoff": 15
           },
           "zerolinecolor": "white",
           "zerolinewidth": 2
          },
          "yaxis": {
           "automargin": true,
           "gridcolor": "white",
           "linecolor": "white",
           "ticks": "",
           "title": {
            "standoff": 15
           },
           "zerolinecolor": "white",
           "zerolinewidth": 2
          }
         }
        }
       }
      }
     },
     "metadata": {},
     "output_type": "display_data"
    }
   ],
   "source": [
    "df = data[\"elevator\"].replace({\n",
    "    True: \"Has Elevator\",\n",
    "    False:\"No Elevator\"\n",
    "    }).value_counts().reset_index()\n",
    "fig = go.Figure(go.Pie(\n",
    "    name = \"\",\n",
    "    values = df[\"count\"],\n",
    "    labels = df[\"elevator\"],\n",
    "    text = df[\"elevator\"],\n",
    "    hovertemplate = \"%{label}: <br>Count: %{count}\",\n",
    "    marker={\n",
    "        \"colors\":[\"#264653\",\"#e76f51\"]\n",
    "    },\n",
    "    title=\"Elevator\"\n",
    "))\n",
    "fig.update_layout(showlegend=False)\n",
    "fig.show()"
   ]
  },
  {
   "cell_type": "code",
   "execution_count": 98,
   "metadata": {},
   "outputs": [
    {
     "data": {
      "text/html": [
       "<div>\n",
       "<style scoped>\n",
       "    .dataframe tbody tr th:only-of-type {\n",
       "        vertical-align: middle;\n",
       "    }\n",
       "\n",
       "    .dataframe tbody tr th {\n",
       "        vertical-align: top;\n",
       "    }\n",
       "\n",
       "    .dataframe thead th {\n",
       "        text-align: right;\n",
       "    }\n",
       "</style>\n",
       "<table border=\"1\" class=\"dataframe\">\n",
       "  <thead>\n",
       "    <tr style=\"text-align: right;\">\n",
       "      <th></th>\n",
       "      <th>region</th>\n",
       "      <th>rooms</th>\n",
       "      <th>type</th>\n",
       "      <th>area_m2</th>\n",
       "      <th>price_e</th>\n",
       "      <th>price_per_m2_e</th>\n",
       "      <th>construction_year</th>\n",
       "      <th>floor</th>\n",
       "      <th>elevator</th>\n",
       "      <th>quality</th>\n",
       "      <th>plot_ownership</th>\n",
       "      <th>energy_grade</th>\n",
       "      <th>municipality</th>\n",
       "    </tr>\n",
       "  </thead>\n",
       "  <tbody>\n",
       "    <tr>\n",
       "      <th>0</th>\n",
       "      <td>Ruoholahti</td>\n",
       "      <td>1h+kk</td>\n",
       "      <td>Kerrostalo</td>\n",
       "      <td>2300.0</td>\n",
       "      <td>170000.0</td>\n",
       "      <td>7391.0</td>\n",
       "      <td>1926</td>\n",
       "      <td>3/5</td>\n",
       "      <td>True</td>\n",
       "      <td>tyyd.</td>\n",
       "      <td>Owned</td>\n",
       "      <td>F2018</td>\n",
       "      <td>Helsinki</td>\n",
       "    </tr>\n",
       "    <tr>\n",
       "      <th>1</th>\n",
       "      <td>Taka-töölö</td>\n",
       "      <td>1h,kk</td>\n",
       "      <td>Kerrostalo</td>\n",
       "      <td>2400.0</td>\n",
       "      <td>155000.0</td>\n",
       "      <td>6458.0</td>\n",
       "      <td>1940</td>\n",
       "      <td>2/3</td>\n",
       "      <td>False</td>\n",
       "      <td>huono</td>\n",
       "      <td>Owned</td>\n",
       "      <td>E2018</td>\n",
       "      <td>Helsinki</td>\n",
       "    </tr>\n",
       "    <tr>\n",
       "      <th>2</th>\n",
       "      <td>Taka-töölö</td>\n",
       "      <td>1h, kk, kph</td>\n",
       "      <td>Kerrostalo</td>\n",
       "      <td>2700.0</td>\n",
       "      <td>169000.0</td>\n",
       "      <td>6259.0</td>\n",
       "      <td>1937</td>\n",
       "      <td>4/7</td>\n",
       "      <td>True</td>\n",
       "      <td>tyyd.</td>\n",
       "      <td>Owned</td>\n",
       "      <td>D2018</td>\n",
       "      <td>Helsinki</td>\n",
       "    </tr>\n",
       "    <tr>\n",
       "      <th>3</th>\n",
       "      <td>Munkkivuori</td>\n",
       "      <td>1h+kk</td>\n",
       "      <td>Kerrostalo</td>\n",
       "      <td>2800.0</td>\n",
       "      <td>164000.0</td>\n",
       "      <td>5857.0</td>\n",
       "      <td>1957</td>\n",
       "      <td>2/3</td>\n",
       "      <td>False</td>\n",
       "      <td>tyyd.</td>\n",
       "      <td>Owned</td>\n",
       "      <td>E2018</td>\n",
       "      <td>Helsinki</td>\n",
       "    </tr>\n",
       "    <tr>\n",
       "      <th>4</th>\n",
       "      <td>Laajasalo, yliskylä</td>\n",
       "      <td>1h+kk+kph</td>\n",
       "      <td>Kerrostalo</td>\n",
       "      <td>2950.0</td>\n",
       "      <td>128200.0</td>\n",
       "      <td>4346.0</td>\n",
       "      <td>1974</td>\n",
       "      <td>2/8</td>\n",
       "      <td>True</td>\n",
       "      <td>tyyd.</td>\n",
       "      <td>Owned</td>\n",
       "      <td>E2018</td>\n",
       "      <td>Helsinki</td>\n",
       "    </tr>\n",
       "    <tr>\n",
       "      <th>...</th>\n",
       "      <td>...</td>\n",
       "      <td>...</td>\n",
       "      <td>...</td>\n",
       "      <td>...</td>\n",
       "      <td>...</td>\n",
       "      <td>...</td>\n",
       "      <td>...</td>\n",
       "      <td>...</td>\n",
       "      <td>...</td>\n",
       "      <td>...</td>\n",
       "      <td>...</td>\n",
       "      <td>...</td>\n",
       "      <td>...</td>\n",
       "    </tr>\n",
       "    <tr>\n",
       "      <th>762</th>\n",
       "      <td>Asola</td>\n",
       "      <td>4h, k, wc, kph,...</td>\n",
       "      <td>Kerrostalo</td>\n",
       "      <td>8550.0</td>\n",
       "      <td>253800.0</td>\n",
       "      <td>2968.0</td>\n",
       "      <td>2007</td>\n",
       "      <td>2/5</td>\n",
       "      <td>True</td>\n",
       "      <td>hyvä</td>\n",
       "      <td>Owned</td>\n",
       "      <td>D2007</td>\n",
       "      <td>Vantaa</td>\n",
       "    </tr>\n",
       "    <tr>\n",
       "      <th>763</th>\n",
       "      <td>Kuninkaanmäki</td>\n",
       "      <td>Oh,k ja ruokati...</td>\n",
       "      <td>Omakotitalo</td>\n",
       "      <td>23600.0</td>\n",
       "      <td>620000.0</td>\n",
       "      <td>2627.0</td>\n",
       "      <td>2016</td>\n",
       "      <td>2/2</td>\n",
       "      <td>False</td>\n",
       "      <td>hyvä</td>\n",
       "      <td>Owned</td>\n",
       "      <td>C2013</td>\n",
       "      <td>Vantaa</td>\n",
       "    </tr>\n",
       "    <tr>\n",
       "      <th>765</th>\n",
       "      <td>Havukoski</td>\n",
       "      <td>4h+k+kh+s+ter.</td>\n",
       "      <td>Rivitalo</td>\n",
       "      <td>9900.0</td>\n",
       "      <td>241000.0</td>\n",
       "      <td>2434.0</td>\n",
       "      <td>1979</td>\n",
       "      <td>1/2</td>\n",
       "      <td>False</td>\n",
       "      <td>hyvä</td>\n",
       "      <td>Owned</td>\n",
       "      <td>B2018</td>\n",
       "      <td>Vantaa</td>\n",
       "    </tr>\n",
       "    <tr>\n",
       "      <th>766</th>\n",
       "      <td>Tikkurila</td>\n",
       "      <td>4h+k+s</td>\n",
       "      <td>Kerrostalo</td>\n",
       "      <td>8700.0</td>\n",
       "      <td>223000.0</td>\n",
       "      <td>2563.0</td>\n",
       "      <td>1988</td>\n",
       "      <td>3/3</td>\n",
       "      <td>False</td>\n",
       "      <td>tyyd.</td>\n",
       "      <td>Owned</td>\n",
       "      <td>D2013</td>\n",
       "      <td>Vantaa</td>\n",
       "    </tr>\n",
       "    <tr>\n",
       "      <th>767</th>\n",
       "      <td>Pakkalanrinne</td>\n",
       "      <td>4 h, kt, s, pes...</td>\n",
       "      <td>Kerrostalo</td>\n",
       "      <td>7650.0</td>\n",
       "      <td>280000.0</td>\n",
       "      <td>3660.0</td>\n",
       "      <td>2014</td>\n",
       "      <td>2/4</td>\n",
       "      <td>True</td>\n",
       "      <td>hyvä</td>\n",
       "      <td>Owned</td>\n",
       "      <td>D2013</td>\n",
       "      <td>Vantaa</td>\n",
       "    </tr>\n",
       "  </tbody>\n",
       "</table>\n",
       "<p>4046 rows × 13 columns</p>\n",
       "</div>"
      ],
      "text/plain": [
       "                  region               rooms         type  area_m2   price_e  \\\n",
       "0             Ruoholahti               1h+kk   Kerrostalo   2300.0  170000.0   \n",
       "1             Taka-töölö               1h,kk   Kerrostalo   2400.0  155000.0   \n",
       "2             Taka-töölö         1h, kk, kph   Kerrostalo   2700.0  169000.0   \n",
       "3            Munkkivuori               1h+kk   Kerrostalo   2800.0  164000.0   \n",
       "4    Laajasalo, yliskylä           1h+kk+kph   Kerrostalo   2950.0  128200.0   \n",
       "..                   ...                 ...          ...      ...       ...   \n",
       "762                Asola  4h, k, wc, kph,...   Kerrostalo   8550.0  253800.0   \n",
       "763        Kuninkaanmäki  Oh,k ja ruokati...  Omakotitalo  23600.0  620000.0   \n",
       "765            Havukoski      4h+k+kh+s+ter.     Rivitalo   9900.0  241000.0   \n",
       "766            Tikkurila              4h+k+s   Kerrostalo   8700.0  223000.0   \n",
       "767        Pakkalanrinne  4 h, kt, s, pes...   Kerrostalo   7650.0  280000.0   \n",
       "\n",
       "     price_per_m2_e  construction_year floor  elevator quality plot_ownership  \\\n",
       "0            7391.0               1926   3/5      True   tyyd.          Owned   \n",
       "1            6458.0               1940   2/3     False   huono          Owned   \n",
       "2            6259.0               1937   4/7      True   tyyd.          Owned   \n",
       "3            5857.0               1957   2/3     False   tyyd.          Owned   \n",
       "4            4346.0               1974   2/8      True   tyyd.          Owned   \n",
       "..              ...                ...   ...       ...     ...            ...   \n",
       "762          2968.0               2007   2/5      True    hyvä          Owned   \n",
       "763          2627.0               2016   2/2     False    hyvä          Owned   \n",
       "765          2434.0               1979   1/2     False    hyvä          Owned   \n",
       "766          2563.0               1988   3/3     False   tyyd.          Owned   \n",
       "767          3660.0               2014   2/4      True    hyvä          Owned   \n",
       "\n",
       "    energy_grade municipality  \n",
       "0          F2018     Helsinki  \n",
       "1          E2018     Helsinki  \n",
       "2          D2018     Helsinki  \n",
       "3          E2018     Helsinki  \n",
       "4          E2018     Helsinki  \n",
       "..           ...          ...  \n",
       "762        D2007       Vantaa  \n",
       "763        C2013       Vantaa  \n",
       "765        B2018       Vantaa  \n",
       "766        D2013       Vantaa  \n",
       "767        D2013       Vantaa  \n",
       "\n",
       "[4046 rows x 13 columns]"
      ]
     },
     "execution_count": 98,
     "metadata": {},
     "output_type": "execute_result"
    }
   ],
   "source": [
    "data"
   ]
  },
  {
   "cell_type": "code",
   "execution_count": 166,
   "metadata": {},
   "outputs": [
    {
     "data": {
      "application/vnd.plotly.v1+json": {
       "config": {
        "plotlyServerURL": "https://plot.ly"
       },
       "data": [
        {
         "hovertemplate": "<b>%{hovertext}</b><br><br>count=%{y:.0f}<extra></extra>",
         "hovertext": [
          "D2018",
          "E2018",
          "F2013",
          "C2018",
          "E2013",
          "B2018",
          "G2013",
          "C2013",
          "E2007",
          "F2018",
          "D2013",
          "D2007",
          "A2018",
          "D",
          "F2007",
          "C2007",
          "F",
          "E",
          "G2018",
          "B2013",
          "C",
          "G2007",
          "A2007",
          "B2007",
          "B",
          "G",
          "A2013",
          "A",
          "D2012",
          "E2014",
          "F2017",
          "F2014",
          "F2015"
         ],
         "legendgroup": "",
         "marker": {
          "color": "#e9c46a",
          "pattern": {
           "shape": ""
          }
         },
         "name": "",
         "orientation": "v",
         "showlegend": false,
         "textposition": "auto",
         "type": "bar",
         "x": [
          "D2018",
          "E2018",
          "F2013",
          "C2018",
          "E2013",
          "B2018",
          "G2013",
          "C2013",
          "E2007",
          "F2018",
          "D2013",
          "D2007",
          "A2018",
          "D",
          "F2007",
          "C2007",
          "F",
          "E",
          "G2018",
          "B2013",
          "C",
          "G2007",
          "A2007",
          "B2007",
          "B",
          "G",
          "A2013",
          "A",
          "D2012",
          "E2014",
          "F2017",
          "F2014",
          "F2015"
         ],
         "xaxis": "x",
         "y": {
          "bdata": "vgKDAkICYAEmAQcBAAHhAIEAegB2AG4AKAAfAB4AGwAUABQAEQAMAAsACQAJAAcABwAFAAMAAQABAAEAAQABAAEA",
          "dtype": "i2"
         },
         "yaxis": "y"
        }
       ],
       "layout": {
        "barmode": "relative",
        "legend": {
         "tracegroupgap": 0
        },
        "margin": {
         "t": 60
        },
        "template": {
         "data": {
          "bar": [
           {
            "error_x": {
             "color": "rgb(36,36,36)"
            },
            "error_y": {
             "color": "rgb(36,36,36)"
            },
            "marker": {
             "line": {
              "color": "white",
              "width": 0.5
             },
             "pattern": {
              "fillmode": "overlay",
              "size": 10,
              "solidity": 0.2
             }
            },
            "type": "bar"
           }
          ],
          "barpolar": [
           {
            "marker": {
             "line": {
              "color": "white",
              "width": 0.5
             },
             "pattern": {
              "fillmode": "overlay",
              "size": 10,
              "solidity": 0.2
             }
            },
            "type": "barpolar"
           }
          ],
          "carpet": [
           {
            "aaxis": {
             "endlinecolor": "rgb(36,36,36)",
             "gridcolor": "white",
             "linecolor": "white",
             "minorgridcolor": "white",
             "startlinecolor": "rgb(36,36,36)"
            },
            "baxis": {
             "endlinecolor": "rgb(36,36,36)",
             "gridcolor": "white",
             "linecolor": "white",
             "minorgridcolor": "white",
             "startlinecolor": "rgb(36,36,36)"
            },
            "type": "carpet"
           }
          ],
          "choropleth": [
           {
            "colorbar": {
             "outlinewidth": 1,
             "tickcolor": "rgb(36,36,36)",
             "ticks": "outside"
            },
            "type": "choropleth"
           }
          ],
          "contour": [
           {
            "colorbar": {
             "outlinewidth": 1,
             "tickcolor": "rgb(36,36,36)",
             "ticks": "outside"
            },
            "colorscale": [
             [
              0,
              "#440154"
             ],
             [
              0.1111111111111111,
              "#482878"
             ],
             [
              0.2222222222222222,
              "#3e4989"
             ],
             [
              0.3333333333333333,
              "#31688e"
             ],
             [
              0.4444444444444444,
              "#26828e"
             ],
             [
              0.5555555555555556,
              "#1f9e89"
             ],
             [
              0.6666666666666666,
              "#35b779"
             ],
             [
              0.7777777777777778,
              "#6ece58"
             ],
             [
              0.8888888888888888,
              "#b5de2b"
             ],
             [
              1,
              "#fde725"
             ]
            ],
            "type": "contour"
           }
          ],
          "contourcarpet": [
           {
            "colorbar": {
             "outlinewidth": 1,
             "tickcolor": "rgb(36,36,36)",
             "ticks": "outside"
            },
            "type": "contourcarpet"
           }
          ],
          "heatmap": [
           {
            "colorbar": {
             "outlinewidth": 1,
             "tickcolor": "rgb(36,36,36)",
             "ticks": "outside"
            },
            "colorscale": [
             [
              0,
              "#440154"
             ],
             [
              0.1111111111111111,
              "#482878"
             ],
             [
              0.2222222222222222,
              "#3e4989"
             ],
             [
              0.3333333333333333,
              "#31688e"
             ],
             [
              0.4444444444444444,
              "#26828e"
             ],
             [
              0.5555555555555556,
              "#1f9e89"
             ],
             [
              0.6666666666666666,
              "#35b779"
             ],
             [
              0.7777777777777778,
              "#6ece58"
             ],
             [
              0.8888888888888888,
              "#b5de2b"
             ],
             [
              1,
              "#fde725"
             ]
            ],
            "type": "heatmap"
           }
          ],
          "histogram": [
           {
            "marker": {
             "line": {
              "color": "white",
              "width": 0.6
             }
            },
            "type": "histogram"
           }
          ],
          "histogram2d": [
           {
            "colorbar": {
             "outlinewidth": 1,
             "tickcolor": "rgb(36,36,36)",
             "ticks": "outside"
            },
            "colorscale": [
             [
              0,
              "#440154"
             ],
             [
              0.1111111111111111,
              "#482878"
             ],
             [
              0.2222222222222222,
              "#3e4989"
             ],
             [
              0.3333333333333333,
              "#31688e"
             ],
             [
              0.4444444444444444,
              "#26828e"
             ],
             [
              0.5555555555555556,
              "#1f9e89"
             ],
             [
              0.6666666666666666,
              "#35b779"
             ],
             [
              0.7777777777777778,
              "#6ece58"
             ],
             [
              0.8888888888888888,
              "#b5de2b"
             ],
             [
              1,
              "#fde725"
             ]
            ],
            "type": "histogram2d"
           }
          ],
          "histogram2dcontour": [
           {
            "colorbar": {
             "outlinewidth": 1,
             "tickcolor": "rgb(36,36,36)",
             "ticks": "outside"
            },
            "colorscale": [
             [
              0,
              "#440154"
             ],
             [
              0.1111111111111111,
              "#482878"
             ],
             [
              0.2222222222222222,
              "#3e4989"
             ],
             [
              0.3333333333333333,
              "#31688e"
             ],
             [
              0.4444444444444444,
              "#26828e"
             ],
             [
              0.5555555555555556,
              "#1f9e89"
             ],
             [
              0.6666666666666666,
              "#35b779"
             ],
             [
              0.7777777777777778,
              "#6ece58"
             ],
             [
              0.8888888888888888,
              "#b5de2b"
             ],
             [
              1,
              "#fde725"
             ]
            ],
            "type": "histogram2dcontour"
           }
          ],
          "mesh3d": [
           {
            "colorbar": {
             "outlinewidth": 1,
             "tickcolor": "rgb(36,36,36)",
             "ticks": "outside"
            },
            "type": "mesh3d"
           }
          ],
          "parcoords": [
           {
            "line": {
             "colorbar": {
              "outlinewidth": 1,
              "tickcolor": "rgb(36,36,36)",
              "ticks": "outside"
             }
            },
            "type": "parcoords"
           }
          ],
          "pie": [
           {
            "automargin": true,
            "type": "pie"
           }
          ],
          "scatter": [
           {
            "fillpattern": {
             "fillmode": "overlay",
             "size": 10,
             "solidity": 0.2
            },
            "type": "scatter"
           }
          ],
          "scatter3d": [
           {
            "line": {
             "colorbar": {
              "outlinewidth": 1,
              "tickcolor": "rgb(36,36,36)",
              "ticks": "outside"
             }
            },
            "marker": {
             "colorbar": {
              "outlinewidth": 1,
              "tickcolor": "rgb(36,36,36)",
              "ticks": "outside"
             }
            },
            "type": "scatter3d"
           }
          ],
          "scattercarpet": [
           {
            "marker": {
             "colorbar": {
              "outlinewidth": 1,
              "tickcolor": "rgb(36,36,36)",
              "ticks": "outside"
             }
            },
            "type": "scattercarpet"
           }
          ],
          "scattergeo": [
           {
            "marker": {
             "colorbar": {
              "outlinewidth": 1,
              "tickcolor": "rgb(36,36,36)",
              "ticks": "outside"
             }
            },
            "type": "scattergeo"
           }
          ],
          "scattergl": [
           {
            "marker": {
             "colorbar": {
              "outlinewidth": 1,
              "tickcolor": "rgb(36,36,36)",
              "ticks": "outside"
             }
            },
            "type": "scattergl"
           }
          ],
          "scattermap": [
           {
            "marker": {
             "colorbar": {
              "outlinewidth": 1,
              "tickcolor": "rgb(36,36,36)",
              "ticks": "outside"
             }
            },
            "type": "scattermap"
           }
          ],
          "scattermapbox": [
           {
            "marker": {
             "colorbar": {
              "outlinewidth": 1,
              "tickcolor": "rgb(36,36,36)",
              "ticks": "outside"
             }
            },
            "type": "scattermapbox"
           }
          ],
          "scatterpolar": [
           {
            "marker": {
             "colorbar": {
              "outlinewidth": 1,
              "tickcolor": "rgb(36,36,36)",
              "ticks": "outside"
             }
            },
            "type": "scatterpolar"
           }
          ],
          "scatterpolargl": [
           {
            "marker": {
             "colorbar": {
              "outlinewidth": 1,
              "tickcolor": "rgb(36,36,36)",
              "ticks": "outside"
             }
            },
            "type": "scatterpolargl"
           }
          ],
          "scatterternary": [
           {
            "marker": {
             "colorbar": {
              "outlinewidth": 1,
              "tickcolor": "rgb(36,36,36)",
              "ticks": "outside"
             }
            },
            "type": "scatterternary"
           }
          ],
          "surface": [
           {
            "colorbar": {
             "outlinewidth": 1,
             "tickcolor": "rgb(36,36,36)",
             "ticks": "outside"
            },
            "colorscale": [
             [
              0,
              "#440154"
             ],
             [
              0.1111111111111111,
              "#482878"
             ],
             [
              0.2222222222222222,
              "#3e4989"
             ],
             [
              0.3333333333333333,
              "#31688e"
             ],
             [
              0.4444444444444444,
              "#26828e"
             ],
             [
              0.5555555555555556,
              "#1f9e89"
             ],
             [
              0.6666666666666666,
              "#35b779"
             ],
             [
              0.7777777777777778,
              "#6ece58"
             ],
             [
              0.8888888888888888,
              "#b5de2b"
             ],
             [
              1,
              "#fde725"
             ]
            ],
            "type": "surface"
           }
          ],
          "table": [
           {
            "cells": {
             "fill": {
              "color": "rgb(237,237,237)"
             },
             "line": {
              "color": "white"
             }
            },
            "header": {
             "fill": {
              "color": "rgb(217,217,217)"
             },
             "line": {
              "color": "white"
             }
            },
            "type": "table"
           }
          ]
         },
         "layout": {
          "annotationdefaults": {
           "arrowhead": 0,
           "arrowwidth": 1
          },
          "autotypenumbers": "strict",
          "coloraxis": {
           "colorbar": {
            "outlinewidth": 1,
            "tickcolor": "rgb(36,36,36)",
            "ticks": "outside"
           }
          },
          "colorscale": {
           "diverging": [
            [
             0,
             "rgb(103,0,31)"
            ],
            [
             0.1,
             "rgb(178,24,43)"
            ],
            [
             0.2,
             "rgb(214,96,77)"
            ],
            [
             0.3,
             "rgb(244,165,130)"
            ],
            [
             0.4,
             "rgb(253,219,199)"
            ],
            [
             0.5,
             "rgb(247,247,247)"
            ],
            [
             0.6,
             "rgb(209,229,240)"
            ],
            [
             0.7,
             "rgb(146,197,222)"
            ],
            [
             0.8,
             "rgb(67,147,195)"
            ],
            [
             0.9,
             "rgb(33,102,172)"
            ],
            [
             1,
             "rgb(5,48,97)"
            ]
           ],
           "sequential": [
            [
             0,
             "#440154"
            ],
            [
             0.1111111111111111,
             "#482878"
            ],
            [
             0.2222222222222222,
             "#3e4989"
            ],
            [
             0.3333333333333333,
             "#31688e"
            ],
            [
             0.4444444444444444,
             "#26828e"
            ],
            [
             0.5555555555555556,
             "#1f9e89"
            ],
            [
             0.6666666666666666,
             "#35b779"
            ],
            [
             0.7777777777777778,
             "#6ece58"
            ],
            [
             0.8888888888888888,
             "#b5de2b"
            ],
            [
             1,
             "#fde725"
            ]
           ],
           "sequentialminus": [
            [
             0,
             "#440154"
            ],
            [
             0.1111111111111111,
             "#482878"
            ],
            [
             0.2222222222222222,
             "#3e4989"
            ],
            [
             0.3333333333333333,
             "#31688e"
            ],
            [
             0.4444444444444444,
             "#26828e"
            ],
            [
             0.5555555555555556,
             "#1f9e89"
            ],
            [
             0.6666666666666666,
             "#35b779"
            ],
            [
             0.7777777777777778,
             "#6ece58"
            ],
            [
             0.8888888888888888,
             "#b5de2b"
            ],
            [
             1,
             "#fde725"
            ]
           ]
          },
          "colorway": [
           "#1F77B4",
           "#FF7F0E",
           "#2CA02C",
           "#D62728",
           "#9467BD",
           "#8C564B",
           "#E377C2",
           "#7F7F7F",
           "#BCBD22",
           "#17BECF"
          ],
          "font": {
           "color": "rgb(36,36,36)"
          },
          "geo": {
           "bgcolor": "white",
           "lakecolor": "white",
           "landcolor": "white",
           "showlakes": true,
           "showland": true,
           "subunitcolor": "white"
          },
          "hoverlabel": {
           "align": "left"
          },
          "hovermode": "closest",
          "mapbox": {
           "style": "light"
          },
          "paper_bgcolor": "white",
          "plot_bgcolor": "white",
          "polar": {
           "angularaxis": {
            "gridcolor": "rgb(232,232,232)",
            "linecolor": "rgb(36,36,36)",
            "showgrid": false,
            "showline": true,
            "ticks": "outside"
           },
           "bgcolor": "white",
           "radialaxis": {
            "gridcolor": "rgb(232,232,232)",
            "linecolor": "rgb(36,36,36)",
            "showgrid": false,
            "showline": true,
            "ticks": "outside"
           }
          },
          "scene": {
           "xaxis": {
            "backgroundcolor": "white",
            "gridcolor": "rgb(232,232,232)",
            "gridwidth": 2,
            "linecolor": "rgb(36,36,36)",
            "showbackground": true,
            "showgrid": false,
            "showline": true,
            "ticks": "outside",
            "zeroline": false,
            "zerolinecolor": "rgb(36,36,36)"
           },
           "yaxis": {
            "backgroundcolor": "white",
            "gridcolor": "rgb(232,232,232)",
            "gridwidth": 2,
            "linecolor": "rgb(36,36,36)",
            "showbackground": true,
            "showgrid": false,
            "showline": true,
            "ticks": "outside",
            "zeroline": false,
            "zerolinecolor": "rgb(36,36,36)"
           },
           "zaxis": {
            "backgroundcolor": "white",
            "gridcolor": "rgb(232,232,232)",
            "gridwidth": 2,
            "linecolor": "rgb(36,36,36)",
            "showbackground": true,
            "showgrid": false,
            "showline": true,
            "ticks": "outside",
            "zeroline": false,
            "zerolinecolor": "rgb(36,36,36)"
           }
          },
          "shapedefaults": {
           "fillcolor": "black",
           "line": {
            "width": 0
           },
           "opacity": 0.3
          },
          "ternary": {
           "aaxis": {
            "gridcolor": "rgb(232,232,232)",
            "linecolor": "rgb(36,36,36)",
            "showgrid": false,
            "showline": true,
            "ticks": "outside"
           },
           "baxis": {
            "gridcolor": "rgb(232,232,232)",
            "linecolor": "rgb(36,36,36)",
            "showgrid": false,
            "showline": true,
            "ticks": "outside"
           },
           "bgcolor": "white",
           "caxis": {
            "gridcolor": "rgb(232,232,232)",
            "linecolor": "rgb(36,36,36)",
            "showgrid": false,
            "showline": true,
            "ticks": "outside"
           }
          },
          "title": {
           "x": 0.05
          },
          "xaxis": {
           "automargin": true,
           "gridcolor": "rgb(232,232,232)",
           "linecolor": "rgb(36,36,36)",
           "showgrid": false,
           "showline": true,
           "ticks": "outside",
           "title": {
            "standoff": 15
           },
           "zeroline": false,
           "zerolinecolor": "rgb(36,36,36)"
          },
          "yaxis": {
           "automargin": true,
           "gridcolor": "rgb(232,232,232)",
           "linecolor": "rgb(36,36,36)",
           "showgrid": false,
           "showline": true,
           "ticks": "outside",
           "title": {
            "standoff": 15
           },
           "zeroline": false,
           "zerolinecolor": "rgb(36,36,36)"
          }
         }
        },
        "xaxis": {
         "anchor": "y",
         "domain": [
          0,
          1
         ],
         "showgrid": true,
         "title": {
          "text": "Energy Grade"
         }
        },
        "yaxis": {
         "anchor": "x",
         "domain": [
          0,
          1
         ],
         "title": {
          "text": "count"
         }
        }
       }
      }
     },
     "metadata": {},
     "output_type": "display_data"
    }
   ],
   "source": [
    "df = data.energy_grade.value_counts().reset_index()\n",
    "fig = px.bar(\n",
    "    data_frame=df,\n",
    "    x=\"energy_grade\",\n",
    "    y=\"count\",\n",
    "    template=\"simple_white\",\n",
    "    hover_data={\n",
    "        \"energy_grade\":False,\n",
    "        \"count\": \":.0f\",\n",
    "        },\n",
    "    hover_name=\"energy_grade\",\n",
    "    labels=dict(energy_grade=\"Energy Grade\"),\n",
    ")\n",
    "fig.update_traces(marker_color='#e9c46a')\n",
    "fig.update_xaxes(showgrid=True)\n",
    "fig.show()"
   ]
  },
  {
   "cell_type": "code",
   "execution_count": 163,
   "metadata": {},
   "outputs": [
    {
     "data": {
      "application/vnd.plotly.v1+json": {
       "config": {
        "plotlyServerURL": "https://plot.ly"
       },
       "data": [
        {
         "hovertemplate": "<b>%{hovertext}</b><br><br>count=%{y:.0f}<extra></extra>",
         "hovertext": {
          "bdata": "AAAAAADonEAAAAAAADidQAAAAAAAYJ1AAAAAAACInUAAAAAAALCdQAAAAAAA2J1AAAAAAAAAnkAAAAAAACieQAAAAAAAUJ5AAAAAAAB4nkAAAAAAAKCeQAAAAAAAyJ5AAAAAAADwnkAAAAAAABifQAAAAAAAQJ9AAAAAAABon0AAAAAAAJCfQAAAAAAAuJ9A",
          "dtype": "f8"
         },
         "legendgroup": "",
         "marker": {
          "color": "#e9c46a",
          "pattern": {
           "shape": ""
          }
         },
         "name": "",
         "orientation": "v",
         "showlegend": false,
         "textposition": "auto",
         "type": "bar",
         "x": {
          "bdata": "OgdOB1gHYgdsB3YHgAeKB5QHngeoB7IHvAfGB9AH2gfkB+4H",
          "dtype": "i2"
         },
         "xaxis": "x",
         "y": {
          "bdata": "AwACAAEACQATAEoAMADFAPgArQDaAi8CIgJuARABSQHVAQEA",
          "dtype": "i2"
         },
         "yaxis": "y"
        }
       ],
       "layout": {
        "barmode": "relative",
        "legend": {
         "tracegroupgap": 0
        },
        "margin": {
         "t": 60
        },
        "template": {
         "data": {
          "bar": [
           {
            "error_x": {
             "color": "rgb(36,36,36)"
            },
            "error_y": {
             "color": "rgb(36,36,36)"
            },
            "marker": {
             "line": {
              "color": "white",
              "width": 0.5
             },
             "pattern": {
              "fillmode": "overlay",
              "size": 10,
              "solidity": 0.2
             }
            },
            "type": "bar"
           }
          ],
          "barpolar": [
           {
            "marker": {
             "line": {
              "color": "white",
              "width": 0.5
             },
             "pattern": {
              "fillmode": "overlay",
              "size": 10,
              "solidity": 0.2
             }
            },
            "type": "barpolar"
           }
          ],
          "carpet": [
           {
            "aaxis": {
             "endlinecolor": "rgb(36,36,36)",
             "gridcolor": "white",
             "linecolor": "white",
             "minorgridcolor": "white",
             "startlinecolor": "rgb(36,36,36)"
            },
            "baxis": {
             "endlinecolor": "rgb(36,36,36)",
             "gridcolor": "white",
             "linecolor": "white",
             "minorgridcolor": "white",
             "startlinecolor": "rgb(36,36,36)"
            },
            "type": "carpet"
           }
          ],
          "choropleth": [
           {
            "colorbar": {
             "outlinewidth": 1,
             "tickcolor": "rgb(36,36,36)",
             "ticks": "outside"
            },
            "type": "choropleth"
           }
          ],
          "contour": [
           {
            "colorbar": {
             "outlinewidth": 1,
             "tickcolor": "rgb(36,36,36)",
             "ticks": "outside"
            },
            "colorscale": [
             [
              0,
              "#440154"
             ],
             [
              0.1111111111111111,
              "#482878"
             ],
             [
              0.2222222222222222,
              "#3e4989"
             ],
             [
              0.3333333333333333,
              "#31688e"
             ],
             [
              0.4444444444444444,
              "#26828e"
             ],
             [
              0.5555555555555556,
              "#1f9e89"
             ],
             [
              0.6666666666666666,
              "#35b779"
             ],
             [
              0.7777777777777778,
              "#6ece58"
             ],
             [
              0.8888888888888888,
              "#b5de2b"
             ],
             [
              1,
              "#fde725"
             ]
            ],
            "type": "contour"
           }
          ],
          "contourcarpet": [
           {
            "colorbar": {
             "outlinewidth": 1,
             "tickcolor": "rgb(36,36,36)",
             "ticks": "outside"
            },
            "type": "contourcarpet"
           }
          ],
          "heatmap": [
           {
            "colorbar": {
             "outlinewidth": 1,
             "tickcolor": "rgb(36,36,36)",
             "ticks": "outside"
            },
            "colorscale": [
             [
              0,
              "#440154"
             ],
             [
              0.1111111111111111,
              "#482878"
             ],
             [
              0.2222222222222222,
              "#3e4989"
             ],
             [
              0.3333333333333333,
              "#31688e"
             ],
             [
              0.4444444444444444,
              "#26828e"
             ],
             [
              0.5555555555555556,
              "#1f9e89"
             ],
             [
              0.6666666666666666,
              "#35b779"
             ],
             [
              0.7777777777777778,
              "#6ece58"
             ],
             [
              0.8888888888888888,
              "#b5de2b"
             ],
             [
              1,
              "#fde725"
             ]
            ],
            "type": "heatmap"
           }
          ],
          "histogram": [
           {
            "marker": {
             "line": {
              "color": "white",
              "width": 0.6
             }
            },
            "type": "histogram"
           }
          ],
          "histogram2d": [
           {
            "colorbar": {
             "outlinewidth": 1,
             "tickcolor": "rgb(36,36,36)",
             "ticks": "outside"
            },
            "colorscale": [
             [
              0,
              "#440154"
             ],
             [
              0.1111111111111111,
              "#482878"
             ],
             [
              0.2222222222222222,
              "#3e4989"
             ],
             [
              0.3333333333333333,
              "#31688e"
             ],
             [
              0.4444444444444444,
              "#26828e"
             ],
             [
              0.5555555555555556,
              "#1f9e89"
             ],
             [
              0.6666666666666666,
              "#35b779"
             ],
             [
              0.7777777777777778,
              "#6ece58"
             ],
             [
              0.8888888888888888,
              "#b5de2b"
             ],
             [
              1,
              "#fde725"
             ]
            ],
            "type": "histogram2d"
           }
          ],
          "histogram2dcontour": [
           {
            "colorbar": {
             "outlinewidth": 1,
             "tickcolor": "rgb(36,36,36)",
             "ticks": "outside"
            },
            "colorscale": [
             [
              0,
              "#440154"
             ],
             [
              0.1111111111111111,
              "#482878"
             ],
             [
              0.2222222222222222,
              "#3e4989"
             ],
             [
              0.3333333333333333,
              "#31688e"
             ],
             [
              0.4444444444444444,
              "#26828e"
             ],
             [
              0.5555555555555556,
              "#1f9e89"
             ],
             [
              0.6666666666666666,
              "#35b779"
             ],
             [
              0.7777777777777778,
              "#6ece58"
             ],
             [
              0.8888888888888888,
              "#b5de2b"
             ],
             [
              1,
              "#fde725"
             ]
            ],
            "type": "histogram2dcontour"
           }
          ],
          "mesh3d": [
           {
            "colorbar": {
             "outlinewidth": 1,
             "tickcolor": "rgb(36,36,36)",
             "ticks": "outside"
            },
            "type": "mesh3d"
           }
          ],
          "parcoords": [
           {
            "line": {
             "colorbar": {
              "outlinewidth": 1,
              "tickcolor": "rgb(36,36,36)",
              "ticks": "outside"
             }
            },
            "type": "parcoords"
           }
          ],
          "pie": [
           {
            "automargin": true,
            "type": "pie"
           }
          ],
          "scatter": [
           {
            "fillpattern": {
             "fillmode": "overlay",
             "size": 10,
             "solidity": 0.2
            },
            "type": "scatter"
           }
          ],
          "scatter3d": [
           {
            "line": {
             "colorbar": {
              "outlinewidth": 1,
              "tickcolor": "rgb(36,36,36)",
              "ticks": "outside"
             }
            },
            "marker": {
             "colorbar": {
              "outlinewidth": 1,
              "tickcolor": "rgb(36,36,36)",
              "ticks": "outside"
             }
            },
            "type": "scatter3d"
           }
          ],
          "scattercarpet": [
           {
            "marker": {
             "colorbar": {
              "outlinewidth": 1,
              "tickcolor": "rgb(36,36,36)",
              "ticks": "outside"
             }
            },
            "type": "scattercarpet"
           }
          ],
          "scattergeo": [
           {
            "marker": {
             "colorbar": {
              "outlinewidth": 1,
              "tickcolor": "rgb(36,36,36)",
              "ticks": "outside"
             }
            },
            "type": "scattergeo"
           }
          ],
          "scattergl": [
           {
            "marker": {
             "colorbar": {
              "outlinewidth": 1,
              "tickcolor": "rgb(36,36,36)",
              "ticks": "outside"
             }
            },
            "type": "scattergl"
           }
          ],
          "scattermap": [
           {
            "marker": {
             "colorbar": {
              "outlinewidth": 1,
              "tickcolor": "rgb(36,36,36)",
              "ticks": "outside"
             }
            },
            "type": "scattermap"
           }
          ],
          "scattermapbox": [
           {
            "marker": {
             "colorbar": {
              "outlinewidth": 1,
              "tickcolor": "rgb(36,36,36)",
              "ticks": "outside"
             }
            },
            "type": "scattermapbox"
           }
          ],
          "scatterpolar": [
           {
            "marker": {
             "colorbar": {
              "outlinewidth": 1,
              "tickcolor": "rgb(36,36,36)",
              "ticks": "outside"
             }
            },
            "type": "scatterpolar"
           }
          ],
          "scatterpolargl": [
           {
            "marker": {
             "colorbar": {
              "outlinewidth": 1,
              "tickcolor": "rgb(36,36,36)",
              "ticks": "outside"
             }
            },
            "type": "scatterpolargl"
           }
          ],
          "scatterternary": [
           {
            "marker": {
             "colorbar": {
              "outlinewidth": 1,
              "tickcolor": "rgb(36,36,36)",
              "ticks": "outside"
             }
            },
            "type": "scatterternary"
           }
          ],
          "surface": [
           {
            "colorbar": {
             "outlinewidth": 1,
             "tickcolor": "rgb(36,36,36)",
             "ticks": "outside"
            },
            "colorscale": [
             [
              0,
              "#440154"
             ],
             [
              0.1111111111111111,
              "#482878"
             ],
             [
              0.2222222222222222,
              "#3e4989"
             ],
             [
              0.3333333333333333,
              "#31688e"
             ],
             [
              0.4444444444444444,
              "#26828e"
             ],
             [
              0.5555555555555556,
              "#1f9e89"
             ],
             [
              0.6666666666666666,
              "#35b779"
             ],
             [
              0.7777777777777778,
              "#6ece58"
             ],
             [
              0.8888888888888888,
              "#b5de2b"
             ],
             [
              1,
              "#fde725"
             ]
            ],
            "type": "surface"
           }
          ],
          "table": [
           {
            "cells": {
             "fill": {
              "color": "rgb(237,237,237)"
             },
             "line": {
              "color": "white"
             }
            },
            "header": {
             "fill": {
              "color": "rgb(217,217,217)"
             },
             "line": {
              "color": "white"
             }
            },
            "type": "table"
           }
          ]
         },
         "layout": {
          "annotationdefaults": {
           "arrowhead": 0,
           "arrowwidth": 1
          },
          "autotypenumbers": "strict",
          "coloraxis": {
           "colorbar": {
            "outlinewidth": 1,
            "tickcolor": "rgb(36,36,36)",
            "ticks": "outside"
           }
          },
          "colorscale": {
           "diverging": [
            [
             0,
             "rgb(103,0,31)"
            ],
            [
             0.1,
             "rgb(178,24,43)"
            ],
            [
             0.2,
             "rgb(214,96,77)"
            ],
            [
             0.3,
             "rgb(244,165,130)"
            ],
            [
             0.4,
             "rgb(253,219,199)"
            ],
            [
             0.5,
             "rgb(247,247,247)"
            ],
            [
             0.6,
             "rgb(209,229,240)"
            ],
            [
             0.7,
             "rgb(146,197,222)"
            ],
            [
             0.8,
             "rgb(67,147,195)"
            ],
            [
             0.9,
             "rgb(33,102,172)"
            ],
            [
             1,
             "rgb(5,48,97)"
            ]
           ],
           "sequential": [
            [
             0,
             "#440154"
            ],
            [
             0.1111111111111111,
             "#482878"
            ],
            [
             0.2222222222222222,
             "#3e4989"
            ],
            [
             0.3333333333333333,
             "#31688e"
            ],
            [
             0.4444444444444444,
             "#26828e"
            ],
            [
             0.5555555555555556,
             "#1f9e89"
            ],
            [
             0.6666666666666666,
             "#35b779"
            ],
            [
             0.7777777777777778,
             "#6ece58"
            ],
            [
             0.8888888888888888,
             "#b5de2b"
            ],
            [
             1,
             "#fde725"
            ]
           ],
           "sequentialminus": [
            [
             0,
             "#440154"
            ],
            [
             0.1111111111111111,
             "#482878"
            ],
            [
             0.2222222222222222,
             "#3e4989"
            ],
            [
             0.3333333333333333,
             "#31688e"
            ],
            [
             0.4444444444444444,
             "#26828e"
            ],
            [
             0.5555555555555556,
             "#1f9e89"
            ],
            [
             0.6666666666666666,
             "#35b779"
            ],
            [
             0.7777777777777778,
             "#6ece58"
            ],
            [
             0.8888888888888888,
             "#b5de2b"
            ],
            [
             1,
             "#fde725"
            ]
           ]
          },
          "colorway": [
           "#1F77B4",
           "#FF7F0E",
           "#2CA02C",
           "#D62728",
           "#9467BD",
           "#8C564B",
           "#E377C2",
           "#7F7F7F",
           "#BCBD22",
           "#17BECF"
          ],
          "font": {
           "color": "rgb(36,36,36)"
          },
          "geo": {
           "bgcolor": "white",
           "lakecolor": "white",
           "landcolor": "white",
           "showlakes": true,
           "showland": true,
           "subunitcolor": "white"
          },
          "hoverlabel": {
           "align": "left"
          },
          "hovermode": "closest",
          "mapbox": {
           "style": "light"
          },
          "paper_bgcolor": "white",
          "plot_bgcolor": "white",
          "polar": {
           "angularaxis": {
            "gridcolor": "rgb(232,232,232)",
            "linecolor": "rgb(36,36,36)",
            "showgrid": false,
            "showline": true,
            "ticks": "outside"
           },
           "bgcolor": "white",
           "radialaxis": {
            "gridcolor": "rgb(232,232,232)",
            "linecolor": "rgb(36,36,36)",
            "showgrid": false,
            "showline": true,
            "ticks": "outside"
           }
          },
          "scene": {
           "xaxis": {
            "backgroundcolor": "white",
            "gridcolor": "rgb(232,232,232)",
            "gridwidth": 2,
            "linecolor": "rgb(36,36,36)",
            "showbackground": true,
            "showgrid": false,
            "showline": true,
            "ticks": "outside",
            "zeroline": false,
            "zerolinecolor": "rgb(36,36,36)"
           },
           "yaxis": {
            "backgroundcolor": "white",
            "gridcolor": "rgb(232,232,232)",
            "gridwidth": 2,
            "linecolor": "rgb(36,36,36)",
            "showbackground": true,
            "showgrid": false,
            "showline": true,
            "ticks": "outside",
            "zeroline": false,
            "zerolinecolor": "rgb(36,36,36)"
           },
           "zaxis": {
            "backgroundcolor": "white",
            "gridcolor": "rgb(232,232,232)",
            "gridwidth": 2,
            "linecolor": "rgb(36,36,36)",
            "showbackground": true,
            "showgrid": false,
            "showline": true,
            "ticks": "outside",
            "zeroline": false,
            "zerolinecolor": "rgb(36,36,36)"
           }
          },
          "shapedefaults": {
           "fillcolor": "black",
           "line": {
            "width": 0
           },
           "opacity": 0.3
          },
          "ternary": {
           "aaxis": {
            "gridcolor": "rgb(232,232,232)",
            "linecolor": "rgb(36,36,36)",
            "showgrid": false,
            "showline": true,
            "ticks": "outside"
           },
           "baxis": {
            "gridcolor": "rgb(232,232,232)",
            "linecolor": "rgb(36,36,36)",
            "showgrid": false,
            "showline": true,
            "ticks": "outside"
           },
           "bgcolor": "white",
           "caxis": {
            "gridcolor": "rgb(232,232,232)",
            "linecolor": "rgb(36,36,36)",
            "showgrid": false,
            "showline": true,
            "ticks": "outside"
           }
          },
          "title": {
           "x": 0.05
          },
          "xaxis": {
           "automargin": true,
           "gridcolor": "rgb(232,232,232)",
           "linecolor": "rgb(36,36,36)",
           "showgrid": false,
           "showline": true,
           "ticks": "outside",
           "title": {
            "standoff": 15
           },
           "zeroline": false,
           "zerolinecolor": "rgb(36,36,36)"
          },
          "yaxis": {
           "automargin": true,
           "gridcolor": "rgb(232,232,232)",
           "linecolor": "rgb(36,36,36)",
           "showgrid": false,
           "showline": true,
           "ticks": "outside",
           "title": {
            "standoff": 15
           },
           "zeroline": false,
           "zerolinecolor": "rgb(36,36,36)"
          }
         }
        },
        "xaxis": {
         "anchor": "y",
         "domain": [
          0,
          1
         ],
         "showgrid": true,
         "title": {
          "text": "Construction decade"
         }
        },
        "yaxis": {
         "anchor": "x",
         "domain": [
          0,
          1
         ],
         "title": {
          "text": "count"
         }
        }
       }
      }
     },
     "metadata": {},
     "output_type": "display_data"
    }
   ],
   "source": [
    "df = data.construction_year.round(-1).value_counts().sort_index().reset_index()\n",
    "fig = px.bar(\n",
    "    data_frame=df,\n",
    "    y=\"count\",\n",
    "    x=\"construction_year\",\n",
    "    template=\"simple_white\",\n",
    "    hover_data={\n",
    "        \"construction_year\":False,\n",
    "        \"count\": \":.0f\",\n",
    "        },\n",
    "    hover_name=\"construction_year\",\n",
    "    labels=dict(construction_year=\"Construction decade\"),\n",
    ")\n",
    "fig.update_traces(marker_color='#e9c46a')\n",
    "fig.update_xaxes(showgrid=True)\n",
    "fig.show()"
   ]
  },
  {
   "cell_type": "code",
   "execution_count": 164,
   "metadata": {},
   "outputs": [
    {
     "data": {
      "text/html": [
       "<div>\n",
       "<style scoped>\n",
       "    .dataframe tbody tr th:only-of-type {\n",
       "        vertical-align: middle;\n",
       "    }\n",
       "\n",
       "    .dataframe tbody tr th {\n",
       "        vertical-align: top;\n",
       "    }\n",
       "\n",
       "    .dataframe thead th {\n",
       "        text-align: right;\n",
       "    }\n",
       "</style>\n",
       "<table border=\"1\" class=\"dataframe\">\n",
       "  <thead>\n",
       "    <tr style=\"text-align: right;\">\n",
       "      <th></th>\n",
       "      <th>construction_year</th>\n",
       "      <th>count</th>\n",
       "    </tr>\n",
       "  </thead>\n",
       "  <tbody>\n",
       "    <tr>\n",
       "      <th>0</th>\n",
       "      <td>1850</td>\n",
       "      <td>3</td>\n",
       "    </tr>\n",
       "    <tr>\n",
       "      <th>1</th>\n",
       "      <td>1870</td>\n",
       "      <td>2</td>\n",
       "    </tr>\n",
       "    <tr>\n",
       "      <th>2</th>\n",
       "      <td>1880</td>\n",
       "      <td>1</td>\n",
       "    </tr>\n",
       "    <tr>\n",
       "      <th>3</th>\n",
       "      <td>1890</td>\n",
       "      <td>9</td>\n",
       "    </tr>\n",
       "    <tr>\n",
       "      <th>4</th>\n",
       "      <td>1900</td>\n",
       "      <td>19</td>\n",
       "    </tr>\n",
       "    <tr>\n",
       "      <th>5</th>\n",
       "      <td>1910</td>\n",
       "      <td>74</td>\n",
       "    </tr>\n",
       "    <tr>\n",
       "      <th>6</th>\n",
       "      <td>1920</td>\n",
       "      <td>48</td>\n",
       "    </tr>\n",
       "    <tr>\n",
       "      <th>7</th>\n",
       "      <td>1930</td>\n",
       "      <td>197</td>\n",
       "    </tr>\n",
       "    <tr>\n",
       "      <th>8</th>\n",
       "      <td>1940</td>\n",
       "      <td>248</td>\n",
       "    </tr>\n",
       "    <tr>\n",
       "      <th>9</th>\n",
       "      <td>1950</td>\n",
       "      <td>173</td>\n",
       "    </tr>\n",
       "    <tr>\n",
       "      <th>10</th>\n",
       "      <td>1960</td>\n",
       "      <td>730</td>\n",
       "    </tr>\n",
       "    <tr>\n",
       "      <th>11</th>\n",
       "      <td>1970</td>\n",
       "      <td>559</td>\n",
       "    </tr>\n",
       "    <tr>\n",
       "      <th>12</th>\n",
       "      <td>1980</td>\n",
       "      <td>546</td>\n",
       "    </tr>\n",
       "    <tr>\n",
       "      <th>13</th>\n",
       "      <td>1990</td>\n",
       "      <td>366</td>\n",
       "    </tr>\n",
       "    <tr>\n",
       "      <th>14</th>\n",
       "      <td>2000</td>\n",
       "      <td>272</td>\n",
       "    </tr>\n",
       "    <tr>\n",
       "      <th>15</th>\n",
       "      <td>2010</td>\n",
       "      <td>329</td>\n",
       "    </tr>\n",
       "    <tr>\n",
       "      <th>16</th>\n",
       "      <td>2020</td>\n",
       "      <td>469</td>\n",
       "    </tr>\n",
       "    <tr>\n",
       "      <th>17</th>\n",
       "      <td>2030</td>\n",
       "      <td>1</td>\n",
       "    </tr>\n",
       "  </tbody>\n",
       "</table>\n",
       "</div>"
      ],
      "text/plain": [
       "    construction_year  count\n",
       "0                1850      3\n",
       "1                1870      2\n",
       "2                1880      1\n",
       "3                1890      9\n",
       "4                1900     19\n",
       "5                1910     74\n",
       "6                1920     48\n",
       "7                1930    197\n",
       "8                1940    248\n",
       "9                1950    173\n",
       "10               1960    730\n",
       "11               1970    559\n",
       "12               1980    546\n",
       "13               1990    366\n",
       "14               2000    272\n",
       "15               2010    329\n",
       "16               2020    469\n",
       "17               2030      1"
      ]
     },
     "execution_count": 164,
     "metadata": {},
     "output_type": "execute_result"
    }
   ],
   "source": [
    "df"
   ]
  },
  {
   "cell_type": "code",
   "execution_count": 155,
   "metadata": {},
   "outputs": [
    {
     "name": "stdout",
     "output_type": "stream",
     "text": [
      "<class 'pandas.core.frame.DataFrame'>\n",
      "RangeIndex: 54 entries, 0 to 53\n",
      "Data columns (total 3 columns):\n",
      " #   Column             Non-Null Count  Dtype   \n",
      "---  ------             --------------  -----   \n",
      " 0   type               54 non-null     object  \n",
      " 1   construction_year  54 non-null     category\n",
      " 2   value              54 non-null     int64   \n",
      "dtypes: category(1), int64(1), object(1)\n",
      "memory usage: 1.7+ KB\n"
     ]
    }
   ],
   "source": [
    "df.info()"
   ]
  },
  {
   "cell_type": "code",
   "execution_count": 159,
   "metadata": {},
   "outputs": [
    {
     "data": {
      "application/vnd.plotly.v1+json": {
       "config": {
        "plotlyServerURL": "https://plot.ly"
       },
       "data": [
        {
         "alignmentgroup": "True",
         "bingroup": "x",
         "histfunc": "sum",
         "hovertemplate": "Building type=Kerrostalo<br>Construction Decade=%{x}<br>sum of Count=%{y}<extra></extra>",
         "legendgroup": "Kerrostalo",
         "marker": {
          "color": "#e9c46a",
          "pattern": {
           "shape": ""
          }
         },
         "name": "Kerrostalo",
         "offsetgroup": "Kerrostalo",
         "orientation": "v",
         "showlegend": true,
         "type": "histogram",
         "x": [
          "1850",
          "1870",
          "1880",
          "1890",
          "1900",
          "1910",
          "1920",
          "1930",
          "1940",
          "1950",
          "1960",
          "1970",
          "1980",
          "1990",
          "2000",
          "2010",
          "2020",
          "2030"
         ],
         "xaxis": "x",
         "y": {
          "bdata": "AwACAAEACQATAEoALgDDAPYAowDDAvoBawHFAKcA6gBVAQEA",
          "dtype": "i2"
         },
         "yaxis": "y"
        },
        {
         "alignmentgroup": "True",
         "bingroup": "x",
         "histfunc": "sum",
         "hovertemplate": "Building type=Omakotitalo<br>Construction Decade=%{x}<br>sum of Count=%{y}<extra></extra>",
         "legendgroup": "Omakotitalo",
         "marker": {
          "color": "#264653",
          "pattern": {
           "shape": ""
          }
         },
         "name": "Omakotitalo",
         "offsetgroup": "Omakotitalo",
         "orientation": "v",
         "showlegend": true,
         "type": "histogram",
         "x": [
          "1850",
          "1870",
          "1880",
          "1890",
          "1900",
          "1910",
          "1920",
          "1930",
          "1940",
          "1950",
          "1960",
          "1970",
          "1980",
          "1990",
          "2000",
          "2010",
          "2020",
          "2030"
         ],
         "xaxis": "x",
         "y": {
          "bdata": "AAAAAAAAAAECBwMDCwwZGBUA",
          "dtype": "i1"
         },
         "yaxis": "y"
        },
        {
         "alignmentgroup": "True",
         "bingroup": "x",
         "histfunc": "sum",
         "hovertemplate": "Building type=Rivitalo<br>Construction Decade=%{x}<br>sum of Count=%{y}<extra></extra>",
         "legendgroup": "Rivitalo",
         "marker": {
          "color": "#e76f51",
          "pattern": {
           "shape": ""
          }
         },
         "name": "Rivitalo",
         "offsetgroup": "Rivitalo",
         "orientation": "v",
         "showlegend": true,
         "type": "histogram",
         "x": [
          "1850",
          "1870",
          "1880",
          "1890",
          "1900",
          "1910",
          "1920",
          "1930",
          "1940",
          "1950",
          "1960",
          "1970",
          "1980",
          "1990",
          "2000",
          "2010",
          "2020",
          "2030"
         ],
         "xaxis": "x",
         "y": {
          "bdata": "AAAAAAAAAAAAAAAAAgABAAAAAwAUADIArACdAFAARwBrAAAA",
          "dtype": "i2"
         },
         "yaxis": "y"
        }
       ],
       "layout": {
        "barmode": "group",
        "legend": {
         "title": {
          "text": "Building type"
         },
         "tracegroupgap": 0
        },
        "margin": {
         "t": 60
        },
        "template": {
         "data": {
          "bar": [
           {
            "error_x": {
             "color": "rgb(36,36,36)"
            },
            "error_y": {
             "color": "rgb(36,36,36)"
            },
            "marker": {
             "line": {
              "color": "white",
              "width": 0.5
             },
             "pattern": {
              "fillmode": "overlay",
              "size": 10,
              "solidity": 0.2
             }
            },
            "type": "bar"
           }
          ],
          "barpolar": [
           {
            "marker": {
             "line": {
              "color": "white",
              "width": 0.5
             },
             "pattern": {
              "fillmode": "overlay",
              "size": 10,
              "solidity": 0.2
             }
            },
            "type": "barpolar"
           }
          ],
          "carpet": [
           {
            "aaxis": {
             "endlinecolor": "rgb(36,36,36)",
             "gridcolor": "white",
             "linecolor": "white",
             "minorgridcolor": "white",
             "startlinecolor": "rgb(36,36,36)"
            },
            "baxis": {
             "endlinecolor": "rgb(36,36,36)",
             "gridcolor": "white",
             "linecolor": "white",
             "minorgridcolor": "white",
             "startlinecolor": "rgb(36,36,36)"
            },
            "type": "carpet"
           }
          ],
          "choropleth": [
           {
            "colorbar": {
             "outlinewidth": 1,
             "tickcolor": "rgb(36,36,36)",
             "ticks": "outside"
            },
            "type": "choropleth"
           }
          ],
          "contour": [
           {
            "colorbar": {
             "outlinewidth": 1,
             "tickcolor": "rgb(36,36,36)",
             "ticks": "outside"
            },
            "colorscale": [
             [
              0,
              "#440154"
             ],
             [
              0.1111111111111111,
              "#482878"
             ],
             [
              0.2222222222222222,
              "#3e4989"
             ],
             [
              0.3333333333333333,
              "#31688e"
             ],
             [
              0.4444444444444444,
              "#26828e"
             ],
             [
              0.5555555555555556,
              "#1f9e89"
             ],
             [
              0.6666666666666666,
              "#35b779"
             ],
             [
              0.7777777777777778,
              "#6ece58"
             ],
             [
              0.8888888888888888,
              "#b5de2b"
             ],
             [
              1,
              "#fde725"
             ]
            ],
            "type": "contour"
           }
          ],
          "contourcarpet": [
           {
            "colorbar": {
             "outlinewidth": 1,
             "tickcolor": "rgb(36,36,36)",
             "ticks": "outside"
            },
            "type": "contourcarpet"
           }
          ],
          "heatmap": [
           {
            "colorbar": {
             "outlinewidth": 1,
             "tickcolor": "rgb(36,36,36)",
             "ticks": "outside"
            },
            "colorscale": [
             [
              0,
              "#440154"
             ],
             [
              0.1111111111111111,
              "#482878"
             ],
             [
              0.2222222222222222,
              "#3e4989"
             ],
             [
              0.3333333333333333,
              "#31688e"
             ],
             [
              0.4444444444444444,
              "#26828e"
             ],
             [
              0.5555555555555556,
              "#1f9e89"
             ],
             [
              0.6666666666666666,
              "#35b779"
             ],
             [
              0.7777777777777778,
              "#6ece58"
             ],
             [
              0.8888888888888888,
              "#b5de2b"
             ],
             [
              1,
              "#fde725"
             ]
            ],
            "type": "heatmap"
           }
          ],
          "histogram": [
           {
            "marker": {
             "line": {
              "color": "white",
              "width": 0.6
             }
            },
            "type": "histogram"
           }
          ],
          "histogram2d": [
           {
            "colorbar": {
             "outlinewidth": 1,
             "tickcolor": "rgb(36,36,36)",
             "ticks": "outside"
            },
            "colorscale": [
             [
              0,
              "#440154"
             ],
             [
              0.1111111111111111,
              "#482878"
             ],
             [
              0.2222222222222222,
              "#3e4989"
             ],
             [
              0.3333333333333333,
              "#31688e"
             ],
             [
              0.4444444444444444,
              "#26828e"
             ],
             [
              0.5555555555555556,
              "#1f9e89"
             ],
             [
              0.6666666666666666,
              "#35b779"
             ],
             [
              0.7777777777777778,
              "#6ece58"
             ],
             [
              0.8888888888888888,
              "#b5de2b"
             ],
             [
              1,
              "#fde725"
             ]
            ],
            "type": "histogram2d"
           }
          ],
          "histogram2dcontour": [
           {
            "colorbar": {
             "outlinewidth": 1,
             "tickcolor": "rgb(36,36,36)",
             "ticks": "outside"
            },
            "colorscale": [
             [
              0,
              "#440154"
             ],
             [
              0.1111111111111111,
              "#482878"
             ],
             [
              0.2222222222222222,
              "#3e4989"
             ],
             [
              0.3333333333333333,
              "#31688e"
             ],
             [
              0.4444444444444444,
              "#26828e"
             ],
             [
              0.5555555555555556,
              "#1f9e89"
             ],
             [
              0.6666666666666666,
              "#35b779"
             ],
             [
              0.7777777777777778,
              "#6ece58"
             ],
             [
              0.8888888888888888,
              "#b5de2b"
             ],
             [
              1,
              "#fde725"
             ]
            ],
            "type": "histogram2dcontour"
           }
          ],
          "mesh3d": [
           {
            "colorbar": {
             "outlinewidth": 1,
             "tickcolor": "rgb(36,36,36)",
             "ticks": "outside"
            },
            "type": "mesh3d"
           }
          ],
          "parcoords": [
           {
            "line": {
             "colorbar": {
              "outlinewidth": 1,
              "tickcolor": "rgb(36,36,36)",
              "ticks": "outside"
             }
            },
            "type": "parcoords"
           }
          ],
          "pie": [
           {
            "automargin": true,
            "type": "pie"
           }
          ],
          "scatter": [
           {
            "fillpattern": {
             "fillmode": "overlay",
             "size": 10,
             "solidity": 0.2
            },
            "type": "scatter"
           }
          ],
          "scatter3d": [
           {
            "line": {
             "colorbar": {
              "outlinewidth": 1,
              "tickcolor": "rgb(36,36,36)",
              "ticks": "outside"
             }
            },
            "marker": {
             "colorbar": {
              "outlinewidth": 1,
              "tickcolor": "rgb(36,36,36)",
              "ticks": "outside"
             }
            },
            "type": "scatter3d"
           }
          ],
          "scattercarpet": [
           {
            "marker": {
             "colorbar": {
              "outlinewidth": 1,
              "tickcolor": "rgb(36,36,36)",
              "ticks": "outside"
             }
            },
            "type": "scattercarpet"
           }
          ],
          "scattergeo": [
           {
            "marker": {
             "colorbar": {
              "outlinewidth": 1,
              "tickcolor": "rgb(36,36,36)",
              "ticks": "outside"
             }
            },
            "type": "scattergeo"
           }
          ],
          "scattergl": [
           {
            "marker": {
             "colorbar": {
              "outlinewidth": 1,
              "tickcolor": "rgb(36,36,36)",
              "ticks": "outside"
             }
            },
            "type": "scattergl"
           }
          ],
          "scattermap": [
           {
            "marker": {
             "colorbar": {
              "outlinewidth": 1,
              "tickcolor": "rgb(36,36,36)",
              "ticks": "outside"
             }
            },
            "type": "scattermap"
           }
          ],
          "scattermapbox": [
           {
            "marker": {
             "colorbar": {
              "outlinewidth": 1,
              "tickcolor": "rgb(36,36,36)",
              "ticks": "outside"
             }
            },
            "type": "scattermapbox"
           }
          ],
          "scatterpolar": [
           {
            "marker": {
             "colorbar": {
              "outlinewidth": 1,
              "tickcolor": "rgb(36,36,36)",
              "ticks": "outside"
             }
            },
            "type": "scatterpolar"
           }
          ],
          "scatterpolargl": [
           {
            "marker": {
             "colorbar": {
              "outlinewidth": 1,
              "tickcolor": "rgb(36,36,36)",
              "ticks": "outside"
             }
            },
            "type": "scatterpolargl"
           }
          ],
          "scatterternary": [
           {
            "marker": {
             "colorbar": {
              "outlinewidth": 1,
              "tickcolor": "rgb(36,36,36)",
              "ticks": "outside"
             }
            },
            "type": "scatterternary"
           }
          ],
          "surface": [
           {
            "colorbar": {
             "outlinewidth": 1,
             "tickcolor": "rgb(36,36,36)",
             "ticks": "outside"
            },
            "colorscale": [
             [
              0,
              "#440154"
             ],
             [
              0.1111111111111111,
              "#482878"
             ],
             [
              0.2222222222222222,
              "#3e4989"
             ],
             [
              0.3333333333333333,
              "#31688e"
             ],
             [
              0.4444444444444444,
              "#26828e"
             ],
             [
              0.5555555555555556,
              "#1f9e89"
             ],
             [
              0.6666666666666666,
              "#35b779"
             ],
             [
              0.7777777777777778,
              "#6ece58"
             ],
             [
              0.8888888888888888,
              "#b5de2b"
             ],
             [
              1,
              "#fde725"
             ]
            ],
            "type": "surface"
           }
          ],
          "table": [
           {
            "cells": {
             "fill": {
              "color": "rgb(237,237,237)"
             },
             "line": {
              "color": "white"
             }
            },
            "header": {
             "fill": {
              "color": "rgb(217,217,217)"
             },
             "line": {
              "color": "white"
             }
            },
            "type": "table"
           }
          ]
         },
         "layout": {
          "annotationdefaults": {
           "arrowhead": 0,
           "arrowwidth": 1
          },
          "autotypenumbers": "strict",
          "coloraxis": {
           "colorbar": {
            "outlinewidth": 1,
            "tickcolor": "rgb(36,36,36)",
            "ticks": "outside"
           }
          },
          "colorscale": {
           "diverging": [
            [
             0,
             "rgb(103,0,31)"
            ],
            [
             0.1,
             "rgb(178,24,43)"
            ],
            [
             0.2,
             "rgb(214,96,77)"
            ],
            [
             0.3,
             "rgb(244,165,130)"
            ],
            [
             0.4,
             "rgb(253,219,199)"
            ],
            [
             0.5,
             "rgb(247,247,247)"
            ],
            [
             0.6,
             "rgb(209,229,240)"
            ],
            [
             0.7,
             "rgb(146,197,222)"
            ],
            [
             0.8,
             "rgb(67,147,195)"
            ],
            [
             0.9,
             "rgb(33,102,172)"
            ],
            [
             1,
             "rgb(5,48,97)"
            ]
           ],
           "sequential": [
            [
             0,
             "#440154"
            ],
            [
             0.1111111111111111,
             "#482878"
            ],
            [
             0.2222222222222222,
             "#3e4989"
            ],
            [
             0.3333333333333333,
             "#31688e"
            ],
            [
             0.4444444444444444,
             "#26828e"
            ],
            [
             0.5555555555555556,
             "#1f9e89"
            ],
            [
             0.6666666666666666,
             "#35b779"
            ],
            [
             0.7777777777777778,
             "#6ece58"
            ],
            [
             0.8888888888888888,
             "#b5de2b"
            ],
            [
             1,
             "#fde725"
            ]
           ],
           "sequentialminus": [
            [
             0,
             "#440154"
            ],
            [
             0.1111111111111111,
             "#482878"
            ],
            [
             0.2222222222222222,
             "#3e4989"
            ],
            [
             0.3333333333333333,
             "#31688e"
            ],
            [
             0.4444444444444444,
             "#26828e"
            ],
            [
             0.5555555555555556,
             "#1f9e89"
            ],
            [
             0.6666666666666666,
             "#35b779"
            ],
            [
             0.7777777777777778,
             "#6ece58"
            ],
            [
             0.8888888888888888,
             "#b5de2b"
            ],
            [
             1,
             "#fde725"
            ]
           ]
          },
          "colorway": [
           "#1F77B4",
           "#FF7F0E",
           "#2CA02C",
           "#D62728",
           "#9467BD",
           "#8C564B",
           "#E377C2",
           "#7F7F7F",
           "#BCBD22",
           "#17BECF"
          ],
          "font": {
           "color": "rgb(36,36,36)"
          },
          "geo": {
           "bgcolor": "white",
           "lakecolor": "white",
           "landcolor": "white",
           "showlakes": true,
           "showland": true,
           "subunitcolor": "white"
          },
          "hoverlabel": {
           "align": "left"
          },
          "hovermode": "closest",
          "mapbox": {
           "style": "light"
          },
          "paper_bgcolor": "white",
          "plot_bgcolor": "white",
          "polar": {
           "angularaxis": {
            "gridcolor": "rgb(232,232,232)",
            "linecolor": "rgb(36,36,36)",
            "showgrid": false,
            "showline": true,
            "ticks": "outside"
           },
           "bgcolor": "white",
           "radialaxis": {
            "gridcolor": "rgb(232,232,232)",
            "linecolor": "rgb(36,36,36)",
            "showgrid": false,
            "showline": true,
            "ticks": "outside"
           }
          },
          "scene": {
           "xaxis": {
            "backgroundcolor": "white",
            "gridcolor": "rgb(232,232,232)",
            "gridwidth": 2,
            "linecolor": "rgb(36,36,36)",
            "showbackground": true,
            "showgrid": false,
            "showline": true,
            "ticks": "outside",
            "zeroline": false,
            "zerolinecolor": "rgb(36,36,36)"
           },
           "yaxis": {
            "backgroundcolor": "white",
            "gridcolor": "rgb(232,232,232)",
            "gridwidth": 2,
            "linecolor": "rgb(36,36,36)",
            "showbackground": true,
            "showgrid": false,
            "showline": true,
            "ticks": "outside",
            "zeroline": false,
            "zerolinecolor": "rgb(36,36,36)"
           },
           "zaxis": {
            "backgroundcolor": "white",
            "gridcolor": "rgb(232,232,232)",
            "gridwidth": 2,
            "linecolor": "rgb(36,36,36)",
            "showbackground": true,
            "showgrid": false,
            "showline": true,
            "ticks": "outside",
            "zeroline": false,
            "zerolinecolor": "rgb(36,36,36)"
           }
          },
          "shapedefaults": {
           "fillcolor": "black",
           "line": {
            "width": 0
           },
           "opacity": 0.3
          },
          "ternary": {
           "aaxis": {
            "gridcolor": "rgb(232,232,232)",
            "linecolor": "rgb(36,36,36)",
            "showgrid": false,
            "showline": true,
            "ticks": "outside"
           },
           "baxis": {
            "gridcolor": "rgb(232,232,232)",
            "linecolor": "rgb(36,36,36)",
            "showgrid": false,
            "showline": true,
            "ticks": "outside"
           },
           "bgcolor": "white",
           "caxis": {
            "gridcolor": "rgb(232,232,232)",
            "linecolor": "rgb(36,36,36)",
            "showgrid": false,
            "showline": true,
            "ticks": "outside"
           }
          },
          "title": {
           "x": 0.05
          },
          "xaxis": {
           "automargin": true,
           "gridcolor": "rgb(232,232,232)",
           "linecolor": "rgb(36,36,36)",
           "showgrid": false,
           "showline": true,
           "ticks": "outside",
           "title": {
            "standoff": 15
           },
           "zeroline": false,
           "zerolinecolor": "rgb(36,36,36)"
          },
          "yaxis": {
           "automargin": true,
           "gridcolor": "rgb(232,232,232)",
           "linecolor": "rgb(36,36,36)",
           "showgrid": false,
           "showline": true,
           "ticks": "outside",
           "title": {
            "standoff": 15
           },
           "zeroline": false,
           "zerolinecolor": "rgb(36,36,36)"
          }
         }
        },
        "xaxis": {
         "anchor": "y",
         "domain": [
          0,
          1
         ],
         "showgrid": true,
         "title": {
          "text": "Construction Decade"
         }
        },
        "yaxis": {
         "anchor": "x",
         "domain": [
          0,
          1
         ],
         "title": {
          "text": "sum of Count"
         }
        }
       }
      }
     },
     "metadata": {},
     "output_type": "display_data"
    }
   ],
   "source": [
    "df = pd.crosstab(\n",
    "    index=data.type,\n",
    "    columns=data.construction_year.round(decimals=-1),\n",
    ").reset_index().melt(id_vars=\"type\")\n",
    "df[\"construction_year\"] = df[\"construction_year\"].astype(\"str\")\n",
    "fig = px.histogram(\n",
    "    data_frame=df,\n",
    "    y=\"value\",\n",
    "    x=\"construction_year\",\n",
    "    color=\"type\",\n",
    "    template=\"simple_white\",\n",
    "    barmode='group',\n",
    "    color_discrete_map={\n",
    "        \"Kerrostalo\": \"#e9c46a\",\n",
    "        \"Rivitalo\": \"#e76f51\",\n",
    "        \"Omakotitalo\": \"#264653\",\n",
    "    },\n",
    "    hover_name=\"type\",\n",
    "    labels=dict(construction_year=\"Construction Decade\", value=\"Count\", type=\"Building type\")\n",
    ")\n",
    "fig.update_xaxes(showgrid=True)\n",
    "fig.show()"
   ]
  },
  {
   "cell_type": "code",
   "execution_count": null,
   "metadata": {},
   "outputs": [],
   "source": []
  }
 ],
 "metadata": {
  "kernelspec": {
   "display_name": ".venv",
   "language": "python",
   "name": "python3"
  },
  "language_info": {
   "codemirror_mode": {
    "name": "ipython",
    "version": 3
   },
   "file_extension": ".py",
   "mimetype": "text/x-python",
   "name": "python",
   "nbconvert_exporter": "python",
   "pygments_lexer": "ipython3",
   "version": "3.12.5"
  }
 },
 "nbformat": 4,
 "nbformat_minor": 2
}
